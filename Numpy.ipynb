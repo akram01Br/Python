{
  "nbformat": 4,
  "nbformat_minor": 0,
  "metadata": {
    "colab": {
      "provenance": [],
      "authorship_tag": "ABX9TyPa/ma+IaIEL8cY+YwgWVsy",
      "include_colab_link": true
    },
    "kernelspec": {
      "name": "python3",
      "display_name": "Python 3"
    },
    "language_info": {
      "name": "python"
    }
  },
  "cells": [
    {
      "cell_type": "markdown",
      "metadata": {
        "id": "view-in-github",
        "colab_type": "text"
      },
      "source": [
        "<a href=\"https://colab.research.google.com/github/akram01Br/Python/blob/main/Numpy.ipynb\" target=\"_parent\"><img src=\"https://colab.research.google.com/assets/colab-badge.svg\" alt=\"Open In Colab\"/></a>"
      ]
    },
    {
      "cell_type": "code",
      "execution_count": null,
      "metadata": {
        "id": "XeuMCNiJ4C62"
      },
      "outputs": [],
      "source": [
        "import numpy as np"
      ]
    },
    {
      "cell_type": "code",
      "source": [
        "a = np.array([1, 2, 3, 4, 5, 7],dtype='i')\n",
        "b = np.array((2,3,5),dtype='f')\n"
      ],
      "metadata": {
        "id": "4w6jYri24JwA"
      },
      "execution_count": null,
      "outputs": []
    },
    {
      "cell_type": "code",
      "source": [
        "print(a)"
      ],
      "metadata": {
        "colab": {
          "base_uri": "https://localhost:8080/"
        },
        "id": "nHPS_qHy408E",
        "outputId": "d896df08-4363-4538-9a5a-ed853bc32383"
      },
      "execution_count": null,
      "outputs": [
        {
          "output_type": "stream",
          "name": "stdout",
          "text": [
            "[1 2 3 4 5 7]\n"
          ]
        }
      ]
    },
    {
      "cell_type": "code",
      "source": [
        "type(a)"
      ],
      "metadata": {
        "colab": {
          "base_uri": "https://localhost:8080/"
        },
        "id": "zwLwCqGA42Q8",
        "outputId": "ed8ca25d-3be0-4b8f-b7c6-917586daf7cc"
      },
      "execution_count": null,
      "outputs": [
        {
          "output_type": "execute_result",
          "data": {
            "text/plain": [
              "numpy.ndarray"
            ]
          },
          "metadata": {},
          "execution_count": 9
        }
      ]
    },
    {
      "cell_type": "code",
      "source": [
        "type(b)"
      ],
      "metadata": {
        "colab": {
          "base_uri": "https://localhost:8080/"
        },
        "id": "pHqyNdq443VQ",
        "outputId": "205cd7c9-b8d8-4310-f002-ce4fb536fc68"
      },
      "execution_count": null,
      "outputs": [
        {
          "output_type": "execute_result",
          "data": {
            "text/plain": [
              "numpy.ndarray"
            ]
          },
          "metadata": {},
          "execution_count": 10
        }
      ]
    },
    {
      "cell_type": "code",
      "source": [
        "a.dtype"
      ],
      "metadata": {
        "colab": {
          "base_uri": "https://localhost:8080/"
        },
        "id": "rVgixpoz47cN",
        "outputId": "7f4449c4-7020-4710-ceba-b416bac30b46"
      },
      "execution_count": null,
      "outputs": [
        {
          "output_type": "execute_result",
          "data": {
            "text/plain": [
              "dtype('int32')"
            ]
          },
          "metadata": {},
          "execution_count": 11
        }
      ]
    },
    {
      "cell_type": "code",
      "source": [
        "b.dtype"
      ],
      "metadata": {
        "colab": {
          "base_uri": "https://localhost:8080/"
        },
        "id": "8gdI4VoF5g4z",
        "outputId": "dd4692bd-53d6-4013-bcb8-a3aa69dd3ec2"
      },
      "execution_count": null,
      "outputs": [
        {
          "output_type": "execute_result",
          "data": {
            "text/plain": [
              "dtype('float32')"
            ]
          },
          "metadata": {},
          "execution_count": 12
        }
      ]
    },
    {
      "cell_type": "code",
      "source": [
        "a =np.array([[2, 2, 3],[5, 3,4]])"
      ],
      "metadata": {
        "id": "YZLBkRbI5izZ"
      },
      "execution_count": null,
      "outputs": []
    },
    {
      "cell_type": "code",
      "source": [
        "a.dtype"
      ],
      "metadata": {
        "colab": {
          "base_uri": "https://localhost:8080/"
        },
        "id": "sg_zTWR753JY",
        "outputId": "c8ab6dfd-e78f-4d8c-f960-66cd4b4a56e6"
      },
      "execution_count": null,
      "outputs": [
        {
          "output_type": "execute_result",
          "data": {
            "text/plain": [
              "dtype('int64')"
            ]
          },
          "metadata": {},
          "execution_count": 19
        }
      ]
    },
    {
      "cell_type": "code",
      "source": [
        "print(a.ndim)"
      ],
      "metadata": {
        "colab": {
          "base_uri": "https://localhost:8080/"
        },
        "id": "AYnd_n_j54JE",
        "outputId": "0a060ed8-0a47-4707-848f-222c06c41280"
      },
      "execution_count": null,
      "outputs": [
        {
          "output_type": "stream",
          "name": "stdout",
          "text": [
            "2\n"
          ]
        }
      ]
    },
    {
      "cell_type": "code",
      "source": [
        "b.dtype"
      ],
      "metadata": {
        "colab": {
          "base_uri": "https://localhost:8080/"
        },
        "id": "cfzGt_ZD60Dr",
        "outputId": "dfdcc395-4bbd-4dc7-af88-8edd8a9e580e"
      },
      "execution_count": null,
      "outputs": [
        {
          "output_type": "execute_result",
          "data": {
            "text/plain": [
              "dtype('int64')"
            ]
          },
          "metadata": {},
          "execution_count": 40
        }
      ]
    },
    {
      "cell_type": "code",
      "source": [
        "b.ndim"
      ],
      "metadata": {
        "colab": {
          "base_uri": "https://localhost:8080/"
        },
        "id": "4y8ZonHa61tj",
        "outputId": "903d89d9-4351-4ef3-e6a2-d6b6b718b153"
      },
      "execution_count": null,
      "outputs": [
        {
          "output_type": "execute_result",
          "data": {
            "text/plain": [
              "4"
            ]
          },
          "metadata": {},
          "execution_count": 41
        }
      ]
    },
    {
      "cell_type": "code",
      "source": [
        "a[0,2]"
      ],
      "metadata": {
        "colab": {
          "base_uri": "https://localhost:8080/"
        },
        "id": "crSDLte07KCb",
        "outputId": "f966f61f-f282-4bf1-e583-0aa3bc479080"
      },
      "execution_count": null,
      "outputs": [
        {
          "output_type": "execute_result",
          "data": {
            "text/plain": [
              "np.int64(3)"
            ]
          },
          "metadata": {},
          "execution_count": 26
        }
      ]
    },
    {
      "cell_type": "code",
      "source": [
        "b.ndim"
      ],
      "metadata": {
        "colab": {
          "base_uri": "https://localhost:8080/"
        },
        "id": "UrQd4-c77JEG",
        "outputId": "9a4a2320-6535-4ded-9342-58a0fec8f417"
      },
      "execution_count": null,
      "outputs": [
        {
          "output_type": "execute_result",
          "data": {
            "text/plain": [
              "2"
            ]
          },
          "metadata": {},
          "execution_count": 25
        }
      ]
    },
    {
      "cell_type": "code",
      "source": [
        "b[1,2]"
      ],
      "metadata": {
        "colab": {
          "base_uri": "https://localhost:8080/"
        },
        "id": "6lY9iQNE7PmM",
        "outputId": "74c181c3-7939-4320-9f93-caa5fbe534c3"
      },
      "execution_count": null,
      "outputs": [
        {
          "output_type": "execute_result",
          "data": {
            "text/plain": [
              "np.int64(6)"
            ]
          },
          "metadata": {},
          "execution_count": 28
        }
      ]
    },
    {
      "cell_type": "code",
      "source": [
        "b.ndim"
      ],
      "metadata": {
        "colab": {
          "base_uri": "https://localhost:8080/"
        },
        "id": "OUuMVzaM7YKx",
        "outputId": "86a70c6f-318e-4a03-d9ac-163fe1c5dad7"
      },
      "execution_count": null,
      "outputs": [
        {
          "output_type": "execute_result",
          "data": {
            "text/plain": [
              "2"
            ]
          },
          "metadata": {},
          "execution_count": 31
        }
      ]
    },
    {
      "cell_type": "code",
      "source": [
        "C = np.array([[1,2,3],[4,5,6],[0,0,-1]])"
      ],
      "metadata": {
        "id": "zC14xAy27tfh"
      },
      "execution_count": null,
      "outputs": []
    },
    {
      "cell_type": "code",
      "source": [
        "C.ndim"
      ],
      "metadata": {
        "colab": {
          "base_uri": "https://localhost:8080/"
        },
        "id": "uHP9FMvN8KrY",
        "outputId": "df3152f0-6f69-49b0-f9c3-af9b67007c60"
      },
      "execution_count": null,
      "outputs": [
        {
          "output_type": "execute_result",
          "data": {
            "text/plain": [
              "2"
            ]
          },
          "metadata": {},
          "execution_count": 35
        }
      ]
    },
    {
      "cell_type": "code",
      "source": [],
      "metadata": {
        "id": "YMaYD7qR8LgD"
      },
      "execution_count": null,
      "outputs": []
    },
    {
      "cell_type": "code",
      "source": [
        "b = np.array([[[5,4,9],[4,3,6],[5,5,6]],[[4,1,0],[4,5,6],[7,8,9]]])"
      ],
      "metadata": {
        "id": "fTV1lj4W6AIi"
      },
      "execution_count": null,
      "outputs": []
    },
    {
      "cell_type": "code",
      "source": [
        "b.ndim"
      ],
      "metadata": {
        "colab": {
          "base_uri": "https://localhost:8080/"
        },
        "id": "ClonU4gC8oGX",
        "outputId": "50c68d8b-9c5a-4611-8398-d1bef7c5de7c"
      },
      "execution_count": null,
      "outputs": [
        {
          "output_type": "execute_result",
          "data": {
            "text/plain": [
              "3"
            ]
          },
          "metadata": {},
          "execution_count": 61
        }
      ]
    },
    {
      "cell_type": "code",
      "source": [
        "b.shape[2]"
      ],
      "metadata": {
        "colab": {
          "base_uri": "https://localhost:8080/"
        },
        "id": "mdJePnyk-Jtb",
        "outputId": "a69835f7-e423-4847-dea5-5b56c8fed764"
      },
      "execution_count": null,
      "outputs": [
        {
          "output_type": "execute_result",
          "data": {
            "text/plain": [
              "3"
            ]
          },
          "metadata": {},
          "execution_count": 65
        }
      ]
    },
    {
      "cell_type": "code",
      "source": [
        "A= np.array([2])"
      ],
      "metadata": {
        "id": "1ZP5teCa-MEj"
      },
      "execution_count": null,
      "outputs": []
    },
    {
      "cell_type": "code",
      "source": [
        "A.ndim"
      ],
      "metadata": {
        "colab": {
          "base_uri": "https://localhost:8080/"
        },
        "id": "96taQS1W-qCC",
        "outputId": "4986c058-4214-46f5-fa50-f63c8930aa0b"
      },
      "execution_count": null,
      "outputs": [
        {
          "output_type": "execute_result",
          "data": {
            "text/plain": [
              "1"
            ]
          },
          "metadata": {},
          "execution_count": 67
        }
      ]
    },
    {
      "cell_type": "code",
      "source": [
        "B = np.array(3)"
      ],
      "metadata": {
        "id": "mN0FGEoq-rU_"
      },
      "execution_count": null,
      "outputs": []
    },
    {
      "cell_type": "code",
      "source": [
        "B.ndim"
      ],
      "metadata": {
        "colab": {
          "base_uri": "https://localhost:8080/"
        },
        "id": "oKPiV3jb-ubb",
        "outputId": "ce7b5c06-2ed9-43f5-cd6b-431cee7271db"
      },
      "execution_count": null,
      "outputs": [
        {
          "output_type": "execute_result",
          "data": {
            "text/plain": [
              "0"
            ]
          },
          "metadata": {},
          "execution_count": 70
        }
      ]
    },
    {
      "cell_type": "code",
      "source": [
        "A = np.arange(20,100,3)"
      ],
      "metadata": {
        "id": "CFCCUV1M-vj8"
      },
      "execution_count": null,
      "outputs": []
    },
    {
      "cell_type": "code",
      "source": [],
      "metadata": {
        "id": "EMY8RqPg_tIl"
      },
      "execution_count": null,
      "outputs": []
    },
    {
      "cell_type": "code",
      "source": [
        "A\n"
      ],
      "metadata": {
        "colab": {
          "base_uri": "https://localhost:8080/"
        },
        "id": "tKInK9OZ_U7F",
        "outputId": "d500fbf8-df79-4f74-c6d4-a94ffebe9305"
      },
      "execution_count": null,
      "outputs": [
        {
          "output_type": "execute_result",
          "data": {
            "text/plain": [
              "array([20, 23, 26, 29, 32, 35, 38, 41, 44, 47, 50, 53, 56, 59, 62, 65, 68,\n",
              "       71, 74, 77, 80, 83, 86, 89, 92, 95, 98])"
            ]
          },
          "metadata": {},
          "execution_count": 79
        }
      ]
    },
    {
      "cell_type": "code",
      "source": [
        "print (range(10))"
      ],
      "metadata": {
        "colab": {
          "base_uri": "https://localhost:8080/"
        },
        "id": "APRTSM11_euH",
        "outputId": "f02eec7e-4de2-4f3a-c607-f41179359844"
      },
      "execution_count": null,
      "outputs": [
        {
          "output_type": "stream",
          "name": "stdout",
          "text": [
            "range(0, 10)\n"
          ]
        }
      ]
    },
    {
      "cell_type": "code",
      "source": [
        "print (list(range(10)))"
      ],
      "metadata": {
        "colab": {
          "base_uri": "https://localhost:8080/"
        },
        "id": "MSRasEnC_3Vt",
        "outputId": "80c29203-caff-4bb4-836e-16aef2718fa6"
      },
      "execution_count": null,
      "outputs": [
        {
          "output_type": "stream",
          "name": "stdout",
          "text": [
            "[0, 1, 2, 3, 4, 5, 6, 7, 8, 9]\n"
          ]
        }
      ]
    },
    {
      "cell_type": "code",
      "source": [
        "np.random.permutation(np.arange(10))#alea"
      ],
      "metadata": {
        "colab": {
          "base_uri": "https://localhost:8080/"
        },
        "id": "ZN_1FrkjAFR9",
        "outputId": "c7f2160a-b366-4e42-c53b-7c957100c2d6"
      },
      "execution_count": null,
      "outputs": [
        {
          "output_type": "execute_result",
          "data": {
            "text/plain": [
              "array([3, 1, 6, 5, 4, 8, 7, 2, 9, 0])"
            ]
          },
          "metadata": {},
          "execution_count": 83
        }
      ]
    },
    {
      "cell_type": "code",
      "source": [
        "A = np.random.rand(10000)"
      ],
      "metadata": {
        "id": "a0oJ9NjOAQPp"
      },
      "execution_count": null,
      "outputs": []
    },
    {
      "cell_type": "code",
      "source": [
        "A"
      ],
      "metadata": {
        "colab": {
          "base_uri": "https://localhost:8080/"
        },
        "id": "3QIsdldnBL_K",
        "outputId": "9da2a5db-605c-4620-b6bb-81b1f68167ee"
      },
      "execution_count": null,
      "outputs": [
        {
          "output_type": "execute_result",
          "data": {
            "text/plain": [
              "array([0.54294192, 0.52798702, 0.99367894, ..., 0.46485652, 0.7636135 ,\n",
              "       0.2293123 ])"
            ]
          },
          "metadata": {},
          "execution_count": 98
        }
      ]
    },
    {
      "cell_type": "code",
      "source": [
        "import matplotlib.pyplot as plt\n"
      ],
      "metadata": {
        "id": "zmQxKzUMBTlV"
      },
      "execution_count": null,
      "outputs": []
    },
    {
      "cell_type": "code",
      "source": [
        "plt.hist(A, bins =200)"
      ],
      "metadata": {
        "colab": {
          "base_uri": "https://localhost:8080/",
          "height": 1000
        },
        "id": "oNN80dTCBYbb",
        "outputId": "dc1211d7-884d-41a3-e7e5-275fc76cf950"
      },
      "execution_count": null,
      "outputs": [
        {
          "output_type": "execute_result",
          "data": {
            "text/plain": [
              "(array([50., 48., 53., 45., 42., 53., 48., 60., 43., 57., 54., 48., 48.,\n",
              "        48., 56., 60., 46., 50., 56., 47., 39., 51., 57., 44., 58., 38.,\n",
              "        44., 56., 45., 44., 48., 53., 47., 58., 52., 42., 52., 66., 50.,\n",
              "        55., 48., 55., 48., 54., 48., 53., 63., 59., 48., 45., 41., 50.,\n",
              "        45., 56., 56., 48., 41., 40., 55., 50., 53., 49., 54., 52., 51.,\n",
              "        50., 41., 45., 48., 58., 51., 58., 39., 70., 51., 49., 50., 52.,\n",
              "        44., 47., 43., 51., 49., 45., 47., 42., 46., 54., 44., 50., 51.,\n",
              "        62., 46., 49., 54., 55., 41., 43., 51., 58., 52., 61., 45., 49.,\n",
              "        53., 60., 59., 55., 55., 52., 47., 35., 59., 43., 42., 58., 44.,\n",
              "        65., 54., 46., 50., 48., 44., 63., 58., 42., 63., 41., 48., 56.,\n",
              "        49., 40., 54., 53., 61., 55., 65., 41., 47., 50., 41., 49., 42.,\n",
              "        45., 46., 55., 54., 52., 50., 32., 51., 44., 50., 32., 43., 48.,\n",
              "        40., 53., 67., 47., 54., 43., 43., 50., 41., 45., 35., 51., 63.,\n",
              "        54., 54., 53., 44., 55., 52., 55., 52., 44., 59., 63., 54., 44.,\n",
              "        63., 46., 48., 52., 55., 48., 52., 50., 51., 47., 52., 48., 46.,\n",
              "        43., 42., 42., 47., 50.]),\n",
              " array([8.76062634e-06, 5.00846299e-03, 1.00081653e-02, 1.50078677e-02,\n",
              "        2.00075701e-02, 2.50072724e-02, 3.00069748e-02, 3.50066771e-02,\n",
              "        4.00063795e-02, 4.50060819e-02, 5.00057842e-02, 5.50054866e-02,\n",
              "        6.00051889e-02, 6.50048913e-02, 7.00045937e-02, 7.50042960e-02,\n",
              "        8.00039984e-02, 8.50037007e-02, 9.00034031e-02, 9.50031055e-02,\n",
              "        1.00002808e-01, 1.05002510e-01, 1.10002213e-01, 1.15001915e-01,\n",
              "        1.20001617e-01, 1.25001320e-01, 1.30001022e-01, 1.35000724e-01,\n",
              "        1.40000427e-01, 1.45000129e-01, 1.49999831e-01, 1.54999534e-01,\n",
              "        1.59999236e-01, 1.64998939e-01, 1.69998641e-01, 1.74998343e-01,\n",
              "        1.79998046e-01, 1.84997748e-01, 1.89997450e-01, 1.94997153e-01,\n",
              "        1.99996855e-01, 2.04996557e-01, 2.09996260e-01, 2.14995962e-01,\n",
              "        2.19995664e-01, 2.24995367e-01, 2.29995069e-01, 2.34994772e-01,\n",
              "        2.39994474e-01, 2.44994176e-01, 2.49993879e-01, 2.54993581e-01,\n",
              "        2.59993283e-01, 2.64992986e-01, 2.69992688e-01, 2.74992390e-01,\n",
              "        2.79992093e-01, 2.84991795e-01, 2.89991498e-01, 2.94991200e-01,\n",
              "        2.99990902e-01, 3.04990605e-01, 3.09990307e-01, 3.14990009e-01,\n",
              "        3.19989712e-01, 3.24989414e-01, 3.29989116e-01, 3.34988819e-01,\n",
              "        3.39988521e-01, 3.44988223e-01, 3.49987926e-01, 3.54987628e-01,\n",
              "        3.59987331e-01, 3.64987033e-01, 3.69986735e-01, 3.74986438e-01,\n",
              "        3.79986140e-01, 3.84985842e-01, 3.89985545e-01, 3.94985247e-01,\n",
              "        3.99984949e-01, 4.04984652e-01, 4.09984354e-01, 4.14984057e-01,\n",
              "        4.19983759e-01, 4.24983461e-01, 4.29983164e-01, 4.34982866e-01,\n",
              "        4.39982568e-01, 4.44982271e-01, 4.49981973e-01, 4.54981675e-01,\n",
              "        4.59981378e-01, 4.64981080e-01, 4.69980782e-01, 4.74980485e-01,\n",
              "        4.79980187e-01, 4.84979890e-01, 4.89979592e-01, 4.94979294e-01,\n",
              "        4.99978997e-01, 5.04978699e-01, 5.09978401e-01, 5.14978104e-01,\n",
              "        5.19977806e-01, 5.24977508e-01, 5.29977211e-01, 5.34976913e-01,\n",
              "        5.39976616e-01, 5.44976318e-01, 5.49976020e-01, 5.54975723e-01,\n",
              "        5.59975425e-01, 5.64975127e-01, 5.69974830e-01, 5.74974532e-01,\n",
              "        5.79974234e-01, 5.84973937e-01, 5.89973639e-01, 5.94973341e-01,\n",
              "        5.99973044e-01, 6.04972746e-01, 6.09972449e-01, 6.14972151e-01,\n",
              "        6.19971853e-01, 6.24971556e-01, 6.29971258e-01, 6.34970960e-01,\n",
              "        6.39970663e-01, 6.44970365e-01, 6.49970067e-01, 6.54969770e-01,\n",
              "        6.59969472e-01, 6.64969175e-01, 6.69968877e-01, 6.74968579e-01,\n",
              "        6.79968282e-01, 6.84967984e-01, 6.89967686e-01, 6.94967389e-01,\n",
              "        6.99967091e-01, 7.04966793e-01, 7.09966496e-01, 7.14966198e-01,\n",
              "        7.19965900e-01, 7.24965603e-01, 7.29965305e-01, 7.34965008e-01,\n",
              "        7.39964710e-01, 7.44964412e-01, 7.49964115e-01, 7.54963817e-01,\n",
              "        7.59963519e-01, 7.64963222e-01, 7.69962924e-01, 7.74962626e-01,\n",
              "        7.79962329e-01, 7.84962031e-01, 7.89961734e-01, 7.94961436e-01,\n",
              "        7.99961138e-01, 8.04960841e-01, 8.09960543e-01, 8.14960245e-01,\n",
              "        8.19959948e-01, 8.24959650e-01, 8.29959352e-01, 8.34959055e-01,\n",
              "        8.39958757e-01, 8.44958459e-01, 8.49958162e-01, 8.54957864e-01,\n",
              "        8.59957567e-01, 8.64957269e-01, 8.69956971e-01, 8.74956674e-01,\n",
              "        8.79956376e-01, 8.84956078e-01, 8.89955781e-01, 8.94955483e-01,\n",
              "        8.99955185e-01, 9.04954888e-01, 9.09954590e-01, 9.14954293e-01,\n",
              "        9.19953995e-01, 9.24953697e-01, 9.29953400e-01, 9.34953102e-01,\n",
              "        9.39952804e-01, 9.44952507e-01, 9.49952209e-01, 9.54951911e-01,\n",
              "        9.59951614e-01, 9.64951316e-01, 9.69951019e-01, 9.74950721e-01,\n",
              "        9.79950423e-01, 9.84950126e-01, 9.89949828e-01, 9.94949530e-01,\n",
              "        9.99949233e-01]),\n",
              " <BarContainer object of 200 artists>)"
            ]
          },
          "metadata": {},
          "execution_count": 99
        },
        {
          "output_type": "display_data",
          "data": {
            "text/plain": [
              "<Figure size 640x480 with 1 Axes>"
            ],
            "image/png": "[encoded data removed]"
          },
          "metadata": {}
        }
      ]
    },
    {
      "cell_type": "code",
      "source": [
        "C = np.random.rand(2,3)"
      ],
      "metadata": {
        "id": "qb0Q_0_kBct1"
      },
      "execution_count": null,
      "outputs": []
    },
    {
      "cell_type": "code",
      "source": [
        "C"
      ],
      "metadata": {
        "colab": {
          "base_uri": "https://localhost:8080/"
        },
        "id": "P5UK5R0XB7xg",
        "outputId": "4c39273f-8374-4d63-e2f1-5c2ffbf02423"
      },
      "execution_count": null,
      "outputs": [
        {
          "output_type": "execute_result",
          "data": {
            "text/plain": [
              "array([[0.92857363, 0.41255689, 0.84832016],\n",
              "       [0.51873218, 0.48547978, 0.42307034]])"
            ]
          },
          "metadata": {},
          "execution_count": 101
        }
      ]
    },
    {
      "cell_type": "code",
      "source": [
        "C.ndim"
      ],
      "metadata": {
        "colab": {
          "base_uri": "https://localhost:8080/"
        },
        "id": "hRvzHeOwB8LJ",
        "outputId": "0c63ea26-76ec-44e6-a3f1-1c0c67b7f752"
      },
      "execution_count": null,
      "outputs": [
        {
          "output_type": "execute_result",
          "data": {
            "text/plain": [
              "2"
            ]
          },
          "metadata": {},
          "execution_count": 102
        }
      ]
    },
    {
      "cell_type": "code",
      "source": [
        "C = np.random.rand(2,3,5,2,4,9)"
      ],
      "metadata": {
        "id": "KA6aVV43B-6c"
      },
      "execution_count": null,
      "outputs": []
    },
    {
      "cell_type": "code",
      "source": [
        "C.ndim"
      ],
      "metadata": {
        "colab": {
          "base_uri": "https://localhost:8080/"
        },
        "id": "80UWu_HICG2n",
        "outputId": "c54aa95b-ac0b-4fc4-ef68-3b1013c2d829"
      },
      "execution_count": null,
      "outputs": [
        {
          "output_type": "execute_result",
          "data": {
            "text/plain": [
              "6"
            ]
          },
          "metadata": {},
          "execution_count": 111
        }
      ]
    },
    {
      "cell_type": "code",
      "source": [
        "C\n"
      ],
      "metadata": {
        "colab": {
          "base_uri": "https://localhost:8080/"
        },
        "id": "7jqikXD2CH_B",
        "outputId": "32055ffc-28fc-477e-e19f-df13495f47b0"
      },
      "execution_count": null,
      "outputs": [
        {
          "output_type": "execute_result",
          "data": {
            "text/plain": [
              "array([[[[[[2.97074790e-01, 6.32556305e-01, 6.53542714e-01, ...,\n",
              "            5.89622026e-01, 1.60632871e-01, 9.70961061e-01],\n",
              "           [5.72176610e-01, 3.27127651e-01, 6.74011437e-01, ...,\n",
              "            6.72661869e-01, 5.95740276e-01, 2.51773886e-01],\n",
              "           [5.85440667e-01, 9.44349341e-01, 7.98451000e-01, ...,\n",
              "            2.34786577e-01, 8.46303266e-01, 3.33304599e-01],\n",
              "           [8.20229676e-01, 9.06630964e-01, 5.85606997e-01, ...,\n",
              "            7.94367703e-01, 7.30487923e-01, 2.94615442e-01]],\n",
              "\n",
              "          [[6.16150972e-01, 7.67273138e-01, 6.33512208e-01, ...,\n",
              "            5.65199723e-02, 6.83687265e-01, 8.48381190e-01],\n",
              "           [2.73776135e-01, 6.84250156e-01, 4.24774186e-01, ...,\n",
              "            3.60459349e-01, 2.02835854e-01, 1.83808628e-01],\n",
              "           [9.76159397e-01, 9.27744334e-01, 8.29231682e-01, ...,\n",
              "            9.00368463e-01, 1.99908750e-01, 7.51102891e-01],\n",
              "           [7.40132057e-01, 5.60772616e-01, 8.19822226e-01, ...,\n",
              "            4.63166442e-02, 9.10876664e-02, 1.83920911e-01]]],\n",
              "\n",
              "\n",
              "         [[[6.23496571e-01, 3.02860359e-01, 4.41297110e-01, ...,\n",
              "            6.45715929e-01, 1.94877738e-01, 3.44775663e-01],\n",
              "           [1.46877083e-01, 8.15499485e-01, 3.70071819e-01, ...,\n",
              "            8.11108669e-01, 6.85812359e-01, 8.32788558e-01],\n",
              "           [1.26183493e-02, 7.61765532e-01, 3.50307121e-01, ...,\n",
              "            3.61503394e-01, 5.05044591e-01, 8.44983402e-01],\n",
              "           [7.61772926e-01, 7.91154347e-01, 1.98250215e-01, ...,\n",
              "            3.57611269e-01, 5.99375678e-01, 8.94511832e-01]],\n",
              "\n",
              "          [[6.54965054e-01, 4.99102885e-01, 5.37305702e-01, ...,\n",
              "            1.48279983e-02, 4.58822463e-01, 2.69264639e-01],\n",
              "           [6.93201574e-02, 4.87946249e-02, 2.61837016e-01, ...,\n",
              "            3.38078930e-01, 3.58246078e-01, 3.44793885e-01],\n",
              "           [5.62766746e-01, 2.99884563e-01, 4.28248867e-01, ...,\n",
              "            2.03144682e-01, 4.84406236e-02, 9.82599825e-01],\n",
              "           [5.93659477e-01, 2.19761260e-01, 8.16498629e-01, ...,\n",
              "            6.91466383e-01, 9.74920373e-02, 6.11937566e-01]]],\n",
              "\n",
              "\n",
              "         [[[6.72491282e-01, 7.94098321e-01, 7.32858836e-01, ...,\n",
              "            1.32947587e-01, 6.05088965e-01, 9.63392632e-01],\n",
              "           [9.85622435e-01, 6.46202546e-01, 6.70607841e-01, ...,\n",
              "            1.43500288e-01, 4.51714649e-02, 2.24125618e-01],\n",
              "           [6.60067287e-01, 8.06528954e-01, 8.07352740e-01, ...,\n",
              "            6.63567683e-01, 2.46223178e-01, 1.71465167e-01],\n",
              "           [3.55381924e-01, 8.29425802e-01, 3.28439197e-01, ...,\n",
              "            1.05548216e-01, 9.28850537e-02, 2.32156736e-01]],\n",
              "\n",
              "          [[3.66020187e-01, 9.97013798e-01, 7.07914273e-02, ...,\n",
              "            2.32842587e-01, 5.85638314e-01, 9.36536321e-01],\n",
              "           [8.58028573e-01, 4.67227023e-01, 9.14518222e-01, ...,\n",
              "            4.10645594e-01, 5.61652358e-01, 9.57478164e-02],\n",
              "           [2.43308804e-01, 7.66300551e-02, 9.26771690e-01, ...,\n",
              "            8.59557704e-01, 5.49770686e-01, 1.43326931e-01],\n",
              "           [3.25710726e-01, 9.18041337e-01, 1.72680257e-01, ...,\n",
              "            1.40197910e-01, 1.37963551e-02, 1.87250205e-01]]],\n",
              "\n",
              "\n",
              "         [[[1.86883071e-01, 2.72292223e-01, 8.72805867e-01, ...,\n",
              "            6.54503624e-01, 2.14966447e-01, 8.61639151e-01],\n",
              "           [3.50653302e-01, 3.03412253e-01, 7.38648494e-01, ...,\n",
              "            5.39470192e-01, 4.47948647e-01, 5.78524450e-01],\n",
              "           [8.12467576e-01, 5.75366059e-01, 6.74962730e-01, ...,\n",
              "            5.43561979e-01, 3.49364275e-01, 4.23595194e-01],\n",
              "           [6.31665364e-01, 4.85339303e-02, 9.61246446e-01, ...,\n",
              "            9.84501342e-01, 6.01565602e-01, 4.55656145e-01]],\n",
              "\n",
              "          [[4.65822780e-01, 9.03184698e-01, 7.17483851e-01, ...,\n",
              "            8.69882812e-01, 1.32268893e-01, 5.02018073e-01],\n",
              "           [8.26543123e-01, 6.17053134e-01, 6.23380505e-01, ...,\n",
              "            9.69480425e-01, 9.58836505e-01, 5.49826549e-01],\n",
              "           [7.79417537e-01, 3.77936225e-02, 7.77621337e-01, ...,\n",
              "            2.99343790e-01, 3.07880048e-01, 2.06211752e-01],\n",
              "           [1.33935392e-01, 5.09616306e-01, 8.82908219e-01, ...,\n",
              "            6.72726857e-01, 2.91141937e-02, 6.34466734e-01]]],\n",
              "\n",
              "\n",
              "         [[[8.91224939e-01, 9.84837189e-01, 5.43559097e-01, ...,\n",
              "            2.20534392e-01, 1.25910254e-02, 4.26736818e-01],\n",
              "           [6.49213852e-01, 5.10959813e-01, 3.89856348e-01, ...,\n",
              "            5.68129372e-01, 7.89069578e-01, 5.04187420e-01],\n",
              "           [7.67809158e-01, 5.15956809e-01, 2.53100485e-01, ...,\n",
              "            7.62951857e-01, 4.59331554e-01, 3.37100833e-01],\n",
              "           [9.89048700e-01, 5.42733216e-02, 7.99329241e-01, ...,\n",
              "            6.81347456e-01, 6.19870574e-02, 4.60097284e-01]],\n",
              "\n",
              "          [[3.39682669e-01, 9.47196069e-01, 3.23890832e-01, ...,\n",
              "            2.45201147e-02, 3.01573761e-01, 6.39431864e-01],\n",
              "           [3.27206599e-02, 9.46752232e-01, 4.76531294e-01, ...,\n",
              "            4.33766018e-01, 4.74984435e-01, 2.05151941e-01],\n",
              "           [2.48345743e-01, 9.11621445e-01, 3.94062855e-01, ...,\n",
              "            5.19623074e-02, 6.95684795e-01, 7.28821368e-01],\n",
              "           [5.30527911e-01, 7.96571936e-01, 4.47499093e-01, ...,\n",
              "            8.84215947e-01, 5.75297549e-01, 7.89233590e-01]]]],\n",
              "\n",
              "\n",
              "\n",
              "        [[[[4.09508565e-01, 8.65821728e-01, 1.06669482e-01, ...,\n",
              "            7.93191132e-01, 7.14912778e-01, 7.74192017e-01],\n",
              "           [8.62954104e-01, 8.29357632e-01, 8.91865347e-01, ...,\n",
              "            5.57037068e-01, 1.50422377e-01, 6.81076537e-02],\n",
              "           [9.28590347e-01, 2.44110264e-01, 4.50814658e-01, ...,\n",
              "            4.64261680e-01, 6.65929020e-01, 9.50551521e-02],\n",
              "           [4.91951815e-01, 9.99113899e-01, 4.27926711e-01, ...,\n",
              "            3.65615126e-01, 9.18560064e-01, 9.53197208e-01]],\n",
              "\n",
              "          [[5.16693821e-01, 3.30041051e-01, 5.07942252e-01, ...,\n",
              "            6.79853036e-01, 1.99453390e-01, 5.89249885e-01],\n",
              "           [6.46026460e-01, 5.49685193e-01, 6.59187358e-01, ...,\n",
              "            4.90638848e-01, 9.95189296e-01, 5.58189092e-01],\n",
              "           [9.28846018e-01, 9.32345702e-01, 8.06928327e-02, ...,\n",
              "            2.38041973e-02, 5.11313104e-01, 3.71679939e-01],\n",
              "           [9.32516597e-01, 2.92790236e-01, 2.89487805e-01, ...,\n",
              "            7.35799297e-01, 4.20300246e-01, 5.20848667e-01]]],\n",
              "\n",
              "\n",
              "         [[[6.25936335e-01, 6.32368177e-01, 1.24727236e-01, ...,\n",
              "            5.72881562e-02, 9.66457570e-01, 7.17975102e-01],\n",
              "           [3.53577959e-02, 4.61882328e-01, 6.38536778e-01, ...,\n",
              "            5.64088717e-01, 5.06552473e-01, 7.21384185e-01],\n",
              "           [9.74275377e-01, 8.58798331e-01, 3.82254443e-01, ...,\n",
              "            9.25150550e-01, 8.49015991e-02, 2.07082742e-02],\n",
              "           [5.77490283e-01, 4.67289166e-01, 4.76900673e-01, ...,\n",
              "            3.02246188e-01, 9.49795222e-01, 5.25968366e-01]],\n",
              "\n",
              "          [[8.77730145e-01, 2.88344945e-01, 6.65460621e-04, ...,\n",
              "            3.85738743e-01, 6.66562741e-01, 9.27291917e-01],\n",
              "           [2.68192324e-01, 3.32557320e-01, 4.81038663e-01, ...,\n",
              "            5.64509037e-01, 9.51068349e-01, 2.88428563e-01],\n",
              "           [7.36406295e-01, 5.27758569e-01, 4.59018284e-01, ...,\n",
              "            2.51880218e-01, 8.90288565e-01, 5.07821103e-01],\n",
              "           [9.46544230e-01, 7.52011435e-01, 5.81111089e-01, ...,\n",
              "            4.11236989e-01, 8.70980273e-01, 7.26309228e-01]]],\n",
              "\n",
              "\n",
              "         [[[5.08065748e-01, 4.33722190e-01, 3.94843384e-01, ...,\n",
              "            9.80597408e-01, 4.84188013e-01, 4.04014504e-01],\n",
              "           [9.84141417e-02, 7.18660490e-02, 6.61281750e-01, ...,\n",
              "            5.87127661e-01, 4.74134308e-02, 2.75228776e-01],\n",
              "           [5.06042814e-01, 4.12011714e-01, 5.12781476e-01, ...,\n",
              "            7.70977259e-01, 9.77301493e-01, 4.37006421e-01],\n",
              "           [8.98977779e-01, 2.88560398e-01, 8.55360911e-01, ...,\n",
              "            2.68302167e-01, 3.70105894e-01, 7.23829812e-01]],\n",
              "\n",
              "          [[6.59728258e-01, 2.01121276e-02, 2.36026847e-01, ...,\n",
              "            2.77997382e-01, 1.43811478e-01, 1.07062405e-01],\n",
              "           [4.13454228e-01, 6.63588956e-01, 3.09256791e-01, ...,\n",
              "            3.06940371e-01, 3.66610967e-01, 3.21568981e-01],\n",
              "           [9.11563378e-02, 4.26781597e-01, 8.17600870e-01, ...,\n",
              "            8.20294656e-01, 2.08946507e-01, 4.51957127e-01],\n",
              "           [1.15891668e-01, 9.68426697e-01, 6.28913259e-01, ...,\n",
              "            3.49967737e-02, 7.27940306e-01, 8.18974835e-01]]],\n",
              "\n",
              "\n",
              "         [[[6.16508251e-01, 2.80195294e-01, 9.56750234e-01, ...,\n",
              "            9.51595721e-01, 2.16623250e-01, 4.67072239e-01],\n",
              "           [7.59307522e-01, 6.94100098e-01, 9.21582689e-01, ...,\n",
              "            8.00737340e-01, 6.71344217e-01, 7.24698290e-01],\n",
              "           [9.07156348e-01, 7.38577543e-01, 9.23805317e-01, ...,\n",
              "            5.30816617e-01, 3.32375071e-01, 4.77196618e-01],\n",
              "           [7.65096067e-01, 1.00803805e-01, 4.59028311e-01, ...,\n",
              "            1.75650589e-01, 6.51722084e-01, 2.95164332e-01]],\n",
              "\n",
              "          [[9.36762083e-01, 9.09668199e-01, 7.14221758e-01, ...,\n",
              "            8.23694820e-01, 4.91726149e-01, 4.76930842e-01],\n",
              "           [2.06897400e-02, 7.68264849e-01, 9.81919095e-01, ...,\n",
              "            2.70381059e-01, 4.31872533e-01, 7.97009242e-01],\n",
              "           [3.56512954e-01, 2.72624992e-01, 3.35572633e-01, ...,\n",
              "            4.30140975e-01, 6.49242074e-01, 9.95201232e-01],\n",
              "           [7.73757031e-01, 4.69834070e-01, 3.31446465e-01, ...,\n",
              "            7.86369107e-01, 1.97828716e-02, 7.32185555e-01]]],\n",
              "\n",
              "\n",
              "         [[[5.90471319e-01, 3.75442325e-01, 1.71752875e-01, ...,\n",
              "            1.48219499e-01, 7.45408247e-01, 3.09829886e-01],\n",
              "           [3.20289711e-01, 9.15690438e-01, 6.13899589e-01, ...,\n",
              "            5.33857239e-01, 4.64862820e-01, 4.75122598e-01],\n",
              "           [6.99615946e-01, 2.07568882e-01, 8.21061336e-01, ...,\n",
              "            4.73345000e-01, 8.04903034e-01, 8.67673374e-01],\n",
              "           [6.81380382e-01, 8.75076073e-01, 6.06764687e-01, ...,\n",
              "            3.25694027e-01, 4.32934038e-01, 3.52737326e-02]],\n",
              "\n",
              "          [[4.32495190e-01, 9.06705756e-01, 5.31520152e-01, ...,\n",
              "            5.58404995e-01, 9.84771059e-01, 7.58738492e-01],\n",
              "           [2.46991767e-01, 8.93895389e-01, 3.81824692e-01, ...,\n",
              "            8.75931572e-01, 8.50826870e-01, 7.68211528e-01],\n",
              "           [3.61269852e-02, 6.84140691e-01, 9.47225253e-01, ...,\n",
              "            8.09231655e-01, 9.34905340e-01, 5.68536658e-01],\n",
              "           [7.20179544e-02, 7.59307065e-01, 2.09900781e-01, ...,\n",
              "            9.76151095e-01, 9.21580690e-01, 2.57167286e-01]]]],\n",
              "\n",
              "\n",
              "\n",
              "        [[[[6.05767964e-01, 1.86694610e-02, 5.89127945e-01, ...,\n",
              "            7.54132148e-01, 5.23276650e-01, 8.68192451e-02],\n",
              "           [3.39039828e-01, 7.50721758e-01, 6.97817692e-01, ...,\n",
              "            3.60027922e-01, 9.62774795e-01, 3.56931526e-02],\n",
              "           [4.93880066e-01, 1.82046458e-02, 8.31286101e-01, ...,\n",
              "            8.22260240e-01, 9.67667770e-01, 1.28453546e-01],\n",
              "           [8.66216881e-01, 4.29236130e-01, 9.09141997e-01, ...,\n",
              "            7.36077522e-01, 7.54927064e-01, 2.70296138e-02]],\n",
              "\n",
              "          [[3.87277820e-01, 8.72741384e-01, 2.07649792e-01, ...,\n",
              "            3.73176628e-01, 8.30713032e-01, 2.94460843e-01],\n",
              "           [5.66965624e-01, 8.22710233e-03, 2.25834401e-01, ...,\n",
              "            5.64728471e-01, 1.06470098e-01, 5.76974366e-01],\n",
              "           [8.36856834e-01, 5.02005370e-01, 3.59448510e-01, ...,\n",
              "            8.84047873e-01, 4.23342645e-01, 4.60241937e-01],\n",
              "           [4.32443816e-01, 2.14466407e-01, 9.61162550e-01, ...,\n",
              "            6.98112435e-02, 7.44931904e-01, 9.17369592e-01]]],\n",
              "\n",
              "\n",
              "         [[[1.59573755e-01, 4.51788461e-01, 5.44052636e-02, ...,\n",
              "            4.19703054e-01, 4.19007443e-01, 9.65556935e-01],\n",
              "           [4.27065366e-01, 5.47598435e-01, 5.55449384e-01, ...,\n",
              "            5.85585092e-01, 6.90342867e-01, 7.98620328e-01],\n",
              "           [4.84075504e-01, 5.11876605e-01, 7.05177496e-01, ...,\n",
              "            5.19688032e-01, 8.21676697e-01, 7.96060470e-01],\n",
              "           [1.37828800e-04, 6.10957071e-01, 6.61196102e-01, ...,\n",
              "            7.35658510e-01, 3.73038910e-01, 5.02943722e-01]],\n",
              "\n",
              "          [[6.40422997e-01, 7.20008541e-01, 4.48647398e-01, ...,\n",
              "            1.13464040e-01, 8.67845538e-01, 7.36511736e-01],\n",
              "           [2.31055110e-01, 3.81562771e-01, 5.61983010e-01, ...,\n",
              "            1.95433132e-01, 5.98902299e-01, 1.91596380e-01],\n",
              "           [8.70372748e-01, 7.08515685e-01, 5.80566413e-01, ...,\n",
              "            5.70792201e-01, 5.87191818e-01, 9.83943345e-01],\n",
              "           [8.10454762e-01, 3.64436988e-01, 2.31580311e-01, ...,\n",
              "            5.61672396e-01, 2.01184342e-01, 5.99516841e-01]]],\n",
              "\n",
              "\n",
              "         [[[1.70164654e-01, 5.79154589e-02, 7.18464211e-01, ...,\n",
              "            4.82887469e-01, 3.47158098e-01, 4.94469559e-01],\n",
              "           [4.43258795e-01, 9.18612127e-01, 4.11007021e-02, ...,\n",
              "            3.88731478e-01, 5.33635013e-01, 4.60304536e-01],\n",
              "           [6.86230483e-01, 8.99149611e-01, 8.23148947e-01, ...,\n",
              "            5.50803031e-02, 7.52681276e-01, 6.53506208e-01],\n",
              "           [2.70968304e-01, 8.56041150e-01, 3.94513138e-01, ...,\n",
              "            5.60214415e-01, 4.88370521e-02, 3.29838420e-01]],\n",
              "\n",
              "          [[1.02703425e-01, 9.60828400e-01, 8.86349031e-01, ...,\n",
              "            1.14044780e-01, 5.13757669e-01, 5.95339684e-01],\n",
              "           [4.61018684e-01, 9.44488794e-01, 8.87812872e-02, ...,\n",
              "            5.32723734e-01, 8.98813872e-01, 1.82799756e-01],\n",
              "           [5.52539194e-01, 5.14192574e-01, 8.39744934e-01, ...,\n",
              "            4.35567339e-01, 9.03301761e-01, 1.84152090e-01],\n",
              "           [9.41167829e-01, 4.27573514e-01, 1.39238316e-01, ...,\n",
              "            3.13945597e-01, 8.98697782e-02, 3.25958499e-01]]],\n",
              "\n",
              "\n",
              "         [[[4.23511188e-01, 1.24923307e-01, 2.25223926e-01, ...,\n",
              "            3.49206963e-02, 1.72440339e-01, 8.60701896e-01],\n",
              "           [2.10705692e-01, 8.99485520e-01, 7.90401685e-01, ...,\n",
              "            6.98348077e-01, 4.00059411e-02, 5.66997503e-01],\n",
              "           [9.59309247e-01, 8.29723426e-01, 9.78408273e-01, ...,\n",
              "            5.53521777e-01, 9.81593869e-01, 1.09204269e-01],\n",
              "           [7.83371224e-02, 9.37702108e-01, 1.71281788e-01, ...,\n",
              "            9.70505142e-01, 4.75559430e-01, 2.55191912e-01]],\n",
              "\n",
              "          [[5.57126124e-01, 5.73711231e-01, 7.51236574e-01, ...,\n",
              "            8.77943615e-01, 6.17490581e-01, 3.05578136e-01],\n",
              "           [2.28873431e-01, 1.10831145e-01, 1.92772303e-01, ...,\n",
              "            4.02719524e-01, 8.44775055e-02, 5.12081837e-01],\n",
              "           [4.37047203e-01, 5.75057545e-01, 1.85416395e-01, ...,\n",
              "            5.71250865e-01, 2.63328227e-01, 5.27133384e-01],\n",
              "           [2.88063263e-01, 4.84905469e-01, 1.33400444e-01, ...,\n",
              "            2.94397008e-01, 9.18774186e-02, 7.57016517e-02]]],\n",
              "\n",
              "\n",
              "         [[[2.06076115e-01, 4.82141438e-01, 2.12700548e-01, ...,\n",
              "            5.45247700e-01, 8.59089067e-01, 5.31377910e-01],\n",
              "           [2.95483575e-01, 4.75245656e-01, 5.35403296e-01, ...,\n",
              "            5.10089621e-01, 3.98062000e-01, 2.60098678e-01],\n",
              "           [6.49066509e-01, 1.49533285e-01, 8.48737958e-01, ...,\n",
              "            6.35010436e-01, 5.63866928e-01, 8.76835198e-01],\n",
              "           [1.32691826e-02, 8.86749104e-01, 7.21501826e-01, ...,\n",
              "            2.01278315e-01, 4.14091074e-01, 1.80921625e-02]],\n",
              "\n",
              "          [[6.33066714e-01, 7.61242763e-02, 3.29010646e-01, ...,\n",
              "            4.07754941e-01, 2.01001340e-01, 8.06809519e-01],\n",
              "           [8.06810946e-01, 7.00353781e-01, 3.50890693e-01, ...,\n",
              "            1.52212055e-01, 1.12899443e-01, 1.92314017e-01],\n",
              "           [2.85941534e-01, 6.20106274e-01, 1.60791649e-01, ...,\n",
              "            7.19901238e-01, 2.60927638e-03, 2.26700172e-02],\n",
              "           [5.25707492e-02, 2.68936458e-01, 2.97573764e-01, ...,\n",
              "            8.48233536e-01, 4.40473990e-01, 4.94402666e-01]]]]],\n",
              "\n",
              "\n",
              "\n",
              "\n",
              "       [[[[[4.17100786e-01, 2.97016505e-01, 1.60127492e-01, ...,\n",
              "            5.56669234e-01, 9.66453232e-02, 7.22336990e-01],\n",
              "           [5.46895660e-02, 7.16523521e-01, 6.87311731e-01, ...,\n",
              "            9.18106659e-01, 9.05801085e-01, 8.37685589e-01],\n",
              "           [9.20056357e-01, 5.60202636e-01, 7.14669729e-01, ...,\n",
              "            8.83541813e-01, 5.43482643e-01, 8.65638705e-01],\n",
              "           [5.97738096e-01, 7.38418094e-01, 1.85900603e-01, ...,\n",
              "            6.63397993e-01, 4.61924242e-01, 7.39624212e-01]],\n",
              "\n",
              "          [[7.27246863e-01, 1.09290371e-01, 4.98821383e-01, ...,\n",
              "            8.75555147e-01, 6.94307984e-01, 4.34881701e-01],\n",
              "           [3.27820046e-02, 2.09195051e-01, 3.26117957e-01, ...,\n",
              "            3.64836644e-01, 2.20812285e-01, 9.68985210e-01],\n",
              "           [3.26603071e-01, 6.14047517e-01, 6.74119623e-01, ...,\n",
              "            5.47089758e-01, 7.95595785e-01, 5.57807223e-01],\n",
              "           [8.54993862e-01, 6.28258409e-01, 3.56815584e-01, ...,\n",
              "            9.07098906e-01, 7.93411880e-01, 1.90261717e-01]]],\n",
              "\n",
              "\n",
              "         [[[8.04025406e-01, 8.04540073e-01, 8.32618880e-01, ...,\n",
              "            9.65173907e-01, 8.18543057e-01, 6.07742751e-02],\n",
              "           [2.35746842e-01, 4.57598065e-01, 7.66829652e-01, ...,\n",
              "            6.42168359e-01, 3.57579837e-01, 4.21691275e-01],\n",
              "           [2.50594547e-01, 2.90391278e-01, 3.85952203e-01, ...,\n",
              "            5.10638846e-01, 3.01798000e-01, 4.24223205e-01],\n",
              "           [5.11427199e-01, 2.59368073e-02, 8.76386369e-01, ...,\n",
              "            9.20569697e-02, 8.07429001e-01, 3.97042619e-01]],\n",
              "\n",
              "          [[4.21702664e-01, 5.29199976e-01, 4.42103808e-01, ...,\n",
              "            9.55384797e-01, 6.04776854e-01, 4.38711061e-01],\n",
              "           [7.85773265e-01, 1.11832870e-01, 2.22017617e-01, ...,\n",
              "            6.14574745e-01, 8.59809570e-01, 1.28889774e-01],\n",
              "           [3.74181531e-01, 3.71720507e-01, 8.69987037e-01, ...,\n",
              "            7.55985777e-01, 1.00053308e-01, 4.05946899e-02],\n",
              "           [9.92801363e-01, 7.03849507e-01, 8.21279621e-02, ...,\n",
              "            8.65169020e-01, 8.84010674e-01, 8.26068901e-01]]],\n",
              "\n",
              "\n",
              "         [[[4.36318893e-01, 4.23101904e-01, 2.11105766e-01, ...,\n",
              "            6.56021941e-01, 2.42760104e-05, 2.98493345e-01],\n",
              "           [2.78165817e-01, 3.31552060e-01, 4.74617451e-01, ...,\n",
              "            3.11441956e-01, 6.53496157e-02, 7.33680586e-01],\n",
              "           [9.82195539e-01, 8.95026614e-01, 9.48246088e-02, ...,\n",
              "            1.27222613e-01, 5.82487964e-01, 6.22585411e-01],\n",
              "           [1.42363766e-01, 1.66601185e-01, 8.85890701e-01, ...,\n",
              "            7.47842866e-01, 4.63939133e-01, 3.37003519e-01]],\n",
              "\n",
              "          [[1.23932961e-01, 6.64522533e-02, 7.93912363e-01, ...,\n",
              "            9.36965833e-01, 4.33356543e-01, 3.22463843e-01],\n",
              "           [6.23198058e-01, 5.00426502e-02, 7.18184282e-01, ...,\n",
              "            4.25011677e-01, 5.79935752e-01, 5.31728813e-01],\n",
              "           [3.19028084e-01, 9.93336147e-02, 9.22050791e-01, ...,\n",
              "            1.63483179e-01, 4.54786514e-01, 7.71320558e-01],\n",
              "           [3.72481727e-01, 8.06128916e-01, 7.01917371e-01, ...,\n",
              "            7.50618932e-01, 2.28389263e-01, 6.63005294e-01]]],\n",
              "\n",
              "\n",
              "         [[[3.32165094e-01, 8.56906175e-01, 7.26574262e-01, ...,\n",
              "            3.57964734e-01, 5.98744232e-01, 2.99377750e-01],\n",
              "           [6.47884177e-01, 7.39703410e-01, 9.39005594e-01, ...,\n",
              "            9.59371747e-01, 9.95418037e-01, 2.93053520e-01],\n",
              "           [8.37763397e-01, 6.85679587e-01, 3.35095203e-01, ...,\n",
              "            9.81863225e-01, 2.51912674e-01, 2.32691141e-01],\n",
              "           [6.53472413e-01, 4.96674498e-01, 3.76394001e-01, ...,\n",
              "            1.54811282e-01, 6.68231005e-01, 9.73070782e-01]],\n",
              "\n",
              "          [[8.74508892e-01, 3.46552593e-01, 2.46667018e-01, ...,\n",
              "            6.86654577e-01, 2.00892096e-01, 8.00947854e-01],\n",
              "           [8.42043767e-01, 1.58485482e-01, 2.42738178e-01, ...,\n",
              "            5.44225281e-01, 6.18876990e-01, 6.38221857e-01],\n",
              "           [7.02743782e-02, 6.66858568e-01, 7.73854461e-01, ...,\n",
              "            5.28254086e-01, 2.72636138e-01, 8.07237888e-01],\n",
              "           [6.47014623e-01, 9.88035972e-01, 1.17551819e-01, ...,\n",
              "            2.39486914e-01, 7.53458706e-01, 9.63274586e-01]]],\n",
              "\n",
              "\n",
              "         [[[5.32103601e-01, 5.52657423e-01, 1.37531723e-01, ...,\n",
              "            2.98468253e-01, 1.91556041e-01, 8.37724270e-01],\n",
              "           [1.16682003e-01, 3.20731212e-01, 2.93487605e-01, ...,\n",
              "            2.17924100e-01, 9.84765418e-01, 6.80694925e-01],\n",
              "           [7.02318958e-01, 5.99826181e-01, 8.69387237e-01, ...,\n",
              "            8.42002002e-01, 7.36365960e-02, 4.38485516e-01],\n",
              "           [8.06237611e-01, 7.24585413e-01, 1.61063880e-01, ...,\n",
              "            9.26141420e-02, 9.28614051e-01, 8.95305864e-02]],\n",
              "\n",
              "          [[1.29409529e-01, 5.01435625e-01, 4.67120583e-01, ...,\n",
              "            1.06927916e-01, 2.85820516e-01, 4.47049433e-01],\n",
              "           [4.32353784e-01, 8.69831811e-01, 8.93987011e-04, ...,\n",
              "            1.05079384e-02, 2.59764811e-01, 3.93719416e-02],\n",
              "           [4.98127695e-01, 8.19775957e-01, 8.16451855e-01, ...,\n",
              "            1.35346024e-01, 5.45028774e-01, 2.39593884e-01],\n",
              "           [8.77500399e-02, 5.46025781e-01, 4.79473823e-01, ...,\n",
              "            5.89911065e-02, 3.09232619e-01, 4.43714483e-02]]]],\n",
              "\n",
              "\n",
              "\n",
              "        [[[[1.47041353e-01, 4.00273646e-01, 2.85029257e-03, ...,\n",
              "            7.31818196e-01, 5.44761527e-01, 1.85661860e-01],\n",
              "           [3.60712383e-01, 5.63296567e-01, 8.38787205e-01, ...,\n",
              "            5.80638803e-01, 4.79775694e-01, 2.85843495e-01],\n",
              "           [4.31615103e-01, 2.36634505e-01, 1.81927387e-01, ...,\n",
              "            9.49299505e-01, 8.07284808e-01, 9.76256064e-01],\n",
              "           [6.16878629e-01, 7.90129030e-01, 9.94223756e-02, ...,\n",
              "            4.42131068e-01, 4.97444988e-01, 1.95155101e-01]],\n",
              "\n",
              "          [[2.53292736e-01, 1.24398132e-01, 6.13448400e-01, ...,\n",
              "            9.81984749e-02, 4.70619473e-01, 4.04333165e-01],\n",
              "           [8.44438930e-01, 8.79478297e-02, 9.25324247e-01, ...,\n",
              "            8.92473073e-01, 8.79378091e-01, 8.06152997e-01],\n",
              "           [3.62129187e-01, 3.80790794e-01, 1.18592957e-01, ...,\n",
              "            6.96567301e-01, 6.52657026e-01, 5.15724937e-01],\n",
              "           [2.38893078e-01, 6.53733056e-01, 4.10258469e-01, ...,\n",
              "            6.05182021e-01, 2.02438573e-01, 5.05898415e-01]]],\n",
              "\n",
              "\n",
              "         [[[4.99409543e-01, 6.51616361e-02, 7.02264135e-01, ...,\n",
              "            9.53772556e-01, 3.92795776e-01, 3.25255356e-01],\n",
              "           [4.20784628e-01, 1.48472962e-02, 7.34284328e-01, ...,\n",
              "            4.82024933e-01, 4.05269553e-02, 8.37794451e-01],\n",
              "           [9.99255572e-01, 3.62538256e-01, 1.28090828e-01, ...,\n",
              "            2.99861302e-01, 2.58391964e-01, 7.48735215e-01],\n",
              "           [6.97099142e-01, 4.85133986e-01, 9.79555421e-01, ...,\n",
              "            5.86117381e-01, 3.87834351e-01, 4.69379919e-01]],\n",
              "\n",
              "          [[2.45253058e-03, 9.02957840e-02, 5.98285280e-01, ...,\n",
              "            4.16356121e-01, 7.10648342e-01, 8.64534600e-01],\n",
              "           [8.10455348e-01, 9.43381842e-01, 1.86633272e-01, ...,\n",
              "            6.85222385e-01, 5.40439236e-01, 6.00202880e-01],\n",
              "           [2.66982068e-01, 2.02921549e-01, 7.66620818e-02, ...,\n",
              "            5.54688066e-01, 9.92206220e-01, 2.06459909e-01],\n",
              "           [9.84565779e-01, 4.66474266e-02, 4.34354352e-01, ...,\n",
              "            7.47747402e-01, 8.81595702e-01, 3.39320420e-01]]],\n",
              "\n",
              "\n",
              "         [[[3.35358820e-01, 7.16176246e-01, 5.75206515e-01, ...,\n",
              "            6.84792596e-01, 5.80678829e-01, 5.38084122e-01],\n",
              "           [8.65890104e-01, 5.46122395e-01, 2.52119331e-01, ...,\n",
              "            5.33402438e-01, 5.17552083e-01, 4.99326489e-01],\n",
              "           [9.53180291e-01, 8.91930679e-01, 5.23342058e-01, ...,\n",
              "            2.95187498e-01, 1.80220689e-01, 6.04081140e-01],\n",
              "           [1.95948058e-01, 2.84218228e-01, 2.41451714e-01, ...,\n",
              "            6.35164890e-01, 2.64564644e-01, 6.72807857e-01]],\n",
              "\n",
              "          [[5.78497871e-01, 2.33369409e-01, 2.61582432e-01, ...,\n",
              "            3.92570109e-01, 3.62245487e-02, 7.70333188e-02],\n",
              "           [8.30186880e-01, 3.74384053e-01, 6.84655011e-01, ...,\n",
              "            4.90412028e-01, 9.92081721e-01, 9.86092201e-01],\n",
              "           [5.11985777e-01, 6.74937404e-01, 5.90255402e-01, ...,\n",
              "            1.74583593e-01, 2.52287408e-01, 4.84038578e-01],\n",
              "           [2.17837417e-01, 3.40342959e-01, 6.29054535e-01, ...,\n",
              "            7.70984444e-02, 1.98122599e-01, 7.69404959e-01]]],\n",
              "\n",
              "\n",
              "         [[[2.79355223e-03, 8.62660459e-02, 2.46242470e-01, ...,\n",
              "            4.77736854e-01, 8.52386413e-01, 3.18942403e-02],\n",
              "           [2.19493026e-01, 3.55386043e-01, 6.30624175e-01, ...,\n",
              "            7.85022292e-01, 8.50610601e-03, 5.77504236e-02],\n",
              "           [8.60512095e-01, 9.61260060e-01, 7.31900927e-01, ...,\n",
              "            3.17594951e-02, 2.99253843e-01, 6.57923450e-01],\n",
              "           [9.81767542e-01, 3.52894388e-01, 3.20347180e-01, ...,\n",
              "            2.48403048e-01, 1.33734725e-01, 8.88032216e-01]],\n",
              "\n",
              "          [[9.96145321e-01, 1.40452054e-02, 1.76357053e-01, ...,\n",
              "            4.12019462e-01, 6.09436811e-01, 1.42729940e-02],\n",
              "           [1.45384536e-01, 7.67300082e-01, 5.05569727e-02, ...,\n",
              "            7.60206071e-01, 5.20136393e-01, 8.68668014e-01],\n",
              "           [9.22765148e-01, 4.24521404e-01, 3.32349305e-01, ...,\n",
              "            1.53142059e-01, 6.46653182e-01, 9.37509112e-01],\n",
              "           [7.37489531e-02, 4.02172454e-01, 4.21452656e-01, ...,\n",
              "            2.27053797e-01, 1.63823086e-01, 6.81611960e-01]]],\n",
              "\n",
              "\n",
              "         [[[7.66542799e-01, 2.11546202e-01, 4.11310828e-02, ...,\n",
              "            7.15216965e-01, 3.11947754e-01, 6.07810538e-01],\n",
              "           [1.49134350e-01, 2.24189310e-02, 8.23166002e-02, ...,\n",
              "            8.53521814e-01, 8.35558716e-01, 7.93952928e-01],\n",
              "           [2.04847034e-01, 7.30679717e-01, 2.83116839e-01, ...,\n",
              "            3.36721595e-01, 7.10718211e-01, 1.92799747e-01],\n",
              "           [5.05333549e-01, 5.87588964e-01, 4.16527815e-01, ...,\n",
              "            3.94899816e-01, 4.49395657e-01, 7.04884136e-01]],\n",
              "\n",
              "          [[9.29449071e-02, 5.97221450e-01, 4.53061855e-01, ...,\n",
              "            1.05001027e-01, 6.66447767e-01, 7.42213966e-01],\n",
              "           [1.07713067e-01, 4.31559658e-01, 5.63158889e-01, ...,\n",
              "            5.09485867e-01, 9.56022937e-01, 7.81475328e-01],\n",
              "           [5.71962205e-01, 3.43501694e-01, 8.64188779e-02, ...,\n",
              "            9.72924299e-01, 6.67319246e-01, 4.31992149e-01],\n",
              "           [1.28501914e-01, 6.39386929e-01, 4.67114326e-01, ...,\n",
              "            1.62753417e-01, 2.84092454e-01, 9.56993621e-01]]]],\n",
              "\n",
              "\n",
              "\n",
              "        [[[[8.82080631e-01, 6.10143225e-01, 3.30835089e-01, ...,\n",
              "            7.44128685e-01, 5.63302741e-01, 3.03274313e-01],\n",
              "           [5.17890909e-01, 5.13915794e-01, 3.98127902e-01, ...,\n",
              "            2.50814843e-01, 6.84675514e-01, 8.73303108e-01],\n",
              "           [2.88338888e-01, 7.19749353e-01, 3.37655430e-01, ...,\n",
              "            1.05728264e-01, 5.08405391e-01, 8.03309829e-02],\n",
              "           [4.62290923e-01, 2.66440422e-01, 1.00478860e-01, ...,\n",
              "            1.57442513e-01, 5.52822122e-01, 1.14501743e-02]],\n",
              "\n",
              "          [[7.62043737e-01, 6.21208323e-01, 2.58124168e-01, ...,\n",
              "            8.88239657e-01, 9.62574461e-01, 4.85003135e-01],\n",
              "           [4.35974030e-01, 5.04003741e-01, 1.85515239e-01, ...,\n",
              "            1.88305988e-01, 4.01954470e-01, 2.16941685e-01],\n",
              "           [4.25466864e-01, 6.62159378e-01, 3.40963963e-01, ...,\n",
              "            1.34424988e-01, 5.67645469e-01, 5.97724037e-01],\n",
              "           [6.63074063e-01, 2.56985465e-02, 9.13569330e-01, ...,\n",
              "            7.53257905e-01, 7.15824186e-01, 1.60373499e-01]]],\n",
              "\n",
              "\n",
              "         [[[5.98727796e-01, 2.71444202e-01, 5.77971500e-01, ...,\n",
              "            2.96302036e-01, 5.71683348e-01, 8.08947932e-01],\n",
              "           [5.62602864e-01, 7.63627935e-01, 5.54389180e-01, ...,\n",
              "            2.08672446e-01, 9.67923326e-01, 6.59969106e-01],\n",
              "           [6.00225543e-01, 7.10726493e-02, 4.87241547e-01, ...,\n",
              "            7.25441484e-01, 1.58806830e-01, 4.01301026e-01],\n",
              "           [1.54431501e-01, 7.28592310e-01, 7.58730368e-01, ...,\n",
              "            9.53015322e-01, 8.34206426e-01, 4.42015099e-01]],\n",
              "\n",
              "          [[2.29050386e-01, 6.46932680e-01, 5.75768361e-02, ...,\n",
              "            5.18149932e-01, 3.61951518e-01, 6.34922321e-01],\n",
              "           [2.58817603e-01, 7.56453936e-01, 9.48583084e-01, ...,\n",
              "            8.50185296e-02, 4.48670122e-01, 9.38523043e-01],\n",
              "           [4.85017911e-01, 1.29076671e-01, 7.45375234e-01, ...,\n",
              "            8.04620210e-02, 9.61446564e-02, 2.14857275e-01],\n",
              "           [7.73698261e-01, 5.79356335e-01, 9.56576857e-01, ...,\n",
              "            6.56387950e-01, 7.23976124e-02, 7.95286466e-01]]],\n",
              "\n",
              "\n",
              "         [[[6.90510829e-01, 5.87221572e-01, 2.79679646e-01, ...,\n",
              "            8.95439160e-01, 7.10280296e-01, 6.66864549e-01],\n",
              "           [6.87751034e-01, 6.47843340e-01, 2.00602977e-01, ...,\n",
              "            7.09437160e-01, 7.63982154e-01, 9.06704880e-01],\n",
              "           [2.16617188e-01, 9.01562072e-01, 9.69135320e-01, ...,\n",
              "            1.60432264e-01, 4.14070091e-01, 7.09876392e-01],\n",
              "           [3.90856920e-01, 4.52802431e-02, 9.94183641e-01, ...,\n",
              "            4.85460753e-01, 7.01150131e-01, 9.56423995e-01]],\n",
              "\n",
              "          [[8.51076331e-01, 6.95203858e-01, 9.70930467e-02, ...,\n",
              "            6.49323968e-01, 4.92818046e-02, 4.19893566e-01],\n",
              "           [2.15982290e-02, 9.99956042e-01, 7.83049669e-01, ...,\n",
              "            2.64819053e-01, 4.71071684e-01, 8.39403604e-02],\n",
              "           [8.61930208e-01, 5.74125910e-01, 7.25093468e-02, ...,\n",
              "            2.22816065e-01, 4.66672127e-02, 8.64785929e-01],\n",
              "           [5.52139731e-01, 1.86999689e-01, 6.54698129e-01, ...,\n",
              "            8.17778261e-01, 7.01261662e-01, 1.82020288e-01]]],\n",
              "\n",
              "\n",
              "         [[[1.37301226e-01, 7.95503231e-01, 5.18574635e-01, ...,\n",
              "            8.95007850e-01, 8.63073002e-01, 3.60048212e-01],\n",
              "           [6.76942313e-01, 6.63297191e-01, 8.76491010e-01, ...,\n",
              "            8.56133206e-01, 3.36705868e-01, 2.26473831e-01],\n",
              "           [2.69504834e-01, 1.90507456e-01, 5.79028073e-02, ...,\n",
              "            9.51430560e-01, 8.10610855e-01, 4.13223888e-01],\n",
              "           [7.17221731e-01, 9.59625512e-01, 3.90508086e-01, ...,\n",
              "            5.74590433e-01, 4.44830440e-01, 2.55237722e-01]],\n",
              "\n",
              "          [[4.67466422e-01, 1.27968240e-01, 1.07647814e-01, ...,\n",
              "            6.84068003e-01, 5.97139763e-01, 9.03236621e-01],\n",
              "           [6.98015467e-01, 1.54939148e-01, 8.27822741e-01, ...,\n",
              "            2.65033996e-01, 2.61996404e-01, 7.12410438e-02],\n",
              "           [8.11330564e-01, 6.05231370e-01, 1.81108142e-01, ...,\n",
              "            9.96796650e-01, 2.84681751e-01, 8.03849422e-01],\n",
              "           [1.05491823e-01, 4.82284416e-01, 2.64254208e-01, ...,\n",
              "            1.70961906e-01, 6.84357405e-01, 3.82182487e-01]]],\n",
              "\n",
              "\n",
              "         [[[7.81344260e-01, 1.36759457e-01, 7.77199824e-02, ...,\n",
              "            8.74094931e-01, 8.38215832e-01, 4.26705228e-01],\n",
              "           [6.68017945e-01, 2.50627050e-01, 6.93279778e-01, ...,\n",
              "            3.70174794e-02, 5.96860402e-01, 8.01550500e-01],\n",
              "           [8.57341293e-01, 3.24067531e-01, 2.24115137e-01, ...,\n",
              "            3.80469511e-01, 5.74644533e-01, 3.10234236e-01],\n",
              "           [7.41431542e-01, 9.04531517e-01, 9.33650097e-01, ...,\n",
              "            9.02021041e-01, 6.51631776e-01, 8.00503151e-01]],\n",
              "\n",
              "          [[7.15843556e-01, 4.34570437e-01, 6.76841788e-02, ...,\n",
              "            5.96743806e-01, 4.02813290e-01, 8.14849898e-01],\n",
              "           [5.35672057e-01, 5.29447884e-01, 5.19178848e-01, ...,\n",
              "            5.19160732e-01, 3.87848993e-01, 3.27916293e-01],\n",
              "           [7.21023046e-01, 7.13449953e-01, 7.30148613e-01, ...,\n",
              "            5.63459855e-01, 4.71213708e-01, 2.71346980e-01],\n",
              "           [5.53268672e-01, 7.39081735e-01, 5.55986375e-01, ...,\n",
              "            7.32282753e-01, 6.72826861e-01, 7.59718803e-01]]]]]])"
            ]
          },
          "metadata": {},
          "execution_count": 112
        }
      ]
    },
    {
      "cell_type": "code",
      "source": [],
      "metadata": {
        "id": "pcBcmwvmCQ6a"
      },
      "execution_count": null,
      "outputs": []
    }
  ]
}