{
  "nbformat": 4,
  "nbformat_minor": 0,
  "metadata": {
    "colab": {
      "provenance": [],
      "authorship_tag": "ABX9TyPEPfZH3jrsxw2Fq2rl+uTb",
      "include_colab_link": true
    },
    "kernelspec": {
      "name": "python3",
      "display_name": "Python 3"
    },
    "language_info": {
      "name": "python"
    }
  },
  "cells": [
    {
      "cell_type": "markdown",
      "metadata": {
        "id": "view-in-github",
        "colab_type": "text"
      },
      "source": [
        "<a href=\"https://colab.research.google.com/github/akram01Br/Python/blob/main/Numpy.ipynb\" target=\"_parent\"><img src=\"https://colab.research.google.com/assets/colab-badge.svg\" alt=\"Open In Colab\"/></a>"
      ]
    },
    {
      "cell_type": "code",
      "execution_count": 51,
      "metadata": {
        "id": "XeuMCNiJ4C62"
      },
      "outputs": [],
      "source": [
        "import numpy as np"
      ]
    },
    {
      "cell_type": "code",
      "source": [
        "a = np.array([1, 2, 3, 4, 5, 7],dtype='i')\n",
        "b = np.array((2,3,5),dtype='f')\n"
      ],
      "metadata": {
        "id": "4w6jYri24JwA"
      },
      "execution_count": 52,
      "outputs": []
    },
    {
      "cell_type": "code",
      "source": [
        "print(a)"
      ],
      "metadata": {
        "colab": {
          "base_uri": "https://localhost:8080/"
        },
        "id": "nHPS_qHy408E",
        "outputId": "ff523a5c-3c9d-4b36-b271-5f7a193a68fe"
      },
      "execution_count": 53,
      "outputs": [
        {
          "output_type": "stream",
          "name": "stdout",
          "text": [
            "[1 2 3 4 5 7]\n"
          ]
        }
      ]
    },
    {
      "cell_type": "code",
      "source": [
        "type(a)"
      ],
      "metadata": {
        "colab": {
          "base_uri": "https://localhost:8080/"
        },
        "id": "zwLwCqGA42Q8",
        "outputId": "baffb9bd-85b5-458f-babd-2e5aa206b3bc"
      },
      "execution_count": 54,
      "outputs": [
        {
          "output_type": "execute_result",
          "data": {
            "text/plain": [
              "numpy.ndarray"
            ]
          },
          "metadata": {},
          "execution_count": 54
        }
      ]
    },
    {
      "cell_type": "code",
      "source": [
        "type(b)"
      ],
      "metadata": {
        "colab": {
          "base_uri": "https://localhost:8080/"
        },
        "id": "pHqyNdq443VQ",
        "outputId": "64f85485-a31f-4049-a515-d3ae94fa8f44"
      },
      "execution_count": 55,
      "outputs": [
        {
          "output_type": "execute_result",
          "data": {
            "text/plain": [
              "numpy.ndarray"
            ]
          },
          "metadata": {},
          "execution_count": 55
        }
      ]
    },
    {
      "cell_type": "code",
      "source": [
        "a.dtype"
      ],
      "metadata": {
        "colab": {
          "base_uri": "https://localhost:8080/"
        },
        "id": "rVgixpoz47cN",
        "outputId": "3b84aeb0-3144-49d3-cc90-cc07cdb09353"
      },
      "execution_count": 56,
      "outputs": [
        {
          "output_type": "execute_result",
          "data": {
            "text/plain": [
              "dtype('int32')"
            ]
          },
          "metadata": {},
          "execution_count": 56
        }
      ]
    },
    {
      "cell_type": "code",
      "source": [
        "b.dtype"
      ],
      "metadata": {
        "colab": {
          "base_uri": "https://localhost:8080/"
        },
        "id": "8gdI4VoF5g4z",
        "outputId": "e34fdc54-76b4-4553-90c4-3a1e07ce2c75"
      },
      "execution_count": 57,
      "outputs": [
        {
          "output_type": "execute_result",
          "data": {
            "text/plain": [
              "dtype('float32')"
            ]
          },
          "metadata": {},
          "execution_count": 57
        }
      ]
    },
    {
      "cell_type": "code",
      "source": [
        "a =np.array([[2, 2, 3],[5, 3,4]])"
      ],
      "metadata": {
        "id": "YZLBkRbI5izZ"
      },
      "execution_count": 58,
      "outputs": []
    },
    {
      "cell_type": "code",
      "source": [
        "a.dtype"
      ],
      "metadata": {
        "colab": {
          "base_uri": "https://localhost:8080/"
        },
        "id": "sg_zTWR753JY",
        "outputId": "eada201b-07e8-4979-996e-c50b0796247f"
      },
      "execution_count": 59,
      "outputs": [
        {
          "output_type": "execute_result",
          "data": {
            "text/plain": [
              "dtype('int64')"
            ]
          },
          "metadata": {},
          "execution_count": 59
        }
      ]
    },
    {
      "cell_type": "code",
      "source": [
        "print(a.ndim)"
      ],
      "metadata": {
        "colab": {
          "base_uri": "https://localhost:8080/"
        },
        "id": "AYnd_n_j54JE",
        "outputId": "6b21fe0c-0801-45fa-8c43-f0c1a353547c"
      },
      "execution_count": 60,
      "outputs": [
        {
          "output_type": "stream",
          "name": "stdout",
          "text": [
            "2\n"
          ]
        }
      ]
    },
    {
      "cell_type": "code",
      "source": [
        "b.dtype"
      ],
      "metadata": {
        "colab": {
          "base_uri": "https://localhost:8080/"
        },
        "id": "cfzGt_ZD60Dr",
        "outputId": "96d819f2-a6dc-40bf-a576-86dc7bd60d6a"
      },
      "execution_count": 61,
      "outputs": [
        {
          "output_type": "execute_result",
          "data": {
            "text/plain": [
              "dtype('float32')"
            ]
          },
          "metadata": {},
          "execution_count": 61
        }
      ]
    },
    {
      "cell_type": "code",
      "source": [
        "b.ndim"
      ],
      "metadata": {
        "colab": {
          "base_uri": "https://localhost:8080/"
        },
        "id": "4y8ZonHa61tj",
        "outputId": "d230613f-d8fa-414c-d521-4b6dbec19e1d"
      },
      "execution_count": 62,
      "outputs": [
        {
          "output_type": "execute_result",
          "data": {
            "text/plain": [
              "1"
            ]
          },
          "metadata": {},
          "execution_count": 62
        }
      ]
    },
    {
      "cell_type": "code",
      "source": [
        "a[0,2]"
      ],
      "metadata": {
        "colab": {
          "base_uri": "https://localhost:8080/"
        },
        "id": "crSDLte07KCb",
        "outputId": "cbf2ab5a-b6ed-4a6e-98fb-b9af971321e2"
      },
      "execution_count": 63,
      "outputs": [
        {
          "output_type": "execute_result",
          "data": {
            "text/plain": [
              "np.int64(3)"
            ]
          },
          "metadata": {},
          "execution_count": 63
        }
      ]
    },
    {
      "cell_type": "code",
      "source": [
        "b.ndim"
      ],
      "metadata": {
        "colab": {
          "base_uri": "https://localhost:8080/"
        },
        "id": "UrQd4-c77JEG",
        "outputId": "bffdafd0-6f1b-44e2-c07b-34f2c47af602"
      },
      "execution_count": 64,
      "outputs": [
        {
          "output_type": "execute_result",
          "data": {
            "text/plain": [
              "1"
            ]
          },
          "metadata": {},
          "execution_count": 64
        }
      ]
    },
    {
      "cell_type": "code",
      "source": [
        "b.ndim"
      ],
      "metadata": {
        "colab": {
          "base_uri": "https://localhost:8080/"
        },
        "id": "OUuMVzaM7YKx",
        "outputId": "8974f314-1b8a-40ef-dee4-f4d9d0b45843"
      },
      "execution_count": 65,
      "outputs": [
        {
          "output_type": "execute_result",
          "data": {
            "text/plain": [
              "1"
            ]
          },
          "metadata": {},
          "execution_count": 65
        }
      ]
    },
    {
      "cell_type": "code",
      "source": [
        "C = np.array([[1,2,3],[4,5,6],[0,0,-1]])"
      ],
      "metadata": {
        "id": "zC14xAy27tfh"
      },
      "execution_count": 66,
      "outputs": []
    },
    {
      "cell_type": "code",
      "source": [
        "C.ndim"
      ],
      "metadata": {
        "colab": {
          "base_uri": "https://localhost:8080/"
        },
        "id": "uHP9FMvN8KrY",
        "outputId": "14a0745b-4d0f-499f-c107-1e980b33392e"
      },
      "execution_count": 67,
      "outputs": [
        {
          "output_type": "execute_result",
          "data": {
            "text/plain": [
              "2"
            ]
          },
          "metadata": {},
          "execution_count": 67
        }
      ]
    },
    {
      "cell_type": "code",
      "source": [],
      "metadata": {
        "id": "YMaYD7qR8LgD"
      },
      "execution_count": 67,
      "outputs": []
    },
    {
      "cell_type": "code",
      "source": [
        "b = np.array([[[5,4,9],[4,3,6],[5,5,6]],[[4,1,0],[4,5,6],[7,8,9]]])"
      ],
      "metadata": {
        "id": "fTV1lj4W6AIi"
      },
      "execution_count": 68,
      "outputs": []
    },
    {
      "cell_type": "code",
      "source": [],
      "metadata": {
        "id": "-0wgoWtKPiTt"
      },
      "execution_count": 68,
      "outputs": []
    },
    {
      "cell_type": "code",
      "source": [],
      "metadata": {
        "id": "UrrJwCUdPmhC"
      },
      "execution_count": 68,
      "outputs": []
    },
    {
      "cell_type": "code",
      "source": [
        "b.ndim"
      ],
      "metadata": {
        "colab": {
          "base_uri": "https://localhost:8080/"
        },
        "id": "ClonU4gC8oGX",
        "outputId": "62b0aaa0-d538-43ba-96de-fc38ac0b4bfa"
      },
      "execution_count": 69,
      "outputs": [
        {
          "output_type": "execute_result",
          "data": {
            "text/plain": [
              "3"
            ]
          },
          "metadata": {},
          "execution_count": 69
        }
      ]
    },
    {
      "cell_type": "code",
      "source": [
        "b.shape[2]"
      ],
      "metadata": {
        "colab": {
          "base_uri": "https://localhost:8080/"
        },
        "id": "mdJePnyk-Jtb",
        "outputId": "6d404340-ef6b-46de-f5cf-42d4574b80eb"
      },
      "execution_count": 70,
      "outputs": [
        {
          "output_type": "execute_result",
          "data": {
            "text/plain": [
              "3"
            ]
          },
          "metadata": {},
          "execution_count": 70
        }
      ]
    },
    {
      "cell_type": "code",
      "source": [
        "A= np.array([2])"
      ],
      "metadata": {
        "id": "1ZP5teCa-MEj"
      },
      "execution_count": 71,
      "outputs": []
    },
    {
      "cell_type": "code",
      "source": [
        "A.ndim"
      ],
      "metadata": {
        "colab": {
          "base_uri": "https://localhost:8080/"
        },
        "id": "96taQS1W-qCC",
        "outputId": "0c1d7a11-301f-4a7f-a16b-c622b6a9fd01"
      },
      "execution_count": 72,
      "outputs": [
        {
          "output_type": "execute_result",
          "data": {
            "text/plain": [
              "1"
            ]
          },
          "metadata": {},
          "execution_count": 72
        }
      ]
    },
    {
      "cell_type": "code",
      "source": [
        "B = np.array(3)"
      ],
      "metadata": {
        "id": "mN0FGEoq-rU_"
      },
      "execution_count": 73,
      "outputs": []
    },
    {
      "cell_type": "code",
      "source": [
        "B.ndim"
      ],
      "metadata": {
        "colab": {
          "base_uri": "https://localhost:8080/"
        },
        "id": "oKPiV3jb-ubb",
        "outputId": "b0b490ba-0c9d-41ad-a273-46db7b2f6bd7"
      },
      "execution_count": 74,
      "outputs": [
        {
          "output_type": "execute_result",
          "data": {
            "text/plain": [
              "0"
            ]
          },
          "metadata": {},
          "execution_count": 74
        }
      ]
    },
    {
      "cell_type": "code",
      "source": [
        "A = np.arange(20,100,3)"
      ],
      "metadata": {
        "id": "CFCCUV1M-vj8"
      },
      "execution_count": 75,
      "outputs": []
    },
    {
      "cell_type": "code",
      "source": [],
      "metadata": {
        "id": "EMY8RqPg_tIl"
      },
      "execution_count": 75,
      "outputs": []
    },
    {
      "cell_type": "code",
      "source": [
        "A\n"
      ],
      "metadata": {
        "colab": {
          "base_uri": "https://localhost:8080/"
        },
        "id": "tKInK9OZ_U7F",
        "outputId": "f715da59-cc5b-4506-b045-54dc169689ec"
      },
      "execution_count": 76,
      "outputs": [
        {
          "output_type": "execute_result",
          "data": {
            "text/plain": [
              "array([20, 23, 26, 29, 32, 35, 38, 41, 44, 47, 50, 53, 56, 59, 62, 65, 68,\n",
              "       71, 74, 77, 80, 83, 86, 89, 92, 95, 98])"
            ]
          },
          "metadata": {},
          "execution_count": 76
        }
      ]
    },
    {
      "cell_type": "code",
      "source": [
        "print (range(10))"
      ],
      "metadata": {
        "colab": {
          "base_uri": "https://localhost:8080/"
        },
        "id": "APRTSM11_euH",
        "outputId": "f4966dcd-4415-4fc3-d9bd-4ca138a6ceec"
      },
      "execution_count": 77,
      "outputs": [
        {
          "output_type": "stream",
          "name": "stdout",
          "text": [
            "range(0, 10)\n"
          ]
        }
      ]
    },
    {
      "cell_type": "code",
      "source": [
        "print (list(range(10)))"
      ],
      "metadata": {
        "colab": {
          "base_uri": "https://localhost:8080/"
        },
        "id": "MSRasEnC_3Vt",
        "outputId": "4f92a168-c187-4c56-8bb5-40a1d1a5c511"
      },
      "execution_count": 78,
      "outputs": [
        {
          "output_type": "stream",
          "name": "stdout",
          "text": [
            "[0, 1, 2, 3, 4, 5, 6, 7, 8, 9]\n"
          ]
        }
      ]
    },
    {
      "cell_type": "code",
      "source": [
        "np.random.permutation(np.arange(10))#alea"
      ],
      "metadata": {
        "colab": {
          "base_uri": "https://localhost:8080/"
        },
        "id": "ZN_1FrkjAFR9",
        "outputId": "8c92aa26-2411-4e42-e72d-8b994541de98"
      },
      "execution_count": 79,
      "outputs": [
        {
          "output_type": "execute_result",
          "data": {
            "text/plain": [
              "array([3, 5, 6, 7, 1, 4, 2, 8, 9, 0])"
            ]
          },
          "metadata": {},
          "execution_count": 79
        }
      ]
    },
    {
      "cell_type": "code",
      "source": [
        "A = np.random.rand(10000)"
      ],
      "metadata": {
        "id": "a0oJ9NjOAQPp"
      },
      "execution_count": 80,
      "outputs": []
    },
    {
      "cell_type": "code",
      "source": [
        "A"
      ],
      "metadata": {
        "colab": {
          "base_uri": "https://localhost:8080/"
        },
        "id": "3QIsdldnBL_K",
        "outputId": "ae3d0e93-2511-4ac7-d4c6-e48a2be3e8ea"
      },
      "execution_count": 81,
      "outputs": [
        {
          "output_type": "execute_result",
          "data": {
            "text/plain": [
              "array([0.61178554, 0.56704691, 0.9865243 , ..., 0.00527024, 0.16138469,\n",
              "       0.13389293])"
            ]
          },
          "metadata": {},
          "execution_count": 81
        }
      ]
    },
    {
      "cell_type": "code",
      "source": [
        "import matplotlib.pyplot as plt\n"
      ],
      "metadata": {
        "id": "zmQxKzUMBTlV"
      },
      "execution_count": 82,
      "outputs": []
    },
    {
      "cell_type": "code",
      "source": [
        "plt.hist(A, bins =200)"
      ],
      "metadata": {
        "colab": {
          "base_uri": "https://localhost:8080/",
          "height": 1000
        },
        "id": "oNN80dTCBYbb",
        "outputId": "9e219a6a-11e7-4dd9-e93e-3f1eb1335994"
      },
      "execution_count": 83,
      "outputs": [
        {
          "output_type": "execute_result",
          "data": {
            "text/plain": [
              "(array([62., 50., 47., 52., 44., 47., 35., 56., 52., 38., 48., 45., 51.,\n",
              "        66., 50., 59., 56., 56., 65., 46., 52., 58., 41., 48., 58., 58.,\n",
              "        57., 51., 50., 52., 41., 54., 62., 48., 55., 43., 56., 49., 49.,\n",
              "        55., 57., 55., 48., 47., 39., 56., 50., 50., 55., 45., 60., 49.,\n",
              "        55., 50., 54., 34., 51., 56., 41., 42., 40., 57., 51., 48., 49.,\n",
              "        60., 55., 49., 56., 56., 44., 64., 49., 55., 56., 58., 60., 58.,\n",
              "        50., 33., 49., 47., 44., 41., 43., 53., 60., 47., 50., 37., 48.,\n",
              "        56., 48., 60., 39., 52., 41., 46., 41., 66., 55., 45., 44., 52.,\n",
              "        42., 41., 53., 34., 48., 49., 55., 37., 47., 49., 53., 52., 56.,\n",
              "        37., 54., 44., 45., 46., 51., 63., 46., 46., 40., 47., 48., 53.,\n",
              "        61., 46., 55., 54., 39., 57., 43., 51., 43., 38., 47., 56., 45.,\n",
              "        58., 52., 54., 55., 55., 59., 52., 48., 49., 58., 47., 49., 56.,\n",
              "        50., 63., 50., 49., 46., 51., 51., 44., 50., 59., 52., 69., 46.,\n",
              "        50., 47., 49., 48., 37., 62., 53., 60., 45., 56., 44., 51., 39.,\n",
              "        48., 40., 46., 49., 51., 47., 47., 44., 51., 47., 42., 52., 46.,\n",
              "        51., 56., 46., 44., 41.]),\n",
              " array([1.90177285e-05, 5.01755926e-03, 1.00161008e-02, 1.50146423e-02,\n",
              "        2.00131838e-02, 2.50117254e-02, 3.00102669e-02, 3.50088084e-02,\n",
              "        4.00073499e-02, 4.50058915e-02, 5.00044330e-02, 5.50029745e-02,\n",
              "        6.00015161e-02, 6.50000576e-02, 6.99985991e-02, 7.49971406e-02,\n",
              "        7.99956822e-02, 8.49942237e-02, 8.99927652e-02, 9.49913067e-02,\n",
              "        9.99898483e-02, 1.04988390e-01, 1.09986931e-01, 1.14985473e-01,\n",
              "        1.19984014e-01, 1.24982556e-01, 1.29981097e-01, 1.34979639e-01,\n",
              "        1.39978180e-01, 1.44976722e-01, 1.49975264e-01, 1.54973805e-01,\n",
              "        1.59972347e-01, 1.64970888e-01, 1.69969430e-01, 1.74967971e-01,\n",
              "        1.79966513e-01, 1.84965054e-01, 1.89963596e-01, 1.94962137e-01,\n",
              "        1.99960679e-01, 2.04959220e-01, 2.09957762e-01, 2.14956303e-01,\n",
              "        2.19954845e-01, 2.24953386e-01, 2.29951928e-01, 2.34950469e-01,\n",
              "        2.39949011e-01, 2.44947553e-01, 2.49946094e-01, 2.54944636e-01,\n",
              "        2.59943177e-01, 2.64941719e-01, 2.69940260e-01, 2.74938802e-01,\n",
              "        2.79937343e-01, 2.84935885e-01, 2.89934426e-01, 2.94932968e-01,\n",
              "        2.99931509e-01, 3.04930051e-01, 3.09928592e-01, 3.14927134e-01,\n",
              "        3.19925675e-01, 3.24924217e-01, 3.29922759e-01, 3.34921300e-01,\n",
              "        3.39919842e-01, 3.44918383e-01, 3.49916925e-01, 3.54915466e-01,\n",
              "        3.59914008e-01, 3.64912549e-01, 3.69911091e-01, 3.74909632e-01,\n",
              "        3.79908174e-01, 3.84906715e-01, 3.89905257e-01, 3.94903798e-01,\n",
              "        3.99902340e-01, 4.04900881e-01, 4.09899423e-01, 4.14897964e-01,\n",
              "        4.19896506e-01, 4.24895048e-01, 4.29893589e-01, 4.34892131e-01,\n",
              "        4.39890672e-01, 4.44889214e-01, 4.49887755e-01, 4.54886297e-01,\n",
              "        4.59884838e-01, 4.64883380e-01, 4.69881921e-01, 4.74880463e-01,\n",
              "        4.79879004e-01, 4.84877546e-01, 4.89876087e-01, 4.94874629e-01,\n",
              "        4.99873170e-01, 5.04871712e-01, 5.09870253e-01, 5.14868795e-01,\n",
              "        5.19867337e-01, 5.24865878e-01, 5.29864420e-01, 5.34862961e-01,\n",
              "        5.39861503e-01, 5.44860044e-01, 5.49858586e-01, 5.54857127e-01,\n",
              "        5.59855669e-01, 5.64854210e-01, 5.69852752e-01, 5.74851293e-01,\n",
              "        5.79849835e-01, 5.84848376e-01, 5.89846918e-01, 5.94845459e-01,\n",
              "        5.99844001e-01, 6.04842542e-01, 6.09841084e-01, 6.14839626e-01,\n",
              "        6.19838167e-01, 6.24836709e-01, 6.29835250e-01, 6.34833792e-01,\n",
              "        6.39832333e-01, 6.44830875e-01, 6.49829416e-01, 6.54827958e-01,\n",
              "        6.59826499e-01, 6.64825041e-01, 6.69823582e-01, 6.74822124e-01,\n",
              "        6.79820665e-01, 6.84819207e-01, 6.89817748e-01, 6.94816290e-01,\n",
              "        6.99814831e-01, 7.04813373e-01, 7.09811915e-01, 7.14810456e-01,\n",
              "        7.19808998e-01, 7.24807539e-01, 7.29806081e-01, 7.34804622e-01,\n",
              "        7.39803164e-01, 7.44801705e-01, 7.49800247e-01, 7.54798788e-01,\n",
              "        7.59797330e-01, 7.64795871e-01, 7.69794413e-01, 7.74792954e-01,\n",
              "        7.79791496e-01, 7.84790037e-01, 7.89788579e-01, 7.94787121e-01,\n",
              "        7.99785662e-01, 8.04784204e-01, 8.09782745e-01, 8.14781287e-01,\n",
              "        8.19779828e-01, 8.24778370e-01, 8.29776911e-01, 8.34775453e-01,\n",
              "        8.39773994e-01, 8.44772536e-01, 8.49771077e-01, 8.54769619e-01,\n",
              "        8.59768160e-01, 8.64766702e-01, 8.69765243e-01, 8.74763785e-01,\n",
              "        8.79762326e-01, 8.84760868e-01, 8.89759410e-01, 8.94757951e-01,\n",
              "        8.99756493e-01, 9.04755034e-01, 9.09753576e-01, 9.14752117e-01,\n",
              "        9.19750659e-01, 9.24749200e-01, 9.29747742e-01, 9.34746283e-01,\n",
              "        9.39744825e-01, 9.44743366e-01, 9.49741908e-01, 9.54740449e-01,\n",
              "        9.59738991e-01, 9.64737532e-01, 9.69736074e-01, 9.74734615e-01,\n",
              "        9.79733157e-01, 9.84731699e-01, 9.89730240e-01, 9.94728782e-01,\n",
              "        9.99727323e-01]),\n",
              " <BarContainer object of 200 artists>)"
            ]
          },
          "metadata": {},
          "execution_count": 83
        },
        {
          "output_type": "display_data",
          "data": {
            "text/plain": [
              "<Figure size 640x480 with 1 Axes>"
            ],
            "image/png": "[encoded data removed]"
          },
          "metadata": {}
        }
      ]
    },
    {
      "cell_type": "code",
      "source": [
        "C = np.random.rand(2,3)"
      ],
      "metadata": {
        "id": "qb0Q_0_kBct1"
      },
      "execution_count": 84,
      "outputs": []
    },
    {
      "cell_type": "code",
      "source": [
        "C"
      ],
      "metadata": {
        "colab": {
          "base_uri": "https://localhost:8080/"
        },
        "id": "P5UK5R0XB7xg",
        "outputId": "270f41a5-9296-42c1-a9a5-96c3042d459d"
      },
      "execution_count": 85,
      "outputs": [
        {
          "output_type": "execute_result",
          "data": {
            "text/plain": [
              "array([[0.68449447, 0.25898226, 0.72366256],\n",
              "       [0.30276437, 0.99267184, 0.67014094]])"
            ]
          },
          "metadata": {},
          "execution_count": 85
        }
      ]
    },
    {
      "cell_type": "code",
      "source": [
        "C.ndim"
      ],
      "metadata": {
        "colab": {
          "base_uri": "https://localhost:8080/"
        },
        "id": "hRvzHeOwB8LJ",
        "outputId": "a25106d4-30a0-490b-c8e4-f583ab7889cb"
      },
      "execution_count": 86,
      "outputs": [
        {
          "output_type": "execute_result",
          "data": {
            "text/plain": [
              "2"
            ]
          },
          "metadata": {},
          "execution_count": 86
        }
      ]
    },
    {
      "cell_type": "code",
      "source": [
        "C = np.random.rand(2,3,5,2,4,9)"
      ],
      "metadata": {
        "id": "KA6aVV43B-6c"
      },
      "execution_count": 87,
      "outputs": []
    },
    {
      "cell_type": "code",
      "source": [
        "C.ndim"
      ],
      "metadata": {
        "colab": {
          "base_uri": "https://localhost:8080/"
        },
        "id": "80UWu_HICG2n",
        "outputId": "2eaf175f-09b3-42a2-8466-b66ca9f82c0f"
      },
      "execution_count": 88,
      "outputs": [
        {
          "output_type": "execute_result",
          "data": {
            "text/plain": [
              "6"
            ]
          },
          "metadata": {},
          "execution_count": 88
        }
      ]
    },
    {
      "cell_type": "code",
      "source": [
        "C\n"
      ],
      "metadata": {
        "colab": {
          "base_uri": "https://localhost:8080/"
        },
        "id": "7jqikXD2CH_B",
        "outputId": "d486e945-79af-444b-d529-daa526fb357a"
      },
      "execution_count": 89,
      "outputs": [
        {
          "output_type": "execute_result",
          "data": {
            "text/plain": [
              "array([[[[[[1.55799005e-01, 7.17870766e-01, 6.77161968e-01, ...,\n",
              "            2.61303155e-01, 8.11717707e-01, 5.24261146e-01],\n",
              "           [6.29195479e-01, 4.77524339e-01, 3.79452945e-01, ...,\n",
              "            1.51721946e-01, 9.77575454e-01, 1.78087891e-01],\n",
              "           [1.20836869e-01, 4.04650011e-01, 1.71671478e-01, ...,\n",
              "            2.73185122e-01, 9.49405705e-01, 6.50496370e-01],\n",
              "           [3.58782172e-01, 6.10412470e-01, 5.27698673e-01, ...,\n",
              "            9.00271137e-01, 2.05934757e-01, 5.67962831e-01]],\n",
              "\n",
              "          [[5.33740557e-02, 8.91517486e-01, 4.68849514e-02, ...,\n",
              "            6.34353566e-01, 8.11661718e-02, 5.43200197e-02],\n",
              "           [9.60787465e-01, 1.60101432e-01, 6.30852212e-01, ...,\n",
              "            4.97317043e-01, 3.14795739e-01, 8.76366357e-01],\n",
              "           [2.60675940e-01, 6.41207258e-01, 7.05856770e-01, ...,\n",
              "            3.78990515e-01, 8.58930320e-01, 9.11017998e-01],\n",
              "           [5.65588553e-01, 2.36300100e-01, 3.74659485e-01, ...,\n",
              "            5.05968051e-01, 6.09358497e-01, 5.28282762e-01]]],\n",
              "\n",
              "\n",
              "         [[[4.88795242e-01, 5.19319312e-01, 7.29391132e-01, ...,\n",
              "            9.10225760e-01, 4.38386791e-01, 1.56908762e-01],\n",
              "           [9.31020545e-01, 5.76976458e-02, 8.68104511e-01, ...,\n",
              "            6.75177302e-01, 2.13241147e-01, 9.10312959e-01],\n",
              "           [9.78079933e-01, 1.25725102e-01, 1.83037855e-01, ...,\n",
              "            7.83625386e-01, 6.68398395e-01, 8.96396090e-01],\n",
              "           [5.25821399e-01, 9.85052319e-01, 3.24572656e-01, ...,\n",
              "            2.67658714e-02, 7.93636457e-01, 5.99427237e-01]],\n",
              "\n",
              "          [[9.42463507e-01, 3.49657344e-01, 5.00564868e-01, ...,\n",
              "            5.89981332e-02, 3.04859251e-02, 7.63479519e-01],\n",
              "           [8.25539726e-01, 1.30049228e-01, 2.20969237e-01, ...,\n",
              "            6.65213968e-01, 1.11429429e-01, 6.33905880e-01],\n",
              "           [2.84318217e-01, 5.10594708e-01, 7.45420070e-01, ...,\n",
              "            5.49965168e-01, 4.15296045e-01, 8.60072142e-02],\n",
              "           [8.15098963e-01, 7.14013148e-01, 5.39229643e-01, ...,\n",
              "            5.77082731e-01, 5.59220530e-01, 2.22246488e-01]]],\n",
              "\n",
              "\n",
              "         [[[6.34275654e-01, 1.71668187e-01, 3.11564252e-01, ...,\n",
              "            3.00248783e-01, 4.50799248e-01, 7.19382355e-01],\n",
              "           [2.13279243e-02, 4.81823684e-01, 4.88018345e-01, ...,\n",
              "            3.45466217e-02, 5.43382786e-01, 9.92611921e-02],\n",
              "           [7.69223595e-01, 9.25668031e-01, 9.30813686e-01, ...,\n",
              "            6.81364844e-01, 4.03635819e-01, 5.68326641e-02],\n",
              "           [2.87369322e-01, 7.59518626e-01, 7.72105192e-01, ...,\n",
              "            2.45839352e-01, 6.50262687e-01, 3.40061799e-01]],\n",
              "\n",
              "          [[9.84585175e-01, 5.13640601e-01, 9.27104737e-01, ...,\n",
              "            4.30196163e-01, 1.90473530e-01, 3.77194184e-01],\n",
              "           [2.85668379e-01, 6.90922529e-01, 1.29437855e-01, ...,\n",
              "            6.17113420e-01, 5.25537767e-01, 5.46064131e-01],\n",
              "           [2.82036832e-01, 6.00600822e-01, 5.97771064e-01, ...,\n",
              "            4.69468466e-01, 2.52680585e-01, 3.01624960e-01],\n",
              "           [9.06544432e-01, 2.55035980e-01, 5.23151880e-01, ...,\n",
              "            1.57230561e-01, 1.01266790e-01, 4.71898201e-01]]],\n",
              "\n",
              "\n",
              "         [[[2.10208955e-01, 1.51915744e-01, 1.44784713e-01, ...,\n",
              "            6.30125909e-01, 9.54504719e-02, 6.02373228e-02],\n",
              "           [2.18189093e-01, 9.19787397e-01, 6.66686424e-01, ...,\n",
              "            1.93555767e-01, 7.73474035e-01, 7.37392119e-01],\n",
              "           [9.21208811e-01, 7.39537944e-01, 2.58550495e-01, ...,\n",
              "            1.15637594e-01, 1.00003794e-01, 5.34733605e-01],\n",
              "           [7.97145943e-01, 3.24202430e-01, 8.48165606e-01, ...,\n",
              "            2.75284053e-01, 7.08897250e-01, 6.74189101e-01]],\n",
              "\n",
              "          [[6.32931493e-01, 7.57437808e-01, 4.63546646e-01, ...,\n",
              "            1.89550445e-01, 5.10890138e-01, 5.56653361e-01],\n",
              "           [7.14568945e-01, 7.06482347e-01, 2.28235403e-01, ...,\n",
              "            8.11531107e-01, 7.18376324e-01, 2.20640843e-02],\n",
              "           [1.04359821e-01, 2.94664543e-01, 2.33332671e-01, ...,\n",
              "            6.72377263e-01, 8.86254319e-01, 7.46089438e-01],\n",
              "           [9.88041938e-01, 9.14283777e-01, 5.94997822e-01, ...,\n",
              "            5.57028336e-01, 7.59173609e-01, 9.39793004e-01]]],\n",
              "\n",
              "\n",
              "         [[[1.63499273e-01, 9.86375955e-01, 4.39395130e-01, ...,\n",
              "            2.75621702e-01, 3.29766791e-01, 5.05706327e-01],\n",
              "           [1.34197267e-01, 4.45803870e-02, 5.87808508e-01, ...,\n",
              "            4.58769987e-01, 2.32859837e-01, 3.50024360e-01],\n",
              "           [6.01320508e-01, 7.32513193e-01, 8.99760667e-01, ...,\n",
              "            8.74485857e-01, 4.96043617e-01, 2.22224068e-01],\n",
              "           [6.00914018e-01, 8.94194494e-01, 9.61583783e-01, ...,\n",
              "            8.17830259e-01, 1.76301705e-01, 4.50128438e-01]],\n",
              "\n",
              "          [[6.42428639e-01, 3.86766112e-01, 2.15261153e-01, ...,\n",
              "            6.31773649e-01, 7.42256795e-01, 4.98617396e-01],\n",
              "           [9.79736117e-01, 7.04126315e-01, 2.51003179e-01, ...,\n",
              "            5.22785159e-01, 8.51078626e-01, 4.60257049e-01],\n",
              "           [2.06349499e-01, 8.25725202e-01, 2.91914212e-01, ...,\n",
              "            7.27378615e-01, 1.22928717e-01, 5.64536231e-01],\n",
              "           [7.54593547e-01, 4.78896276e-01, 5.89929212e-01, ...,\n",
              "            6.89179432e-01, 6.70969306e-01, 8.17150370e-02]]]],\n",
              "\n",
              "\n",
              "\n",
              "        [[[[7.31945697e-01, 9.71068840e-01, 6.13216392e-01, ...,\n",
              "            7.16311007e-02, 8.64551195e-01, 3.79026939e-01],\n",
              "           [7.78201923e-01, 4.14234479e-01, 1.41990811e-01, ...,\n",
              "            7.56009688e-01, 5.88264769e-01, 2.81396187e-01],\n",
              "           [5.16170792e-01, 1.99037298e-01, 6.39921737e-01, ...,\n",
              "            7.22679002e-01, 1.00943377e-01, 9.45592837e-01],\n",
              "           [7.85736613e-01, 5.37853892e-01, 7.89858409e-01, ...,\n",
              "            5.90373323e-01, 9.34156632e-02, 4.42104154e-01]],\n",
              "\n",
              "          [[2.93562993e-02, 1.39308327e-01, 5.47023631e-01, ...,\n",
              "            5.95687013e-01, 7.71930728e-01, 9.14010871e-01],\n",
              "           [1.96626662e-01, 4.59211900e-01, 1.17859616e-01, ...,\n",
              "            3.49318406e-01, 8.79703895e-01, 6.20075415e-01],\n",
              "           [9.36949556e-01, 4.57634119e-01, 7.97117039e-01, ...,\n",
              "            3.45511983e-01, 6.20792361e-01, 5.75410526e-02],\n",
              "           [7.57139635e-01, 5.53440469e-01, 7.30346535e-01, ...,\n",
              "            5.29428724e-02, 9.06751144e-01, 6.24510530e-01]]],\n",
              "\n",
              "\n",
              "         [[[2.88040035e-01, 3.94171981e-02, 9.35807508e-01, ...,\n",
              "            5.88623212e-01, 7.52427996e-01, 4.51542828e-01],\n",
              "           [5.51442008e-01, 3.64548410e-01, 1.91490489e-01, ...,\n",
              "            9.60047515e-02, 1.80837110e-01, 8.20858505e-01],\n",
              "           [6.08289524e-01, 5.70804446e-01, 8.56886442e-01, ...,\n",
              "            3.14930129e-01, 4.54917344e-01, 6.80520424e-01],\n",
              "           [3.46496676e-03, 1.94645248e-01, 8.97218333e-01, ...,\n",
              "            9.88767677e-01, 8.45984657e-01, 1.32538735e-01]],\n",
              "\n",
              "          [[6.09934906e-01, 5.97939387e-01, 9.59129159e-02, ...,\n",
              "            9.23135438e-01, 5.55760887e-02, 9.92303884e-01],\n",
              "           [7.25191061e-01, 7.47013537e-01, 2.44266926e-01, ...,\n",
              "            6.49322455e-01, 7.13248094e-03, 5.83310169e-01],\n",
              "           [7.54827588e-01, 4.15453400e-01, 9.23582645e-01, ...,\n",
              "            4.81649410e-01, 1.00455045e-01, 2.63734458e-01],\n",
              "           [3.50937833e-02, 6.14107721e-01, 3.51121152e-01, ...,\n",
              "            3.77063264e-01, 7.79750965e-01, 2.23636461e-01]]],\n",
              "\n",
              "\n",
              "         [[[4.85688843e-01, 9.43056114e-01, 8.44562542e-01, ...,\n",
              "            7.96016147e-01, 3.88175486e-01, 7.13039431e-01],\n",
              "           [7.69927718e-01, 7.32678655e-01, 5.44293207e-01, ...,\n",
              "            5.09243438e-01, 1.42125340e-01, 7.41106223e-01],\n",
              "           [1.57353559e-01, 2.83872728e-01, 6.13762026e-01, ...,\n",
              "            7.87780868e-01, 1.98852398e-01, 6.69371155e-02],\n",
              "           [5.83647452e-01, 2.98161832e-01, 2.33792934e-01, ...,\n",
              "            6.55753216e-01, 3.37818357e-01, 1.45070070e-01]],\n",
              "\n",
              "          [[9.25372469e-01, 4.56506741e-01, 2.92318973e-01, ...,\n",
              "            7.23758931e-01, 4.38837910e-02, 1.73306834e-02],\n",
              "           [3.76407516e-01, 9.87317054e-01, 6.29575453e-01, ...,\n",
              "            4.71881920e-02, 5.63961546e-01, 1.96118791e-01],\n",
              "           [3.99309317e-01, 4.79457819e-01, 5.98576085e-01, ...,\n",
              "            7.51590268e-01, 8.96961730e-02, 4.88503182e-01],\n",
              "           [3.29562799e-01, 3.57673387e-01, 6.99677524e-01, ...,\n",
              "            3.28073905e-01, 4.89869745e-01, 7.43143277e-01]]],\n",
              "\n",
              "\n",
              "         [[[7.53575534e-01, 4.75738165e-01, 7.81047014e-02, ...,\n",
              "            2.05039992e-01, 9.19334028e-01, 7.54969174e-01],\n",
              "           [2.89284669e-01, 1.02096250e-01, 2.75845480e-01, ...,\n",
              "            4.58104659e-02, 1.43849076e-01, 6.79551788e-01],\n",
              "           [1.47263620e-01, 5.01202708e-01, 3.63453045e-01, ...,\n",
              "            8.50728993e-02, 7.06721596e-03, 9.43380159e-01],\n",
              "           [2.50838465e-01, 3.42002834e-01, 7.70970212e-01, ...,\n",
              "            8.90927527e-01, 9.07842215e-01, 8.55018577e-01]],\n",
              "\n",
              "          [[6.34577034e-01, 6.69595481e-01, 2.62587231e-01, ...,\n",
              "            4.07032647e-01, 9.75528623e-01, 3.68899099e-01],\n",
              "           [6.07163355e-01, 3.28546553e-02, 3.23172489e-01, ...,\n",
              "            9.76763186e-01, 8.97178165e-01, 6.35910414e-01],\n",
              "           [5.32409453e-01, 2.21127745e-01, 1.73766524e-01, ...,\n",
              "            8.49435276e-01, 9.88425626e-01, 2.05138508e-01],\n",
              "           [7.86382189e-01, 5.09171889e-01, 4.66447246e-01, ...,\n",
              "            8.93550849e-01, 5.87144298e-01, 9.79333840e-02]]],\n",
              "\n",
              "\n",
              "         [[[1.48625813e-01, 3.94306107e-01, 7.38459417e-01, ...,\n",
              "            1.40106733e-01, 5.35589877e-01, 4.67807002e-01],\n",
              "           [2.33801457e-01, 1.40289960e-01, 6.09308799e-01, ...,\n",
              "            9.65991689e-01, 3.38006523e-01, 2.59858768e-01],\n",
              "           [7.88628552e-01, 6.40958365e-01, 9.45840329e-01, ...,\n",
              "            1.27936349e-02, 5.54136559e-01, 3.77259509e-01],\n",
              "           [7.14660420e-01, 9.52956898e-01, 8.99865748e-02, ...,\n",
              "            5.96933617e-01, 2.11292956e-01, 1.06299982e-01]],\n",
              "\n",
              "          [[5.19350390e-01, 3.07302833e-01, 3.75498917e-02, ...,\n",
              "            3.77956358e-01, 3.02191459e-01, 9.86575468e-01],\n",
              "           [7.83565824e-01, 3.07886546e-01, 9.26522045e-01, ...,\n",
              "            8.95847108e-01, 4.16036395e-01, 8.46377731e-01],\n",
              "           [9.13109227e-01, 3.11989540e-01, 1.35805884e-01, ...,\n",
              "            3.45236863e-02, 2.13499775e-01, 9.07157133e-01],\n",
              "           [6.43149831e-01, 6.31031930e-01, 9.83791164e-01, ...,\n",
              "            8.31965095e-01, 1.27873045e-01, 1.87122969e-01]]]],\n",
              "\n",
              "\n",
              "\n",
              "        [[[[9.85478029e-01, 5.04003706e-02, 8.00691532e-01, ...,\n",
              "            1.35559767e-01, 5.76423077e-01, 9.53854864e-01],\n",
              "           [4.09711276e-01, 3.19712383e-01, 7.10246481e-01, ...,\n",
              "            6.71965611e-01, 9.54762721e-01, 4.85381509e-01],\n",
              "           [6.47788203e-01, 2.12058547e-01, 8.83103897e-01, ...,\n",
              "            3.63384364e-01, 6.69643862e-01, 3.00581188e-01],\n",
              "           [1.70847038e-01, 2.37005451e-01, 3.62512319e-01, ...,\n",
              "            6.78782258e-02, 8.55470644e-01, 4.65774808e-01]],\n",
              "\n",
              "          [[4.20030334e-01, 7.72510620e-01, 8.76707906e-01, ...,\n",
              "            1.05219905e-01, 8.91739025e-01, 5.82010022e-01],\n",
              "           [8.31996255e-01, 2.38827625e-01, 9.60156431e-01, ...,\n",
              "            9.68586295e-01, 8.43285852e-01, 4.50044959e-01],\n",
              "           [7.20824210e-01, 4.79019274e-01, 6.08050245e-01, ...,\n",
              "            7.60532255e-01, 3.73420726e-01, 4.33544642e-01],\n",
              "           [5.94433529e-01, 6.39899158e-01, 8.14859492e-01, ...,\n",
              "            5.66482860e-01, 5.78170738e-01, 5.02335520e-01]]],\n",
              "\n",
              "\n",
              "         [[[8.60279651e-01, 7.31031206e-01, 3.73610080e-01, ...,\n",
              "            8.66955051e-03, 4.57715069e-01, 8.53818840e-01],\n",
              "           [5.41863653e-01, 9.12425341e-01, 1.20698487e-01, ...,\n",
              "            2.01100928e-01, 5.53539897e-01, 9.57179457e-01],\n",
              "           [5.28317411e-02, 1.00207511e-01, 2.86631419e-01, ...,\n",
              "            8.46394728e-01, 5.58235249e-01, 5.70461399e-01],\n",
              "           [4.19062860e-01, 7.17925740e-01, 7.42065517e-02, ...,\n",
              "            1.81341564e-02, 1.83004310e-02, 8.41560178e-01]],\n",
              "\n",
              "          [[6.49612049e-01, 3.97059292e-01, 1.47998168e-01, ...,\n",
              "            2.56948484e-01, 2.27657347e-01, 7.83033288e-01],\n",
              "           [4.56102385e-02, 6.49131775e-01, 6.89181307e-01, ...,\n",
              "            4.12787797e-01, 1.14107291e-01, 5.94339302e-01],\n",
              "           [5.26084803e-01, 5.69529328e-01, 7.14100149e-01, ...,\n",
              "            4.11872774e-01, 5.27381809e-01, 7.68673976e-01],\n",
              "           [7.79574453e-05, 6.39040873e-01, 5.82166879e-01, ...,\n",
              "            7.28659641e-01, 3.73736643e-02, 9.38042143e-01]]],\n",
              "\n",
              "\n",
              "         [[[2.12386883e-01, 1.05905901e-01, 3.95601008e-01, ...,\n",
              "            1.34091213e-01, 4.48300446e-01, 9.43462593e-02],\n",
              "           [7.27619878e-01, 8.54678461e-01, 7.97009967e-01, ...,\n",
              "            1.36145843e-03, 5.00799189e-01, 2.02764022e-01],\n",
              "           [7.08298673e-02, 7.96355195e-01, 2.29133917e-01, ...,\n",
              "            1.35334398e-01, 1.11818984e-02, 1.34371643e-01],\n",
              "           [1.51339332e-01, 1.80110795e-01, 6.04726393e-01, ...,\n",
              "            6.89823305e-01, 2.74462657e-01, 3.97781531e-01]],\n",
              "\n",
              "          [[5.67665672e-01, 4.78400910e-01, 4.50711131e-01, ...,\n",
              "            1.30821977e-01, 3.45070431e-01, 7.38756560e-01],\n",
              "           [9.71391738e-01, 8.34448925e-02, 3.62664069e-01, ...,\n",
              "            5.96019502e-01, 6.10686920e-01, 4.56630002e-01],\n",
              "           [8.88334999e-01, 4.04013054e-01, 2.03254152e-02, ...,\n",
              "            3.48176632e-01, 6.30055105e-01, 5.94662482e-01],\n",
              "           [5.76734040e-01, 2.92033954e-02, 6.64703471e-01, ...,\n",
              "            7.41688912e-01, 9.95687288e-01, 3.66174257e-01]]],\n",
              "\n",
              "\n",
              "         [[[4.64329443e-01, 5.01420351e-01, 1.57161482e-01, ...,\n",
              "            2.71603306e-01, 7.50800511e-01, 9.03227182e-01],\n",
              "           [6.53075060e-01, 9.22657118e-01, 4.58694014e-01, ...,\n",
              "            8.70748507e-01, 7.14367949e-01, 4.93619939e-01],\n",
              "           [1.39353062e-01, 9.83082403e-01, 5.17221108e-02, ...,\n",
              "            9.20412108e-02, 9.42459787e-01, 1.43982101e-01],\n",
              "           [4.89212016e-01, 9.48868847e-01, 9.71455282e-02, ...,\n",
              "            2.52616104e-01, 5.85845040e-01, 9.05974361e-01]],\n",
              "\n",
              "          [[8.83191860e-01, 1.14635029e-01, 4.24295934e-01, ...,\n",
              "            5.58642088e-01, 8.41254771e-03, 5.84775485e-01],\n",
              "           [1.03814864e-02, 7.11385977e-01, 5.18619765e-01, ...,\n",
              "            2.48807973e-01, 7.81309686e-02, 7.80701832e-01],\n",
              "           [3.26202026e-01, 6.89661905e-01, 4.76158726e-01, ...,\n",
              "            9.58699312e-01, 1.61495512e-01, 6.19789041e-01],\n",
              "           [9.05948548e-01, 5.27632574e-01, 6.57538294e-02, ...,\n",
              "            1.91747885e-01, 1.79747310e-01, 4.42043709e-01]]],\n",
              "\n",
              "\n",
              "         [[[8.29211179e-01, 6.59269349e-01, 1.55543336e-01, ...,\n",
              "            1.14303095e-01, 8.57164051e-01, 6.70890443e-01],\n",
              "           [9.71595482e-01, 2.21941949e-02, 4.24587677e-01, ...,\n",
              "            4.58227421e-01, 4.24501267e-01, 3.83779452e-01],\n",
              "           [5.43418012e-01, 7.40793460e-02, 8.66230112e-01, ...,\n",
              "            1.72065669e-02, 7.93485295e-01, 4.75630630e-01],\n",
              "           [4.50125421e-01, 4.24660691e-01, 8.34043576e-01, ...,\n",
              "            9.13002258e-01, 8.36014123e-01, 1.82142327e-01]],\n",
              "\n",
              "          [[9.40261961e-01, 8.23746706e-01, 6.07115365e-01, ...,\n",
              "            1.99671976e-02, 2.41079996e-01, 6.96890694e-01],\n",
              "           [2.99391908e-01, 2.79292164e-01, 5.60001971e-01, ...,\n",
              "            3.98382246e-02, 8.98162538e-01, 3.45575454e-01],\n",
              "           [7.82954634e-01, 8.25578109e-01, 7.53302910e-01, ...,\n",
              "            1.81514836e-01, 1.65089399e-01, 6.73583326e-01],\n",
              "           [5.14335169e-02, 2.94538238e-01, 6.15181540e-01, ...,\n",
              "            4.75519631e-01, 2.21668273e-01, 9.50274563e-02]]]]],\n",
              "\n",
              "\n",
              "\n",
              "\n",
              "       [[[[[1.59295000e-01, 7.55794487e-01, 4.86663873e-01, ...,\n",
              "            8.90410922e-01, 1.06051560e-01, 6.85028297e-01],\n",
              "           [5.29448778e-01, 2.84388138e-01, 1.72078939e-01, ...,\n",
              "            6.40636178e-01, 9.13605957e-01, 4.92540928e-01],\n",
              "           [2.09561947e-01, 7.41142825e-01, 3.28680384e-01, ...,\n",
              "            3.57489436e-01, 5.39984096e-01, 5.92436375e-01],\n",
              "           [4.55476020e-01, 2.90884110e-01, 7.95224343e-01, ...,\n",
              "            4.91357666e-01, 6.71793317e-01, 6.55063046e-01]],\n",
              "\n",
              "          [[4.43264113e-01, 9.28509345e-01, 3.01353557e-01, ...,\n",
              "            8.74989443e-01, 3.69188183e-01, 9.99364210e-01],\n",
              "           [2.98825384e-01, 2.84993367e-01, 3.86293491e-01, ...,\n",
              "            8.71085003e-01, 4.51699991e-01, 6.45961774e-01],\n",
              "           [8.55139471e-01, 1.43470490e-01, 4.63724847e-01, ...,\n",
              "            9.47809540e-02, 4.95652486e-01, 2.50598528e-01],\n",
              "           [9.15748526e-01, 1.78266605e-01, 6.58408285e-01, ...,\n",
              "            6.53433590e-01, 8.97478890e-01, 6.01237488e-01]]],\n",
              "\n",
              "\n",
              "         [[[6.71065916e-01, 2.87090842e-01, 9.43061003e-01, ...,\n",
              "            5.44031161e-01, 3.84121090e-01, 1.38488376e-01],\n",
              "           [9.98262169e-01, 2.76750301e-01, 6.39750110e-01, ...,\n",
              "            4.11790567e-01, 7.71662710e-01, 8.68250617e-01],\n",
              "           [7.56207508e-01, 1.50255652e-01, 6.69939718e-01, ...,\n",
              "            6.89744797e-01, 2.60095153e-01, 8.68791848e-01],\n",
              "           [6.01230066e-03, 6.33677780e-01, 6.98983883e-01, ...,\n",
              "            9.33430510e-01, 9.80713277e-01, 3.05859819e-01]],\n",
              "\n",
              "          [[1.57649757e-01, 4.30422762e-01, 5.32169622e-01, ...,\n",
              "            9.42616866e-01, 6.56508014e-01, 3.90716742e-01],\n",
              "           [6.48005615e-01, 9.09795412e-01, 7.57621890e-01, ...,\n",
              "            4.49381451e-01, 6.87341076e-01, 5.44578917e-02],\n",
              "           [9.06241933e-01, 3.10754557e-01, 2.35701840e-01, ...,\n",
              "            2.87353188e-01, 8.53561329e-01, 2.93446608e-02],\n",
              "           [7.40868714e-01, 7.71775475e-02, 9.98727525e-01, ...,\n",
              "            7.98431658e-01, 5.17616440e-02, 8.46116064e-01]]],\n",
              "\n",
              "\n",
              "         [[[9.20691684e-01, 2.55121229e-01, 4.17388185e-01, ...,\n",
              "            9.71075329e-01, 3.63775312e-01, 7.15411816e-01],\n",
              "           [5.41264519e-01, 1.49492002e-01, 5.32868015e-02, ...,\n",
              "            5.99609949e-01, 9.64210191e-01, 7.14403034e-01],\n",
              "           [4.09995558e-01, 3.27206744e-01, 1.60618983e-01, ...,\n",
              "            3.06793649e-01, 3.90557540e-02, 6.87826010e-01],\n",
              "           [1.98251180e-01, 2.51694238e-01, 5.99428625e-02, ...,\n",
              "            8.71979798e-01, 3.88054076e-01, 3.88843568e-01]],\n",
              "\n",
              "          [[3.79062241e-01, 3.94417247e-02, 5.74036639e-01, ...,\n",
              "            2.10696043e-01, 6.26055458e-01, 7.33420061e-01],\n",
              "           [6.50476989e-02, 7.82318487e-01, 8.13039750e-01, ...,\n",
              "            7.33048663e-01, 5.26924885e-01, 3.03002264e-01],\n",
              "           [7.15981407e-01, 4.79501131e-01, 6.78089726e-01, ...,\n",
              "            3.01329507e-01, 8.03698412e-01, 1.60240790e-01],\n",
              "           [3.27705059e-01, 6.39401541e-01, 6.86565326e-02, ...,\n",
              "            2.94812546e-01, 5.95515532e-01, 4.27983955e-01]]],\n",
              "\n",
              "\n",
              "         [[[2.65955531e-01, 6.36828786e-01, 9.46311332e-01, ...,\n",
              "            9.26915453e-01, 5.37302168e-01, 9.53746711e-01],\n",
              "           [9.64808984e-01, 1.63080791e-01, 1.84718835e-02, ...,\n",
              "            1.03752929e-01, 3.45016817e-01, 9.88240834e-01],\n",
              "           [4.90378902e-01, 8.24451449e-02, 5.94564078e-01, ...,\n",
              "            4.20571914e-01, 7.64024332e-01, 2.51741650e-02],\n",
              "           [5.60518047e-01, 2.59791030e-01, 4.58269696e-01, ...,\n",
              "            7.03819861e-01, 4.86244564e-01, 5.23822502e-01]],\n",
              "\n",
              "          [[3.61383824e-01, 7.69424080e-01, 6.27169796e-01, ...,\n",
              "            7.62476452e-01, 2.39429529e-01, 8.25524039e-01],\n",
              "           [9.64682865e-01, 5.35490989e-01, 7.94432232e-01, ...,\n",
              "            1.25633426e-02, 2.28763129e-02, 2.78696389e-01],\n",
              "           [8.53267432e-01, 8.37360246e-01, 9.62659262e-01, ...,\n",
              "            8.81701738e-01, 4.23645528e-01, 4.35068287e-01],\n",
              "           [3.25142695e-01, 4.66999876e-01, 4.58615209e-01, ...,\n",
              "            3.14885934e-01, 8.02788131e-01, 9.28856686e-01]]],\n",
              "\n",
              "\n",
              "         [[[4.71594755e-01, 5.43420971e-01, 5.34040024e-01, ...,\n",
              "            1.60245731e-01, 7.42561851e-01, 9.23632867e-01],\n",
              "           [9.99081601e-02, 7.81500615e-01, 5.58086297e-01, ...,\n",
              "            9.15494783e-01, 8.94966147e-01, 2.34458605e-01],\n",
              "           [8.67148352e-01, 7.28141617e-01, 9.68813256e-01, ...,\n",
              "            9.91407557e-01, 3.25435121e-01, 2.78546578e-01],\n",
              "           [5.53044280e-01, 1.51974209e-01, 2.49803510e-01, ...,\n",
              "            2.66503252e-01, 8.17065222e-02, 6.10963389e-01]],\n",
              "\n",
              "          [[5.72274077e-02, 4.63930213e-01, 9.32495540e-01, ...,\n",
              "            4.66541337e-01, 2.33111016e-01, 3.73873433e-01],\n",
              "           [7.04242190e-01, 7.57797194e-01, 9.41926358e-01, ...,\n",
              "            4.97683379e-01, 9.04924948e-01, 8.26882185e-01],\n",
              "           [2.23239897e-01, 8.23354332e-01, 8.20685780e-02, ...,\n",
              "            8.09239361e-02, 4.98393091e-01, 7.56291418e-01],\n",
              "           [8.81926763e-01, 2.66360338e-02, 8.44378890e-01, ...,\n",
              "            9.50860712e-01, 4.21818582e-01, 8.51682541e-01]]]],\n",
              "\n",
              "\n",
              "\n",
              "        [[[[2.47639910e-02, 8.75579333e-01, 3.43362549e-01, ...,\n",
              "            3.95594055e-02, 4.11738024e-01, 7.53816131e-01],\n",
              "           [9.07824324e-01, 7.00384058e-01, 3.92386478e-01, ...,\n",
              "            4.85949533e-01, 2.14116875e-01, 6.39969311e-02],\n",
              "           [6.34364511e-01, 1.99363308e-01, 7.57817172e-01, ...,\n",
              "            4.16614947e-01, 2.67323492e-01, 7.82677190e-01],\n",
              "           [8.32377888e-01, 7.18347919e-01, 4.98481714e-01, ...,\n",
              "            7.85002874e-01, 8.51454917e-01, 1.06255643e-01]],\n",
              "\n",
              "          [[9.01110554e-01, 9.08892237e-01, 8.18492809e-01, ...,\n",
              "            2.66317580e-01, 1.25451767e-01, 5.73598516e-01],\n",
              "           [3.37358013e-01, 7.97959497e-01, 2.80545659e-01, ...,\n",
              "            6.45268128e-01, 1.01652599e-01, 2.00460487e-03],\n",
              "           [1.99484989e-01, 5.06143636e-01, 4.90268462e-01, ...,\n",
              "            4.09205524e-01, 9.61072354e-01, 1.09014613e-01],\n",
              "           [6.27060701e-01, 9.07908083e-01, 8.94588146e-02, ...,\n",
              "            1.27102892e-01, 1.98427663e-01, 7.75441227e-01]]],\n",
              "\n",
              "\n",
              "         [[[9.92588914e-01, 7.56361010e-01, 2.40428125e-01, ...,\n",
              "            9.75540540e-01, 7.25325569e-01, 6.55736929e-01],\n",
              "           [5.93421300e-01, 4.06266235e-01, 7.37059194e-01, ...,\n",
              "            1.27724610e-01, 1.01551904e-01, 1.75660298e-01],\n",
              "           [3.07632155e-01, 4.23934942e-01, 7.18370469e-01, ...,\n",
              "            9.99388470e-01, 1.51373927e-01, 7.34894700e-01],\n",
              "           [6.80618339e-01, 9.75245187e-01, 2.09577498e-01, ...,\n",
              "            5.08120468e-01, 5.82819538e-01, 3.35812892e-01]],\n",
              "\n",
              "          [[9.30939688e-01, 3.52611414e-01, 4.78897462e-01, ...,\n",
              "            5.16902698e-01, 5.71524106e-02, 3.53202522e-01],\n",
              "           [9.18611759e-01, 5.59293444e-01, 2.02166608e-01, ...,\n",
              "            3.85827171e-01, 8.85149640e-01, 1.62241620e-01],\n",
              "           [4.59858882e-01, 8.86802598e-01, 7.60826812e-01, ...,\n",
              "            3.37309539e-01, 7.55543326e-01, 1.56483766e-01],\n",
              "           [9.24158414e-01, 2.55989889e-01, 9.79879326e-01, ...,\n",
              "            2.06945854e-01, 7.16727408e-01, 7.54233087e-01]]],\n",
              "\n",
              "\n",
              "         [[[7.25492401e-02, 5.03135885e-01, 3.25801326e-01, ...,\n",
              "            9.31148735e-01, 1.62923265e-02, 3.63851331e-01],\n",
              "           [6.04143458e-01, 9.00595607e-01, 9.07443980e-01, ...,\n",
              "            1.39900715e-02, 6.32037738e-01, 1.42895245e-01],\n",
              "           [4.91607366e-01, 7.99191720e-01, 3.91183768e-01, ...,\n",
              "            9.13553755e-01, 3.80327559e-01, 5.60714687e-01],\n",
              "           [3.30989206e-01, 2.30013951e-01, 7.41696200e-01, ...,\n",
              "            7.84152247e-01, 8.68389416e-01, 1.99295316e-01]],\n",
              "\n",
              "          [[1.77918342e-01, 6.41795854e-01, 1.87803377e-01, ...,\n",
              "            8.38433831e-01, 2.09125786e-01, 9.68397343e-01],\n",
              "           [6.00700016e-01, 3.90264481e-01, 1.60338325e-01, ...,\n",
              "            4.62336306e-01, 1.76244576e-01, 4.94948139e-01],\n",
              "           [6.57766221e-01, 5.90817713e-01, 9.22995570e-01, ...,\n",
              "            2.64071470e-01, 3.12805021e-01, 1.44060716e-01],\n",
              "           [9.61330051e-01, 3.39186345e-01, 6.05222084e-01, ...,\n",
              "            8.69112489e-01, 4.80099787e-01, 2.75857730e-01]]],\n",
              "\n",
              "\n",
              "         [[[5.79157564e-01, 1.81443078e-01, 2.78675538e-01, ...,\n",
              "            6.27152811e-01, 9.32495268e-01, 8.34747536e-02],\n",
              "           [8.91318266e-01, 7.19084086e-01, 6.95447455e-01, ...,\n",
              "            9.78631217e-02, 2.03385164e-01, 6.69575252e-01],\n",
              "           [8.31594391e-01, 3.18583899e-01, 1.00794105e-01, ...,\n",
              "            7.75200439e-01, 4.24933251e-01, 6.26253759e-01],\n",
              "           [1.41155126e-01, 4.03955770e-01, 5.09281831e-01, ...,\n",
              "            5.85718629e-01, 9.66337073e-01, 6.19878036e-01]],\n",
              "\n",
              "          [[7.58102349e-01, 7.41766836e-01, 2.37460585e-01, ...,\n",
              "            1.01137243e-01, 4.53800499e-01, 4.64794077e-01],\n",
              "           [5.07246935e-01, 2.40062371e-01, 5.70764480e-01, ...,\n",
              "            9.37386928e-01, 1.64444994e-01, 2.67038295e-01],\n",
              "           [3.62712391e-02, 4.67817806e-01, 3.90497237e-01, ...,\n",
              "            2.61126983e-01, 4.97753270e-01, 4.27408803e-02],\n",
              "           [9.87199107e-01, 6.14943823e-01, 4.42517787e-01, ...,\n",
              "            8.95124659e-01, 2.76578791e-01, 9.28754419e-01]]],\n",
              "\n",
              "\n",
              "         [[[7.20964049e-01, 1.77865124e-01, 1.56082894e-02, ...,\n",
              "            6.20798355e-01, 6.71057908e-01, 1.24689464e-01],\n",
              "           [3.44956096e-01, 4.78720624e-01, 3.97346854e-01, ...,\n",
              "            9.02486655e-01, 5.82698883e-01, 5.96458212e-03],\n",
              "           [1.45314960e-01, 9.54103703e-01, 8.55972711e-02, ...,\n",
              "            4.33060933e-01, 3.28920660e-01, 8.51751859e-01],\n",
              "           [4.28786407e-01, 2.92643727e-01, 4.40836122e-01, ...,\n",
              "            4.09633175e-01, 2.36344977e-02, 7.29620806e-02]],\n",
              "\n",
              "          [[3.10272094e-01, 5.79354685e-01, 4.03796020e-01, ...,\n",
              "            2.12639202e-01, 6.90358003e-01, 7.53133172e-03],\n",
              "           [3.30568136e-01, 5.82890834e-01, 4.90758652e-01, ...,\n",
              "            7.28958163e-01, 8.45721353e-01, 1.78442040e-01],\n",
              "           [2.81733362e-01, 4.13493401e-02, 2.23584934e-01, ...,\n",
              "            8.30035096e-01, 2.60677369e-01, 1.21734635e-01],\n",
              "           [8.67240973e-01, 1.17378331e-01, 4.57999911e-01, ...,\n",
              "            2.80592141e-01, 2.61016043e-01, 7.34852192e-01]]]],\n",
              "\n",
              "\n",
              "\n",
              "        [[[[1.99410438e-01, 9.18157863e-01, 2.52614429e-01, ...,\n",
              "            1.26279381e-01, 4.17267501e-01, 8.89287618e-01],\n",
              "           [5.11241189e-01, 3.21063956e-01, 8.60801986e-01, ...,\n",
              "            5.58990742e-01, 6.64239607e-01, 7.00066372e-01],\n",
              "           [4.14749427e-01, 5.06076288e-01, 9.37408866e-01, ...,\n",
              "            4.24640959e-01, 6.23938661e-01, 9.81236044e-01],\n",
              "           [7.69326666e-01, 7.29558724e-01, 1.66686911e-01, ...,\n",
              "            7.11984348e-01, 6.48099842e-01, 1.59151871e-01]],\n",
              "\n",
              "          [[1.61767061e-01, 9.82561675e-01, 1.69369039e-01, ...,\n",
              "            8.33930636e-01, 1.63824179e-01, 7.64892384e-01],\n",
              "           [1.42523330e-01, 1.92121395e-01, 2.23598535e-01, ...,\n",
              "            8.22560028e-01, 7.85818729e-01, 8.41294094e-01],\n",
              "           [8.93298727e-01, 9.56801601e-01, 7.63442618e-01, ...,\n",
              "            1.09913560e-02, 3.45658567e-01, 6.37085255e-01],\n",
              "           [1.03748396e-01, 2.88265207e-01, 1.97989862e-01, ...,\n",
              "            9.79253058e-02, 4.40501992e-01, 1.57424342e-01]]],\n",
              "\n",
              "\n",
              "         [[[6.16778631e-02, 5.35202983e-01, 1.58080914e-01, ...,\n",
              "            8.96991175e-01, 2.67408738e-01, 1.39313758e-01],\n",
              "           [2.54026543e-01, 4.36989060e-01, 1.33228533e-01, ...,\n",
              "            2.56749061e-02, 9.29201571e-01, 4.10831047e-01],\n",
              "           [6.79245290e-01, 3.99041104e-01, 6.70678579e-01, ...,\n",
              "            7.86930895e-01, 6.62408413e-01, 3.00537284e-01],\n",
              "           [9.67736900e-01, 6.64217922e-01, 7.92089853e-01, ...,\n",
              "            3.16491049e-01, 3.83614303e-01, 5.66305215e-01]],\n",
              "\n",
              "          [[7.57730117e-01, 9.83715458e-01, 7.16389641e-01, ...,\n",
              "            6.69491025e-01, 7.52917495e-01, 4.10761889e-01],\n",
              "           [5.94572851e-01, 1.77397003e-01, 7.30468943e-01, ...,\n",
              "            7.21807234e-01, 3.56159749e-01, 6.76189477e-01],\n",
              "           [3.97963406e-01, 9.03005771e-01, 5.14317364e-01, ...,\n",
              "            6.31105042e-01, 4.98938074e-01, 2.94281568e-01],\n",
              "           [9.40169328e-01, 4.95614095e-02, 7.30888183e-01, ...,\n",
              "            6.70710070e-01, 9.79949281e-01, 3.02243645e-01]]],\n",
              "\n",
              "\n",
              "         [[[4.97251334e-01, 7.00799860e-01, 5.52633212e-01, ...,\n",
              "            8.27249906e-01, 3.57032508e-01, 7.96521159e-01],\n",
              "           [6.58337377e-01, 8.49710265e-01, 7.49938253e-01, ...,\n",
              "            8.58910085e-01, 7.56584708e-01, 5.40642411e-01],\n",
              "           [4.56780353e-01, 4.06854042e-01, 8.31206561e-01, ...,\n",
              "            1.67319529e-01, 2.00425709e-01, 5.75751095e-02],\n",
              "           [7.00845542e-01, 6.91996313e-01, 6.54060759e-01, ...,\n",
              "            2.35104735e-01, 7.31415291e-01, 8.40800703e-01]],\n",
              "\n",
              "          [[6.36925312e-01, 4.06630570e-01, 3.37708993e-01, ...,\n",
              "            2.46947745e-02, 5.18615501e-01, 1.56653136e-02],\n",
              "           [3.44666049e-01, 2.51748954e-01, 1.59949243e-01, ...,\n",
              "            7.75791117e-01, 5.58479849e-01, 9.89442409e-01],\n",
              "           [3.86297139e-01, 8.57553962e-01, 3.47419415e-01, ...,\n",
              "            3.19952537e-01, 3.00699741e-01, 2.03473002e-01],\n",
              "           [8.94855204e-03, 1.09160569e-01, 5.06455842e-03, ...,\n",
              "            5.16417824e-02, 5.29835263e-02, 6.30417845e-01]]],\n",
              "\n",
              "\n",
              "         [[[7.46788862e-02, 4.15106624e-01, 8.19794982e-01, ...,\n",
              "            8.77699690e-01, 8.35799247e-01, 1.01158694e-01],\n",
              "           [4.88504248e-01, 1.94873573e-01, 7.89405415e-01, ...,\n",
              "            9.88160500e-01, 3.65874531e-01, 5.15821766e-01],\n",
              "           [7.70777881e-01, 6.46245969e-02, 8.45278587e-01, ...,\n",
              "            6.36691880e-01, 8.75687137e-01, 8.84117531e-01],\n",
              "           [8.19023857e-01, 8.53750432e-01, 1.51975116e-01, ...,\n",
              "            5.78160302e-01, 4.35330391e-02, 8.34013340e-01]],\n",
              "\n",
              "          [[1.72897049e-01, 2.22082311e-01, 3.36655460e-01, ...,\n",
              "            5.49195653e-01, 6.31376336e-01, 2.96762363e-02],\n",
              "           [7.36870750e-01, 2.54882950e-01, 1.39677275e-02, ...,\n",
              "            7.99226227e-01, 3.42446264e-01, 9.52450566e-02],\n",
              "           [4.68254271e-01, 8.22311249e-01, 8.54890091e-01, ...,\n",
              "            5.34318881e-01, 4.83183327e-01, 6.82610512e-01],\n",
              "           [7.97621935e-01, 9.83474796e-01, 2.59544019e-01, ...,\n",
              "            7.22592483e-01, 3.05518054e-01, 6.74128169e-01]]],\n",
              "\n",
              "\n",
              "         [[[4.62926810e-01, 8.12163370e-01, 5.67258593e-01, ...,\n",
              "            6.50165831e-01, 4.46205340e-01, 7.14049252e-01],\n",
              "           [6.53407024e-01, 9.28716690e-01, 3.71365839e-01, ...,\n",
              "            5.33989662e-01, 1.35012390e-01, 9.87623957e-01],\n",
              "           [8.35180760e-01, 4.53155562e-01, 5.30324152e-01, ...,\n",
              "            6.52243409e-01, 7.35363673e-01, 8.08503983e-01],\n",
              "           [8.11524358e-01, 1.43312901e-01, 9.86240428e-01, ...,\n",
              "            6.96261054e-01, 6.71524898e-01, 5.78512565e-01]],\n",
              "\n",
              "          [[7.79593882e-01, 7.19676161e-01, 1.49011884e-01, ...,\n",
              "            8.38957164e-01, 4.11646334e-01, 8.35404913e-01],\n",
              "           [9.56390505e-02, 7.68538920e-01, 5.76229475e-01, ...,\n",
              "            2.58841263e-01, 5.88982430e-01, 6.33538121e-01],\n",
              "           [9.29635891e-01, 2.41991154e-01, 5.88980493e-01, ...,\n",
              "            9.20124472e-02, 9.63577424e-01, 3.50495214e-01],\n",
              "           [9.70798342e-01, 1.42835962e-01, 6.63004495e-01, ...,\n",
              "            4.22658204e-01, 2.53403243e-01, 2.86576066e-01]]]]]])"
            ]
          },
          "metadata": {},
          "execution_count": 89
        }
      ]
    },
    {
      "cell_type": "code",
      "source": [
        "A = np.arange(100)"
      ],
      "metadata": {
        "id": "LGzGliaSQJsN"
      },
      "execution_count": 93,
      "outputs": []
    },
    {
      "cell_type": "code",
      "source": [
        "A\n"
      ],
      "metadata": {
        "colab": {
          "base_uri": "https://localhost:8080/"
        },
        "id": "3mgMa6AERhHz",
        "outputId": "2e659174-a8cf-443d-a516-71acc1a94837"
      },
      "execution_count": 96,
      "outputs": [
        {
          "output_type": "execute_result",
          "data": {
            "text/plain": [
              "array([ 0,  1,  2,  3,  4,  5,  6,  7,  8,  9, 10, 11, 12, 13, 14, 15, 16,\n",
              "       17, 18, 19, 20, 21, 22, 23, 24, 25, 26, 27, 28, 29, 30, 31, 32, 33,\n",
              "       34, 35, 36, 37, 38, 39, 40, 41, 42, 43, 44, 45, 46, 47, 48, 49, 50,\n",
              "       51, 52, 53, 54, 55, 56, 57, 58, 59, 60, 61, 62, 63, 64, 65, 66, 67,\n",
              "       68, 69, 70, 71, 72, 73, 74, 75, 76, 77, 78, 79, 80, 81, 82, 83, 84,\n",
              "       85, 86, 87, 88, 89, 90, 91, 92, 93, 94, 95, 96, 97, 98, 99])"
            ]
          },
          "metadata": {},
          "execution_count": 96
        }
      ]
    },
    {
      "cell_type": "code",
      "source": [
        "b = A[3:10]"
      ],
      "metadata": {
        "id": "pcBcmwvmCQ6a"
      },
      "execution_count": 94,
      "outputs": []
    },
    {
      "cell_type": "code",
      "source": [
        "print(b)"
      ],
      "metadata": {
        "colab": {
          "base_uri": "https://localhost:8080/"
        },
        "id": "71RLYREUPwAN",
        "outputId": "ef8ca796-6c8f-482b-8c82-8c285f5cb0b6"
      },
      "execution_count": 95,
      "outputs": [
        {
          "output_type": "stream",
          "name": "stdout",
          "text": [
            "[3 4 5 6 7 8 9]\n"
          ]
        }
      ]
    },
    {
      "cell_type": "code",
      "source": [
        "b[0] = -1200"
      ],
      "metadata": {
        "id": "Gy_9hMqOPxwk"
      },
      "execution_count": 97,
      "outputs": []
    },
    {
      "cell_type": "code",
      "source": [
        "b"
      ],
      "metadata": {
        "colab": {
          "base_uri": "https://localhost:8080/"
        },
        "id": "pEYSsYI1Rsod",
        "outputId": "8e3f6835-9ea3-4142-a53f-d5d4a6527ed0"
      },
      "execution_count": 98,
      "outputs": [
        {
          "output_type": "execute_result",
          "data": {
            "text/plain": [
              "array([-1200,     4,     5,     6,     7,     8,     9])"
            ]
          },
          "metadata": {},
          "execution_count": 98
        }
      ]
    },
    {
      "cell_type": "code",
      "source": [
        "A"
      ],
      "metadata": {
        "colab": {
          "base_uri": "https://localhost:8080/"
        },
        "id": "uawKInc2Rtax",
        "outputId": "5f56294f-5562-46c9-f50c-b9ed1898ac39"
      },
      "execution_count": 99,
      "outputs": [
        {
          "output_type": "execute_result",
          "data": {
            "text/plain": [
              "array([    0,     1,     2, -1200,     4,     5,     6,     7,     8,\n",
              "           9,    10,    11,    12,    13,    14,    15,    16,    17,\n",
              "          18,    19,    20,    21,    22,    23,    24,    25,    26,\n",
              "          27,    28,    29,    30,    31,    32,    33,    34,    35,\n",
              "          36,    37,    38,    39,    40,    41,    42,    43,    44,\n",
              "          45,    46,    47,    48,    49,    50,    51,    52,    53,\n",
              "          54,    55,    56,    57,    58,    59,    60,    61,    62,\n",
              "          63,    64,    65,    66,    67,    68,    69,    70,    71,\n",
              "          72,    73,    74,    75,    76,    77,    78,    79,    80,\n",
              "          81,    82,    83,    84,    85,    86,    87,    88,    89,\n",
              "          90,    91,    92,    93,    94,    95,    96,    97,    98,\n",
              "          99])"
            ]
          },
          "metadata": {},
          "execution_count": 99
        }
      ]
    },
    {
      "cell_type": "code",
      "source": [
        "b = A[3:10].copy()"
      ],
      "metadata": {
        "id": "ATOT-ffRRvMz"
      },
      "execution_count": 100,
      "outputs": []
    },
    {
      "cell_type": "code",
      "source": [
        "b"
      ],
      "metadata": {
        "colab": {
          "base_uri": "https://localhost:8080/"
        },
        "id": "Vk3asSgbSDgm",
        "outputId": "11d628ce-7ad0-4b3d-e831-2d8a7fe7c1d9"
      },
      "execution_count": 101,
      "outputs": [
        {
          "output_type": "execute_result",
          "data": {
            "text/plain": [
              "array([-1200,     4,     5,     6,     7,     8,     9])"
            ]
          },
          "metadata": {},
          "execution_count": 101
        }
      ]
    },
    {
      "cell_type": "code",
      "source": [
        "b[0]=536"
      ],
      "metadata": {
        "id": "wqI9xuycSELL"
      },
      "execution_count": 102,
      "outputs": []
    },
    {
      "cell_type": "code",
      "source": [
        "A"
      ],
      "metadata": {
        "colab": {
          "base_uri": "https://localhost:8080/"
        },
        "id": "0XyznoXvSHCq",
        "outputId": "fd46627c-3408-4e77-ab82-917c4bf00b74"
      },
      "execution_count": 103,
      "outputs": [
        {
          "output_type": "execute_result",
          "data": {
            "text/plain": [
              "array([    0,     1,     2, -1200,     4,     5,     6,     7,     8,\n",
              "           9,    10,    11,    12,    13,    14,    15,    16,    17,\n",
              "          18,    19,    20,    21,    22,    23,    24,    25,    26,\n",
              "          27,    28,    29,    30,    31,    32,    33,    34,    35,\n",
              "          36,    37,    38,    39,    40,    41,    42,    43,    44,\n",
              "          45,    46,    47,    48,    49,    50,    51,    52,    53,\n",
              "          54,    55,    56,    57,    58,    59,    60,    61,    62,\n",
              "          63,    64,    65,    66,    67,    68,    69,    70,    71,\n",
              "          72,    73,    74,    75,    76,    77,    78,    79,    80,\n",
              "          81,    82,    83,    84,    85,    86,    87,    88,    89,\n",
              "          90,    91,    92,    93,    94,    95,    96,    97,    98,\n",
              "          99])"
            ]
          },
          "metadata": {},
          "execution_count": 103
        }
      ]
    },
    {
      "cell_type": "code",
      "source": [
        "A[::5]"
      ],
      "metadata": {
        "colab": {
          "base_uri": "https://localhost:8080/"
        },
        "id": "spiWEv_-SHqj",
        "outputId": "b794c8ab-4fa7-48f8-d027-74ad87072f8a"
      },
      "execution_count": 104,
      "outputs": [
        {
          "output_type": "execute_result",
          "data": {
            "text/plain": [
              "array([ 0,  5, 10, 15, 20, 25, 30, 35, 40, 45, 50, 55, 60, 65, 70, 75, 80,\n",
              "       85, 90, 95])"
            ]
          },
          "metadata": {},
          "execution_count": 104
        }
      ]
    },
    {
      "cell_type": "code",
      "source": [
        "A[::-5]"
      ],
      "metadata": {
        "colab": {
          "base_uri": "https://localhost:8080/"
        },
        "id": "Po0TZiFSSMR0",
        "outputId": "eabee4f3-95d7-43d6-f08f-28054e24d300"
      },
      "execution_count": 105,
      "outputs": [
        {
          "output_type": "execute_result",
          "data": {
            "text/plain": [
              "array([99, 94, 89, 84, 79, 74, 69, 64, 59, 54, 49, 44, 39, 34, 29, 24, 19,\n",
              "       14,  9,  4])"
            ]
          },
          "metadata": {},
          "execution_count": 105
        }
      ]
    },
    {
      "cell_type": "code",
      "source": [
        "np.index?\n"
      ],
      "metadata": {
        "colab": {
          "base_uri": "https://localhost:8080/"
        },
        "id": "JMfTjBNPSRPC",
        "outputId": "ad5ec949-1e98-4b4f-cb2e-89b45a14a024"
      },
      "execution_count": 106,
      "outputs": [
        {
          "output_type": "stream",
          "name": "stdout",
          "text": [
            "Object `np.index` not found.\n"
          ]
        }
      ]
    },
    {
      "cell_type": "code",
      "source": [
        "np.indices?\n"
      ],
      "metadata": {
        "id": "wv9PmthHSuee"
      },
      "execution_count": 107,
      "outputs": []
    },
    {
      "cell_type": "code",
      "source": [
        "A == -1200"
      ],
      "metadata": {
        "colab": {
          "base_uri": "https://localhost:8080/"
        },
        "id": "rjrI_JHsSxR2",
        "outputId": "2668397f-0ec1-481e-cb1d-602f641a9f5d"
      },
      "execution_count": 109,
      "outputs": [
        {
          "output_type": "execute_result",
          "data": {
            "text/plain": [
              "array([False, False, False,  True, False, False, False, False, False,\n",
              "       False, False, False, False, False, False, False, False, False,\n",
              "       False, False, False, False, False, False, False, False, False,\n",
              "       False, False, False, False, False, False, False, False, False,\n",
              "       False, False, False, False, False, False, False, False, False,\n",
              "       False, False, False, False, False, False, False, False, False,\n",
              "       False, False, False, False, False, False, False, False, False,\n",
              "       False, False, False, False, False, False, False, False, False,\n",
              "       False, False, False, False, False, False, False, False, False,\n",
              "       False, False, False, False, False, False, False, False, False,\n",
              "       False, False, False, False, False, False, False, False, False,\n",
              "       False])"
            ]
          },
          "metadata": {},
          "execution_count": 109
        }
      ]
    },
    {
      "cell_type": "code",
      "source": [
        "B = (A == -1200)*np.arange(A.size)"
      ],
      "metadata": {
        "id": "-ITsZAhpS9dw"
      },
      "execution_count": 110,
      "outputs": []
    },
    {
      "cell_type": "code",
      "source": [
        "B"
      ],
      "metadata": {
        "colab": {
          "base_uri": "https://localhost:8080/"
        },
        "id": "kjAmOpqcTLgT",
        "outputId": "be969f5a-55ac-4c95-cda0-b8118079d9b3"
      },
      "execution_count": 111,
      "outputs": [
        {
          "output_type": "execute_result",
          "data": {
            "text/plain": [
              "array([0, 0, 0, 3, 0, 0, 0, 0, 0, 0, 0, 0, 0, 0, 0, 0, 0, 0, 0, 0, 0, 0,\n",
              "       0, 0, 0, 0, 0, 0, 0, 0, 0, 0, 0, 0, 0, 0, 0, 0, 0, 0, 0, 0, 0, 0,\n",
              "       0, 0, 0, 0, 0, 0, 0, 0, 0, 0, 0, 0, 0, 0, 0, 0, 0, 0, 0, 0, 0, 0,\n",
              "       0, 0, 0, 0, 0, 0, 0, 0, 0, 0, 0, 0, 0, 0, 0, 0, 0, 0, 0, 0, 0, 0,\n",
              "       0, 0, 0, 0, 0, 0, 0, 0, 0, 0, 0, 0])"
            ]
          },
          "metadata": {},
          "execution_count": 111
        }
      ]
    },
    {
      "cell_type": "code",
      "source": [
        "A"
      ],
      "metadata": {
        "colab": {
          "base_uri": "https://localhost:8080/"
        },
        "id": "Scch8nFGTMtw",
        "outputId": "7e8417be-bd2d-422e-ab0e-e4b97b28ddd0"
      },
      "execution_count": 112,
      "outputs": [
        {
          "output_type": "execute_result",
          "data": {
            "text/plain": [
              "array([    0,     1,     2, -1200,     4,     5,     6,     7,     8,\n",
              "           9,    10,    11,    12,    13,    14,    15,    16,    17,\n",
              "          18,    19,    20,    21,    22,    23,    24,    25,    26,\n",
              "          27,    28,    29,    30,    31,    32,    33,    34,    35,\n",
              "          36,    37,    38,    39,    40,    41,    42,    43,    44,\n",
              "          45,    46,    47,    48,    49,    50,    51,    52,    53,\n",
              "          54,    55,    56,    57,    58,    59,    60,    61,    62,\n",
              "          63,    64,    65,    66,    67,    68,    69,    70,    71,\n",
              "          72,    73,    74,    75,    76,    77,    78,    79,    80,\n",
              "          81,    82,    83,    84,    85,    86,    87,    88,    89,\n",
              "          90,    91,    92,    93,    94,    95,    96,    97,    98,\n",
              "          99])"
            ]
          },
          "metadata": {},
          "execution_count": 112
        }
      ]
    },
    {
      "cell_type": "code",
      "source": [
        "idx = np.argwhere(A==-1200)"
      ],
      "metadata": {
        "id": "DYxBjABKTgQc"
      },
      "execution_count": 113,
      "outputs": []
    },
    {
      "cell_type": "code",
      "source": [
        "idx"
      ],
      "metadata": {
        "colab": {
          "base_uri": "https://localhost:8080/"
        },
        "id": "TsSu38-ITrJG",
        "outputId": "32fe757c-22b5-4265-dce7-8998a2494c39"
      },
      "execution_count": 114,
      "outputs": [
        {
          "output_type": "execute_result",
          "data": {
            "text/plain": [
              "array([[3]])"
            ]
          },
          "metadata": {},
          "execution_count": 114
        }
      ]
    },
    {
      "cell_type": "code",
      "source": [
        "A[idx] = 3"
      ],
      "metadata": {
        "id": "nT47nqw0TsTV"
      },
      "execution_count": 117,
      "outputs": []
    },
    {
      "cell_type": "code",
      "source": [
        "A"
      ],
      "metadata": {
        "colab": {
          "base_uri": "https://localhost:8080/"
        },
        "id": "EeYgOpoSTuFq",
        "outputId": "15354f74-72ea-4a4d-8459-06de1c92926d"
      },
      "execution_count": 118,
      "outputs": [
        {
          "output_type": "execute_result",
          "data": {
            "text/plain": [
              "array([ 0,  1,  2,  3,  4,  5,  6,  7,  8,  9, 10, 11, 12, 13, 14, 15, 16,\n",
              "       17, 18, 19, 20, 21, 22, 23, 24, 25, 26, 27, 28, 29, 30, 31, 32, 33,\n",
              "       34, 35, 36, 37, 38, 39, 40, 41, 42, 43, 44, 45, 46, 47, 48, 49, 50,\n",
              "       51, 52, 53, 54, 55, 56, 57, 58, 59, 60, 61, 62, 63, 64, 65, 66, 67,\n",
              "       68, 69, 70, 71, 72, 73, 74, 75, 76, 77, 78, 79, 80, 81, 82, 83, 84,\n",
              "       85, 86, 87, 88, 89, 90, 91, 92, 93, 94, 95, 96, 97, 98, 99])"
            ]
          },
          "metadata": {},
          "execution_count": 118
        }
      ]
    },
    {
      "cell_type": "code",
      "source": [
        "A = np.round (10*np.random.rand(5,4))"
      ],
      "metadata": {
        "id": "4BuH5PnMTz2Y"
      },
      "execution_count": 123,
      "outputs": []
    },
    {
      "cell_type": "code",
      "source": [
        "A"
      ],
      "metadata": {
        "colab": {
          "base_uri": "https://localhost:8080/"
        },
        "id": "apQN3h5WUOWa",
        "outputId": "cddd0368-df96-4d5c-c28d-387c97383bce"
      },
      "execution_count": 124,
      "outputs": [
        {
          "output_type": "execute_result",
          "data": {
            "text/plain": [
              "array([[8., 7., 4., 5.],\n",
              "       [7., 4., 6., 9.],\n",
              "       [3., 1., 2., 9.],\n",
              "       [5., 8., 5., 6.],\n",
              "       [1., 8., 5., 1.]])"
            ]
          },
          "metadata": {},
          "execution_count": 124
        }
      ]
    },
    {
      "cell_type": "code",
      "source": [
        "A[1,2]"
      ],
      "metadata": {
        "colab": {
          "base_uri": "https://localhost:8080/"
        },
        "id": "eYQbKAKAUPIk",
        "outputId": "88fc5967-ece3-4cee-cdc3-73db56936301"
      },
      "execution_count": 125,
      "outputs": [
        {
          "output_type": "execute_result",
          "data": {
            "text/plain": [
              "np.float64(6.0)"
            ]
          },
          "metadata": {},
          "execution_count": 125
        }
      ]
    },
    {
      "cell_type": "code",
      "source": [
        "A[1,:]"
      ],
      "metadata": {
        "colab": {
          "base_uri": "https://localhost:8080/"
        },
        "id": "MSo0WzawUj3x",
        "outputId": "27b7bedd-05c8-4a2b-b330-51e6db1ad5ba"
      },
      "execution_count": 126,
      "outputs": [
        {
          "output_type": "execute_result",
          "data": {
            "text/plain": [
              "array([7., 4., 6., 9.])"
            ]
          },
          "metadata": {},
          "execution_count": 126
        }
      ]
    },
    {
      "cell_type": "code",
      "source": [
        "A[1:3,1:3]"
      ],
      "metadata": {
        "colab": {
          "base_uri": "https://localhost:8080/"
        },
        "id": "bLTW7UiYUmh3",
        "outputId": "16322c9e-d1fa-4573-ddfa-bbf2b9456d67"
      },
      "execution_count": 127,
      "outputs": [
        {
          "output_type": "execute_result",
          "data": {
            "text/plain": [
              "array([[4., 6.],\n",
              "       [1., 2.]])"
            ]
          },
          "metadata": {},
          "execution_count": 127
        }
      ]
    },
    {
      "cell_type": "code",
      "source": [
        "A.T"
      ],
      "metadata": {
        "colab": {
          "base_uri": "https://localhost:8080/"
        },
        "id": "BWbJv8iHUu5T",
        "outputId": "687df9f7-c972-40a7-dc81-c6a50050d1e4"
      },
      "execution_count": 128,
      "outputs": [
        {
          "output_type": "execute_result",
          "data": {
            "text/plain": [
              "array([[8., 7., 3., 5., 1.],\n",
              "       [7., 4., 1., 8., 8.],\n",
              "       [4., 6., 2., 5., 5.],\n",
              "       [5., 9., 9., 6., 1.]])"
            ]
          },
          "metadata": {},
          "execution_count": 128
        }
      ]
    },
    {
      "cell_type": "code",
      "source": [
        "import numpy.linalg as la"
      ],
      "metadata": {
        "id": "Nd-NMik4VTdo"
      },
      "execution_count": 136,
      "outputs": []
    },
    {
      "cell_type": "code",
      "source": [
        "la.inv(np.random.rand(3,3))"
      ],
      "metadata": {
        "colab": {
          "base_uri": "https://localhost:8080/"
        },
        "id": "evtFy4MCV1h0",
        "outputId": "9f83a2c1-0dc6-4d76-ca33-c684d881912c"
      },
      "execution_count": 137,
      "outputs": [
        {
          "output_type": "execute_result",
          "data": {
            "text/plain": [
              "array([[-5.29535351,  1.36298549,  9.50943485],\n",
              "       [-0.07028066,  1.27197691, -1.46336393],\n",
              "       [ 1.5793685 , -0.55216627, -0.32151763]])"
            ]
          },
          "metadata": {},
          "execution_count": 137
        }
      ]
    },
    {
      "cell_type": "code",
      "source": [
        "A = np.arange(100)"
      ],
      "metadata": {
        "id": "IJu8tTt1VfO9"
      },
      "execution_count": 139,
      "outputs": []
    },
    {
      "cell_type": "code",
      "source": [
        "A"
      ],
      "metadata": {
        "colab": {
          "base_uri": "https://localhost:8080/"
        },
        "id": "c96y6mKyXXtv",
        "outputId": "cb7d2081-297c-4671-d19b-9cf0cf5c0b69"
      },
      "execution_count": 140,
      "outputs": [
        {
          "output_type": "execute_result",
          "data": {
            "text/plain": [
              "array([ 0,  1,  2,  3,  4,  5,  6,  7,  8,  9, 10, 11, 12, 13, 14, 15, 16,\n",
              "       17, 18, 19, 20, 21, 22, 23, 24, 25, 26, 27, 28, 29, 30, 31, 32, 33,\n",
              "       34, 35, 36, 37, 38, 39, 40, 41, 42, 43, 44, 45, 46, 47, 48, 49, 50,\n",
              "       51, 52, 53, 54, 55, 56, 57, 58, 59, 60, 61, 62, 63, 64, 65, 66, 67,\n",
              "       68, 69, 70, 71, 72, 73, 74, 75, 76, 77, 78, 79, 80, 81, 82, 83, 84,\n",
              "       85, 86, 87, 88, 89, 90, 91, 92, 93, 94, 95, 96, 97, 98, 99])"
            ]
          },
          "metadata": {},
          "execution_count": 140
        }
      ]
    },
    {
      "cell_type": "code",
      "source": [
        "B = A[[3, 5, 6]]"
      ],
      "metadata": {
        "id": "l4Us_-gEXbW2"
      },
      "execution_count": 141,
      "outputs": []
    },
    {
      "cell_type": "code",
      "source": [
        "B"
      ],
      "metadata": {
        "colab": {
          "base_uri": "https://localhost:8080/"
        },
        "id": "I-zGOvMxXiAo",
        "outputId": "93590a45-aedd-40dd-abfd-99e2c2eb0623"
      },
      "execution_count": 142,
      "outputs": [
        {
          "output_type": "execute_result",
          "data": {
            "text/plain": [
              "array([3, 5, 6])"
            ]
          },
          "metadata": {},
          "execution_count": 142
        }
      ]
    },
    {
      "cell_type": "code",
      "source": [
        "B[0] =-4"
      ],
      "metadata": {
        "id": "XHT2acjkXi1f"
      },
      "execution_count": 144,
      "outputs": []
    },
    {
      "cell_type": "code",
      "source": [
        "A"
      ],
      "metadata": {
        "colab": {
          "base_uri": "https://localhost:8080/"
        },
        "id": "cvxt4iqHXk4F",
        "outputId": "476b4f61-d32f-4546-9eac-d03625e95f88"
      },
      "execution_count": 145,
      "outputs": [
        {
          "output_type": "execute_result",
          "data": {
            "text/plain": [
              "array([ 0,  1,  2,  3,  4,  5,  6,  7,  8,  9, 10, 11, 12, 13, 14, 15, 16,\n",
              "       17, 18, 19, 20, 21, 22, 23, 24, 25, 26, 27, 28, 29, 30, 31, 32, 33,\n",
              "       34, 35, 36, 37, 38, 39, 40, 41, 42, 43, 44, 45, 46, 47, 48, 49, 50,\n",
              "       51, 52, 53, 54, 55, 56, 57, 58, 59, 60, 61, 62, 63, 64, 65, 66, 67,\n",
              "       68, 69, 70, 71, 72, 73, 74, 75, 76, 77, 78, 79, 80, 81, 82, 83, 84,\n",
              "       85, 86, 87, 88, 89, 90, 91, 92, 93, 94, 95, 96, 97, 98, 99])"
            ]
          },
          "metadata": {},
          "execution_count": 145
        }
      ]
    },
    {
      "cell_type": "code",
      "source": [
        "B = A[A<40]"
      ],
      "metadata": {
        "id": "V4FivOfTXu3u"
      },
      "execution_count": 146,
      "outputs": []
    },
    {
      "cell_type": "code",
      "source": [
        "B"
      ],
      "metadata": {
        "colab": {
          "base_uri": "https://localhost:8080/"
        },
        "id": "fKmJVFfZXyfD",
        "outputId": "c605b0b6-f4d9-4752-c477-751748dd7b91"
      },
      "execution_count": 147,
      "outputs": [
        {
          "output_type": "execute_result",
          "data": {
            "text/plain": [
              "array([ 0,  1,  2,  3,  4,  5,  6,  7,  8,  9, 10, 11, 12, 13, 14, 15, 16,\n",
              "       17, 18, 19, 20, 21, 22, 23, 24, 25, 26, 27, 28, 29, 30, 31, 32, 33,\n",
              "       34, 35, 36, 37, 38, 39])"
            ]
          },
          "metadata": {},
          "execution_count": 147
        }
      ]
    },
    {
      "cell_type": "code",
      "source": [
        "B = A[(A<40) & (A>30)]"
      ],
      "metadata": {
        "id": "wjSnT16ZXy6W"
      },
      "execution_count": 149,
      "outputs": []
    },
    {
      "cell_type": "code",
      "source": [
        "B"
      ],
      "metadata": {
        "colab": {
          "base_uri": "https://localhost:8080/"
        },
        "id": "T08sqdVZX4t1",
        "outputId": "32b81fc4-b5af-4dba-b1f1-db7d728004ee"
      },
      "execution_count": 150,
      "outputs": [
        {
          "output_type": "execute_result",
          "data": {
            "text/plain": [
              "array([31, 32, 33, 34, 35, 36, 37, 38, 39])"
            ]
          },
          "metadata": {},
          "execution_count": 150
        }
      ]
    },
    {
      "cell_type": "code",
      "source": [],
      "metadata": {
        "id": "SqHmsLrsYFJ6"
      },
      "execution_count": null,
      "outputs": []
    }
  ]
}