{
  "cells": [
    {
      "cell_type": "markdown",
      "metadata": {
        "id": "view-in-github",
        "colab_type": "text"
      },
      "source": [
        "<a href=\"https://colab.research.google.com/github/akram01Br/Python/blob/main/preparation_de_donnees.ipynb\" target=\"_parent\"><img src=\"https://colab.research.google.com/assets/colab-badge.svg\" alt=\"Open In Colab\"/></a>"
      ]
    },
    {
      "cell_type": "markdown",
      "metadata": {
        "id": "7pCVXGZ3Uu6W"
      },
      "source": [
        "<html> <img style=\"float:center; margin: 0px 0px 0px 0px;\" src=\"https://docs.google.com/uc? export=download&id=15tHkXKQkHVX0bbW_M8dvWPyRoW3fN68C\" width=\"320\" align=\"left\"/> </html>\n",
        "\n",
        "<figure>\n",
        "<center>\n",
        "<img src='https://docs.google.com/uc?export=download&id=1BmLEthy7KCNsnVFviFKX77zLmFhc47XZ' align='right'width=\"220\"/>\n",
        "    \n",
        "<figcaption>\n",
        "\n",
        "</figcaption></center>\n",
        "</figure>\n",
        "<center> <H1> Analyse et Programmation avec Python </H1> </center>\n",
        "\n"
      ]
    },
    {
      "cell_type": "markdown",
      "metadata": {
        "id": "8MHvpwsmRcV-"
      },
      "source": [
        "# **Analyse des ventes**"
      ]
    },
    {
      "cell_type": "markdown",
      "metadata": {
        "id": "EiZwBMl9Rkz7"
      },
      "source": [
        "## Introduction\n",
        "\n",
        "Dans le cadre de ce projet, nous souhaitons réaliser une analyse des données d'une plateforme de e-commerce fictive afin de déterminer de nouvelles stratégies marketing. Pour ce faire, il faut d'abord restructuré et nettoyé les données issues du SI et les analysées selon trois axes.\n",
        "\n",
        "- Etudier l'évolution du chiffre d'affaires au cours du temps afin de déterminer des effets saisonniers et d'éventuels produits régulateurs.\n",
        "\n",
        "- Analyser la distribution des catégories de produits et la proportion des ventes de chaque produit..\n",
        "\n",
        "- Enfin, examiner les corrélations entre l'âge, le genre(H/F), les dépenses, les fréquences d'achats et le panier des clients. Cela nous permettra d'établir trois profils types de clients détaillés et de suggérer des stratégies de ventes.\n",
        "\n",
        "\n",
        "\n",
        "\n"
      ]
    },
    {
      "cell_type": "markdown",
      "metadata": {
        "id": "CDrawul3SWo1"
      },
      "source": [
        "Organisation des sources\n",
        "\n",
        "\n",
        "- dataset : les données initiales du projet\n",
        "- clean_dataset : les données nettoyées du projet\n",
        "- preparation_de_donnees.ipynb : récupère les données de dataset, les nettoie, et enregistre le résultat dans  clean_dataset\n",
        "- analyse_de_donnees.ipynb : analyse les données qu'il y a dans clean_dataset\n",
        "\n",
        "\n"
      ]
    },
    {
      "cell_type": "markdown",
      "metadata": {
        "id": "IItJ4uWxUGZV"
      },
      "source": [
        "\n",
        "\n",
        "---\n",
        "\n"
      ]
    },
    {
      "cell_type": "code",
      "execution_count": null,
      "metadata": {
        "id": "8-zvS4f8RKBe"
      },
      "outputs": [],
      "source": [
        "import pandas as pd\n",
        "import numpy as np\n",
        "import matplotlib.pyplot as plt\n",
        "from datetime import datetime\n",
        "#import functions as f\n",
        "import calendar\n",
        "import math"
      ]
    },
    {
      "cell_type": "markdown",
      "metadata": {
        "id": "-BiOPBzIRKBm"
      },
      "source": [
        "# **Préparation des données**"
      ]
    },
    {
      "cell_type": "markdown",
      "metadata": {
        "id": "C4TK1mHiRKBr"
      },
      "source": [
        "# Découverte des données"
      ]
    },
    {
      "cell_type": "code",
      "execution_count": null,
      "metadata": {
        "colab": {
          "background_save": true,
          "base_uri": "https://localhost:8080/"
        },
        "id": "7xGEdN5URYsU",
        "outputId": "5ba030b9-a2df-4acb-f8af-6fcd05b3df79"
      },
      "outputs": [
        {
          "name": "stdout",
          "output_type": "stream",
          "text": [
            "Mounted at /content/drive\n"
          ]
        }
      ],
      "source": [
        "from google.colab import drive\n",
        "drive.mount('/content/drive')"
      ]
    },
    {
      "cell_type": "code",
      "execution_count": null,
      "metadata": {
        "colab": {
          "background_save": true
        },
        "id": "PiFD1C87RKBs",
        "outputId": "df90d9d2-90d8-4bff-b558-8175683bc64f"
      },
      "outputs": [
        {
          "ename": "NameError",
          "evalue": "ignored",
          "output_type": "error",
          "traceback": [
            "\u001b[0;31m---------------------------------------------------------------------------\u001b[0m",
            "\u001b[0;31mNameError\u001b[0m                                 Traceback (most recent call last)",
            "\u001b[0;32m<ipython-input-2-e56b156c89ce>\u001b[0m in \u001b[0;36m<module>\u001b[0;34m()\u001b[0m\n\u001b[0;32m----> 1\u001b[0;31m \u001b[0mc\u001b[0m \u001b[0;34m=\u001b[0m \u001b[0mpd\u001b[0m\u001b[0;34m.\u001b[0m\u001b[0mread_csv\u001b[0m\u001b[0;34m(\u001b[0m\u001b[0;34m\"/content/drive/My Drive/Colab Notebooks/dataset/customers.csv\"\u001b[0m\u001b[0;34m)\u001b[0m\u001b[0;34m\u001b[0m\u001b[0;34m\u001b[0m\u001b[0m\n\u001b[0m\u001b[1;32m      2\u001b[0m \u001b[0mp\u001b[0m \u001b[0;34m=\u001b[0m \u001b[0mpd\u001b[0m\u001b[0;34m.\u001b[0m\u001b[0mread_csv\u001b[0m\u001b[0;34m(\u001b[0m\u001b[0;34m\"/content/drive/My Drive/Colab Notebooks/dataset/products.csv\"\u001b[0m\u001b[0;34m)\u001b[0m\u001b[0;34m\u001b[0m\u001b[0;34m\u001b[0m\u001b[0m\n\u001b[1;32m      3\u001b[0m \u001b[0mt\u001b[0m \u001b[0;34m=\u001b[0m \u001b[0mpd\u001b[0m\u001b[0;34m.\u001b[0m\u001b[0mread_csv\u001b[0m\u001b[0;34m(\u001b[0m\u001b[0;34m\"/content/drive/My Drive/Colab Notebooks/dataset/transactions.csv\"\u001b[0m\u001b[0;34m)\u001b[0m\u001b[0;34m\u001b[0m\u001b[0;34m\u001b[0m\u001b[0m\n",
            "\u001b[0;31mNameError\u001b[0m: name 'pd' is not defined"
          ]
        }
      ],
      "source": [
        "c = pd.read_csv(\"/content/drive/My Drive/Colab Notebooks/dataset/customers.csv\")\n",
        "p = pd.read_csv(\"/content/drive/My Drive/Colab Notebooks/dataset/products.csv\")\n",
        "t = pd.read_csv(\"/content/drive/My Drive/Colab Notebooks/dataset/transactions.csv\")"
      ]
    },
    {
      "cell_type": "code",
      "execution_count": null,
      "metadata": {
        "colab": {
          "background_save": true,
          "base_uri": "https://localhost:8080/"
        },
        "id": "qvdfsGVTR23L",
        "outputId": "32793da7-30ba-40ff-b208-700f87280d1c"
      },
      "outputs": [
        {
          "ename": "NameError",
          "evalue": "ignored",
          "output_type": "error",
          "traceback": [
            "\u001b[0;31m---------------------------------------------------------------------------\u001b[0m",
            "\u001b[0;31mNameError\u001b[0m                                 Traceback (most recent call last)",
            "\u001b[0;32m<ipython-input-3-d6049491b182>\u001b[0m in \u001b[0;36m<module>\u001b[0;34m()\u001b[0m\n\u001b[0;32m----> 1\u001b[0;31m \u001b[0mc\u001b[0m\u001b[0;34m.\u001b[0m\u001b[0mshape\u001b[0m\u001b[0;34m\u001b[0m\u001b[0;34m\u001b[0m\u001b[0m\n\u001b[0m",
            "\u001b[0;31mNameError\u001b[0m: name 'c' is not defined"
          ]
        }
      ],
      "source": [
        "c.shape"
      ]
    },
    {
      "cell_type": "code",
      "execution_count": null,
      "metadata": {
        "colab": {
          "background_save": true
        },
        "id": "A1dTG1LLTgbS"
      },
      "outputs": [],
      "source": [
        "c.dtypes"
      ]
    },
    {
      "cell_type": "code",
      "execution_count": null,
      "metadata": {
        "colab": {
          "base_uri": "https://localhost:8080/",
          "height": 204
        },
        "id": "rhd7gOHyRKBw",
        "outputId": "13896930-7604-4950-b67e-ef7f7fbbfdd4"
      },
      "outputs": [
        {
          "data": {
            "text/html": [
              "<div>\n",
              "<style scoped>\n",
              "    .dataframe tbody tr th:only-of-type {\n",
              "        vertical-align: middle;\n",
              "    }\n",
              "\n",
              "    .dataframe tbody tr th {\n",
              "        vertical-align: top;\n",
              "    }\n",
              "\n",
              "    .dataframe thead th {\n",
              "        text-align: right;\n",
              "    }\n",
              "</style>\n",
              "<table border=\"1\" class=\"dataframe\">\n",
              "  <thead>\n",
              "    <tr style=\"text-align: right;\">\n",
              "      <th></th>\n",
              "      <th>client_id</th>\n",
              "      <th>sex</th>\n",
              "      <th>birth</th>\n",
              "    </tr>\n",
              "  </thead>\n",
              "  <tbody>\n",
              "    <tr>\n",
              "      <th>0</th>\n",
              "      <td>c_4410</td>\n",
              "      <td>f</td>\n",
              "      <td>1967</td>\n",
              "    </tr>\n",
              "    <tr>\n",
              "      <th>1</th>\n",
              "      <td>c_7839</td>\n",
              "      <td>f</td>\n",
              "      <td>1975</td>\n",
              "    </tr>\n",
              "    <tr>\n",
              "      <th>2</th>\n",
              "      <td>c_1699</td>\n",
              "      <td>f</td>\n",
              "      <td>1984</td>\n",
              "    </tr>\n",
              "    <tr>\n",
              "      <th>3</th>\n",
              "      <td>c_5961</td>\n",
              "      <td>f</td>\n",
              "      <td>1962</td>\n",
              "    </tr>\n",
              "    <tr>\n",
              "      <th>4</th>\n",
              "      <td>c_5320</td>\n",
              "      <td>m</td>\n",
              "      <td>1943</td>\n",
              "    </tr>\n",
              "  </tbody>\n",
              "</table>\n",
              "</div>"
            ],
            "text/plain": [
              "  client_id sex  birth\n",
              "0    c_4410   f   1967\n",
              "1    c_7839   f   1975\n",
              "2    c_1699   f   1984\n",
              "3    c_5961   f   1962\n",
              "4    c_5320   m   1943"
            ]
          },
          "execution_count": 6,
          "metadata": {},
          "output_type": "execute_result"
        }
      ],
      "source": [
        "c.head()"
      ]
    },
    {
      "cell_type": "code",
      "execution_count": null,
      "metadata": {
        "colab": {
          "base_uri": "https://localhost:8080/"
        },
        "id": "BqGNuFH_N4d6",
        "outputId": "c5bcd085-02d4-4e98-ea6a-6ad220e236eb"
      },
      "outputs": [
        {
          "name": "stdout",
          "output_type": "stream",
          "text": [
            "<class 'pandas.core.frame.DataFrame'>\n",
            "RangeIndex: 8623 entries, 0 to 8622\n",
            "Data columns (total 3 columns):\n",
            " #   Column     Non-Null Count  Dtype \n",
            "---  ------     --------------  ----- \n",
            " 0   client_id  8623 non-null   object\n",
            " 1   sex        8623 non-null   object\n",
            " 2   birth      8623 non-null   int64 \n",
            "dtypes: int64(1), object(2)\n",
            "memory usage: 202.2+ KB\n"
          ]
        }
      ],
      "source": [
        "c.info()"
      ]
    },
    {
      "cell_type": "markdown",
      "metadata": {
        "id": "fX2UJI1SRKB7"
      },
      "source": [
        "### `customers`"
      ]
    },
    {
      "cell_type": "markdown",
      "metadata": {
        "id": "LfU5ngjvRKB9"
      },
      "source": [
        "Contient **~8600** clients"
      ]
    },
    {
      "cell_type": "markdown",
      "metadata": {
        "id": "ZfQZfd5ORKB_"
      },
      "source": [
        "colonnes :\n",
        "- `client_id` est une clef primaire\n",
        "- `sex` : **f** ou **m** (52% et 48%)\n",
        "- `birth`: 1929 -> 2004\n",
        "\n",
        "Autres :\n",
        "- pas de valeurs nulles"
      ]
    },
    {
      "cell_type": "code",
      "execution_count": null,
      "metadata": {
        "colab": {
          "base_uri": "https://localhost:8080/"
        },
        "id": "7D8PtEIPq0ua",
        "outputId": "80a387f0-2fc4-4016-dbb7-88d972c7ec22"
      },
      "outputs": [
        {
          "data": {
            "text/plain": [
              "client_id    object\n",
              "sex          object\n",
              "birth         int64\n",
              "dtype: object"
            ]
          },
          "execution_count": 8,
          "metadata": {},
          "output_type": "execute_result"
        }
      ],
      "source": [
        "c.dtypes"
      ]
    },
    {
      "cell_type": "code",
      "execution_count": null,
      "metadata": {
        "colab": {
          "base_uri": "https://localhost:8080/"
        },
        "id": "xQA3jVrROnqD",
        "outputId": "466563e3-ba79-4a7c-9354-746ce88f6447"
      },
      "outputs": [
        {
          "data": {
            "text/plain": [
              "f    4491\n",
              "m    4132\n",
              "Name: sex, dtype: int64"
            ]
          },
          "execution_count": 9,
          "metadata": {},
          "output_type": "execute_result"
        }
      ],
      "source": [
        "c['sex'].value_counts()"
      ]
    },
    {
      "cell_type": "code",
      "execution_count": null,
      "metadata": {
        "colab": {
          "base_uri": "https://localhost:8080/"
        },
        "id": "7VsDgzbEPTVL",
        "outputId": "7a2d9238-3a3b-48aa-9366-efb7eb9f145b"
      },
      "outputs": [
        {
          "data": {
            "text/plain": [
              "0    f\n",
              "1    f\n",
              "2    f\n",
              "Name: sex, dtype: object"
            ]
          },
          "execution_count": 10,
          "metadata": {},
          "output_type": "execute_result"
        }
      ],
      "source": [
        " c.sex[0:3]\n",
        "\n",
        "# ou c['sex'].head()"
      ]
    },
    {
      "cell_type": "markdown",
      "metadata": {
        "id": "6CJaGSYDRKCC"
      },
      "source": [
        "### `products`"
      ]
    },
    {
      "cell_type": "code",
      "execution_count": null,
      "metadata": {
        "colab": {
          "base_uri": "https://localhost:8080/",
          "height": 204
        },
        "id": "sI-upm7WKdZg",
        "outputId": "ec21a3b0-36c4-4315-f59a-4eb3e2213790"
      },
      "outputs": [
        {
          "data": {
            "text/html": [
              "<div>\n",
              "<style scoped>\n",
              "    .dataframe tbody tr th:only-of-type {\n",
              "        vertical-align: middle;\n",
              "    }\n",
              "\n",
              "    .dataframe tbody tr th {\n",
              "        vertical-align: top;\n",
              "    }\n",
              "\n",
              "    .dataframe thead th {\n",
              "        text-align: right;\n",
              "    }\n",
              "</style>\n",
              "<table border=\"1\" class=\"dataframe\">\n",
              "  <thead>\n",
              "    <tr style=\"text-align: right;\">\n",
              "      <th></th>\n",
              "      <th>id_prod</th>\n",
              "      <th>price</th>\n",
              "      <th>categ</th>\n",
              "    </tr>\n",
              "  </thead>\n",
              "  <tbody>\n",
              "    <tr>\n",
              "      <th>0</th>\n",
              "      <td>0_1421</td>\n",
              "      <td>19.99</td>\n",
              "      <td>0</td>\n",
              "    </tr>\n",
              "    <tr>\n",
              "      <th>1</th>\n",
              "      <td>0_1368</td>\n",
              "      <td>5.13</td>\n",
              "      <td>0</td>\n",
              "    </tr>\n",
              "    <tr>\n",
              "      <th>2</th>\n",
              "      <td>0_731</td>\n",
              "      <td>17.99</td>\n",
              "      <td>0</td>\n",
              "    </tr>\n",
              "    <tr>\n",
              "      <th>3</th>\n",
              "      <td>1_587</td>\n",
              "      <td>4.99</td>\n",
              "      <td>1</td>\n",
              "    </tr>\n",
              "    <tr>\n",
              "      <th>4</th>\n",
              "      <td>0_1507</td>\n",
              "      <td>3.99</td>\n",
              "      <td>0</td>\n",
              "    </tr>\n",
              "  </tbody>\n",
              "</table>\n",
              "</div>"
            ],
            "text/plain": [
              "  id_prod  price  categ\n",
              "0  0_1421  19.99      0\n",
              "1  0_1368   5.13      0\n",
              "2   0_731  17.99      0\n",
              "3   1_587   4.99      1\n",
              "4  0_1507   3.99      0"
            ]
          },
          "execution_count": 11,
          "metadata": {},
          "output_type": "execute_result"
        }
      ],
      "source": [
        "p.head()"
      ]
    },
    {
      "cell_type": "code",
      "execution_count": null,
      "metadata": {
        "colab": {
          "base_uri": "https://localhost:8080/",
          "height": 297
        },
        "id": "ljPPTR3pSHjE",
        "outputId": "40eec87f-c631-4da8-b046-10ede4ad750c"
      },
      "outputs": [
        {
          "data": {
            "text/html": [
              "<div>\n",
              "<style scoped>\n",
              "    .dataframe tbody tr th:only-of-type {\n",
              "        vertical-align: middle;\n",
              "    }\n",
              "\n",
              "    .dataframe tbody tr th {\n",
              "        vertical-align: top;\n",
              "    }\n",
              "\n",
              "    .dataframe thead th {\n",
              "        text-align: right;\n",
              "    }\n",
              "</style>\n",
              "<table border=\"1\" class=\"dataframe\">\n",
              "  <thead>\n",
              "    <tr style=\"text-align: right;\">\n",
              "      <th></th>\n",
              "      <th>price</th>\n",
              "      <th>categ</th>\n",
              "    </tr>\n",
              "  </thead>\n",
              "  <tbody>\n",
              "    <tr>\n",
              "      <th>count</th>\n",
              "      <td>3287.000000</td>\n",
              "      <td>3287.000000</td>\n",
              "    </tr>\n",
              "    <tr>\n",
              "      <th>mean</th>\n",
              "      <td>21.856641</td>\n",
              "      <td>0.370246</td>\n",
              "    </tr>\n",
              "    <tr>\n",
              "      <th>std</th>\n",
              "      <td>29.847908</td>\n",
              "      <td>0.615387</td>\n",
              "    </tr>\n",
              "    <tr>\n",
              "      <th>min</th>\n",
              "      <td>-1.000000</td>\n",
              "      <td>0.000000</td>\n",
              "    </tr>\n",
              "    <tr>\n",
              "      <th>25%</th>\n",
              "      <td>6.990000</td>\n",
              "      <td>0.000000</td>\n",
              "    </tr>\n",
              "    <tr>\n",
              "      <th>50%</th>\n",
              "      <td>13.060000</td>\n",
              "      <td>0.000000</td>\n",
              "    </tr>\n",
              "    <tr>\n",
              "      <th>75%</th>\n",
              "      <td>22.990000</td>\n",
              "      <td>1.000000</td>\n",
              "    </tr>\n",
              "    <tr>\n",
              "      <th>max</th>\n",
              "      <td>300.000000</td>\n",
              "      <td>2.000000</td>\n",
              "    </tr>\n",
              "  </tbody>\n",
              "</table>\n",
              "</div>"
            ],
            "text/plain": [
              "             price        categ\n",
              "count  3287.000000  3287.000000\n",
              "mean     21.856641     0.370246\n",
              "std      29.847908     0.615387\n",
              "min      -1.000000     0.000000\n",
              "25%       6.990000     0.000000\n",
              "50%      13.060000     0.000000\n",
              "75%      22.990000     1.000000\n",
              "max     300.000000     2.000000"
            ]
          },
          "execution_count": 12,
          "metadata": {},
          "output_type": "execute_result"
        }
      ],
      "source": [
        "# p.shape\n",
        "p.describe()"
      ]
    },
    {
      "cell_type": "code",
      "execution_count": null,
      "metadata": {
        "colab": {
          "base_uri": "https://localhost:8080/"
        },
        "id": "7wLG1yLuSUEk",
        "outputId": "6e1c647e-c3b3-4f2a-a326-68b2eeead23f"
      },
      "outputs": [
        {
          "data": {
            "text/plain": [
              "id_prod    3287\n",
              "price      3287\n",
              "categ      3287\n",
              "dtype: int64"
            ]
          },
          "execution_count": 13,
          "metadata": {},
          "output_type": "execute_result"
        }
      ],
      "source": [
        "p.count()"
      ]
    },
    {
      "cell_type": "code",
      "execution_count": null,
      "metadata": {
        "colab": {
          "base_uri": "https://localhost:8080/"
        },
        "id": "zxTwQRkWPuv6",
        "outputId": "138e538b-740d-4dc2-9906-7d753edfdbef"
      },
      "outputs": [
        {
          "name": "stdout",
          "output_type": "stream",
          "text": [
            "<class 'pandas.core.frame.DataFrame'>\n",
            "RangeIndex: 3287 entries, 0 to 3286\n",
            "Data columns (total 3 columns):\n",
            " #   Column   Non-Null Count  Dtype  \n",
            "---  ------   --------------  -----  \n",
            " 0   id_prod  3287 non-null   object \n",
            " 1   price    3287 non-null   float64\n",
            " 2   categ    3287 non-null   int64  \n",
            "dtypes: float64(1), int64(1), object(1)\n",
            "memory usage: 77.2+ KB\n"
          ]
        }
      ],
      "source": [
        "p.info()"
      ]
    },
    {
      "cell_type": "code",
      "execution_count": null,
      "metadata": {
        "colab": {
          "base_uri": "https://localhost:8080/",
          "height": 297
        },
        "id": "7iTHeg2KS4fG",
        "outputId": "0e9abdaa-f765-47b7-c4ab-3d3d7e40cb12"
      },
      "outputs": [
        {
          "data": {
            "text/html": [
              "<div>\n",
              "<style scoped>\n",
              "    .dataframe tbody tr th:only-of-type {\n",
              "        vertical-align: middle;\n",
              "    }\n",
              "\n",
              "    .dataframe tbody tr th {\n",
              "        vertical-align: top;\n",
              "    }\n",
              "\n",
              "    .dataframe thead th {\n",
              "        text-align: right;\n",
              "    }\n",
              "</style>\n",
              "<table border=\"1\" class=\"dataframe\">\n",
              "  <thead>\n",
              "    <tr style=\"text-align: right;\">\n",
              "      <th></th>\n",
              "      <th>price</th>\n",
              "      <th>categ</th>\n",
              "    </tr>\n",
              "  </thead>\n",
              "  <tbody>\n",
              "    <tr>\n",
              "      <th>count</th>\n",
              "      <td>3287.000000</td>\n",
              "      <td>3287.000000</td>\n",
              "    </tr>\n",
              "    <tr>\n",
              "      <th>mean</th>\n",
              "      <td>21.856641</td>\n",
              "      <td>0.370246</td>\n",
              "    </tr>\n",
              "    <tr>\n",
              "      <th>std</th>\n",
              "      <td>29.847908</td>\n",
              "      <td>0.615387</td>\n",
              "    </tr>\n",
              "    <tr>\n",
              "      <th>min</th>\n",
              "      <td>-1.000000</td>\n",
              "      <td>0.000000</td>\n",
              "    </tr>\n",
              "    <tr>\n",
              "      <th>25%</th>\n",
              "      <td>6.990000</td>\n",
              "      <td>0.000000</td>\n",
              "    </tr>\n",
              "    <tr>\n",
              "      <th>50%</th>\n",
              "      <td>13.060000</td>\n",
              "      <td>0.000000</td>\n",
              "    </tr>\n",
              "    <tr>\n",
              "      <th>75%</th>\n",
              "      <td>22.990000</td>\n",
              "      <td>1.000000</td>\n",
              "    </tr>\n",
              "    <tr>\n",
              "      <th>max</th>\n",
              "      <td>300.000000</td>\n",
              "      <td>2.000000</td>\n",
              "    </tr>\n",
              "  </tbody>\n",
              "</table>\n",
              "</div>"
            ],
            "text/plain": [
              "             price        categ\n",
              "count  3287.000000  3287.000000\n",
              "mean     21.856641     0.370246\n",
              "std      29.847908     0.615387\n",
              "min      -1.000000     0.000000\n",
              "25%       6.990000     0.000000\n",
              "50%      13.060000     0.000000\n",
              "75%      22.990000     1.000000\n",
              "max     300.000000     2.000000"
            ]
          },
          "execution_count": 15,
          "metadata": {},
          "output_type": "execute_result"
        }
      ],
      "source": [
        "p.describe()"
      ]
    },
    {
      "cell_type": "code",
      "execution_count": null,
      "metadata": {
        "colab": {
          "base_uri": "https://localhost:8080/",
          "height": 111
        },
        "id": "WipKmsGmRKCG",
        "outputId": "ddf05e2c-f63c-4505-c154-a72ef58bcfa9"
      },
      "outputs": [
        {
          "data": {
            "text/html": [
              "<div>\n",
              "<style scoped>\n",
              "    .dataframe tbody tr th:only-of-type {\n",
              "        vertical-align: middle;\n",
              "    }\n",
              "\n",
              "    .dataframe tbody tr th {\n",
              "        vertical-align: top;\n",
              "    }\n",
              "\n",
              "    .dataframe thead th {\n",
              "        text-align: right;\n",
              "    }\n",
              "</style>\n",
              "<table border=\"1\" class=\"dataframe\">\n",
              "  <thead>\n",
              "    <tr style=\"text-align: right;\">\n",
              "      <th></th>\n",
              "      <th>id_prod</th>\n",
              "      <th>price</th>\n",
              "      <th>categ</th>\n",
              "    </tr>\n",
              "  </thead>\n",
              "  <tbody>\n",
              "    <tr>\n",
              "      <th>0</th>\n",
              "      <td>0_1421</td>\n",
              "      <td>19.99</td>\n",
              "      <td>0</td>\n",
              "    </tr>\n",
              "    <tr>\n",
              "      <th>1</th>\n",
              "      <td>0_1368</td>\n",
              "      <td>5.13</td>\n",
              "      <td>0</td>\n",
              "    </tr>\n",
              "  </tbody>\n",
              "</table>\n",
              "</div>"
            ],
            "text/plain": [
              "  id_prod  price  categ\n",
              "0  0_1421  19.99      0\n",
              "1  0_1368   5.13      0"
            ]
          },
          "execution_count": 16,
          "metadata": {},
          "output_type": "execute_result"
        }
      ],
      "source": [
        "p.head(2)"
      ]
    },
    {
      "cell_type": "markdown",
      "metadata": {
        "id": "P7rAK35lRKCU"
      },
      "source": [
        "Contient **~3200** produits"
      ]
    },
    {
      "cell_type": "markdown",
      "metadata": {
        "id": "UtBNysm3RKCV"
      },
      "source": [
        "colonnes :\n",
        "- `id_prod`: clef primaire\n",
        "- `categ`: 0, 1 ou 2 (70%, 23%, 7%)\n",
        "\n",
        "Autres :\n",
        "- pas de valeurs nulles"
      ]
    },
    {
      "cell_type": "code",
      "execution_count": null,
      "metadata": {
        "colab": {
          "base_uri": "https://localhost:8080/"
        },
        "id": "Z0-IPFsiQaHq",
        "outputId": "bf8f0e18-5903-4e4c-a509-b62d4934b87f"
      },
      "outputs": [
        {
          "data": {
            "text/plain": [
              "0    2309\n",
              "1     739\n",
              "2     239\n",
              "Name: categ, dtype: int64"
            ]
          },
          "execution_count": 17,
          "metadata": {},
          "output_type": "execute_result"
        }
      ],
      "source": [
        "# p['categ'].describe()\n",
        "p['categ'].value_counts()"
      ]
    },
    {
      "cell_type": "markdown",
      "metadata": {
        "id": "RFii0azDRKCX"
      },
      "source": [
        "### `Transactions`"
      ]
    },
    {
      "cell_type": "markdown",
      "metadata": {
        "id": "kUll7Ky_RKCb"
      },
      "source": [
        "il y a **~340 000** transactions"
      ]
    },
    {
      "cell_type": "code",
      "execution_count": null,
      "metadata": {
        "colab": {
          "base_uri": "https://localhost:8080/",
          "height": 111
        },
        "id": "HDXvxlsZRKCd",
        "outputId": "a3e1c7b9-c5f7-4d8c-9860-2e93db762510",
        "scrolled": true
      },
      "outputs": [
        {
          "data": {
            "text/html": [
              "<div>\n",
              "<style scoped>\n",
              "    .dataframe tbody tr th:only-of-type {\n",
              "        vertical-align: middle;\n",
              "    }\n",
              "\n",
              "    .dataframe tbody tr th {\n",
              "        vertical-align: top;\n",
              "    }\n",
              "\n",
              "    .dataframe thead th {\n",
              "        text-align: right;\n",
              "    }\n",
              "</style>\n",
              "<table border=\"1\" class=\"dataframe\">\n",
              "  <thead>\n",
              "    <tr style=\"text-align: right;\">\n",
              "      <th></th>\n",
              "      <th>id_prod</th>\n",
              "      <th>date</th>\n",
              "      <th>session_id</th>\n",
              "      <th>client_id</th>\n",
              "    </tr>\n",
              "  </thead>\n",
              "  <tbody>\n",
              "    <tr>\n",
              "      <th>0</th>\n",
              "      <td>0_1483</td>\n",
              "      <td>2021-04-10 18:37:28.723910</td>\n",
              "      <td>s_18746</td>\n",
              "      <td>c_4450</td>\n",
              "    </tr>\n",
              "    <tr>\n",
              "      <th>1</th>\n",
              "      <td>2_226</td>\n",
              "      <td>2022-02-03 01:55:53.276402</td>\n",
              "      <td>s_159142</td>\n",
              "      <td>c_277</td>\n",
              "    </tr>\n",
              "  </tbody>\n",
              "</table>\n",
              "</div>"
            ],
            "text/plain": [
              "  id_prod                        date session_id client_id\n",
              "0  0_1483  2021-04-10 18:37:28.723910    s_18746    c_4450\n",
              "1   2_226  2022-02-03 01:55:53.276402   s_159142     c_277"
            ]
          },
          "execution_count": 18,
          "metadata": {},
          "output_type": "execute_result"
        }
      ],
      "source": [
        "t.head(2)"
      ]
    },
    {
      "cell_type": "markdown",
      "metadata": {
        "id": "xvJK5jLJRKCl"
      },
      "source": [
        "Colonnes :\n",
        "- `id_prod` : id du produit acheté\n",
        "- `client_id` : id de l'acheteur\n",
        "- `session_id` : la session pendant laquelle laquelle le client a acheté\n",
        "- `date` : la date d'achat\n",
        "\n",
        "Autre :\n",
        " - il n'y a pas de valeurs nulles\n",
        " - Il y a un utilisateur par sessions (sauf pour s_0 qui a ct_0 et ct_1). Mais un utilisateur peut avoir plusieurs sessions\n",
        " - ct_0 et ct_1 posent problème.\n",
        "    - Ils ont acheté T_0 126 fois à partir de la meme session (s_0) a ~2021-03-01 02:30:02.2374."
      ]
    },
    {
      "cell_type": "code",
      "execution_count": null,
      "metadata": {
        "colab": {
          "base_uri": "https://localhost:8080/",
          "height": 173
        },
        "id": "ax8kWNf4R_4E",
        "outputId": "089acf38-90b9-4d61-cd67-ce8c9fa520a0"
      },
      "outputs": [
        {
          "data": {
            "text/html": [
              "<div>\n",
              "<style scoped>\n",
              "    .dataframe tbody tr th:only-of-type {\n",
              "        vertical-align: middle;\n",
              "    }\n",
              "\n",
              "    .dataframe tbody tr th {\n",
              "        vertical-align: top;\n",
              "    }\n",
              "\n",
              "    .dataframe thead th {\n",
              "        text-align: right;\n",
              "    }\n",
              "</style>\n",
              "<table border=\"1\" class=\"dataframe\">\n",
              "  <thead>\n",
              "    <tr style=\"text-align: right;\">\n",
              "      <th></th>\n",
              "      <th>id_prod</th>\n",
              "      <th>date</th>\n",
              "      <th>session_id</th>\n",
              "      <th>client_id</th>\n",
              "    </tr>\n",
              "  </thead>\n",
              "  <tbody>\n",
              "    <tr>\n",
              "      <th>count</th>\n",
              "      <td>337016</td>\n",
              "      <td>337016</td>\n",
              "      <td>337016</td>\n",
              "      <td>337016</td>\n",
              "    </tr>\n",
              "    <tr>\n",
              "      <th>unique</th>\n",
              "      <td>3266</td>\n",
              "      <td>336855</td>\n",
              "      <td>169195</td>\n",
              "      <td>8602</td>\n",
              "    </tr>\n",
              "    <tr>\n",
              "      <th>top</th>\n",
              "      <td>1_369</td>\n",
              "      <td>test_2021-03-01 02:30:02.237413</td>\n",
              "      <td>s_0</td>\n",
              "      <td>c_1609</td>\n",
              "    </tr>\n",
              "    <tr>\n",
              "      <th>freq</th>\n",
              "      <td>1081</td>\n",
              "      <td>13</td>\n",
              "      <td>200</td>\n",
              "      <td>12855</td>\n",
              "    </tr>\n",
              "  </tbody>\n",
              "</table>\n",
              "</div>"
            ],
            "text/plain": [
              "       id_prod                             date session_id client_id\n",
              "count   337016                           337016     337016    337016\n",
              "unique    3266                           336855     169195      8602\n",
              "top      1_369  test_2021-03-01 02:30:02.237413        s_0    c_1609\n",
              "freq      1081                               13        200     12855"
            ]
          },
          "execution_count": 19,
          "metadata": {},
          "output_type": "execute_result"
        }
      ],
      "source": [
        "t.describe()"
      ]
    },
    {
      "cell_type": "code",
      "execution_count": null,
      "metadata": {
        "colab": {
          "base_uri": "https://localhost:8080/",
          "height": 419
        },
        "id": "mb_5gPaqLmYa",
        "outputId": "f29e87fd-5990-4397-a110-e184b833add2"
      },
      "outputs": [
        {
          "data": {
            "text/html": [
              "<div>\n",
              "<style scoped>\n",
              "    .dataframe tbody tr th:only-of-type {\n",
              "        vertical-align: middle;\n",
              "    }\n",
              "\n",
              "    .dataframe tbody tr th {\n",
              "        vertical-align: top;\n",
              "    }\n",
              "\n",
              "    .dataframe thead th {\n",
              "        text-align: right;\n",
              "    }\n",
              "</style>\n",
              "<table border=\"1\" class=\"dataframe\">\n",
              "  <thead>\n",
              "    <tr style=\"text-align: right;\">\n",
              "      <th></th>\n",
              "      <th>id_prod</th>\n",
              "      <th>date</th>\n",
              "      <th>session_id</th>\n",
              "      <th>client_id</th>\n",
              "    </tr>\n",
              "  </thead>\n",
              "  <tbody>\n",
              "    <tr>\n",
              "      <th>0</th>\n",
              "      <td>0_1483</td>\n",
              "      <td>2021-04-10 18:37:28.723910</td>\n",
              "      <td>s_18746</td>\n",
              "      <td>c_4450</td>\n",
              "    </tr>\n",
              "    <tr>\n",
              "      <th>1</th>\n",
              "      <td>2_226</td>\n",
              "      <td>2022-02-03 01:55:53.276402</td>\n",
              "      <td>s_159142</td>\n",
              "      <td>c_277</td>\n",
              "    </tr>\n",
              "    <tr>\n",
              "      <th>2</th>\n",
              "      <td>1_374</td>\n",
              "      <td>2021-09-23 15:13:46.938559</td>\n",
              "      <td>s_94290</td>\n",
              "      <td>c_4270</td>\n",
              "    </tr>\n",
              "    <tr>\n",
              "      <th>3</th>\n",
              "      <td>0_2186</td>\n",
              "      <td>2021-10-17 03:27:18.783634</td>\n",
              "      <td>s_105936</td>\n",
              "      <td>c_4597</td>\n",
              "    </tr>\n",
              "    <tr>\n",
              "      <th>4</th>\n",
              "      <td>0_1351</td>\n",
              "      <td>2021-07-17 20:34:25.800563</td>\n",
              "      <td>s_63642</td>\n",
              "      <td>c_1242</td>\n",
              "    </tr>\n",
              "    <tr>\n",
              "      <th>...</th>\n",
              "      <td>...</td>\n",
              "      <td>...</td>\n",
              "      <td>...</td>\n",
              "      <td>...</td>\n",
              "    </tr>\n",
              "    <tr>\n",
              "      <th>337011</th>\n",
              "      <td>1_671</td>\n",
              "      <td>2021-05-28 12:35:46.214839</td>\n",
              "      <td>s_40720</td>\n",
              "      <td>c_3454</td>\n",
              "    </tr>\n",
              "    <tr>\n",
              "      <th>337012</th>\n",
              "      <td>0_759</td>\n",
              "      <td>2021-06-19 00:19:23.917703</td>\n",
              "      <td>s_50568</td>\n",
              "      <td>c_6268</td>\n",
              "    </tr>\n",
              "    <tr>\n",
              "      <th>337013</th>\n",
              "      <td>0_1256</td>\n",
              "      <td>2021-03-16 17:31:59.442007</td>\n",
              "      <td>s_7219</td>\n",
              "      <td>c_4137</td>\n",
              "    </tr>\n",
              "    <tr>\n",
              "      <th>337014</th>\n",
              "      <td>2_227</td>\n",
              "      <td>2021-10-30 16:50:15.997750</td>\n",
              "      <td>s_112349</td>\n",
              "      <td>c_5</td>\n",
              "    </tr>\n",
              "    <tr>\n",
              "      <th>337015</th>\n",
              "      <td>0_1417</td>\n",
              "      <td>2021-06-26 14:38:19.732946</td>\n",
              "      <td>s_54117</td>\n",
              "      <td>c_6714</td>\n",
              "    </tr>\n",
              "  </tbody>\n",
              "</table>\n",
              "<p>337016 rows × 4 columns</p>\n",
              "</div>"
            ],
            "text/plain": [
              "       id_prod                        date session_id client_id\n",
              "0       0_1483  2021-04-10 18:37:28.723910    s_18746    c_4450\n",
              "1        2_226  2022-02-03 01:55:53.276402   s_159142     c_277\n",
              "2        1_374  2021-09-23 15:13:46.938559    s_94290    c_4270\n",
              "3       0_2186  2021-10-17 03:27:18.783634   s_105936    c_4597\n",
              "4       0_1351  2021-07-17 20:34:25.800563    s_63642    c_1242\n",
              "...        ...                         ...        ...       ...\n",
              "337011   1_671  2021-05-28 12:35:46.214839    s_40720    c_3454\n",
              "337012   0_759  2021-06-19 00:19:23.917703    s_50568    c_6268\n",
              "337013  0_1256  2021-03-16 17:31:59.442007     s_7219    c_4137\n",
              "337014   2_227  2021-10-30 16:50:15.997750   s_112349       c_5\n",
              "337015  0_1417  2021-06-26 14:38:19.732946    s_54117    c_6714\n",
              "\n",
              "[337016 rows x 4 columns]"
            ]
          },
          "execution_count": 20,
          "metadata": {},
          "output_type": "execute_result"
        }
      ],
      "source": [
        "t"
      ]
    },
    {
      "cell_type": "code",
      "execution_count": null,
      "metadata": {
        "colab": {
          "base_uri": "https://localhost:8080/",
          "height": 824
        },
        "id": "hzX3BhTjL15S",
        "outputId": "8eba4f4f-bd7a-483a-b021-0809258987a1"
      },
      "outputs": [
        {
          "data": {
            "text/html": [
              "<div>\n",
              "<style scoped>\n",
              "    .dataframe tbody tr th:only-of-type {\n",
              "        vertical-align: middle;\n",
              "    }\n",
              "\n",
              "    .dataframe tbody tr th {\n",
              "        vertical-align: top;\n",
              "    }\n",
              "\n",
              "    .dataframe thead th {\n",
              "        text-align: right;\n",
              "    }\n",
              "</style>\n",
              "<table border=\"1\" class=\"dataframe\">\n",
              "  <thead>\n",
              "    <tr style=\"text-align: right;\">\n",
              "      <th></th>\n",
              "      <th>id_prod</th>\n",
              "      <th>date</th>\n",
              "      <th>session_id</th>\n",
              "      <th>client_id</th>\n",
              "    </tr>\n",
              "  </thead>\n",
              "  <tbody>\n",
              "    <tr>\n",
              "      <th>1</th>\n",
              "      <td>2_226</td>\n",
              "      <td>2022-02-03 01:55:53.276402</td>\n",
              "      <td>s_159142</td>\n",
              "      <td>c_277</td>\n",
              "    </tr>\n",
              "    <tr>\n",
              "      <th>5</th>\n",
              "      <td>0_1085</td>\n",
              "      <td>2021-09-15 05:47:48.215162</td>\n",
              "      <td>s_90139</td>\n",
              "      <td>c_2526</td>\n",
              "    </tr>\n",
              "    <tr>\n",
              "      <th>9</th>\n",
              "      <td>0_1453</td>\n",
              "      <td>2022-02-26 09:03:10.571665</td>\n",
              "      <td>s_171098</td>\n",
              "      <td>c_5433</td>\n",
              "    </tr>\n",
              "    <tr>\n",
              "      <th>13</th>\n",
              "      <td>0_1442</td>\n",
              "      <td>2021-04-24 20:15:14.093786</td>\n",
              "      <td>s_25237</td>\n",
              "      <td>c_2828</td>\n",
              "    </tr>\n",
              "    <tr>\n",
              "      <th>17</th>\n",
              "      <td>0_1452</td>\n",
              "      <td>2021-10-15 10:07:12.401758</td>\n",
              "      <td>s_105078</td>\n",
              "      <td>c_6297</td>\n",
              "    </tr>\n",
              "    <tr>\n",
              "      <th>21</th>\n",
              "      <td>0_336</td>\n",
              "      <td>2021-07-10 04:48:50.708782</td>\n",
              "      <td>s_60294</td>\n",
              "      <td>c_3561</td>\n",
              "    </tr>\n",
              "    <tr>\n",
              "      <th>25</th>\n",
              "      <td>0_2033</td>\n",
              "      <td>2021-12-26 03:05:52.819661</td>\n",
              "      <td>s_140117</td>\n",
              "      <td>c_1407</td>\n",
              "    </tr>\n",
              "    <tr>\n",
              "      <th>29</th>\n",
              "      <td>1_333</td>\n",
              "      <td>2021-08-09 20:27:58.329230</td>\n",
              "      <td>s_73560</td>\n",
              "      <td>c_6706</td>\n",
              "    </tr>\n",
              "    <tr>\n",
              "      <th>33</th>\n",
              "      <td>1_622</td>\n",
              "      <td>2021-12-28 02:56:00.200349</td>\n",
              "      <td>s_141121</td>\n",
              "      <td>c_2220</td>\n",
              "    </tr>\n",
              "    <tr>\n",
              "      <th>37</th>\n",
              "      <td>0_1160</td>\n",
              "      <td>2021-05-29 02:45:43.977214</td>\n",
              "      <td>s_40994</td>\n",
              "      <td>c_8304</td>\n",
              "    </tr>\n",
              "    <tr>\n",
              "      <th>41</th>\n",
              "      <td>0_1390</td>\n",
              "      <td>2022-02-02 22:01:57.944581</td>\n",
              "      <td>s_159048</td>\n",
              "      <td>c_2397</td>\n",
              "    </tr>\n",
              "    <tr>\n",
              "      <th>45</th>\n",
              "      <td>0_1082</td>\n",
              "      <td>2022-02-15 12:13:31.349312</td>\n",
              "      <td>s_165521</td>\n",
              "      <td>c_3030</td>\n",
              "    </tr>\n",
              "    <tr>\n",
              "      <th>49</th>\n",
              "      <td>0_603</td>\n",
              "      <td>2022-01-24 04:58:05.975530</td>\n",
              "      <td>s_154362</td>\n",
              "      <td>c_8392</td>\n",
              "    </tr>\n",
              "    <tr>\n",
              "      <th>53</th>\n",
              "      <td>0_1464</td>\n",
              "      <td>2021-09-21 09:24:43.362484</td>\n",
              "      <td>s_93165</td>\n",
              "      <td>c_3519</td>\n",
              "    </tr>\n",
              "    <tr>\n",
              "      <th>57</th>\n",
              "      <td>1_383</td>\n",
              "      <td>2022-02-04 03:49:56.147696</td>\n",
              "      <td>s_159680</td>\n",
              "      <td>c_3061</td>\n",
              "    </tr>\n",
              "    <tr>\n",
              "      <th>61</th>\n",
              "      <td>1_451</td>\n",
              "      <td>2021-06-16 16:20:06.755708</td>\n",
              "      <td>s_49536</td>\n",
              "      <td>c_6897</td>\n",
              "    </tr>\n",
              "    <tr>\n",
              "      <th>65</th>\n",
              "      <td>1_504</td>\n",
              "      <td>2021-08-31 13:15:27.245884</td>\n",
              "      <td>s_83148</td>\n",
              "      <td>c_4326</td>\n",
              "    </tr>\n",
              "    <tr>\n",
              "      <th>69</th>\n",
              "      <td>0_1762</td>\n",
              "      <td>2022-01-21 23:06:56.380490</td>\n",
              "      <td>s_153280</td>\n",
              "      <td>c_8451</td>\n",
              "    </tr>\n",
              "    <tr>\n",
              "      <th>73</th>\n",
              "      <td>2_208</td>\n",
              "      <td>2021-08-21 21:58:40.983725</td>\n",
              "      <td>s_78917</td>\n",
              "      <td>c_7881</td>\n",
              "    </tr>\n",
              "    <tr>\n",
              "      <th>77</th>\n",
              "      <td>0_1342</td>\n",
              "      <td>2021-04-25 11:56:45.127977</td>\n",
              "      <td>s_25525</td>\n",
              "      <td>c_5328</td>\n",
              "    </tr>\n",
              "    <tr>\n",
              "      <th>81</th>\n",
              "      <td>1_369</td>\n",
              "      <td>2021-09-15 20:03:08.217907</td>\n",
              "      <td>s_90440</td>\n",
              "      <td>c_2538</td>\n",
              "    </tr>\n",
              "    <tr>\n",
              "      <th>85</th>\n",
              "      <td>1_267</td>\n",
              "      <td>2022-02-18 02:17:36.636200</td>\n",
              "      <td>s_166882</td>\n",
              "      <td>c_1020</td>\n",
              "    </tr>\n",
              "    <tr>\n",
              "      <th>89</th>\n",
              "      <td>1_395</td>\n",
              "      <td>2021-12-26 10:40:20.129155</td>\n",
              "      <td>s_140283</td>\n",
              "      <td>c_7709</td>\n",
              "    </tr>\n",
              "    <tr>\n",
              "      <th>93</th>\n",
              "      <td>0_2235</td>\n",
              "      <td>2021-11-13 04:54:48.495538</td>\n",
              "      <td>s_118872</td>\n",
              "      <td>c_868</td>\n",
              "    </tr>\n",
              "    <tr>\n",
              "      <th>97</th>\n",
              "      <td>1_293</td>\n",
              "      <td>2022-01-08 05:49:42.640636</td>\n",
              "      <td>s_146683</td>\n",
              "      <td>c_3005</td>\n",
              "    </tr>\n",
              "  </tbody>\n",
              "</table>\n",
              "</div>"
            ],
            "text/plain": [
              "   id_prod                        date session_id client_id\n",
              "1    2_226  2022-02-03 01:55:53.276402   s_159142     c_277\n",
              "5   0_1085  2021-09-15 05:47:48.215162    s_90139    c_2526\n",
              "9   0_1453  2022-02-26 09:03:10.571665   s_171098    c_5433\n",
              "13  0_1442  2021-04-24 20:15:14.093786    s_25237    c_2828\n",
              "17  0_1452  2021-10-15 10:07:12.401758   s_105078    c_6297\n",
              "21   0_336  2021-07-10 04:48:50.708782    s_60294    c_3561\n",
              "25  0_2033  2021-12-26 03:05:52.819661   s_140117    c_1407\n",
              "29   1_333  2021-08-09 20:27:58.329230    s_73560    c_6706\n",
              "33   1_622  2021-12-28 02:56:00.200349   s_141121    c_2220\n",
              "37  0_1160  2021-05-29 02:45:43.977214    s_40994    c_8304\n",
              "41  0_1390  2022-02-02 22:01:57.944581   s_159048    c_2397\n",
              "45  0_1082  2022-02-15 12:13:31.349312   s_165521    c_3030\n",
              "49   0_603  2022-01-24 04:58:05.975530   s_154362    c_8392\n",
              "53  0_1464  2021-09-21 09:24:43.362484    s_93165    c_3519\n",
              "57   1_383  2022-02-04 03:49:56.147696   s_159680    c_3061\n",
              "61   1_451  2021-06-16 16:20:06.755708    s_49536    c_6897\n",
              "65   1_504  2021-08-31 13:15:27.245884    s_83148    c_4326\n",
              "69  0_1762  2022-01-21 23:06:56.380490   s_153280    c_8451\n",
              "73   2_208  2021-08-21 21:58:40.983725    s_78917    c_7881\n",
              "77  0_1342  2021-04-25 11:56:45.127977    s_25525    c_5328\n",
              "81   1_369  2021-09-15 20:03:08.217907    s_90440    c_2538\n",
              "85   1_267  2022-02-18 02:17:36.636200   s_166882    c_1020\n",
              "89   1_395  2021-12-26 10:40:20.129155   s_140283    c_7709\n",
              "93  0_2235  2021-11-13 04:54:48.495538   s_118872     c_868\n",
              "97   1_293  2022-01-08 05:49:42.640636   s_146683    c_3005"
            ]
          },
          "execution_count": 21,
          "metadata": {},
          "output_type": "execute_result"
        }
      ],
      "source": [
        "t.iloc[1:100:4]"
      ]
    },
    {
      "cell_type": "code",
      "execution_count": null,
      "metadata": {
        "colab": {
          "base_uri": "https://localhost:8080/"
        },
        "id": "fYC_xnCZMLLQ",
        "outputId": "842a8fa8-db23-4769-aa11-23b52ccaa632"
      },
      "outputs": [
        {
          "data": {
            "text/plain": [
              "(337016, 4)"
            ]
          },
          "execution_count": 22,
          "metadata": {},
          "output_type": "execute_result"
        }
      ],
      "source": [
        "t.shape"
      ]
    },
    {
      "cell_type": "code",
      "execution_count": null,
      "metadata": {
        "colab": {
          "base_uri": "https://localhost:8080/",
          "height": 419
        },
        "id": "WmQRa4FzSlxK",
        "outputId": "4d02a137-0d48-4c9f-9e4c-db0aa824b17c"
      },
      "outputs": [
        {
          "data": {
            "text/html": [
              "<div>\n",
              "<style scoped>\n",
              "    .dataframe tbody tr th:only-of-type {\n",
              "        vertical-align: middle;\n",
              "    }\n",
              "\n",
              "    .dataframe tbody tr th {\n",
              "        vertical-align: top;\n",
              "    }\n",
              "\n",
              "    .dataframe thead th {\n",
              "        text-align: right;\n",
              "    }\n",
              "</style>\n",
              "<table border=\"1\" class=\"dataframe\">\n",
              "  <thead>\n",
              "    <tr style=\"text-align: right;\">\n",
              "      <th></th>\n",
              "      <th>id_prod</th>\n",
              "      <th>date</th>\n",
              "      <th>session_id</th>\n",
              "      <th>client_id</th>\n",
              "    </tr>\n",
              "  </thead>\n",
              "  <tbody>\n",
              "    <tr>\n",
              "      <th>0</th>\n",
              "      <td>0_1483</td>\n",
              "      <td>2021-04-10 18:37:28.723910</td>\n",
              "      <td>s_18746</td>\n",
              "      <td>c_4450</td>\n",
              "    </tr>\n",
              "    <tr>\n",
              "      <th>10</th>\n",
              "      <td>0_423</td>\n",
              "      <td>2021-10-09 23:50:33.907269</td>\n",
              "      <td>s_102501</td>\n",
              "      <td>c_2225</td>\n",
              "    </tr>\n",
              "    <tr>\n",
              "      <th>20</th>\n",
              "      <td>1_333</td>\n",
              "      <td>2021-12-17 06:22:03.132127</td>\n",
              "      <td>s_135611</td>\n",
              "      <td>c_615</td>\n",
              "    </tr>\n",
              "    <tr>\n",
              "      <th>30</th>\n",
              "      <td>1_348</td>\n",
              "      <td>2021-11-10 22:00:16.549071</td>\n",
              "      <td>s_117707</td>\n",
              "      <td>c_2954</td>\n",
              "    </tr>\n",
              "    <tr>\n",
              "      <th>40</th>\n",
              "      <td>0_1420</td>\n",
              "      <td>2021-04-18 02:28:31.024271</td>\n",
              "      <td>s_22109</td>\n",
              "      <td>c_8444</td>\n",
              "    </tr>\n",
              "    <tr>\n",
              "      <th>...</th>\n",
              "      <td>...</td>\n",
              "      <td>...</td>\n",
              "      <td>...</td>\n",
              "      <td>...</td>\n",
              "    </tr>\n",
              "    <tr>\n",
              "      <th>336970</th>\n",
              "      <td>0_2122</td>\n",
              "      <td>2021-12-16 02:28:24.747755</td>\n",
              "      <td>s_135033</td>\n",
              "      <td>c_4788</td>\n",
              "    </tr>\n",
              "    <tr>\n",
              "      <th>336980</th>\n",
              "      <td>0_1052</td>\n",
              "      <td>2022-02-10 09:19:00.677407</td>\n",
              "      <td>s_162866</td>\n",
              "      <td>c_7949</td>\n",
              "    </tr>\n",
              "    <tr>\n",
              "      <th>336990</th>\n",
              "      <td>0_1047</td>\n",
              "      <td>2021-11-24 13:59:04.499331</td>\n",
              "      <td>s_124402</td>\n",
              "      <td>c_7925</td>\n",
              "    </tr>\n",
              "    <tr>\n",
              "      <th>337000</th>\n",
              "      <td>2_147</td>\n",
              "      <td>2021-03-22 23:59:52.476912</td>\n",
              "      <td>s_10118</td>\n",
              "      <td>c_998</td>\n",
              "    </tr>\n",
              "    <tr>\n",
              "      <th>337010</th>\n",
              "      <td>1_498</td>\n",
              "      <td>2022-02-03 01:39:15.793010</td>\n",
              "      <td>s_159138</td>\n",
              "      <td>c_1857</td>\n",
              "    </tr>\n",
              "  </tbody>\n",
              "</table>\n",
              "<p>33702 rows × 4 columns</p>\n",
              "</div>"
            ],
            "text/plain": [
              "       id_prod                        date session_id client_id\n",
              "0       0_1483  2021-04-10 18:37:28.723910    s_18746    c_4450\n",
              "10       0_423  2021-10-09 23:50:33.907269   s_102501    c_2225\n",
              "20       1_333  2021-12-17 06:22:03.132127   s_135611     c_615\n",
              "30       1_348  2021-11-10 22:00:16.549071   s_117707    c_2954\n",
              "40      0_1420  2021-04-18 02:28:31.024271    s_22109    c_8444\n",
              "...        ...                         ...        ...       ...\n",
              "336970  0_2122  2021-12-16 02:28:24.747755   s_135033    c_4788\n",
              "336980  0_1052  2022-02-10 09:19:00.677407   s_162866    c_7949\n",
              "336990  0_1047  2021-11-24 13:59:04.499331   s_124402    c_7925\n",
              "337000   2_147  2021-03-22 23:59:52.476912    s_10118     c_998\n",
              "337010   1_498  2022-02-03 01:39:15.793010   s_159138    c_1857\n",
              "\n",
              "[33702 rows x 4 columns]"
            ]
          },
          "execution_count": 23,
          "metadata": {},
          "output_type": "execute_result"
        }
      ],
      "source": [
        "# Accès indicé aux données d'un DataFrame\n",
        "t.iloc[::10,]\n",
        "# t.shape"
      ]
    },
    {
      "cell_type": "code",
      "execution_count": null,
      "metadata": {
        "colab": {
          "base_uri": "https://localhost:8080/",
          "height": 419
        },
        "id": "RPeQHeR-Tulc",
        "outputId": "e38c6ee0-0964-48bc-a071-73a9a4e614fb"
      },
      "outputs": [
        {
          "data": {
            "text/html": [
              "<div>\n",
              "<style scoped>\n",
              "    .dataframe tbody tr th:only-of-type {\n",
              "        vertical-align: middle;\n",
              "    }\n",
              "\n",
              "    .dataframe tbody tr th {\n",
              "        vertical-align: top;\n",
              "    }\n",
              "\n",
              "    .dataframe thead th {\n",
              "        text-align: right;\n",
              "    }\n",
              "</style>\n",
              "<table border=\"1\" class=\"dataframe\">\n",
              "  <thead>\n",
              "    <tr style=\"text-align: right;\">\n",
              "      <th></th>\n",
              "      <th>id_prod</th>\n",
              "      <th>date</th>\n",
              "      <th>session_id</th>\n",
              "      <th>client_id</th>\n",
              "    </tr>\n",
              "  </thead>\n",
              "  <tbody>\n",
              "    <tr>\n",
              "      <th>1431</th>\n",
              "      <td>T_0</td>\n",
              "      <td>test_2021-03-01 02:30:02.237420</td>\n",
              "      <td>s_0</td>\n",
              "      <td>ct_1</td>\n",
              "    </tr>\n",
              "    <tr>\n",
              "      <th>2365</th>\n",
              "      <td>T_0</td>\n",
              "      <td>test_2021-03-01 02:30:02.237446</td>\n",
              "      <td>s_0</td>\n",
              "      <td>ct_1</td>\n",
              "    </tr>\n",
              "    <tr>\n",
              "      <th>2895</th>\n",
              "      <td>T_0</td>\n",
              "      <td>test_2021-03-01 02:30:02.237414</td>\n",
              "      <td>s_0</td>\n",
              "      <td>ct_1</td>\n",
              "    </tr>\n",
              "    <tr>\n",
              "      <th>5955</th>\n",
              "      <td>T_0</td>\n",
              "      <td>test_2021-03-01 02:30:02.237441</td>\n",
              "      <td>s_0</td>\n",
              "      <td>ct_0</td>\n",
              "    </tr>\n",
              "    <tr>\n",
              "      <th>7283</th>\n",
              "      <td>T_0</td>\n",
              "      <td>test_2021-03-01 02:30:02.237434</td>\n",
              "      <td>s_0</td>\n",
              "      <td>ct_1</td>\n",
              "    </tr>\n",
              "    <tr>\n",
              "      <th>...</th>\n",
              "      <td>...</td>\n",
              "      <td>...</td>\n",
              "      <td>...</td>\n",
              "      <td>...</td>\n",
              "    </tr>\n",
              "    <tr>\n",
              "      <th>332594</th>\n",
              "      <td>T_0</td>\n",
              "      <td>test_2021-03-01 02:30:02.237445</td>\n",
              "      <td>s_0</td>\n",
              "      <td>ct_0</td>\n",
              "    </tr>\n",
              "    <tr>\n",
              "      <th>332705</th>\n",
              "      <td>T_0</td>\n",
              "      <td>test_2021-03-01 02:30:02.237423</td>\n",
              "      <td>s_0</td>\n",
              "      <td>ct_1</td>\n",
              "    </tr>\n",
              "    <tr>\n",
              "      <th>332730</th>\n",
              "      <td>T_0</td>\n",
              "      <td>test_2021-03-01 02:30:02.237421</td>\n",
              "      <td>s_0</td>\n",
              "      <td>ct_1</td>\n",
              "    </tr>\n",
              "    <tr>\n",
              "      <th>333442</th>\n",
              "      <td>T_0</td>\n",
              "      <td>test_2021-03-01 02:30:02.237431</td>\n",
              "      <td>s_0</td>\n",
              "      <td>ct_1</td>\n",
              "    </tr>\n",
              "    <tr>\n",
              "      <th>335279</th>\n",
              "      <td>T_0</td>\n",
              "      <td>test_2021-03-01 02:30:02.237430</td>\n",
              "      <td>s_0</td>\n",
              "      <td>ct_0</td>\n",
              "    </tr>\n",
              "  </tbody>\n",
              "</table>\n",
              "<p>200 rows × 4 columns</p>\n",
              "</div>"
            ],
            "text/plain": [
              "       id_prod                             date session_id client_id\n",
              "1431       T_0  test_2021-03-01 02:30:02.237420        s_0      ct_1\n",
              "2365       T_0  test_2021-03-01 02:30:02.237446        s_0      ct_1\n",
              "2895       T_0  test_2021-03-01 02:30:02.237414        s_0      ct_1\n",
              "5955       T_0  test_2021-03-01 02:30:02.237441        s_0      ct_0\n",
              "7283       T_0  test_2021-03-01 02:30:02.237434        s_0      ct_1\n",
              "...        ...                              ...        ...       ...\n",
              "332594     T_0  test_2021-03-01 02:30:02.237445        s_0      ct_0\n",
              "332705     T_0  test_2021-03-01 02:30:02.237423        s_0      ct_1\n",
              "332730     T_0  test_2021-03-01 02:30:02.237421        s_0      ct_1\n",
              "333442     T_0  test_2021-03-01 02:30:02.237431        s_0      ct_1\n",
              "335279     T_0  test_2021-03-01 02:30:02.237430        s_0      ct_0\n",
              "\n",
              "[200 rows x 4 columns]"
            ]
          },
          "execution_count": 24,
          "metadata": {},
          "output_type": "execute_result"
        }
      ],
      "source": [
        "\n",
        "t.loc[t['session_id']=='s_0']\n"
      ]
    },
    {
      "cell_type": "markdown",
      "metadata": {
        "id": "EfrkiHJZRKCn"
      },
      "source": [
        "# Jointure"
      ]
    },
    {
      "cell_type": "markdown",
      "metadata": {
        "id": "4T32gzaORKCq"
      },
      "source": [
        "On fait une  jointure externe pour sauvegarder l'ensembles des produits / clients qui n'ont pas de transactions"
      ]
    },
    {
      "cell_type": "code",
      "execution_count": null,
      "metadata": {
        "colab": {
          "base_uri": "https://localhost:8080/"
        },
        "id": "rF2jkNfsNYm5",
        "outputId": "11d43546-3697-43b2-f90e-c9b9f3640306"
      },
      "outputs": [
        {
          "data": {
            "text/plain": [
              "(3287, 3)"
            ]
          },
          "execution_count": 25,
          "metadata": {},
          "output_type": "execute_result"
        }
      ],
      "source": [
        "p.shape"
      ]
    },
    {
      "cell_type": "code",
      "execution_count": null,
      "metadata": {
        "id": "GWwzsPzq4KHk"
      },
      "outputs": [],
      "source": [
        "# jointure des transac vers les produits\n",
        "df = pd.merge(left=p,right=t,how='outer',on='id_prod')\n"
      ]
    },
    {
      "cell_type": "code",
      "execution_count": null,
      "metadata": {
        "colab": {
          "base_uri": "https://localhost:8080/",
          "height": 204
        },
        "id": "4rN-PdTz4OiS",
        "outputId": "b5c12b7f-7cb7-4e67-db5e-d9bc607ee5c9"
      },
      "outputs": [
        {
          "data": {
            "text/html": [
              "<div>\n",
              "<style scoped>\n",
              "    .dataframe tbody tr th:only-of-type {\n",
              "        vertical-align: middle;\n",
              "    }\n",
              "\n",
              "    .dataframe tbody tr th {\n",
              "        vertical-align: top;\n",
              "    }\n",
              "\n",
              "    .dataframe thead th {\n",
              "        text-align: right;\n",
              "    }\n",
              "</style>\n",
              "<table border=\"1\" class=\"dataframe\">\n",
              "  <thead>\n",
              "    <tr style=\"text-align: right;\">\n",
              "      <th></th>\n",
              "      <th>id_prod</th>\n",
              "      <th>price</th>\n",
              "      <th>categ</th>\n",
              "      <th>date</th>\n",
              "      <th>session_id</th>\n",
              "      <th>client_id</th>\n",
              "    </tr>\n",
              "  </thead>\n",
              "  <tbody>\n",
              "    <tr>\n",
              "      <th>0</th>\n",
              "      <td>0_1421</td>\n",
              "      <td>19.99</td>\n",
              "      <td>0.0</td>\n",
              "      <td>2021-05-12 23:26:29.885083</td>\n",
              "      <td>s_33709</td>\n",
              "      <td>c_7954</td>\n",
              "    </tr>\n",
              "    <tr>\n",
              "      <th>1</th>\n",
              "      <td>0_1421</td>\n",
              "      <td>19.99</td>\n",
              "      <td>0.0</td>\n",
              "      <td>2022-01-25 11:27:39.357012</td>\n",
              "      <td>s_154957</td>\n",
              "      <td>c_254</td>\n",
              "    </tr>\n",
              "    <tr>\n",
              "      <th>2</th>\n",
              "      <td>0_1421</td>\n",
              "      <td>19.99</td>\n",
              "      <td>0.0</td>\n",
              "      <td>2022-01-02 22:29:33.796003</td>\n",
              "      <td>s_144068</td>\n",
              "      <td>c_5770</td>\n",
              "    </tr>\n",
              "    <tr>\n",
              "      <th>3</th>\n",
              "      <td>0_1421</td>\n",
              "      <td>19.99</td>\n",
              "      <td>0.0</td>\n",
              "      <td>2021-03-05 17:10:40.265676</td>\n",
              "      <td>s_2187</td>\n",
              "      <td>c_1455</td>\n",
              "    </tr>\n",
              "    <tr>\n",
              "      <th>4</th>\n",
              "      <td>0_1421</td>\n",
              "      <td>19.99</td>\n",
              "      <td>0.0</td>\n",
              "      <td>2021-03-29 13:55:04.422637</td>\n",
              "      <td>s_13112</td>\n",
              "      <td>c_2768</td>\n",
              "    </tr>\n",
              "  </tbody>\n",
              "</table>\n",
              "</div>"
            ],
            "text/plain": [
              "  id_prod  price  categ                        date session_id client_id\n",
              "0  0_1421  19.99    0.0  2021-05-12 23:26:29.885083    s_33709    c_7954\n",
              "1  0_1421  19.99    0.0  2022-01-25 11:27:39.357012   s_154957     c_254\n",
              "2  0_1421  19.99    0.0  2022-01-02 22:29:33.796003   s_144068    c_5770\n",
              "3  0_1421  19.99    0.0  2021-03-05 17:10:40.265676     s_2187    c_1455\n",
              "4  0_1421  19.99    0.0  2021-03-29 13:55:04.422637    s_13112    c_2768"
            ]
          },
          "execution_count": 27,
          "metadata": {},
          "output_type": "execute_result"
        }
      ],
      "source": [
        "df.head()"
      ]
    },
    {
      "cell_type": "code",
      "execution_count": null,
      "metadata": {
        "colab": {
          "base_uri": "https://localhost:8080/"
        },
        "id": "LhgJmd5wdTSJ",
        "outputId": "ef057a05-d198-4b29-d171-7fe8d41abc1c"
      },
      "outputs": [
        {
          "data": {
            "text/plain": [
              "id_prod       337038\n",
              "price         336935\n",
              "categ         336935\n",
              "date          337016\n",
              "session_id    337016\n",
              "client_id     337016\n",
              "dtype: int64"
            ]
          },
          "execution_count": 28,
          "metadata": {},
          "output_type": "execute_result"
        }
      ],
      "source": [
        "df.count()"
      ]
    },
    {
      "cell_type": "code",
      "execution_count": null,
      "metadata": {
        "id": "otd2IgPGRKCs"
      },
      "outputs": [],
      "source": [
        "# jointures des transac/prod vers c\n",
        "df = pd.merge(left=c,right=df, how='outer',on='client_id')"
      ]
    },
    {
      "cell_type": "code",
      "execution_count": null,
      "metadata": {
        "colab": {
          "base_uri": "https://localhost:8080/",
          "height": 419
        },
        "id": "3D_EA_387Trs",
        "outputId": "1d0afb10-9b22-4845-eee2-eb9c017ba8b1"
      },
      "outputs": [
        {
          "data": {
            "text/html": [
              "<div>\n",
              "<style scoped>\n",
              "    .dataframe tbody tr th:only-of-type {\n",
              "        vertical-align: middle;\n",
              "    }\n",
              "\n",
              "    .dataframe tbody tr th {\n",
              "        vertical-align: top;\n",
              "    }\n",
              "\n",
              "    .dataframe thead th {\n",
              "        text-align: right;\n",
              "    }\n",
              "</style>\n",
              "<table border=\"1\" class=\"dataframe\">\n",
              "  <thead>\n",
              "    <tr style=\"text-align: right;\">\n",
              "      <th></th>\n",
              "      <th>client_id</th>\n",
              "      <th>sex</th>\n",
              "      <th>birth</th>\n",
              "      <th>id_prod</th>\n",
              "      <th>price</th>\n",
              "      <th>categ</th>\n",
              "      <th>date</th>\n",
              "      <th>session_id</th>\n",
              "    </tr>\n",
              "  </thead>\n",
              "  <tbody>\n",
              "    <tr>\n",
              "      <th>0</th>\n",
              "      <td>c_4410</td>\n",
              "      <td>f</td>\n",
              "      <td>1967.0</td>\n",
              "      <td>1_385</td>\n",
              "      <td>25.99</td>\n",
              "      <td>1.0</td>\n",
              "      <td>2021-03-22 01:40:22.782925</td>\n",
              "      <td>s_9707</td>\n",
              "    </tr>\n",
              "    <tr>\n",
              "      <th>10</th>\n",
              "      <td>c_4410</td>\n",
              "      <td>f</td>\n",
              "      <td>1967.0</td>\n",
              "      <td>0_1054</td>\n",
              "      <td>8.11</td>\n",
              "      <td>0.0</td>\n",
              "      <td>2021-10-01 13:16:27.958827</td>\n",
              "      <td>s_98432</td>\n",
              "    </tr>\n",
              "    <tr>\n",
              "      <th>20</th>\n",
              "      <td>c_4410</td>\n",
              "      <td>f</td>\n",
              "      <td>1967.0</td>\n",
              "      <td>0_1277</td>\n",
              "      <td>7.99</td>\n",
              "      <td>0.0</td>\n",
              "      <td>2021-09-25 00:03:39.156997</td>\n",
              "      <td>s_94984</td>\n",
              "    </tr>\n",
              "    <tr>\n",
              "      <th>30</th>\n",
              "      <td>c_4410</td>\n",
              "      <td>f</td>\n",
              "      <td>1967.0</td>\n",
              "      <td>1_436</td>\n",
              "      <td>11.76</td>\n",
              "      <td>1.0</td>\n",
              "      <td>2022-01-04 06:28:01.154886</td>\n",
              "      <td>s_144717</td>\n",
              "    </tr>\n",
              "    <tr>\n",
              "      <th>40</th>\n",
              "      <td>c_7839</td>\n",
              "      <td>f</td>\n",
              "      <td>1975.0</td>\n",
              "      <td>1_448</td>\n",
              "      <td>13.79</td>\n",
              "      <td>1.0</td>\n",
              "      <td>2021-07-05 03:15:20.314263</td>\n",
              "      <td>s_58025</td>\n",
              "    </tr>\n",
              "    <tr>\n",
              "      <th>...</th>\n",
              "      <td>...</td>\n",
              "      <td>...</td>\n",
              "      <td>...</td>\n",
              "      <td>...</td>\n",
              "      <td>...</td>\n",
              "      <td>...</td>\n",
              "      <td>...</td>\n",
              "      <td>...</td>\n",
              "    </tr>\n",
              "    <tr>\n",
              "      <th>337010</th>\n",
              "      <td>c_5643</td>\n",
              "      <td>f</td>\n",
              "      <td>1968.0</td>\n",
              "      <td>1_701</td>\n",
              "      <td>26.99</td>\n",
              "      <td>1.0</td>\n",
              "      <td>2021-08-20 17:11:29.549864</td>\n",
              "      <td>s_78387</td>\n",
              "    </tr>\n",
              "    <tr>\n",
              "      <th>337020</th>\n",
              "      <td>c_84</td>\n",
              "      <td>f</td>\n",
              "      <td>1982.0</td>\n",
              "      <td>1_343</td>\n",
              "      <td>27.99</td>\n",
              "      <td>1.0</td>\n",
              "      <td>2021-04-13 03:59:33.614841</td>\n",
              "      <td>s_19845</td>\n",
              "    </tr>\n",
              "    <tr>\n",
              "      <th>337030</th>\n",
              "      <td>c_84</td>\n",
              "      <td>f</td>\n",
              "      <td>1982.0</td>\n",
              "      <td>0_1113</td>\n",
              "      <td>16.99</td>\n",
              "      <td>0.0</td>\n",
              "      <td>2021-04-13 04:10:27.679097</td>\n",
              "      <td>s_19845</td>\n",
              "    </tr>\n",
              "    <tr>\n",
              "      <th>337040</th>\n",
              "      <td>NaN</td>\n",
              "      <td>NaN</td>\n",
              "      <td>NaN</td>\n",
              "      <td>0_1119</td>\n",
              "      <td>2.99</td>\n",
              "      <td>0.0</td>\n",
              "      <td>NaN</td>\n",
              "      <td>NaN</td>\n",
              "    </tr>\n",
              "    <tr>\n",
              "      <th>337050</th>\n",
              "      <td>NaN</td>\n",
              "      <td>NaN</td>\n",
              "      <td>NaN</td>\n",
              "      <td>1_394</td>\n",
              "      <td>39.73</td>\n",
              "      <td>1.0</td>\n",
              "      <td>NaN</td>\n",
              "      <td>NaN</td>\n",
              "    </tr>\n",
              "  </tbody>\n",
              "</table>\n",
              "<p>33706 rows × 8 columns</p>\n",
              "</div>"
            ],
            "text/plain": [
              "       client_id  sex   birth  ... categ                        date  session_id\n",
              "0         c_4410    f  1967.0  ...   1.0  2021-03-22 01:40:22.782925      s_9707\n",
              "10        c_4410    f  1967.0  ...   0.0  2021-10-01 13:16:27.958827     s_98432\n",
              "20        c_4410    f  1967.0  ...   0.0  2021-09-25 00:03:39.156997     s_94984\n",
              "30        c_4410    f  1967.0  ...   1.0  2022-01-04 06:28:01.154886    s_144717\n",
              "40        c_7839    f  1975.0  ...   1.0  2021-07-05 03:15:20.314263     s_58025\n",
              "...          ...  ...     ...  ...   ...                         ...         ...\n",
              "337010    c_5643    f  1968.0  ...   1.0  2021-08-20 17:11:29.549864     s_78387\n",
              "337020      c_84    f  1982.0  ...   1.0  2021-04-13 03:59:33.614841     s_19845\n",
              "337030      c_84    f  1982.0  ...   0.0  2021-04-13 04:10:27.679097     s_19845\n",
              "337040       NaN  NaN     NaN  ...   0.0                         NaN         NaN\n",
              "337050       NaN  NaN     NaN  ...   1.0                         NaN         NaN\n",
              "\n",
              "[33706 rows x 8 columns]"
            ]
          },
          "execution_count": 30,
          "metadata": {},
          "output_type": "execute_result"
        }
      ],
      "source": [
        "df[::10]"
      ]
    },
    {
      "cell_type": "code",
      "execution_count": null,
      "metadata": {
        "id": "AcvZS3fW_8d5"
      },
      "outputs": [],
      "source": [
        "# renommage des colonnes\n",
        "#\tsex\tbirth\tid_prod\tprice\tcateg\tdate\tsession_id\n",
        "df =df.rename(columns={'client_id':'c_id','sex':'c_sex','birth':'c_birth','id_prod':'p_id','price':'p_price','categ':'p_cat','date':'t_date','session_id':'t_sess_id'})"
      ]
    },
    {
      "cell_type": "code",
      "execution_count": null,
      "metadata": {
        "colab": {
          "base_uri": "https://localhost:8080/",
          "height": 419
        },
        "id": "lGcMWfkLA4Sd",
        "outputId": "5f43a8fb-d6ab-4713-b41e-ae3511dfd76a"
      },
      "outputs": [
        {
          "data": {
            "text/html": [
              "<div>\n",
              "<style scoped>\n",
              "    .dataframe tbody tr th:only-of-type {\n",
              "        vertical-align: middle;\n",
              "    }\n",
              "\n",
              "    .dataframe tbody tr th {\n",
              "        vertical-align: top;\n",
              "    }\n",
              "\n",
              "    .dataframe thead th {\n",
              "        text-align: right;\n",
              "    }\n",
              "</style>\n",
              "<table border=\"1\" class=\"dataframe\">\n",
              "  <thead>\n",
              "    <tr style=\"text-align: right;\">\n",
              "      <th></th>\n",
              "      <th>c_id</th>\n",
              "      <th>c_sex</th>\n",
              "      <th>c_birth</th>\n",
              "      <th>p_id</th>\n",
              "      <th>p_price</th>\n",
              "      <th>p_cat</th>\n",
              "      <th>t_date</th>\n",
              "      <th>t_sess_id</th>\n",
              "    </tr>\n",
              "  </thead>\n",
              "  <tbody>\n",
              "    <tr>\n",
              "      <th>0</th>\n",
              "      <td>c_4410</td>\n",
              "      <td>f</td>\n",
              "      <td>1967.0</td>\n",
              "      <td>1_385</td>\n",
              "      <td>25.99</td>\n",
              "      <td>1.0</td>\n",
              "      <td>2021-03-22 01:40:22.782925</td>\n",
              "      <td>s_9707</td>\n",
              "    </tr>\n",
              "    <tr>\n",
              "      <th>1</th>\n",
              "      <td>c_4410</td>\n",
              "      <td>f</td>\n",
              "      <td>1967.0</td>\n",
              "      <td>0_1110</td>\n",
              "      <td>4.71</td>\n",
              "      <td>0.0</td>\n",
              "      <td>2021-11-04 16:28:30.169021</td>\n",
              "      <td>s_114715</td>\n",
              "    </tr>\n",
              "    <tr>\n",
              "      <th>2</th>\n",
              "      <td>c_4410</td>\n",
              "      <td>f</td>\n",
              "      <td>1967.0</td>\n",
              "      <td>0_1111</td>\n",
              "      <td>19.99</td>\n",
              "      <td>0.0</td>\n",
              "      <td>2021-03-22 01:27:49.480137</td>\n",
              "      <td>s_9707</td>\n",
              "    </tr>\n",
              "    <tr>\n",
              "      <th>3</th>\n",
              "      <td>c_4410</td>\n",
              "      <td>f</td>\n",
              "      <td>1967.0</td>\n",
              "      <td>1_461</td>\n",
              "      <td>12.99</td>\n",
              "      <td>1.0</td>\n",
              "      <td>2021-08-11 08:40:47.495793</td>\n",
              "      <td>s_74236</td>\n",
              "    </tr>\n",
              "    <tr>\n",
              "      <th>4</th>\n",
              "      <td>c_4410</td>\n",
              "      <td>f</td>\n",
              "      <td>1967.0</td>\n",
              "      <td>1_536</td>\n",
              "      <td>11.21</td>\n",
              "      <td>1.0</td>\n",
              "      <td>2022-01-18 17:05:07.468131</td>\n",
              "      <td>s_151740</td>\n",
              "    </tr>\n",
              "    <tr>\n",
              "      <th>...</th>\n",
              "      <td>...</td>\n",
              "      <td>...</td>\n",
              "      <td>...</td>\n",
              "      <td>...</td>\n",
              "      <td>...</td>\n",
              "      <td>...</td>\n",
              "      <td>...</td>\n",
              "      <td>...</td>\n",
              "    </tr>\n",
              "    <tr>\n",
              "      <th>337054</th>\n",
              "      <td>NaN</td>\n",
              "      <td>NaN</td>\n",
              "      <td>NaN</td>\n",
              "      <td>0_525</td>\n",
              "      <td>2.99</td>\n",
              "      <td>0.0</td>\n",
              "      <td>NaN</td>\n",
              "      <td>NaN</td>\n",
              "    </tr>\n",
              "    <tr>\n",
              "      <th>337055</th>\n",
              "      <td>NaN</td>\n",
              "      <td>NaN</td>\n",
              "      <td>NaN</td>\n",
              "      <td>2_86</td>\n",
              "      <td>132.36</td>\n",
              "      <td>2.0</td>\n",
              "      <td>NaN</td>\n",
              "      <td>NaN</td>\n",
              "    </tr>\n",
              "    <tr>\n",
              "      <th>337056</th>\n",
              "      <td>NaN</td>\n",
              "      <td>NaN</td>\n",
              "      <td>NaN</td>\n",
              "      <td>0_299</td>\n",
              "      <td>22.99</td>\n",
              "      <td>0.0</td>\n",
              "      <td>NaN</td>\n",
              "      <td>NaN</td>\n",
              "    </tr>\n",
              "    <tr>\n",
              "      <th>337057</th>\n",
              "      <td>NaN</td>\n",
              "      <td>NaN</td>\n",
              "      <td>NaN</td>\n",
              "      <td>0_510</td>\n",
              "      <td>23.66</td>\n",
              "      <td>0.0</td>\n",
              "      <td>NaN</td>\n",
              "      <td>NaN</td>\n",
              "    </tr>\n",
              "    <tr>\n",
              "      <th>337058</th>\n",
              "      <td>NaN</td>\n",
              "      <td>NaN</td>\n",
              "      <td>NaN</td>\n",
              "      <td>0_2308</td>\n",
              "      <td>20.28</td>\n",
              "      <td>0.0</td>\n",
              "      <td>NaN</td>\n",
              "      <td>NaN</td>\n",
              "    </tr>\n",
              "  </tbody>\n",
              "</table>\n",
              "<p>337059 rows × 8 columns</p>\n",
              "</div>"
            ],
            "text/plain": [
              "          c_id c_sex  c_birth  ... p_cat                      t_date  t_sess_id\n",
              "0       c_4410     f   1967.0  ...   1.0  2021-03-22 01:40:22.782925     s_9707\n",
              "1       c_4410     f   1967.0  ...   0.0  2021-11-04 16:28:30.169021   s_114715\n",
              "2       c_4410     f   1967.0  ...   0.0  2021-03-22 01:27:49.480137     s_9707\n",
              "3       c_4410     f   1967.0  ...   1.0  2021-08-11 08:40:47.495793    s_74236\n",
              "4       c_4410     f   1967.0  ...   1.0  2022-01-18 17:05:07.468131   s_151740\n",
              "...        ...   ...      ...  ...   ...                         ...        ...\n",
              "337054     NaN   NaN      NaN  ...   0.0                         NaN        NaN\n",
              "337055     NaN   NaN      NaN  ...   2.0                         NaN        NaN\n",
              "337056     NaN   NaN      NaN  ...   0.0                         NaN        NaN\n",
              "337057     NaN   NaN      NaN  ...   0.0                         NaN        NaN\n",
              "337058     NaN   NaN      NaN  ...   0.0                         NaN        NaN\n",
              "\n",
              "[337059 rows x 8 columns]"
            ]
          },
          "execution_count": 32,
          "metadata": {},
          "output_type": "execute_result"
        }
      ],
      "source": [
        "df"
      ]
    },
    {
      "cell_type": "code",
      "execution_count": null,
      "metadata": {
        "id": "5zAqMrmjRKCz"
      },
      "outputs": [],
      "source": [
        "# renommage des colonnes\n",
        "#df.rename(columns={'c_id','c_sex','c_birth','p_id','p_price','p_cat','t_date','t_sess_id'})\n",
        "df= df[['c_id','c_sex','c_birth','p_id','p_price','p_cat','t_date','t_sess_id']]"
      ]
    },
    {
      "cell_type": "code",
      "execution_count": null,
      "metadata": {
        "colab": {
          "base_uri": "https://localhost:8080/",
          "height": 204
        },
        "id": "o9-UIxDbdngi",
        "outputId": "e9c68349-78c9-4b53-dfc7-33fc80af8c51"
      },
      "outputs": [
        {
          "data": {
            "text/html": [
              "<div>\n",
              "<style scoped>\n",
              "    .dataframe tbody tr th:only-of-type {\n",
              "        vertical-align: middle;\n",
              "    }\n",
              "\n",
              "    .dataframe tbody tr th {\n",
              "        vertical-align: top;\n",
              "    }\n",
              "\n",
              "    .dataframe thead th {\n",
              "        text-align: right;\n",
              "    }\n",
              "</style>\n",
              "<table border=\"1\" class=\"dataframe\">\n",
              "  <thead>\n",
              "    <tr style=\"text-align: right;\">\n",
              "      <th></th>\n",
              "      <th>c_id</th>\n",
              "      <th>c_sex</th>\n",
              "      <th>c_birth</th>\n",
              "      <th>p_id</th>\n",
              "      <th>p_price</th>\n",
              "      <th>p_cat</th>\n",
              "      <th>t_date</th>\n",
              "      <th>t_sess_id</th>\n",
              "    </tr>\n",
              "  </thead>\n",
              "  <tbody>\n",
              "    <tr>\n",
              "      <th>0</th>\n",
              "      <td>c_4410</td>\n",
              "      <td>f</td>\n",
              "      <td>1967.0</td>\n",
              "      <td>1_385</td>\n",
              "      <td>25.99</td>\n",
              "      <td>1.0</td>\n",
              "      <td>2021-03-22 01:40:22.782925</td>\n",
              "      <td>s_9707</td>\n",
              "    </tr>\n",
              "    <tr>\n",
              "      <th>1</th>\n",
              "      <td>c_4410</td>\n",
              "      <td>f</td>\n",
              "      <td>1967.0</td>\n",
              "      <td>0_1110</td>\n",
              "      <td>4.71</td>\n",
              "      <td>0.0</td>\n",
              "      <td>2021-11-04 16:28:30.169021</td>\n",
              "      <td>s_114715</td>\n",
              "    </tr>\n",
              "    <tr>\n",
              "      <th>2</th>\n",
              "      <td>c_4410</td>\n",
              "      <td>f</td>\n",
              "      <td>1967.0</td>\n",
              "      <td>0_1111</td>\n",
              "      <td>19.99</td>\n",
              "      <td>0.0</td>\n",
              "      <td>2021-03-22 01:27:49.480137</td>\n",
              "      <td>s_9707</td>\n",
              "    </tr>\n",
              "    <tr>\n",
              "      <th>3</th>\n",
              "      <td>c_4410</td>\n",
              "      <td>f</td>\n",
              "      <td>1967.0</td>\n",
              "      <td>1_461</td>\n",
              "      <td>12.99</td>\n",
              "      <td>1.0</td>\n",
              "      <td>2021-08-11 08:40:47.495793</td>\n",
              "      <td>s_74236</td>\n",
              "    </tr>\n",
              "    <tr>\n",
              "      <th>4</th>\n",
              "      <td>c_4410</td>\n",
              "      <td>f</td>\n",
              "      <td>1967.0</td>\n",
              "      <td>1_536</td>\n",
              "      <td>11.21</td>\n",
              "      <td>1.0</td>\n",
              "      <td>2022-01-18 17:05:07.468131</td>\n",
              "      <td>s_151740</td>\n",
              "    </tr>\n",
              "  </tbody>\n",
              "</table>\n",
              "</div>"
            ],
            "text/plain": [
              "     c_id c_sex  c_birth  ... p_cat                      t_date  t_sess_id\n",
              "0  c_4410     f   1967.0  ...   1.0  2021-03-22 01:40:22.782925     s_9707\n",
              "1  c_4410     f   1967.0  ...   0.0  2021-11-04 16:28:30.169021   s_114715\n",
              "2  c_4410     f   1967.0  ...   0.0  2021-03-22 01:27:49.480137     s_9707\n",
              "3  c_4410     f   1967.0  ...   1.0  2021-08-11 08:40:47.495793    s_74236\n",
              "4  c_4410     f   1967.0  ...   1.0  2022-01-18 17:05:07.468131   s_151740\n",
              "\n",
              "[5 rows x 8 columns]"
            ]
          },
          "execution_count": 34,
          "metadata": {},
          "output_type": "execute_result"
        }
      ],
      "source": [
        "df.head()"
      ]
    },
    {
      "cell_type": "code",
      "execution_count": null,
      "metadata": {
        "colab": {
          "base_uri": "https://localhost:8080/"
        },
        "id": "IKPIxVTOOPDo",
        "outputId": "6b9ee20d-6d09-43ae-98bc-bb61b80cd151"
      },
      "outputs": [
        {
          "data": {
            "text/plain": [
              "0         False\n",
              "1         False\n",
              "2         False\n",
              "3         False\n",
              "4         False\n",
              "          ...  \n",
              "337054    False\n",
              "337055    False\n",
              "337056    False\n",
              "337057    False\n",
              "337058    False\n",
              "Name: c_id, Length: 337059, dtype: bool"
            ]
          },
          "execution_count": 35,
          "metadata": {},
          "output_type": "execute_result"
        }
      ],
      "source": [
        "df.c_id.isin([])"
      ]
    },
    {
      "cell_type": "code",
      "execution_count": null,
      "metadata": {
        "colab": {
          "base_uri": "https://localhost:8080/"
        },
        "id": "iZ8_1BxoXWBc",
        "outputId": "c792b3d0-aecb-4296-d268-1de5238b6879"
      },
      "outputs": [
        {
          "data": {
            "text/plain": [
              "0         False\n",
              "1         False\n",
              "2         False\n",
              "3         False\n",
              "4         False\n",
              "          ...  \n",
              "337054    False\n",
              "337055    False\n",
              "337056    False\n",
              "337057    False\n",
              "337058    False\n",
              "Name: c_id, Length: 337059, dtype: bool"
            ]
          },
          "execution_count": 36,
          "metadata": {},
          "output_type": "execute_result"
        }
      ],
      "source": [
        "df.c_id.isin(['ct_0', 'ct_1'])   # bool"
      ]
    },
    {
      "cell_type": "code",
      "execution_count": null,
      "metadata": {
        "colab": {
          "base_uri": "https://localhost:8080/",
          "height": 419
        },
        "id": "jdBmQzacYLcF",
        "outputId": "2b6b906e-9f00-47bd-c9bc-5d12326d827d"
      },
      "outputs": [
        {
          "data": {
            "text/html": [
              "<div>\n",
              "<style scoped>\n",
              "    .dataframe tbody tr th:only-of-type {\n",
              "        vertical-align: middle;\n",
              "    }\n",
              "\n",
              "    .dataframe tbody tr th {\n",
              "        vertical-align: top;\n",
              "    }\n",
              "\n",
              "    .dataframe thead th {\n",
              "        text-align: right;\n",
              "    }\n",
              "</style>\n",
              "<table border=\"1\" class=\"dataframe\">\n",
              "  <thead>\n",
              "    <tr style=\"text-align: right;\">\n",
              "      <th></th>\n",
              "      <th>c_id</th>\n",
              "      <th>c_sex</th>\n",
              "      <th>c_birth</th>\n",
              "      <th>p_id</th>\n",
              "      <th>p_price</th>\n",
              "      <th>p_cat</th>\n",
              "      <th>t_date</th>\n",
              "      <th>t_sess_id</th>\n",
              "    </tr>\n",
              "  </thead>\n",
              "  <tbody>\n",
              "    <tr>\n",
              "      <th>108190</th>\n",
              "      <td>ct_0</td>\n",
              "      <td>f</td>\n",
              "      <td>2001.0</td>\n",
              "      <td>T_0</td>\n",
              "      <td>-1.0</td>\n",
              "      <td>0.0</td>\n",
              "      <td>test_2021-03-01 02:30:02.237441</td>\n",
              "      <td>s_0</td>\n",
              "    </tr>\n",
              "    <tr>\n",
              "      <th>108191</th>\n",
              "      <td>ct_0</td>\n",
              "      <td>f</td>\n",
              "      <td>2001.0</td>\n",
              "      <td>T_0</td>\n",
              "      <td>-1.0</td>\n",
              "      <td>0.0</td>\n",
              "      <td>test_2021-03-01 02:30:02.237443</td>\n",
              "      <td>s_0</td>\n",
              "    </tr>\n",
              "    <tr>\n",
              "      <th>108192</th>\n",
              "      <td>ct_0</td>\n",
              "      <td>f</td>\n",
              "      <td>2001.0</td>\n",
              "      <td>T_0</td>\n",
              "      <td>-1.0</td>\n",
              "      <td>0.0</td>\n",
              "      <td>test_2021-03-01 02:30:02.237442</td>\n",
              "      <td>s_0</td>\n",
              "    </tr>\n",
              "    <tr>\n",
              "      <th>108193</th>\n",
              "      <td>ct_0</td>\n",
              "      <td>f</td>\n",
              "      <td>2001.0</td>\n",
              "      <td>T_0</td>\n",
              "      <td>-1.0</td>\n",
              "      <td>0.0</td>\n",
              "      <td>test_2021-03-01 02:30:02.237426</td>\n",
              "      <td>s_0</td>\n",
              "    </tr>\n",
              "    <tr>\n",
              "      <th>108194</th>\n",
              "      <td>ct_0</td>\n",
              "      <td>f</td>\n",
              "      <td>2001.0</td>\n",
              "      <td>T_0</td>\n",
              "      <td>-1.0</td>\n",
              "      <td>0.0</td>\n",
              "      <td>test_2021-03-01 02:30:02.237434</td>\n",
              "      <td>s_0</td>\n",
              "    </tr>\n",
              "    <tr>\n",
              "      <th>...</th>\n",
              "      <td>...</td>\n",
              "      <td>...</td>\n",
              "      <td>...</td>\n",
              "      <td>...</td>\n",
              "      <td>...</td>\n",
              "      <td>...</td>\n",
              "      <td>...</td>\n",
              "      <td>...</td>\n",
              "    </tr>\n",
              "    <tr>\n",
              "      <th>332798</th>\n",
              "      <td>ct_1</td>\n",
              "      <td>m</td>\n",
              "      <td>2001.0</td>\n",
              "      <td>T_0</td>\n",
              "      <td>-1.0</td>\n",
              "      <td>0.0</td>\n",
              "      <td>test_2021-03-01 02:30:02.237416</td>\n",
              "      <td>s_0</td>\n",
              "    </tr>\n",
              "    <tr>\n",
              "      <th>332799</th>\n",
              "      <td>ct_1</td>\n",
              "      <td>m</td>\n",
              "      <td>2001.0</td>\n",
              "      <td>T_0</td>\n",
              "      <td>-1.0</td>\n",
              "      <td>0.0</td>\n",
              "      <td>test_2021-03-01 02:30:02.237425</td>\n",
              "      <td>s_0</td>\n",
              "    </tr>\n",
              "    <tr>\n",
              "      <th>332800</th>\n",
              "      <td>ct_1</td>\n",
              "      <td>m</td>\n",
              "      <td>2001.0</td>\n",
              "      <td>T_0</td>\n",
              "      <td>-1.0</td>\n",
              "      <td>0.0</td>\n",
              "      <td>test_2021-03-01 02:30:02.237423</td>\n",
              "      <td>s_0</td>\n",
              "    </tr>\n",
              "    <tr>\n",
              "      <th>332801</th>\n",
              "      <td>ct_1</td>\n",
              "      <td>m</td>\n",
              "      <td>2001.0</td>\n",
              "      <td>T_0</td>\n",
              "      <td>-1.0</td>\n",
              "      <td>0.0</td>\n",
              "      <td>test_2021-03-01 02:30:02.237421</td>\n",
              "      <td>s_0</td>\n",
              "    </tr>\n",
              "    <tr>\n",
              "      <th>332802</th>\n",
              "      <td>ct_1</td>\n",
              "      <td>m</td>\n",
              "      <td>2001.0</td>\n",
              "      <td>T_0</td>\n",
              "      <td>-1.0</td>\n",
              "      <td>0.0</td>\n",
              "      <td>test_2021-03-01 02:30:02.237431</td>\n",
              "      <td>s_0</td>\n",
              "    </tr>\n",
              "  </tbody>\n",
              "</table>\n",
              "<p>200 rows × 8 columns</p>\n",
              "</div>"
            ],
            "text/plain": [
              "        c_id c_sex  c_birth  ... p_cat                           t_date  t_sess_id\n",
              "108190  ct_0     f   2001.0  ...   0.0  test_2021-03-01 02:30:02.237441        s_0\n",
              "108191  ct_0     f   2001.0  ...   0.0  test_2021-03-01 02:30:02.237443        s_0\n",
              "108192  ct_0     f   2001.0  ...   0.0  test_2021-03-01 02:30:02.237442        s_0\n",
              "108193  ct_0     f   2001.0  ...   0.0  test_2021-03-01 02:30:02.237426        s_0\n",
              "108194  ct_0     f   2001.0  ...   0.0  test_2021-03-01 02:30:02.237434        s_0\n",
              "...      ...   ...      ...  ...   ...                              ...        ...\n",
              "332798  ct_1     m   2001.0  ...   0.0  test_2021-03-01 02:30:02.237416        s_0\n",
              "332799  ct_1     m   2001.0  ...   0.0  test_2021-03-01 02:30:02.237425        s_0\n",
              "332800  ct_1     m   2001.0  ...   0.0  test_2021-03-01 02:30:02.237423        s_0\n",
              "332801  ct_1     m   2001.0  ...   0.0  test_2021-03-01 02:30:02.237421        s_0\n",
              "332802  ct_1     m   2001.0  ...   0.0  test_2021-03-01 02:30:02.237431        s_0\n",
              "\n",
              "[200 rows x 8 columns]"
            ]
          },
          "execution_count": 37,
          "metadata": {},
          "output_type": "execute_result"
        }
      ],
      "source": [
        "df[df.c_id.isin(['ct_0', 'ct_1'])]"
      ]
    },
    {
      "cell_type": "code",
      "execution_count": null,
      "metadata": {
        "colab": {
          "base_uri": "https://localhost:8080/",
          "height": 142
        },
        "id": "ELWBHmPXRKC7",
        "outputId": "ca88e9ab-442d-40c9-d1e4-5db3af77588e"
      },
      "outputs": [
        {
          "data": {
            "text/html": [
              "<div>\n",
              "<style scoped>\n",
              "    .dataframe tbody tr th:only-of-type {\n",
              "        vertical-align: middle;\n",
              "    }\n",
              "\n",
              "    .dataframe tbody tr th {\n",
              "        vertical-align: top;\n",
              "    }\n",
              "\n",
              "    .dataframe thead th {\n",
              "        text-align: right;\n",
              "    }\n",
              "</style>\n",
              "<table border=\"1\" class=\"dataframe\">\n",
              "  <thead>\n",
              "    <tr style=\"text-align: right;\">\n",
              "      <th></th>\n",
              "      <th>c_id</th>\n",
              "      <th>c_sex</th>\n",
              "      <th>c_birth</th>\n",
              "      <th>p_id</th>\n",
              "      <th>p_price</th>\n",
              "      <th>p_cat</th>\n",
              "      <th>t_date</th>\n",
              "      <th>t_sess_id</th>\n",
              "    </tr>\n",
              "  </thead>\n",
              "  <tbody>\n",
              "    <tr>\n",
              "      <th>108288</th>\n",
              "      <td>ct_0</td>\n",
              "      <td>f</td>\n",
              "      <td>2001.0</td>\n",
              "      <td>T_0</td>\n",
              "      <td>-1.0</td>\n",
              "      <td>0.0</td>\n",
              "      <td>test_2021-03-01 02:30:02.237448</td>\n",
              "      <td>s_0</td>\n",
              "    </tr>\n",
              "    <tr>\n",
              "      <th>332741</th>\n",
              "      <td>ct_1</td>\n",
              "      <td>m</td>\n",
              "      <td>2001.0</td>\n",
              "      <td>T_0</td>\n",
              "      <td>-1.0</td>\n",
              "      <td>0.0</td>\n",
              "      <td>test_2021-03-01 02:30:02.237437</td>\n",
              "      <td>s_0</td>\n",
              "    </tr>\n",
              "    <tr>\n",
              "      <th>108291</th>\n",
              "      <td>ct_0</td>\n",
              "      <td>f</td>\n",
              "      <td>2001.0</td>\n",
              "      <td>T_0</td>\n",
              "      <td>-1.0</td>\n",
              "      <td>0.0</td>\n",
              "      <td>test_2021-03-01 02:30:02.237437</td>\n",
              "      <td>s_0</td>\n",
              "    </tr>\n",
              "  </tbody>\n",
              "</table>\n",
              "</div>"
            ],
            "text/plain": [
              "        c_id c_sex  c_birth  ... p_cat                           t_date  t_sess_id\n",
              "108288  ct_0     f   2001.0  ...   0.0  test_2021-03-01 02:30:02.237448        s_0\n",
              "332741  ct_1     m   2001.0  ...   0.0  test_2021-03-01 02:30:02.237437        s_0\n",
              "108291  ct_0     f   2001.0  ...   0.0  test_2021-03-01 02:30:02.237437        s_0\n",
              "\n",
              "[3 rows x 8 columns]"
            ]
          },
          "execution_count": 38,
          "metadata": {},
          "output_type": "execute_result"
        }
      ],
      "source": [
        "df.head()\n",
        "df.tail()\n",
        "df.sample()\n",
        "df[df.c_id.isin(['ct_0', 'ct_1'])].sample(3)"
      ]
    },
    {
      "cell_type": "code",
      "execution_count": null,
      "metadata": {
        "colab": {
          "base_uri": "https://localhost:8080/"
        },
        "id": "fURo82uL5KTT",
        "outputId": "8f6358f1-32a7-43b5-f614-64a4380bd63c"
      },
      "outputs": [
        {
          "data": {
            "text/plain": [
              "(337059, 8)"
            ]
          },
          "execution_count": 39,
          "metadata": {},
          "output_type": "execute_result"
        }
      ],
      "source": [
        "df.shape"
      ]
    },
    {
      "cell_type": "code",
      "execution_count": null,
      "metadata": {
        "colab": {
          "base_uri": "https://localhost:8080/"
        },
        "id": "iTALWmIXZUhM",
        "outputId": "eb58f3a8-3af0-4cd2-a1c6-b86842180575"
      },
      "outputs": [
        {
          "data": {
            "text/plain": [
              "c_1609    12855\n",
              "c_6714     4473\n",
              "c_3454     3275\n",
              "c_4958     2562\n",
              "c_7959      195\n",
              "          ...  \n",
              "c_7089        1\n",
              "c_3789        1\n",
              "c_1866        1\n",
              "c_6200        1\n",
              "c_4478        1\n",
              "Name: c_id, Length: 8623, dtype: int64"
            ]
          },
          "execution_count": 40,
          "metadata": {},
          "output_type": "execute_result"
        }
      ],
      "source": [
        "df['c_id'].value_counts()"
      ]
    },
    {
      "cell_type": "markdown",
      "metadata": {
        "id": "86Gkmy64RKDB"
      },
      "source": [
        "#### Y a-t-il des valeurs `NaN` ?"
      ]
    },
    {
      "cell_type": "code",
      "execution_count": null,
      "metadata": {
        "colab": {
          "base_uri": "https://localhost:8080/"
        },
        "id": "HAFlmCJEe1lu",
        "outputId": "8f7ba1e8-fab4-4f5d-ce47-1084fdbfaaa1"
      },
      "outputs": [
        {
          "data": {
            "text/plain": [
              "0         False\n",
              "1         False\n",
              "2         False\n",
              "3         False\n",
              "4         False\n",
              "          ...  \n",
              "337054     True\n",
              "337055     True\n",
              "337056     True\n",
              "337057     True\n",
              "337058     True\n",
              "Length: 337059, dtype: bool"
            ]
          },
          "execution_count": 41,
          "metadata": {},
          "output_type": "execute_result"
        }
      ],
      "source": [
        "df.isnull().any(axis=1)"
      ]
    },
    {
      "cell_type": "code",
      "execution_count": null,
      "metadata": {
        "id": "J67O6AmKRKDD"
      },
      "outputs": [],
      "source": [
        "df_na = df.loc[df.isnull().any(axis=1)]"
      ]
    },
    {
      "cell_type": "code",
      "execution_count": null,
      "metadata": {
        "colab": {
          "base_uri": "https://localhost:8080/",
          "height": 419
        },
        "id": "IvEi-nyWZye8",
        "outputId": "0cd30b66-147a-4b5d-dd09-b9a1cfa24848"
      },
      "outputs": [
        {
          "data": {
            "text/html": [
              "<div>\n",
              "<style scoped>\n",
              "    .dataframe tbody tr th:only-of-type {\n",
              "        vertical-align: middle;\n",
              "    }\n",
              "\n",
              "    .dataframe tbody tr th {\n",
              "        vertical-align: top;\n",
              "    }\n",
              "\n",
              "    .dataframe thead th {\n",
              "        text-align: right;\n",
              "    }\n",
              "</style>\n",
              "<table border=\"1\" class=\"dataframe\">\n",
              "  <thead>\n",
              "    <tr style=\"text-align: right;\">\n",
              "      <th></th>\n",
              "      <th>c_id</th>\n",
              "      <th>c_sex</th>\n",
              "      <th>c_birth</th>\n",
              "      <th>p_id</th>\n",
              "      <th>p_price</th>\n",
              "      <th>p_cat</th>\n",
              "      <th>t_date</th>\n",
              "      <th>t_sess_id</th>\n",
              "    </tr>\n",
              "  </thead>\n",
              "  <tbody>\n",
              "    <tr>\n",
              "      <th>2678</th>\n",
              "      <td>c_4505</td>\n",
              "      <td>m</td>\n",
              "      <td>1976.0</td>\n",
              "      <td>0_2245</td>\n",
              "      <td>NaN</td>\n",
              "      <td>NaN</td>\n",
              "      <td>2022-01-09 09:23:31.000720</td>\n",
              "      <td>s_147220</td>\n",
              "    </tr>\n",
              "    <tr>\n",
              "      <th>2968</th>\n",
              "      <td>c_3468</td>\n",
              "      <td>f</td>\n",
              "      <td>1981.0</td>\n",
              "      <td>0_2245</td>\n",
              "      <td>NaN</td>\n",
              "      <td>NaN</td>\n",
              "      <td>2021-09-11 10:52:05.205583</td>\n",
              "      <td>s_88251</td>\n",
              "    </tr>\n",
              "    <tr>\n",
              "      <th>6683</th>\n",
              "      <td>c_1403</td>\n",
              "      <td>f</td>\n",
              "      <td>1978.0</td>\n",
              "      <td>0_2245</td>\n",
              "      <td>NaN</td>\n",
              "      <td>NaN</td>\n",
              "      <td>2022-02-15 14:26:50.187952</td>\n",
              "      <td>s_165575</td>\n",
              "    </tr>\n",
              "    <tr>\n",
              "      <th>8386</th>\n",
              "      <td>c_3065</td>\n",
              "      <td>f</td>\n",
              "      <td>1977.0</td>\n",
              "      <td>0_2245</td>\n",
              "      <td>NaN</td>\n",
              "      <td>NaN</td>\n",
              "      <td>2022-01-26 13:34:33.440366</td>\n",
              "      <td>s_155484</td>\n",
              "    </tr>\n",
              "    <tr>\n",
              "      <th>9457</th>\n",
              "      <td>c_7102</td>\n",
              "      <td>m</td>\n",
              "      <td>1983.0</td>\n",
              "      <td>0_2245</td>\n",
              "      <td>NaN</td>\n",
              "      <td>NaN</td>\n",
              "      <td>2021-04-25 19:58:42.716401</td>\n",
              "      <td>s_25704</td>\n",
              "    </tr>\n",
              "    <tr>\n",
              "      <th>...</th>\n",
              "      <td>...</td>\n",
              "      <td>...</td>\n",
              "      <td>...</td>\n",
              "      <td>...</td>\n",
              "      <td>...</td>\n",
              "      <td>...</td>\n",
              "      <td>...</td>\n",
              "      <td>...</td>\n",
              "    </tr>\n",
              "    <tr>\n",
              "      <th>337054</th>\n",
              "      <td>NaN</td>\n",
              "      <td>NaN</td>\n",
              "      <td>NaN</td>\n",
              "      <td>0_525</td>\n",
              "      <td>2.99</td>\n",
              "      <td>0.0</td>\n",
              "      <td>NaN</td>\n",
              "      <td>NaN</td>\n",
              "    </tr>\n",
              "    <tr>\n",
              "      <th>337055</th>\n",
              "      <td>NaN</td>\n",
              "      <td>NaN</td>\n",
              "      <td>NaN</td>\n",
              "      <td>2_86</td>\n",
              "      <td>132.36</td>\n",
              "      <td>2.0</td>\n",
              "      <td>NaN</td>\n",
              "      <td>NaN</td>\n",
              "    </tr>\n",
              "    <tr>\n",
              "      <th>337056</th>\n",
              "      <td>NaN</td>\n",
              "      <td>NaN</td>\n",
              "      <td>NaN</td>\n",
              "      <td>0_299</td>\n",
              "      <td>22.99</td>\n",
              "      <td>0.0</td>\n",
              "      <td>NaN</td>\n",
              "      <td>NaN</td>\n",
              "    </tr>\n",
              "    <tr>\n",
              "      <th>337057</th>\n",
              "      <td>NaN</td>\n",
              "      <td>NaN</td>\n",
              "      <td>NaN</td>\n",
              "      <td>0_510</td>\n",
              "      <td>23.66</td>\n",
              "      <td>0.0</td>\n",
              "      <td>NaN</td>\n",
              "      <td>NaN</td>\n",
              "    </tr>\n",
              "    <tr>\n",
              "      <th>337058</th>\n",
              "      <td>NaN</td>\n",
              "      <td>NaN</td>\n",
              "      <td>NaN</td>\n",
              "      <td>0_2308</td>\n",
              "      <td>20.28</td>\n",
              "      <td>0.0</td>\n",
              "      <td>NaN</td>\n",
              "      <td>NaN</td>\n",
              "    </tr>\n",
              "  </tbody>\n",
              "</table>\n",
              "<p>146 rows × 8 columns</p>\n",
              "</div>"
            ],
            "text/plain": [
              "          c_id c_sex  c_birth  ... p_cat                      t_date  t_sess_id\n",
              "2678    c_4505     m   1976.0  ...   NaN  2022-01-09 09:23:31.000720   s_147220\n",
              "2968    c_3468     f   1981.0  ...   NaN  2021-09-11 10:52:05.205583    s_88251\n",
              "6683    c_1403     f   1978.0  ...   NaN  2022-02-15 14:26:50.187952   s_165575\n",
              "8386    c_3065     f   1977.0  ...   NaN  2022-01-26 13:34:33.440366   s_155484\n",
              "9457    c_7102     m   1983.0  ...   NaN  2021-04-25 19:58:42.716401    s_25704\n",
              "...        ...   ...      ...  ...   ...                         ...        ...\n",
              "337054     NaN   NaN      NaN  ...   0.0                         NaN        NaN\n",
              "337055     NaN   NaN      NaN  ...   2.0                         NaN        NaN\n",
              "337056     NaN   NaN      NaN  ...   0.0                         NaN        NaN\n",
              "337057     NaN   NaN      NaN  ...   0.0                         NaN        NaN\n",
              "337058     NaN   NaN      NaN  ...   0.0                         NaN        NaN\n",
              "\n",
              "[146 rows x 8 columns]"
            ]
          },
          "execution_count": 43,
          "metadata": {},
          "output_type": "execute_result"
        }
      ],
      "source": [
        "df_na"
      ]
    },
    {
      "cell_type": "code",
      "execution_count": null,
      "metadata": {
        "colab": {
          "base_uri": "https://localhost:8080/"
        },
        "id": "MKwaHY_1ZKla",
        "outputId": "5b4ba36d-88f2-4117-e9c6-d0bc0eda4d1a"
      },
      "outputs": [
        {
          "name": "stdout",
          "output_type": "stream",
          "text": [
            "<class 'pandas.core.frame.DataFrame'>\n",
            "Int64Index: 146 entries, 2678 to 337058\n",
            "Data columns (total 8 columns):\n",
            " #   Column     Non-Null Count  Dtype  \n",
            "---  ------     --------------  -----  \n",
            " 0   c_id       124 non-null    object \n",
            " 1   c_sex      124 non-null    object \n",
            " 2   c_birth    124 non-null    float64\n",
            " 3   p_id       125 non-null    object \n",
            " 4   p_price    22 non-null     float64\n",
            " 5   p_cat      22 non-null     float64\n",
            " 6   t_date     103 non-null    object \n",
            " 7   t_sess_id  103 non-null    object \n",
            "dtypes: float64(3), object(5)\n",
            "memory usage: 10.3+ KB\n"
          ]
        }
      ],
      "source": [
        "df_na.info()"
      ]
    },
    {
      "cell_type": "code",
      "execution_count": null,
      "metadata": {
        "colab": {
          "base_uri": "https://localhost:8080/"
        },
        "id": "BapPM-ma77pS",
        "outputId": "9ad5832b-37ea-4794-9cf0-9a62811228e4"
      },
      "outputs": [
        {
          "data": {
            "text/plain": [
              "0         False\n",
              "1         False\n",
              "2         False\n",
              "3         False\n",
              "4         False\n",
              "          ...  \n",
              "337054     True\n",
              "337055     True\n",
              "337056     True\n",
              "337057     True\n",
              "337058     True\n",
              "Name: c_id, Length: 337059, dtype: bool"
            ]
          },
          "execution_count": 45,
          "metadata": {},
          "output_type": "execute_result"
        }
      ],
      "source": [
        "df.c_id.isnull()"
      ]
    },
    {
      "cell_type": "code",
      "execution_count": null,
      "metadata": {
        "id": "ev9pOf6ERKDJ",
        "scrolled": false
      },
      "outputs": [],
      "source": [
        "p_invendus_id = df_na.loc[df.c_id.isnull(), 'p_id'].unique()"
      ]
    },
    {
      "cell_type": "code",
      "execution_count": null,
      "metadata": {
        "id": "RhhxmUFcNRFO"
      },
      "outputs": [],
      "source": [
        "#ARRRRTTTTTTTTTTTTTTTT"
      ]
    },
    {
      "cell_type": "code",
      "execution_count": null,
      "metadata": {
        "colab": {
          "base_uri": "https://localhost:8080/"
        },
        "id": "zMWk6kVC7TJa",
        "outputId": "72fc83f2-1e9a-4bc1-c446-039bd533f07e"
      },
      "outputs": [
        {
          "data": {
            "text/plain": [
              "array(['0_1016', '0_1780', '0_1062', '0_1119', '0_1014', '1_0', '0_1318',\n",
              "       '0_1800', '0_1645', '0_322', '0_1620', '0_1025', '2_87', '1_394',\n",
              "       '2_72', '0_310', '0_1624', '0_525', '2_86', '0_299', '0_510',\n",
              "       '0_2308'], dtype=object)"
            ]
          },
          "execution_count": 48,
          "metadata": {},
          "output_type": "execute_result"
        }
      ],
      "source": [
        "p_invendus_id"
      ]
    },
    {
      "cell_type": "code",
      "execution_count": null,
      "metadata": {
        "colab": {
          "base_uri": "https://localhost:8080/"
        },
        "id": "zaBXoa8pau2z",
        "outputId": "ea068e90-e3f4-4802-9a41-a3219fae1140"
      },
      "outputs": [
        {
          "data": {
            "text/plain": [
              "(22,)"
            ]
          },
          "execution_count": 49,
          "metadata": {},
          "output_type": "execute_result"
        }
      ],
      "source": [
        "p_invendus_id.shape"
      ]
    },
    {
      "cell_type": "code",
      "execution_count": null,
      "metadata": {
        "colab": {
          "base_uri": "https://localhost:8080/"
        },
        "id": "bWfZpRrGRKDQ",
        "outputId": "47c4b6ac-fb9f-4506-efb1-89abb9e97297"
      },
      "outputs": [
        {
          "data": {
            "text/plain": [
              "(21,)"
            ]
          },
          "execution_count": 50,
          "metadata": {},
          "output_type": "execute_result"
        }
      ],
      "source": [
        "c_ss_achat_id = df_na.loc[df.p_id.isnull(), 'c_id'].unique()\n",
        "c_ss_achat_id.shape"
      ]
    },
    {
      "cell_type": "markdown",
      "metadata": {
        "id": "nyI8NUfsRKDb"
      },
      "source": [
        "- 22 produits sur 3289 n'ont jamais été vendus\n",
        "- 21 clients sur 8624 n'ont jamais acheté"
      ]
    },
    {
      "cell_type": "markdown",
      "metadata": {
        "id": "cOeYvV5HRKDf"
      },
      "source": [
        "# Nettoyage des données"
      ]
    },
    {
      "cell_type": "markdown",
      "metadata": {
        "id": "i6r6AzX4RKDi"
      },
      "source": [
        "#### On ajoute une colonne 'data_info'"
      ]
    },
    {
      "cell_type": "markdown",
      "metadata": {
        "id": "tI6WR2TXRKDp"
      },
      "source": [
        "elle donne des infos supplémentaire sur les données de la ligne (`NaN` par défaut)"
      ]
    },
    {
      "cell_type": "code",
      "execution_count": null,
      "metadata": {
        "id": "G3oSc_96RKDs"
      },
      "outputs": [],
      "source": [
        "df['data_info'] = np.nan"
      ]
    },
    {
      "cell_type": "markdown",
      "metadata": {
        "id": "MtfqNd0xRKDz"
      },
      "source": [
        "#### Suppression des valeurs de tests"
      ]
    },
    {
      "cell_type": "markdown",
      "metadata": {
        "id": "yJPkhFb1RKD1"
      },
      "source": [
        "Les valeurs de tests :\n",
        " - les clients sont ct_0 ou ct_1\n",
        " - la session de la transaction est s_0\n",
        " - les dates de la trans comences par 'test'\n",
        " - les produits acheté T_0, coutent -1\n",
        "\n",
        " --> on les supprime"
      ]
    },
    {
      "cell_type": "code",
      "execution_count": null,
      "metadata": {
        "colab": {
          "base_uri": "https://localhost:8080/",
          "height": 419
        },
        "id": "Bw1KjzZYLk8f",
        "outputId": "e83e1fa9-3999-413e-f6b6-6f530bf01cab"
      },
      "outputs": [
        {
          "data": {
            "text/html": [
              "<div>\n",
              "<style scoped>\n",
              "    .dataframe tbody tr th:only-of-type {\n",
              "        vertical-align: middle;\n",
              "    }\n",
              "\n",
              "    .dataframe tbody tr th {\n",
              "        vertical-align: top;\n",
              "    }\n",
              "\n",
              "    .dataframe thead th {\n",
              "        text-align: right;\n",
              "    }\n",
              "</style>\n",
              "<table border=\"1\" class=\"dataframe\">\n",
              "  <thead>\n",
              "    <tr style=\"text-align: right;\">\n",
              "      <th></th>\n",
              "      <th>c_id</th>\n",
              "      <th>c_sex</th>\n",
              "      <th>c_birth</th>\n",
              "      <th>p_id</th>\n",
              "      <th>p_price</th>\n",
              "      <th>p_cat</th>\n",
              "      <th>t_date</th>\n",
              "      <th>t_sess_id</th>\n",
              "      <th>data_info</th>\n",
              "    </tr>\n",
              "  </thead>\n",
              "  <tbody>\n",
              "    <tr>\n",
              "      <th>108190</th>\n",
              "      <td>ct_0</td>\n",
              "      <td>f</td>\n",
              "      <td>2001.0</td>\n",
              "      <td>T_0</td>\n",
              "      <td>-1.0</td>\n",
              "      <td>0.0</td>\n",
              "      <td>test_2021-03-01 02:30:02.237441</td>\n",
              "      <td>s_0</td>\n",
              "      <td>NaN</td>\n",
              "    </tr>\n",
              "    <tr>\n",
              "      <th>108191</th>\n",
              "      <td>ct_0</td>\n",
              "      <td>f</td>\n",
              "      <td>2001.0</td>\n",
              "      <td>T_0</td>\n",
              "      <td>-1.0</td>\n",
              "      <td>0.0</td>\n",
              "      <td>test_2021-03-01 02:30:02.237443</td>\n",
              "      <td>s_0</td>\n",
              "      <td>NaN</td>\n",
              "    </tr>\n",
              "    <tr>\n",
              "      <th>108192</th>\n",
              "      <td>ct_0</td>\n",
              "      <td>f</td>\n",
              "      <td>2001.0</td>\n",
              "      <td>T_0</td>\n",
              "      <td>-1.0</td>\n",
              "      <td>0.0</td>\n",
              "      <td>test_2021-03-01 02:30:02.237442</td>\n",
              "      <td>s_0</td>\n",
              "      <td>NaN</td>\n",
              "    </tr>\n",
              "    <tr>\n",
              "      <th>108193</th>\n",
              "      <td>ct_0</td>\n",
              "      <td>f</td>\n",
              "      <td>2001.0</td>\n",
              "      <td>T_0</td>\n",
              "      <td>-1.0</td>\n",
              "      <td>0.0</td>\n",
              "      <td>test_2021-03-01 02:30:02.237426</td>\n",
              "      <td>s_0</td>\n",
              "      <td>NaN</td>\n",
              "    </tr>\n",
              "    <tr>\n",
              "      <th>108194</th>\n",
              "      <td>ct_0</td>\n",
              "      <td>f</td>\n",
              "      <td>2001.0</td>\n",
              "      <td>T_0</td>\n",
              "      <td>-1.0</td>\n",
              "      <td>0.0</td>\n",
              "      <td>test_2021-03-01 02:30:02.237434</td>\n",
              "      <td>s_0</td>\n",
              "      <td>NaN</td>\n",
              "    </tr>\n",
              "    <tr>\n",
              "      <th>...</th>\n",
              "      <td>...</td>\n",
              "      <td>...</td>\n",
              "      <td>...</td>\n",
              "      <td>...</td>\n",
              "      <td>...</td>\n",
              "      <td>...</td>\n",
              "      <td>...</td>\n",
              "      <td>...</td>\n",
              "      <td>...</td>\n",
              "    </tr>\n",
              "    <tr>\n",
              "      <th>332798</th>\n",
              "      <td>ct_1</td>\n",
              "      <td>m</td>\n",
              "      <td>2001.0</td>\n",
              "      <td>T_0</td>\n",
              "      <td>-1.0</td>\n",
              "      <td>0.0</td>\n",
              "      <td>test_2021-03-01 02:30:02.237416</td>\n",
              "      <td>s_0</td>\n",
              "      <td>NaN</td>\n",
              "    </tr>\n",
              "    <tr>\n",
              "      <th>332799</th>\n",
              "      <td>ct_1</td>\n",
              "      <td>m</td>\n",
              "      <td>2001.0</td>\n",
              "      <td>T_0</td>\n",
              "      <td>-1.0</td>\n",
              "      <td>0.0</td>\n",
              "      <td>test_2021-03-01 02:30:02.237425</td>\n",
              "      <td>s_0</td>\n",
              "      <td>NaN</td>\n",
              "    </tr>\n",
              "    <tr>\n",
              "      <th>332800</th>\n",
              "      <td>ct_1</td>\n",
              "      <td>m</td>\n",
              "      <td>2001.0</td>\n",
              "      <td>T_0</td>\n",
              "      <td>-1.0</td>\n",
              "      <td>0.0</td>\n",
              "      <td>test_2021-03-01 02:30:02.237423</td>\n",
              "      <td>s_0</td>\n",
              "      <td>NaN</td>\n",
              "    </tr>\n",
              "    <tr>\n",
              "      <th>332801</th>\n",
              "      <td>ct_1</td>\n",
              "      <td>m</td>\n",
              "      <td>2001.0</td>\n",
              "      <td>T_0</td>\n",
              "      <td>-1.0</td>\n",
              "      <td>0.0</td>\n",
              "      <td>test_2021-03-01 02:30:02.237421</td>\n",
              "      <td>s_0</td>\n",
              "      <td>NaN</td>\n",
              "    </tr>\n",
              "    <tr>\n",
              "      <th>332802</th>\n",
              "      <td>ct_1</td>\n",
              "      <td>m</td>\n",
              "      <td>2001.0</td>\n",
              "      <td>T_0</td>\n",
              "      <td>-1.0</td>\n",
              "      <td>0.0</td>\n",
              "      <td>test_2021-03-01 02:30:02.237431</td>\n",
              "      <td>s_0</td>\n",
              "      <td>NaN</td>\n",
              "    </tr>\n",
              "  </tbody>\n",
              "</table>\n",
              "<p>200 rows × 9 columns</p>\n",
              "</div>"
            ],
            "text/plain": [
              "        c_id c_sex  ...  t_sess_id data_info\n",
              "108190  ct_0     f  ...        s_0       NaN\n",
              "108191  ct_0     f  ...        s_0       NaN\n",
              "108192  ct_0     f  ...        s_0       NaN\n",
              "108193  ct_0     f  ...        s_0       NaN\n",
              "108194  ct_0     f  ...        s_0       NaN\n",
              "...      ...   ...  ...        ...       ...\n",
              "332798  ct_1     m  ...        s_0       NaN\n",
              "332799  ct_1     m  ...        s_0       NaN\n",
              "332800  ct_1     m  ...        s_0       NaN\n",
              "332801  ct_1     m  ...        s_0       NaN\n",
              "332802  ct_1     m  ...        s_0       NaN\n",
              "\n",
              "[200 rows x 9 columns]"
            ]
          },
          "execution_count": 52,
          "metadata": {},
          "output_type": "execute_result"
        }
      ],
      "source": [
        "df2 = df.loc[(df.c_id.notnull() & (df.c_id.str.contains('ct')))]\n",
        "df2"
      ]
    },
    {
      "cell_type": "code",
      "execution_count": null,
      "metadata": {
        "id": "x1W65238RKD4"
      },
      "outputs": [],
      "source": [
        "\n",
        "df = df.loc[~(df.c_id.notnull() & (df.c_id.str.contains('ct')))]"
      ]
    },
    {
      "cell_type": "code",
      "execution_count": null,
      "metadata": {
        "colab": {
          "base_uri": "https://localhost:8080/"
        },
        "id": "ONpZW2U3j-5u",
        "outputId": "9b4c56dd-8a26-4a71-944d-d4f54a4239dd"
      },
      "outputs": [
        {
          "data": {
            "text/plain": [
              "(336859, 9)"
            ]
          },
          "execution_count": 54,
          "metadata": {},
          "output_type": "execute_result"
        }
      ],
      "source": [
        "df.shape"
      ]
    },
    {
      "cell_type": "markdown",
      "metadata": {
        "id": "MPOxsMioRKEC"
      },
      "source": [
        "#### Le produit `0_2245` est dans des transactions mais n'est pas dans produits"
      ]
    },
    {
      "cell_type": "code",
      "execution_count": null,
      "metadata": {
        "colab": {
          "base_uri": "https://localhost:8080/",
          "height": 419
        },
        "id": "wLhBDBIDPonz",
        "outputId": "8c456673-2111-44b0-a613-0dddb62cbb37"
      },
      "outputs": [
        {
          "data": {
            "text/html": [
              "<div>\n",
              "<style scoped>\n",
              "    .dataframe tbody tr th:only-of-type {\n",
              "        vertical-align: middle;\n",
              "    }\n",
              "\n",
              "    .dataframe tbody tr th {\n",
              "        vertical-align: top;\n",
              "    }\n",
              "\n",
              "    .dataframe thead th {\n",
              "        text-align: right;\n",
              "    }\n",
              "</style>\n",
              "<table border=\"1\" class=\"dataframe\">\n",
              "  <thead>\n",
              "    <tr style=\"text-align: right;\">\n",
              "      <th></th>\n",
              "      <th>c_id</th>\n",
              "      <th>c_sex</th>\n",
              "      <th>c_birth</th>\n",
              "      <th>p_id</th>\n",
              "      <th>p_price</th>\n",
              "      <th>p_cat</th>\n",
              "      <th>t_date</th>\n",
              "      <th>t_sess_id</th>\n",
              "      <th>data_info</th>\n",
              "    </tr>\n",
              "  </thead>\n",
              "  <tbody>\n",
              "    <tr>\n",
              "      <th>2678</th>\n",
              "      <td>c_4505</td>\n",
              "      <td>m</td>\n",
              "      <td>1976.0</td>\n",
              "      <td>0_2245</td>\n",
              "      <td>NaN</td>\n",
              "      <td>NaN</td>\n",
              "      <td>2022-01-09 09:23:31.000720</td>\n",
              "      <td>s_147220</td>\n",
              "      <td>NaN</td>\n",
              "    </tr>\n",
              "    <tr>\n",
              "      <th>2968</th>\n",
              "      <td>c_3468</td>\n",
              "      <td>f</td>\n",
              "      <td>1981.0</td>\n",
              "      <td>0_2245</td>\n",
              "      <td>NaN</td>\n",
              "      <td>NaN</td>\n",
              "      <td>2021-09-11 10:52:05.205583</td>\n",
              "      <td>s_88251</td>\n",
              "      <td>NaN</td>\n",
              "    </tr>\n",
              "    <tr>\n",
              "      <th>6683</th>\n",
              "      <td>c_1403</td>\n",
              "      <td>f</td>\n",
              "      <td>1978.0</td>\n",
              "      <td>0_2245</td>\n",
              "      <td>NaN</td>\n",
              "      <td>NaN</td>\n",
              "      <td>2022-02-15 14:26:50.187952</td>\n",
              "      <td>s_165575</td>\n",
              "      <td>NaN</td>\n",
              "    </tr>\n",
              "    <tr>\n",
              "      <th>8386</th>\n",
              "      <td>c_3065</td>\n",
              "      <td>f</td>\n",
              "      <td>1977.0</td>\n",
              "      <td>0_2245</td>\n",
              "      <td>NaN</td>\n",
              "      <td>NaN</td>\n",
              "      <td>2022-01-26 13:34:33.440366</td>\n",
              "      <td>s_155484</td>\n",
              "      <td>NaN</td>\n",
              "    </tr>\n",
              "    <tr>\n",
              "      <th>9457</th>\n",
              "      <td>c_7102</td>\n",
              "      <td>m</td>\n",
              "      <td>1983.0</td>\n",
              "      <td>0_2245</td>\n",
              "      <td>NaN</td>\n",
              "      <td>NaN</td>\n",
              "      <td>2021-04-25 19:58:42.716401</td>\n",
              "      <td>s_25704</td>\n",
              "      <td>NaN</td>\n",
              "    </tr>\n",
              "    <tr>\n",
              "      <th>...</th>\n",
              "      <td>...</td>\n",
              "      <td>...</td>\n",
              "      <td>...</td>\n",
              "      <td>...</td>\n",
              "      <td>...</td>\n",
              "      <td>...</td>\n",
              "      <td>...</td>\n",
              "      <td>...</td>\n",
              "      <td>...</td>\n",
              "    </tr>\n",
              "    <tr>\n",
              "      <th>328828</th>\n",
              "      <td>c_8138</td>\n",
              "      <td>f</td>\n",
              "      <td>1984.0</td>\n",
              "      <td>0_2245</td>\n",
              "      <td>NaN</td>\n",
              "      <td>NaN</td>\n",
              "      <td>2021-10-04 21:20:27.540982</td>\n",
              "      <td>s_100047</td>\n",
              "      <td>NaN</td>\n",
              "    </tr>\n",
              "    <tr>\n",
              "      <th>328958</th>\n",
              "      <td>c_7416</td>\n",
              "      <td>m</td>\n",
              "      <td>1933.0</td>\n",
              "      <td>0_2245</td>\n",
              "      <td>NaN</td>\n",
              "      <td>NaN</td>\n",
              "      <td>2021-11-12 09:25:22.905886</td>\n",
              "      <td>s_118458</td>\n",
              "      <td>NaN</td>\n",
              "    </tr>\n",
              "    <tr>\n",
              "      <th>330551</th>\n",
              "      <td>c_4283</td>\n",
              "      <td>f</td>\n",
              "      <td>1976.0</td>\n",
              "      <td>0_2245</td>\n",
              "      <td>NaN</td>\n",
              "      <td>NaN</td>\n",
              "      <td>2021-09-01 02:46:38.931757</td>\n",
              "      <td>s_83377</td>\n",
              "      <td>NaN</td>\n",
              "    </tr>\n",
              "    <tr>\n",
              "      <th>333352</th>\n",
              "      <td>c_6236</td>\n",
              "      <td>f</td>\n",
              "      <td>1976.0</td>\n",
              "      <td>0_2245</td>\n",
              "      <td>NaN</td>\n",
              "      <td>NaN</td>\n",
              "      <td>2022-02-25 00:08:08.736068</td>\n",
              "      <td>s_170426</td>\n",
              "      <td>NaN</td>\n",
              "    </tr>\n",
              "    <tr>\n",
              "      <th>336071</th>\n",
              "      <td>c_4453</td>\n",
              "      <td>m</td>\n",
              "      <td>1981.0</td>\n",
              "      <td>0_2245</td>\n",
              "      <td>NaN</td>\n",
              "      <td>NaN</td>\n",
              "      <td>2022-02-16 11:35:20.319501</td>\n",
              "      <td>s_166050</td>\n",
              "      <td>NaN</td>\n",
              "    </tr>\n",
              "  </tbody>\n",
              "</table>\n",
              "<p>103 rows × 9 columns</p>\n",
              "</div>"
            ],
            "text/plain": [
              "          c_id c_sex  c_birth  ...                      t_date  t_sess_id  data_info\n",
              "2678    c_4505     m   1976.0  ...  2022-01-09 09:23:31.000720   s_147220        NaN\n",
              "2968    c_3468     f   1981.0  ...  2021-09-11 10:52:05.205583    s_88251        NaN\n",
              "6683    c_1403     f   1978.0  ...  2022-02-15 14:26:50.187952   s_165575        NaN\n",
              "8386    c_3065     f   1977.0  ...  2022-01-26 13:34:33.440366   s_155484        NaN\n",
              "9457    c_7102     m   1983.0  ...  2021-04-25 19:58:42.716401    s_25704        NaN\n",
              "...        ...   ...      ...  ...                         ...        ...        ...\n",
              "328828  c_8138     f   1984.0  ...  2021-10-04 21:20:27.540982   s_100047        NaN\n",
              "328958  c_7416     m   1933.0  ...  2021-11-12 09:25:22.905886   s_118458        NaN\n",
              "330551  c_4283     f   1976.0  ...  2021-09-01 02:46:38.931757    s_83377        NaN\n",
              "333352  c_6236     f   1976.0  ...  2022-02-25 00:08:08.736068   s_170426        NaN\n",
              "336071  c_4453     m   1981.0  ...  2022-02-16 11:35:20.319501   s_166050        NaN\n",
              "\n",
              "[103 rows x 9 columns]"
            ]
          },
          "execution_count": 55,
          "metadata": {},
          "output_type": "execute_result"
        }
      ],
      "source": [
        "df[df['p_id']=='0_2245']"
      ]
    },
    {
      "cell_type": "markdown",
      "metadata": {
        "id": "2BWna2wMRKEF"
      },
      "source": [
        "le prermier caractère de l'id correspond t'il a la catégorie ?"
      ]
    },
    {
      "cell_type": "code",
      "execution_count": null,
      "metadata": {
        "colab": {
          "base_uri": "https://localhost:8080/",
          "height": 419
        },
        "id": "NuxU3ya4RKET",
        "outputId": "858c320b-7a2a-4a93-a56f-bc9f61ed66a1"
      },
      "outputs": [
        {
          "data": {
            "text/html": [
              "<div>\n",
              "<style scoped>\n",
              "    .dataframe tbody tr th:only-of-type {\n",
              "        vertical-align: middle;\n",
              "    }\n",
              "\n",
              "    .dataframe tbody tr th {\n",
              "        vertical-align: top;\n",
              "    }\n",
              "\n",
              "    .dataframe thead th {\n",
              "        text-align: right;\n",
              "    }\n",
              "</style>\n",
              "<table border=\"1\" class=\"dataframe\">\n",
              "  <thead>\n",
              "    <tr style=\"text-align: right;\">\n",
              "      <th></th>\n",
              "      <th>p_id</th>\n",
              "      <th>p_cat</th>\n",
              "      <th>equal</th>\n",
              "    </tr>\n",
              "  </thead>\n",
              "  <tbody>\n",
              "    <tr>\n",
              "      <th>0</th>\n",
              "      <td>1_385</td>\n",
              "      <td>1.0</td>\n",
              "      <td>True</td>\n",
              "    </tr>\n",
              "    <tr>\n",
              "      <th>1</th>\n",
              "      <td>0_1110</td>\n",
              "      <td>0.0</td>\n",
              "      <td>True</td>\n",
              "    </tr>\n",
              "    <tr>\n",
              "      <th>2</th>\n",
              "      <td>0_1111</td>\n",
              "      <td>0.0</td>\n",
              "      <td>True</td>\n",
              "    </tr>\n",
              "    <tr>\n",
              "      <th>3</th>\n",
              "      <td>1_461</td>\n",
              "      <td>1.0</td>\n",
              "      <td>True</td>\n",
              "    </tr>\n",
              "    <tr>\n",
              "      <th>4</th>\n",
              "      <td>1_536</td>\n",
              "      <td>1.0</td>\n",
              "      <td>True</td>\n",
              "    </tr>\n",
              "    <tr>\n",
              "      <th>...</th>\n",
              "      <td>...</td>\n",
              "      <td>...</td>\n",
              "      <td>...</td>\n",
              "    </tr>\n",
              "    <tr>\n",
              "      <th>337054</th>\n",
              "      <td>0_525</td>\n",
              "      <td>0.0</td>\n",
              "      <td>True</td>\n",
              "    </tr>\n",
              "    <tr>\n",
              "      <th>337055</th>\n",
              "      <td>2_86</td>\n",
              "      <td>2.0</td>\n",
              "      <td>True</td>\n",
              "    </tr>\n",
              "    <tr>\n",
              "      <th>337056</th>\n",
              "      <td>0_299</td>\n",
              "      <td>0.0</td>\n",
              "      <td>True</td>\n",
              "    </tr>\n",
              "    <tr>\n",
              "      <th>337057</th>\n",
              "      <td>0_510</td>\n",
              "      <td>0.0</td>\n",
              "      <td>True</td>\n",
              "    </tr>\n",
              "    <tr>\n",
              "      <th>337058</th>\n",
              "      <td>0_2308</td>\n",
              "      <td>0.0</td>\n",
              "      <td>True</td>\n",
              "    </tr>\n",
              "  </tbody>\n",
              "</table>\n",
              "<p>336859 rows × 3 columns</p>\n",
              "</div>"
            ],
            "text/plain": [
              "          p_id  p_cat  equal\n",
              "0        1_385    1.0   True\n",
              "1       0_1110    0.0   True\n",
              "2       0_1111    0.0   True\n",
              "3        1_461    1.0   True\n",
              "4        1_536    1.0   True\n",
              "...        ...    ...    ...\n",
              "337054   0_525    0.0   True\n",
              "337055    2_86    2.0   True\n",
              "337056   0_299    0.0   True\n",
              "337057   0_510    0.0   True\n",
              "337058  0_2308    0.0   True\n",
              "\n",
              "[336859 rows x 3 columns]"
            ]
          },
          "execution_count": 56,
          "metadata": {},
          "output_type": "execute_result"
        }
      ],
      "source": [
        "test = df[['p_id', 'p_cat']].copy()\n",
        "test['equal'] = test['p_id'].str[0] == test['p_cat'].astype(str).str[0]\n",
        "test"
      ]
    },
    {
      "cell_type": "code",
      "execution_count": null,
      "metadata": {
        "colab": {
          "base_uri": "https://localhost:8080/"
        },
        "id": "35KoxaIeRKEc",
        "outputId": "e5049794-c006-45f2-dcf4-2fb33be7ce80",
        "scrolled": true
      },
      "outputs": [
        {
          "data": {
            "text/plain": [
              "True"
            ]
          },
          "execution_count": 57,
          "metadata": {},
          "output_type": "execute_result"
        }
      ],
      "source": [
        "test[test['p_id'].notnull()& test['p_cat'].notnull()].equal.all()"
      ]
    },
    {
      "cell_type": "markdown",
      "metadata": {
        "id": "BhhyrwjoRKEl"
      },
      "source": [
        "--> oui on peut donc faire une imputation de la catégorie a partir de l'id"
      ]
    },
    {
      "cell_type": "code",
      "execution_count": null,
      "metadata": {
        "id": "BuSYwIkfRKEo"
      },
      "outputs": [],
      "source": [
        "# imputation de la catégorie\n",
        "cat = 0\n",
        "df.loc[df.p_id=='0_2245', 'p_cat'] = cat"
      ]
    },
    {
      "cell_type": "markdown",
      "metadata": {
        "id": "FH-0Hyw7RKEt"
      },
      "source": [
        "Et l'on peut imputer le prix par la moyenne de la catégorie"
      ]
    },
    {
      "cell_type": "code",
      "execution_count": null,
      "metadata": {
        "id": "mo7pnVydRKEv"
      },
      "outputs": [],
      "source": [
        "cat1_price_mean = df.loc[df.p_cat == cat, 'p_price'].mean()\n",
        "df.loc[df.p_id=='0_2245', 'p_price'] = cat1_price_mean"
      ]
    },
    {
      "cell_type": "code",
      "execution_count": null,
      "metadata": {
        "colab": {
          "base_uri": "https://localhost:8080/",
          "height": 419
        },
        "id": "Yk4m9HW4Qmu0",
        "outputId": "46cd653b-7d93-49a0-d6b7-0d824872f330"
      },
      "outputs": [
        {
          "data": {
            "text/html": [
              "<div>\n",
              "<style scoped>\n",
              "    .dataframe tbody tr th:only-of-type {\n",
              "        vertical-align: middle;\n",
              "    }\n",
              "\n",
              "    .dataframe tbody tr th {\n",
              "        vertical-align: top;\n",
              "    }\n",
              "\n",
              "    .dataframe thead th {\n",
              "        text-align: right;\n",
              "    }\n",
              "</style>\n",
              "<table border=\"1\" class=\"dataframe\">\n",
              "  <thead>\n",
              "    <tr style=\"text-align: right;\">\n",
              "      <th></th>\n",
              "      <th>c_id</th>\n",
              "      <th>c_sex</th>\n",
              "      <th>c_birth</th>\n",
              "      <th>p_id</th>\n",
              "      <th>p_price</th>\n",
              "      <th>p_cat</th>\n",
              "      <th>t_date</th>\n",
              "      <th>t_sess_id</th>\n",
              "      <th>data_info</th>\n",
              "    </tr>\n",
              "  </thead>\n",
              "  <tbody>\n",
              "    <tr>\n",
              "      <th>2678</th>\n",
              "      <td>c_4505</td>\n",
              "      <td>m</td>\n",
              "      <td>1976.0</td>\n",
              "      <td>0_2245</td>\n",
              "      <td>10.647072</td>\n",
              "      <td>0.0</td>\n",
              "      <td>2022-01-09 09:23:31.000720</td>\n",
              "      <td>s_147220</td>\n",
              "      <td>NaN</td>\n",
              "    </tr>\n",
              "    <tr>\n",
              "      <th>2968</th>\n",
              "      <td>c_3468</td>\n",
              "      <td>f</td>\n",
              "      <td>1981.0</td>\n",
              "      <td>0_2245</td>\n",
              "      <td>10.647072</td>\n",
              "      <td>0.0</td>\n",
              "      <td>2021-09-11 10:52:05.205583</td>\n",
              "      <td>s_88251</td>\n",
              "      <td>NaN</td>\n",
              "    </tr>\n",
              "    <tr>\n",
              "      <th>6683</th>\n",
              "      <td>c_1403</td>\n",
              "      <td>f</td>\n",
              "      <td>1978.0</td>\n",
              "      <td>0_2245</td>\n",
              "      <td>10.647072</td>\n",
              "      <td>0.0</td>\n",
              "      <td>2022-02-15 14:26:50.187952</td>\n",
              "      <td>s_165575</td>\n",
              "      <td>NaN</td>\n",
              "    </tr>\n",
              "    <tr>\n",
              "      <th>8386</th>\n",
              "      <td>c_3065</td>\n",
              "      <td>f</td>\n",
              "      <td>1977.0</td>\n",
              "      <td>0_2245</td>\n",
              "      <td>10.647072</td>\n",
              "      <td>0.0</td>\n",
              "      <td>2022-01-26 13:34:33.440366</td>\n",
              "      <td>s_155484</td>\n",
              "      <td>NaN</td>\n",
              "    </tr>\n",
              "    <tr>\n",
              "      <th>9457</th>\n",
              "      <td>c_7102</td>\n",
              "      <td>m</td>\n",
              "      <td>1983.0</td>\n",
              "      <td>0_2245</td>\n",
              "      <td>10.647072</td>\n",
              "      <td>0.0</td>\n",
              "      <td>2021-04-25 19:58:42.716401</td>\n",
              "      <td>s_25704</td>\n",
              "      <td>NaN</td>\n",
              "    </tr>\n",
              "    <tr>\n",
              "      <th>...</th>\n",
              "      <td>...</td>\n",
              "      <td>...</td>\n",
              "      <td>...</td>\n",
              "      <td>...</td>\n",
              "      <td>...</td>\n",
              "      <td>...</td>\n",
              "      <td>...</td>\n",
              "      <td>...</td>\n",
              "      <td>...</td>\n",
              "    </tr>\n",
              "    <tr>\n",
              "      <th>328828</th>\n",
              "      <td>c_8138</td>\n",
              "      <td>f</td>\n",
              "      <td>1984.0</td>\n",
              "      <td>0_2245</td>\n",
              "      <td>10.647072</td>\n",
              "      <td>0.0</td>\n",
              "      <td>2021-10-04 21:20:27.540982</td>\n",
              "      <td>s_100047</td>\n",
              "      <td>NaN</td>\n",
              "    </tr>\n",
              "    <tr>\n",
              "      <th>328958</th>\n",
              "      <td>c_7416</td>\n",
              "      <td>m</td>\n",
              "      <td>1933.0</td>\n",
              "      <td>0_2245</td>\n",
              "      <td>10.647072</td>\n",
              "      <td>0.0</td>\n",
              "      <td>2021-11-12 09:25:22.905886</td>\n",
              "      <td>s_118458</td>\n",
              "      <td>NaN</td>\n",
              "    </tr>\n",
              "    <tr>\n",
              "      <th>330551</th>\n",
              "      <td>c_4283</td>\n",
              "      <td>f</td>\n",
              "      <td>1976.0</td>\n",
              "      <td>0_2245</td>\n",
              "      <td>10.647072</td>\n",
              "      <td>0.0</td>\n",
              "      <td>2021-09-01 02:46:38.931757</td>\n",
              "      <td>s_83377</td>\n",
              "      <td>NaN</td>\n",
              "    </tr>\n",
              "    <tr>\n",
              "      <th>333352</th>\n",
              "      <td>c_6236</td>\n",
              "      <td>f</td>\n",
              "      <td>1976.0</td>\n",
              "      <td>0_2245</td>\n",
              "      <td>10.647072</td>\n",
              "      <td>0.0</td>\n",
              "      <td>2022-02-25 00:08:08.736068</td>\n",
              "      <td>s_170426</td>\n",
              "      <td>NaN</td>\n",
              "    </tr>\n",
              "    <tr>\n",
              "      <th>336071</th>\n",
              "      <td>c_4453</td>\n",
              "      <td>m</td>\n",
              "      <td>1981.0</td>\n",
              "      <td>0_2245</td>\n",
              "      <td>10.647072</td>\n",
              "      <td>0.0</td>\n",
              "      <td>2022-02-16 11:35:20.319501</td>\n",
              "      <td>s_166050</td>\n",
              "      <td>NaN</td>\n",
              "    </tr>\n",
              "  </tbody>\n",
              "</table>\n",
              "<p>103 rows × 9 columns</p>\n",
              "</div>"
            ],
            "text/plain": [
              "          c_id c_sex  c_birth  ...                      t_date  t_sess_id  data_info\n",
              "2678    c_4505     m   1976.0  ...  2022-01-09 09:23:31.000720   s_147220        NaN\n",
              "2968    c_3468     f   1981.0  ...  2021-09-11 10:52:05.205583    s_88251        NaN\n",
              "6683    c_1403     f   1978.0  ...  2022-02-15 14:26:50.187952   s_165575        NaN\n",
              "8386    c_3065     f   1977.0  ...  2022-01-26 13:34:33.440366   s_155484        NaN\n",
              "9457    c_7102     m   1983.0  ...  2021-04-25 19:58:42.716401    s_25704        NaN\n",
              "...        ...   ...      ...  ...                         ...        ...        ...\n",
              "328828  c_8138     f   1984.0  ...  2021-10-04 21:20:27.540982   s_100047        NaN\n",
              "328958  c_7416     m   1933.0  ...  2021-11-12 09:25:22.905886   s_118458        NaN\n",
              "330551  c_4283     f   1976.0  ...  2021-09-01 02:46:38.931757    s_83377        NaN\n",
              "333352  c_6236     f   1976.0  ...  2022-02-25 00:08:08.736068   s_170426        NaN\n",
              "336071  c_4453     m   1981.0  ...  2022-02-16 11:35:20.319501   s_166050        NaN\n",
              "\n",
              "[103 rows x 9 columns]"
            ]
          },
          "execution_count": 60,
          "metadata": {},
          "output_type": "execute_result"
        }
      ],
      "source": [
        "df[df['p_id']=='0_2245']"
      ]
    },
    {
      "cell_type": "code",
      "execution_count": null,
      "metadata": {
        "id": "ylyv4s5RRKE2"
      },
      "outputs": [],
      "source": [
        "df.loc[df.p_id=='0_2245', 'data_info'] = 'prod_imputation'"
      ]
    },
    {
      "cell_type": "code",
      "execution_count": null,
      "metadata": {
        "colab": {
          "base_uri": "https://localhost:8080/",
          "height": 80
        },
        "id": "G9YkR0glRKE7",
        "outputId": "72710b7e-e621-4603-e3c5-403cc505fd45"
      },
      "outputs": [
        {
          "data": {
            "text/html": [
              "<div>\n",
              "<style scoped>\n",
              "    .dataframe tbody tr th:only-of-type {\n",
              "        vertical-align: middle;\n",
              "    }\n",
              "\n",
              "    .dataframe tbody tr th {\n",
              "        vertical-align: top;\n",
              "    }\n",
              "\n",
              "    .dataframe thead th {\n",
              "        text-align: right;\n",
              "    }\n",
              "</style>\n",
              "<table border=\"1\" class=\"dataframe\">\n",
              "  <thead>\n",
              "    <tr style=\"text-align: right;\">\n",
              "      <th></th>\n",
              "      <th>p_id</th>\n",
              "      <th>p_cat</th>\n",
              "      <th>p_price</th>\n",
              "    </tr>\n",
              "  </thead>\n",
              "  <tbody>\n",
              "    <tr>\n",
              "      <th>2678</th>\n",
              "      <td>0_2245</td>\n",
              "      <td>0.0</td>\n",
              "      <td>10.647072</td>\n",
              "    </tr>\n",
              "  </tbody>\n",
              "</table>\n",
              "</div>"
            ],
            "text/plain": [
              "        p_id  p_cat    p_price\n",
              "2678  0_2245    0.0  10.647072"
            ]
          },
          "execution_count": 62,
          "metadata": {},
          "output_type": "execute_result"
        }
      ],
      "source": [
        "df.loc[df.p_id=='0_2245', ['p_id', 'p_cat', 'p_price']].drop_duplicates()"
      ]
    },
    {
      "cell_type": "markdown",
      "metadata": {
        "id": "onSHaWUIRKFB"
      },
      "source": [
        "#### On transforme les date en objets *Date*"
      ]
    },
    {
      "cell_type": "code",
      "execution_count": null,
      "metadata": {
        "id": "CEfN3DYfRKFC"
      },
      "outputs": [],
      "source": [
        "def toDate(val):\n",
        "    if pd.isnull(val):\n",
        "        return val\n",
        "    else:\n",
        "        return datetime.strptime(val, '%Y-%m-%d %H:%M:%S.%f')"
      ]
    },
    {
      "cell_type": "code",
      "execution_count": null,
      "metadata": {
        "colab": {
          "base_uri": "https://localhost:8080/"
        },
        "id": "GNuOibMIRc7z",
        "outputId": "f85e6511-ff35-4e7e-854b-851afce20f80"
      },
      "outputs": [
        {
          "data": {
            "text/plain": [
              "dtype('O')"
            ]
          },
          "execution_count": 64,
          "metadata": {},
          "output_type": "execute_result"
        }
      ],
      "source": [
        "df['t_date'].dtype"
      ]
    },
    {
      "cell_type": "code",
      "execution_count": null,
      "metadata": {
        "id": "4nlb9p56RKFG"
      },
      "outputs": [],
      "source": [
        "df['t_date'] = df['t_date'].apply(toDate)"
      ]
    },
    {
      "cell_type": "code",
      "execution_count": null,
      "metadata": {
        "colab": {
          "base_uri": "https://localhost:8080/"
        },
        "id": "fWBdSu9CRsFQ",
        "outputId": "795650c4-3a15-4838-ca18-b96234c79af4"
      },
      "outputs": [
        {
          "data": {
            "text/plain": [
              "dtype('<M8[ns]')"
            ]
          },
          "execution_count": 66,
          "metadata": {},
          "output_type": "execute_result"
        }
      ],
      "source": [
        "df['t_date'].dtype"
      ]
    },
    {
      "cell_type": "code",
      "execution_count": null,
      "metadata": {
        "colab": {
          "base_uri": "https://localhost:8080/",
          "height": 80
        },
        "id": "Dg9_i3gBbPGV",
        "outputId": "203e8179-eba9-4631-c910-a7fb40bacb0a"
      },
      "outputs": [
        {
          "data": {
            "text/html": [
              "<div>\n",
              "<style scoped>\n",
              "    .dataframe tbody tr th:only-of-type {\n",
              "        vertical-align: middle;\n",
              "    }\n",
              "\n",
              "    .dataframe tbody tr th {\n",
              "        vertical-align: top;\n",
              "    }\n",
              "\n",
              "    .dataframe thead th {\n",
              "        text-align: right;\n",
              "    }\n",
              "</style>\n",
              "<table border=\"1\" class=\"dataframe\">\n",
              "  <thead>\n",
              "    <tr style=\"text-align: right;\">\n",
              "      <th></th>\n",
              "      <th>c_id</th>\n",
              "      <th>c_sex</th>\n",
              "      <th>c_birth</th>\n",
              "      <th>p_id</th>\n",
              "      <th>p_price</th>\n",
              "      <th>p_cat</th>\n",
              "      <th>t_date</th>\n",
              "      <th>t_sess_id</th>\n",
              "      <th>data_info</th>\n",
              "    </tr>\n",
              "  </thead>\n",
              "  <tbody>\n",
              "    <tr>\n",
              "      <th>0</th>\n",
              "      <td>c_4410</td>\n",
              "      <td>f</td>\n",
              "      <td>1967.0</td>\n",
              "      <td>1_385</td>\n",
              "      <td>25.99</td>\n",
              "      <td>1.0</td>\n",
              "      <td>2021-03-22 01:40:22.782925</td>\n",
              "      <td>s_9707</td>\n",
              "      <td>NaN</td>\n",
              "    </tr>\n",
              "  </tbody>\n",
              "</table>\n",
              "</div>"
            ],
            "text/plain": [
              "     c_id c_sex  c_birth  ...                     t_date  t_sess_id  data_info\n",
              "0  c_4410     f   1967.0  ... 2021-03-22 01:40:22.782925     s_9707        NaN\n",
              "\n",
              "[1 rows x 9 columns]"
            ]
          },
          "execution_count": 67,
          "metadata": {},
          "output_type": "execute_result"
        }
      ],
      "source": [
        "df.head(1)"
      ]
    },
    {
      "cell_type": "markdown",
      "metadata": {
        "id": "SbILg3oURKFN"
      },
      "source": [
        "#### On transforme en string les cat de produits"
      ]
    },
    {
      "cell_type": "code",
      "execution_count": null,
      "metadata": {
        "id": "_gdK7B5VRKFO"
      },
      "outputs": [],
      "source": [
        "df['p_cat'] = df['p_cat'].fillna(-1)\n",
        "df['p_cat'] = df['p_cat'].apply(lambda x: str(int(x)))\n",
        "df['p_cat'] = df['p_cat'].replace('-1', np.nan)"
      ]
    },
    {
      "cell_type": "markdown",
      "metadata": {
        "id": "W1IU9pu_RKFV"
      },
      "source": [
        "#### On détermine l'age des acheteurs"
      ]
    },
    {
      "cell_type": "code",
      "execution_count": null,
      "metadata": {
        "colab": {
          "base_uri": "https://localhost:8080/"
        },
        "id": "gIrAkOp8nbm5",
        "outputId": "db13b920-a6d4-4ab9-f071-a41d4c083a68"
      },
      "outputs": [
        {
          "data": {
            "text/plain": [
              "0         2021.0\n",
              "1         2021.0\n",
              "2         2021.0\n",
              "3         2021.0\n",
              "4         2022.0\n",
              "           ...  \n",
              "337054       NaN\n",
              "337055       NaN\n",
              "337056       NaN\n",
              "337057       NaN\n",
              "337058       NaN\n",
              "Name: t_date, Length: 336859, dtype: float64"
            ]
          },
          "execution_count": 69,
          "metadata": {},
          "output_type": "execute_result"
        }
      ],
      "source": [
        "df['t_date'].dt.year"
      ]
    },
    {
      "cell_type": "code",
      "execution_count": null,
      "metadata": {
        "id": "1Xb86ILmRKFX"
      },
      "outputs": [],
      "source": [
        "df['t_buyer_age'] = df['t_date'].dt.year - df['c_birth']"
      ]
    },
    {
      "cell_type": "markdown",
      "metadata": {
        "id": "RH_BW9tXRKFf"
      },
      "source": [
        "#### on discrétise l'age des acheteurs"
      ]
    },
    {
      "cell_type": "code",
      "execution_count": null,
      "metadata": {
        "id": "e8p7IIK2RKFg"
      },
      "outputs": [],
      "source": [
        "def discretise_age(age):\n",
        "    tranches = [\n",
        "        {'bornes': (0,30), 'label': '30-'},\n",
        "        {'bornes': (31,50), 'label': '31-50'},\n",
        "        {'bornes': (51,70), 'label': '51-70'},\n",
        "        {'bornes': (71,120),'label': '71+'}\n",
        "    ]\n",
        "    for t in tranches:\n",
        "        if t['bornes'][0] <= age <= t['bornes'][1]:\n",
        "            return t['label']"
      ]
    },
    {
      "cell_type": "code",
      "execution_count": null,
      "metadata": {
        "id": "kEgoFiK_RKFn"
      },
      "outputs": [],
      "source": [
        "df['t_buyer_age_range'] = df['t_buyer_age'].apply(discretise_age)"
      ]
    },
    {
      "cell_type": "markdown",
      "metadata": {
        "id": "EfkO3Mk2RKFt"
      },
      "source": [
        "#### On calcule l'age des consomateurs"
      ]
    },
    {
      "cell_type": "code",
      "execution_count": null,
      "metadata": {
        "colab": {
          "base_uri": "https://localhost:8080/"
        },
        "id": "4OxIE5RtTvSK",
        "outputId": "2c11288d-5df6-4d8a-bc6c-1e8b4dd715e8"
      },
      "outputs": [
        {
          "data": {
            "text/html": [
              "<div>\n",
              "<style scoped>\n",
              "    .dataframe tbody tr th:only-of-type {\n",
              "        vertical-align: middle;\n",
              "    }\n",
              "\n",
              "    .dataframe tbody tr th {\n",
              "        vertical-align: top;\n",
              "    }\n",
              "\n",
              "    .dataframe thead th {\n",
              "        text-align: right;\n",
              "    }\n",
              "</style>\n",
              "<table border=\"1\" class=\"dataframe\">\n",
              "  <thead>\n",
              "    <tr style=\"text-align: right;\">\n",
              "      <th></th>\n",
              "      <th>c_id</th>\n",
              "      <th>c_sex</th>\n",
              "      <th>c_birth</th>\n",
              "      <th>p_id</th>\n",
              "      <th>p_price</th>\n",
              "      <th>p_cat</th>\n",
              "      <th>t_date</th>\n",
              "      <th>t_sess_id</th>\n",
              "      <th>data_info</th>\n",
              "      <th>t_buyer_age</th>\n",
              "      <th>t_buyer_age_range</th>\n",
              "    </tr>\n",
              "  </thead>\n",
              "  <tbody>\n",
              "    <tr>\n",
              "      <th>0</th>\n",
              "      <td>c_4410</td>\n",
              "      <td>f</td>\n",
              "      <td>1967.0</td>\n",
              "      <td>1_385</td>\n",
              "      <td>25.99</td>\n",
              "      <td>1</td>\n",
              "      <td>2021-03-22 01:40:22.782925</td>\n",
              "      <td>s_9707</td>\n",
              "      <td>NaN</td>\n",
              "      <td>54.0</td>\n",
              "      <td>51-70</td>\n",
              "    </tr>\n",
              "    <tr>\n",
              "      <th>1</th>\n",
              "      <td>c_4410</td>\n",
              "      <td>f</td>\n",
              "      <td>1967.0</td>\n",
              "      <td>0_1110</td>\n",
              "      <td>4.71</td>\n",
              "      <td>0</td>\n",
              "      <td>2021-11-04 16:28:30.169021</td>\n",
              "      <td>s_114715</td>\n",
              "      <td>NaN</td>\n",
              "      <td>54.0</td>\n",
              "      <td>51-70</td>\n",
              "    </tr>\n",
              "    <tr>\n",
              "      <th>2</th>\n",
              "      <td>c_4410</td>\n",
              "      <td>f</td>\n",
              "      <td>1967.0</td>\n",
              "      <td>0_1111</td>\n",
              "      <td>19.99</td>\n",
              "      <td>0</td>\n",
              "      <td>2021-03-22 01:27:49.480137</td>\n",
              "      <td>s_9707</td>\n",
              "      <td>NaN</td>\n",
              "      <td>54.0</td>\n",
              "      <td>51-70</td>\n",
              "    </tr>\n",
              "    <tr>\n",
              "      <th>3</th>\n",
              "      <td>c_4410</td>\n",
              "      <td>f</td>\n",
              "      <td>1967.0</td>\n",
              "      <td>1_461</td>\n",
              "      <td>12.99</td>\n",
              "      <td>1</td>\n",
              "      <td>2021-08-11 08:40:47.495793</td>\n",
              "      <td>s_74236</td>\n",
              "      <td>NaN</td>\n",
              "      <td>54.0</td>\n",
              "      <td>51-70</td>\n",
              "    </tr>\n",
              "    <tr>\n",
              "      <th>4</th>\n",
              "      <td>c_4410</td>\n",
              "      <td>f</td>\n",
              "      <td>1967.0</td>\n",
              "      <td>1_536</td>\n",
              "      <td>11.21</td>\n",
              "      <td>1</td>\n",
              "      <td>2022-01-18 17:05:07.468131</td>\n",
              "      <td>s_151740</td>\n",
              "      <td>NaN</td>\n",
              "      <td>55.0</td>\n",
              "      <td>51-70</td>\n",
              "    </tr>\n",
              "  </tbody>\n",
              "</table>\n",
              "</div>"
            ],
            "text/plain": [
              "     c_id c_sex  c_birth  ... data_info  t_buyer_age t_buyer_age_range\n",
              "0  c_4410     f   1967.0  ...       NaN         54.0             51-70\n",
              "1  c_4410     f   1967.0  ...       NaN         54.0             51-70\n",
              "2  c_4410     f   1967.0  ...       NaN         54.0             51-70\n",
              "3  c_4410     f   1967.0  ...       NaN         54.0             51-70\n",
              "4  c_4410     f   1967.0  ...       NaN         55.0             51-70\n",
              "\n",
              "[5 rows x 11 columns]"
            ]
          },
          "execution_count": 73,
          "metadata": {},
          "output_type": "execute_result"
        }
      ],
      "source": [
        "df.head()"
      ]
    },
    {
      "cell_type": "code",
      "execution_count": null,
      "metadata": {
        "id": "Yz6KkD1gRKFv"
      },
      "outputs": [],
      "source": [
        "annee = 2022\n",
        "df['c_age']  = annee - df['c_birth']"
      ]
    },
    {
      "cell_type": "markdown",
      "metadata": {
        "id": "K-yzYWFKRKF0"
      },
      "source": [
        "#### on discrétise l'age des consommateurs"
      ]
    },
    {
      "cell_type": "code",
      "execution_count": null,
      "metadata": {
        "id": "Zw8wK_UyRKF2"
      },
      "outputs": [],
      "source": [
        "df['c_age_range'] = df['c_age'].apply(discretise_age)"
      ]
    },
    {
      "cell_type": "markdown",
      "metadata": {
        "id": "cWORrqCJRKF8"
      },
      "source": [
        "#### L'âge de 18 an est surreprésenté"
      ]
    },
    {
      "cell_type": "code",
      "execution_count": null,
      "metadata": {
        "colab": {
          "base_uri": "https://localhost:8080/"
        },
        "id": "n3kpuKxuRKF-",
        "outputId": "0723d9ab-44ea-4cb1-b65e-bd0a76f1b0f5",
        "scrolled": true
      },
      "outputs": [
        {
          "data": {
            "text/plain": [
              "<matplotlib.axes._subplots.AxesSubplot at 0x7ffa31a3b150>"
            ]
          },
          "execution_count": 76,
          "metadata": {},
          "output_type": "execute_result"
        },
        {
          "data": {
            "image/png": "[encoded data removed]",
            "text/plain": [
              "<Figure size 432x288 with 1 Axes>"
            ]
          },
          "metadata": {},
          "output_type": "display_data"
        }
      ],
      "source": [
        "df[['c_id', 'c_age']].drop_duplicates().c_age.plot(kind='hist', bins=100)"
      ]
    },
    {
      "cell_type": "markdown",
      "metadata": {
        "id": "aBAwGsMYRKGI"
      },
      "source": [
        "on ajoute un flag 'age irrelevant'"
      ]
    },
    {
      "cell_type": "code",
      "execution_count": null,
      "metadata": {
        "id": "jo5Moeq1RKGJ"
      },
      "outputs": [],
      "source": [
        "df.loc[df.c_age == 18, 'data_info'] = 'age_irrelevant'"
      ]
    },
    {
      "cell_type": "markdown",
      "metadata": {
        "id": "4760uncJRKGP"
      },
      "source": [
        "#### On exprime la date de différentes manières"
      ]
    },
    {
      "cell_type": "code",
      "execution_count": null,
      "metadata": {
        "id": "yIjlA6q4RKGR"
      },
      "outputs": [],
      "source": [
        "# mois d'achat\n",
        "df['t_month'] = df['t_date'].dt.month\n",
        "# début, fin du mois ? 0,1,2,3\n",
        "df['t_month_part'] = (df['t_date'].dt.day / (df['t_date'].dt.days_in_month/4+1)).apply(lambda x: str(x)[0])\n",
        "# jour de la semaine\n",
        "df['t_weekday'] = df['t_date'].dt.dayofweek\n",
        "# heure d'achat\n",
        "df['t_hour'] = df['t_date'].dt.hour"
      ]
    },
    {
      "cell_type": "markdown",
      "metadata": {
        "id": "1UegjPgvRKGV"
      },
      "source": [
        "#### On discrétise le prix"
      ]
    },
    {
      "cell_type": "code",
      "execution_count": null,
      "metadata": {
        "id": "NMjr5F6hRKGb"
      },
      "outputs": [],
      "source": [
        "def discretise_price(price):\n",
        "    tranches = [\n",
        "        {'bornes': (0,4),  'label': 'very_cheap 3-'},\n",
        "        {'bornes': (4,10), 'label': 'cheap 4-9'},\n",
        "        {'bornes': (10,20), 'label': 'medium 10-19'},\n",
        "        {'bornes': (20,80), 'label': 'expensive 20-79'},\n",
        "        {'bornes': (80,500), 'label': 'very_expansive 80+'}\n",
        "    ]\n",
        "    for t in tranches:\n",
        "        if t['bornes'][0] <= price < t['bornes'][1]:\n",
        "            return t['label']"
      ]
    },
    {
      "cell_type": "code",
      "execution_count": null,
      "metadata": {
        "id": "YGNq_0gWRKGj"
      },
      "outputs": [],
      "source": [
        "df['p_price_range'] = df['p_price'].apply(discretise_price)"
      ]
    },
    {
      "cell_type": "markdown",
      "metadata": {
        "id": "t6fNiuBkRKHG"
      },
      "source": [
        "<hr>"
      ]
    },
    {
      "cell_type": "markdown",
      "metadata": {
        "id": "1d7TM7xzRKHH"
      },
      "source": [
        "#### Enfin, renommage des colonnes"
      ]
    },
    {
      "cell_type": "code",
      "execution_count": null,
      "metadata": {
        "colab": {
          "base_uri": "https://localhost:8080/"
        },
        "id": "0ezuUpA6emMA",
        "outputId": "47eac6db-ed60-4375-95fe-aa89cfa09b8b"
      },
      "outputs": [
        {
          "data": {
            "text/html": [
              "<div>\n",
              "<style scoped>\n",
              "    .dataframe tbody tr th:only-of-type {\n",
              "        vertical-align: middle;\n",
              "    }\n",
              "\n",
              "    .dataframe tbody tr th {\n",
              "        vertical-align: top;\n",
              "    }\n",
              "\n",
              "    .dataframe thead th {\n",
              "        text-align: right;\n",
              "    }\n",
              "</style>\n",
              "<table border=\"1\" class=\"dataframe\">\n",
              "  <thead>\n",
              "    <tr style=\"text-align: right;\">\n",
              "      <th></th>\n",
              "      <th>c_id</th>\n",
              "      <th>c_sex</th>\n",
              "      <th>c_birth</th>\n",
              "      <th>p_id</th>\n",
              "      <th>p_price</th>\n",
              "      <th>p_cat</th>\n",
              "      <th>t_date</th>\n",
              "      <th>t_sess_id</th>\n",
              "      <th>data_info</th>\n",
              "      <th>t_buyer_age</th>\n",
              "      <th>t_buyer_age_range</th>\n",
              "      <th>c_age</th>\n",
              "      <th>c_age_range</th>\n",
              "      <th>t_month</th>\n",
              "      <th>t_month_part</th>\n",
              "      <th>t_weekday</th>\n",
              "      <th>t_hour</th>\n",
              "      <th>p_price_range</th>\n",
              "    </tr>\n",
              "  </thead>\n",
              "  <tbody>\n",
              "    <tr>\n",
              "      <th>0</th>\n",
              "      <td>c_4410</td>\n",
              "      <td>f</td>\n",
              "      <td>1967.0</td>\n",
              "      <td>1_385</td>\n",
              "      <td>25.99</td>\n",
              "      <td>1</td>\n",
              "      <td>2021-03-22 01:40:22.782925</td>\n",
              "      <td>s_9707</td>\n",
              "      <td>NaN</td>\n",
              "      <td>54.0</td>\n",
              "      <td>51-70</td>\n",
              "      <td>55.0</td>\n",
              "      <td>51-70</td>\n",
              "      <td>3.0</td>\n",
              "      <td>2</td>\n",
              "      <td>0.0</td>\n",
              "      <td>1.0</td>\n",
              "      <td>expensive 20-79</td>\n",
              "    </tr>\n",
              "    <tr>\n",
              "      <th>1</th>\n",
              "      <td>c_4410</td>\n",
              "      <td>f</td>\n",
              "      <td>1967.0</td>\n",
              "      <td>0_1110</td>\n",
              "      <td>4.71</td>\n",
              "      <td>0</td>\n",
              "      <td>2021-11-04 16:28:30.169021</td>\n",
              "      <td>s_114715</td>\n",
              "      <td>NaN</td>\n",
              "      <td>54.0</td>\n",
              "      <td>51-70</td>\n",
              "      <td>55.0</td>\n",
              "      <td>51-70</td>\n",
              "      <td>11.0</td>\n",
              "      <td>0</td>\n",
              "      <td>3.0</td>\n",
              "      <td>16.0</td>\n",
              "      <td>cheap 4-9</td>\n",
              "    </tr>\n",
              "    <tr>\n",
              "      <th>2</th>\n",
              "      <td>c_4410</td>\n",
              "      <td>f</td>\n",
              "      <td>1967.0</td>\n",
              "      <td>0_1111</td>\n",
              "      <td>19.99</td>\n",
              "      <td>0</td>\n",
              "      <td>2021-03-22 01:27:49.480137</td>\n",
              "      <td>s_9707</td>\n",
              "      <td>NaN</td>\n",
              "      <td>54.0</td>\n",
              "      <td>51-70</td>\n",
              "      <td>55.0</td>\n",
              "      <td>51-70</td>\n",
              "      <td>3.0</td>\n",
              "      <td>2</td>\n",
              "      <td>0.0</td>\n",
              "      <td>1.0</td>\n",
              "      <td>medium 10-19</td>\n",
              "    </tr>\n",
              "    <tr>\n",
              "      <th>3</th>\n",
              "      <td>c_4410</td>\n",
              "      <td>f</td>\n",
              "      <td>1967.0</td>\n",
              "      <td>1_461</td>\n",
              "      <td>12.99</td>\n",
              "      <td>1</td>\n",
              "      <td>2021-08-11 08:40:47.495793</td>\n",
              "      <td>s_74236</td>\n",
              "      <td>NaN</td>\n",
              "      <td>54.0</td>\n",
              "      <td>51-70</td>\n",
              "      <td>55.0</td>\n",
              "      <td>51-70</td>\n",
              "      <td>8.0</td>\n",
              "      <td>1</td>\n",
              "      <td>2.0</td>\n",
              "      <td>8.0</td>\n",
              "      <td>medium 10-19</td>\n",
              "    </tr>\n",
              "    <tr>\n",
              "      <th>4</th>\n",
              "      <td>c_4410</td>\n",
              "      <td>f</td>\n",
              "      <td>1967.0</td>\n",
              "      <td>1_536</td>\n",
              "      <td>11.21</td>\n",
              "      <td>1</td>\n",
              "      <td>2022-01-18 17:05:07.468131</td>\n",
              "      <td>s_151740</td>\n",
              "      <td>NaN</td>\n",
              "      <td>55.0</td>\n",
              "      <td>51-70</td>\n",
              "      <td>55.0</td>\n",
              "      <td>51-70</td>\n",
              "      <td>1.0</td>\n",
              "      <td>2</td>\n",
              "      <td>1.0</td>\n",
              "      <td>17.0</td>\n",
              "      <td>medium 10-19</td>\n",
              "    </tr>\n",
              "  </tbody>\n",
              "</table>\n",
              "</div>"
            ],
            "text/plain": [
              "     c_id c_sex  c_birth  ... t_weekday  t_hour    p_price_range\n",
              "0  c_4410     f   1967.0  ...       0.0     1.0  expensive 20-79\n",
              "1  c_4410     f   1967.0  ...       3.0    16.0        cheap 4-9\n",
              "2  c_4410     f   1967.0  ...       0.0     1.0     medium 10-19\n",
              "3  c_4410     f   1967.0  ...       2.0     8.0     medium 10-19\n",
              "4  c_4410     f   1967.0  ...       1.0    17.0     medium 10-19\n",
              "\n",
              "[5 rows x 18 columns]"
            ]
          },
          "execution_count": 81,
          "metadata": {},
          "output_type": "execute_result"
        }
      ],
      "source": [
        "df.head()"
      ]
    },
    {
      "cell_type": "code",
      "execution_count": null,
      "metadata": {
        "id": "GoJUjtUqRKHK"
      },
      "outputs": [],
      "source": [
        "df = df[[\n",
        "    'c_id',\n",
        "    'c_sex',\n",
        "    'c_birth',\n",
        "    'c_age',\n",
        "    'c_age_range',\n",
        "\n",
        "    'p_id',\n",
        "    'p_cat',\n",
        "    'p_price',\n",
        "    'p_price_range',\n",
        "\n",
        "    't_sess_id',\n",
        "    't_buyer_age',\n",
        "    't_buyer_age_range',\n",
        "\n",
        "    't_date',\n",
        "    't_hour',\n",
        "    't_weekday',\n",
        "    't_month_part',\n",
        "    't_month',\n",
        "\n",
        "    'data_info'\n",
        "]]"
      ]
    },
    {
      "cell_type": "code",
      "execution_count": null,
      "metadata": {
        "colab": {
          "base_uri": "https://localhost:8080/"
        },
        "id": "SWIL6Oble9xG",
        "outputId": "b6f29d19-4bac-41ba-d333-7cc408fe832f"
      },
      "outputs": [
        {
          "data": {
            "text/html": [
              "<div>\n",
              "<style scoped>\n",
              "    .dataframe tbody tr th:only-of-type {\n",
              "        vertical-align: middle;\n",
              "    }\n",
              "\n",
              "    .dataframe tbody tr th {\n",
              "        vertical-align: top;\n",
              "    }\n",
              "\n",
              "    .dataframe thead th {\n",
              "        text-align: right;\n",
              "    }\n",
              "</style>\n",
              "<table border=\"1\" class=\"dataframe\">\n",
              "  <thead>\n",
              "    <tr style=\"text-align: right;\">\n",
              "      <th></th>\n",
              "      <th>c_id</th>\n",
              "      <th>c_sex</th>\n",
              "      <th>c_birth</th>\n",
              "      <th>c_age</th>\n",
              "      <th>c_age_range</th>\n",
              "      <th>p_id</th>\n",
              "      <th>p_cat</th>\n",
              "      <th>p_price</th>\n",
              "      <th>p_price_range</th>\n",
              "      <th>t_sess_id</th>\n",
              "      <th>t_buyer_age</th>\n",
              "      <th>t_buyer_age_range</th>\n",
              "      <th>t_date</th>\n",
              "      <th>t_hour</th>\n",
              "      <th>t_weekday</th>\n",
              "      <th>t_month_part</th>\n",
              "      <th>t_month</th>\n",
              "      <th>data_info</th>\n",
              "    </tr>\n",
              "  </thead>\n",
              "  <tbody>\n",
              "    <tr>\n",
              "      <th>0</th>\n",
              "      <td>c_4410</td>\n",
              "      <td>f</td>\n",
              "      <td>1967.0</td>\n",
              "      <td>55.0</td>\n",
              "      <td>51-70</td>\n",
              "      <td>1_385</td>\n",
              "      <td>1</td>\n",
              "      <td>25.99</td>\n",
              "      <td>expensive 20-79</td>\n",
              "      <td>s_9707</td>\n",
              "      <td>54.0</td>\n",
              "      <td>51-70</td>\n",
              "      <td>2021-03-22 01:40:22.782925</td>\n",
              "      <td>1.0</td>\n",
              "      <td>0.0</td>\n",
              "      <td>2</td>\n",
              "      <td>3.0</td>\n",
              "      <td>NaN</td>\n",
              "    </tr>\n",
              "    <tr>\n",
              "      <th>1</th>\n",
              "      <td>c_4410</td>\n",
              "      <td>f</td>\n",
              "      <td>1967.0</td>\n",
              "      <td>55.0</td>\n",
              "      <td>51-70</td>\n",
              "      <td>0_1110</td>\n",
              "      <td>0</td>\n",
              "      <td>4.71</td>\n",
              "      <td>cheap 4-9</td>\n",
              "      <td>s_114715</td>\n",
              "      <td>54.0</td>\n",
              "      <td>51-70</td>\n",
              "      <td>2021-11-04 16:28:30.169021</td>\n",
              "      <td>16.0</td>\n",
              "      <td>3.0</td>\n",
              "      <td>0</td>\n",
              "      <td>11.0</td>\n",
              "      <td>NaN</td>\n",
              "    </tr>\n",
              "    <tr>\n",
              "      <th>2</th>\n",
              "      <td>c_4410</td>\n",
              "      <td>f</td>\n",
              "      <td>1967.0</td>\n",
              "      <td>55.0</td>\n",
              "      <td>51-70</td>\n",
              "      <td>0_1111</td>\n",
              "      <td>0</td>\n",
              "      <td>19.99</td>\n",
              "      <td>medium 10-19</td>\n",
              "      <td>s_9707</td>\n",
              "      <td>54.0</td>\n",
              "      <td>51-70</td>\n",
              "      <td>2021-03-22 01:27:49.480137</td>\n",
              "      <td>1.0</td>\n",
              "      <td>0.0</td>\n",
              "      <td>2</td>\n",
              "      <td>3.0</td>\n",
              "      <td>NaN</td>\n",
              "    </tr>\n",
              "    <tr>\n",
              "      <th>3</th>\n",
              "      <td>c_4410</td>\n",
              "      <td>f</td>\n",
              "      <td>1967.0</td>\n",
              "      <td>55.0</td>\n",
              "      <td>51-70</td>\n",
              "      <td>1_461</td>\n",
              "      <td>1</td>\n",
              "      <td>12.99</td>\n",
              "      <td>medium 10-19</td>\n",
              "      <td>s_74236</td>\n",
              "      <td>54.0</td>\n",
              "      <td>51-70</td>\n",
              "      <td>2021-08-11 08:40:47.495793</td>\n",
              "      <td>8.0</td>\n",
              "      <td>2.0</td>\n",
              "      <td>1</td>\n",
              "      <td>8.0</td>\n",
              "      <td>NaN</td>\n",
              "    </tr>\n",
              "    <tr>\n",
              "      <th>4</th>\n",
              "      <td>c_4410</td>\n",
              "      <td>f</td>\n",
              "      <td>1967.0</td>\n",
              "      <td>55.0</td>\n",
              "      <td>51-70</td>\n",
              "      <td>1_536</td>\n",
              "      <td>1</td>\n",
              "      <td>11.21</td>\n",
              "      <td>medium 10-19</td>\n",
              "      <td>s_151740</td>\n",
              "      <td>55.0</td>\n",
              "      <td>51-70</td>\n",
              "      <td>2022-01-18 17:05:07.468131</td>\n",
              "      <td>17.0</td>\n",
              "      <td>1.0</td>\n",
              "      <td>2</td>\n",
              "      <td>1.0</td>\n",
              "      <td>NaN</td>\n",
              "    </tr>\n",
              "    <tr>\n",
              "      <th>...</th>\n",
              "      <td>...</td>\n",
              "      <td>...</td>\n",
              "      <td>...</td>\n",
              "      <td>...</td>\n",
              "      <td>...</td>\n",
              "      <td>...</td>\n",
              "      <td>...</td>\n",
              "      <td>...</td>\n",
              "      <td>...</td>\n",
              "      <td>...</td>\n",
              "      <td>...</td>\n",
              "      <td>...</td>\n",
              "      <td>...</td>\n",
              "      <td>...</td>\n",
              "      <td>...</td>\n",
              "      <td>...</td>\n",
              "      <td>...</td>\n",
              "      <td>...</td>\n",
              "    </tr>\n",
              "    <tr>\n",
              "      <th>337054</th>\n",
              "      <td>NaN</td>\n",
              "      <td>NaN</td>\n",
              "      <td>NaN</td>\n",
              "      <td>NaN</td>\n",
              "      <td>None</td>\n",
              "      <td>0_525</td>\n",
              "      <td>0</td>\n",
              "      <td>2.99</td>\n",
              "      <td>very_cheap 3-</td>\n",
              "      <td>NaN</td>\n",
              "      <td>NaN</td>\n",
              "      <td>None</td>\n",
              "      <td>NaT</td>\n",
              "      <td>NaN</td>\n",
              "      <td>NaN</td>\n",
              "      <td>n</td>\n",
              "      <td>NaN</td>\n",
              "      <td>NaN</td>\n",
              "    </tr>\n",
              "    <tr>\n",
              "      <th>337055</th>\n",
              "      <td>NaN</td>\n",
              "      <td>NaN</td>\n",
              "      <td>NaN</td>\n",
              "      <td>NaN</td>\n",
              "      <td>None</td>\n",
              "      <td>2_86</td>\n",
              "      <td>2</td>\n",
              "      <td>132.36</td>\n",
              "      <td>very_expansive 80+</td>\n",
              "      <td>NaN</td>\n",
              "      <td>NaN</td>\n",
              "      <td>None</td>\n",
              "      <td>NaT</td>\n",
              "      <td>NaN</td>\n",
              "      <td>NaN</td>\n",
              "      <td>n</td>\n",
              "      <td>NaN</td>\n",
              "      <td>NaN</td>\n",
              "    </tr>\n",
              "    <tr>\n",
              "      <th>337056</th>\n",
              "      <td>NaN</td>\n",
              "      <td>NaN</td>\n",
              "      <td>NaN</td>\n",
              "      <td>NaN</td>\n",
              "      <td>None</td>\n",
              "      <td>0_299</td>\n",
              "      <td>0</td>\n",
              "      <td>22.99</td>\n",
              "      <td>expensive 20-79</td>\n",
              "      <td>NaN</td>\n",
              "      <td>NaN</td>\n",
              "      <td>None</td>\n",
              "      <td>NaT</td>\n",
              "      <td>NaN</td>\n",
              "      <td>NaN</td>\n",
              "      <td>n</td>\n",
              "      <td>NaN</td>\n",
              "      <td>NaN</td>\n",
              "    </tr>\n",
              "    <tr>\n",
              "      <th>337057</th>\n",
              "      <td>NaN</td>\n",
              "      <td>NaN</td>\n",
              "      <td>NaN</td>\n",
              "      <td>NaN</td>\n",
              "      <td>None</td>\n",
              "      <td>0_510</td>\n",
              "      <td>0</td>\n",
              "      <td>23.66</td>\n",
              "      <td>expensive 20-79</td>\n",
              "      <td>NaN</td>\n",
              "      <td>NaN</td>\n",
              "      <td>None</td>\n",
              "      <td>NaT</td>\n",
              "      <td>NaN</td>\n",
              "      <td>NaN</td>\n",
              "      <td>n</td>\n",
              "      <td>NaN</td>\n",
              "      <td>NaN</td>\n",
              "    </tr>\n",
              "    <tr>\n",
              "      <th>337058</th>\n",
              "      <td>NaN</td>\n",
              "      <td>NaN</td>\n",
              "      <td>NaN</td>\n",
              "      <td>NaN</td>\n",
              "      <td>None</td>\n",
              "      <td>0_2308</td>\n",
              "      <td>0</td>\n",
              "      <td>20.28</td>\n",
              "      <td>expensive 20-79</td>\n",
              "      <td>NaN</td>\n",
              "      <td>NaN</td>\n",
              "      <td>None</td>\n",
              "      <td>NaT</td>\n",
              "      <td>NaN</td>\n",
              "      <td>NaN</td>\n",
              "      <td>n</td>\n",
              "      <td>NaN</td>\n",
              "      <td>NaN</td>\n",
              "    </tr>\n",
              "  </tbody>\n",
              "</table>\n",
              "<p>336859 rows × 18 columns</p>\n",
              "</div>"
            ],
            "text/plain": [
              "          c_id c_sex  c_birth  c_age  ... t_weekday t_month_part t_month  data_info\n",
              "0       c_4410     f   1967.0   55.0  ...       0.0            2     3.0        NaN\n",
              "1       c_4410     f   1967.0   55.0  ...       3.0            0    11.0        NaN\n",
              "2       c_4410     f   1967.0   55.0  ...       0.0            2     3.0        NaN\n",
              "3       c_4410     f   1967.0   55.0  ...       2.0            1     8.0        NaN\n",
              "4       c_4410     f   1967.0   55.0  ...       1.0            2     1.0        NaN\n",
              "...        ...   ...      ...    ...  ...       ...          ...     ...        ...\n",
              "337054     NaN   NaN      NaN    NaN  ...       NaN            n     NaN        NaN\n",
              "337055     NaN   NaN      NaN    NaN  ...       NaN            n     NaN        NaN\n",
              "337056     NaN   NaN      NaN    NaN  ...       NaN            n     NaN        NaN\n",
              "337057     NaN   NaN      NaN    NaN  ...       NaN            n     NaN        NaN\n",
              "337058     NaN   NaN      NaN    NaN  ...       NaN            n     NaN        NaN\n",
              "\n",
              "[336859 rows x 18 columns]"
            ]
          },
          "execution_count": 83,
          "metadata": {},
          "output_type": "execute_result"
        }
      ],
      "source": [
        "df"
      ]
    },
    {
      "cell_type": "markdown",
      "metadata": {
        "id": "ugMZTtamRKHO"
      },
      "source": [
        "# Projection et enregistrement"
      ]
    },
    {
      "cell_type": "markdown",
      "metadata": {
        "id": "9yKynMNwRKHQ"
      },
      "source": [
        "on créé 3 dataframe :\n",
        "- les produits invendus\n",
        "- les cliens qui n'ont rien acheté\n",
        "- toutes les transactions avec information des clients,"
      ]
    },
    {
      "cell_type": "code",
      "execution_count": null,
      "metadata": {
        "id": "pXQ1QfYfRKHV",
        "scrolled": true
      },
      "outputs": [],
      "source": [
        "produits_invendus = df.loc[df['p_id'].isin(p_invendus_id), ['p_id', 'p_cat', 'p_price', 'p_price_range']]"
      ]
    },
    {
      "cell_type": "code",
      "execution_count": null,
      "metadata": {
        "id": "WrOHV52wRKHb"
      },
      "outputs": [],
      "source": [
        "clients_sans_achat = df.loc[df['c_id'].isin(c_ss_achat_id), ['c_id', 'c_sex', 'c_birth', 'c_age', 'c_age_range']]"
      ]
    },
    {
      "cell_type": "code",
      "execution_count": null,
      "metadata": {
        "colab": {
          "base_uri": "https://localhost:8080/",
          "height": 197
        },
        "id": "cBtr9DlFRKHk",
        "outputId": "7acade98-e7c3-4600-eb65-e91c66351fa7"
      },
      "outputs": [
        {
          "ename": "TypeError",
          "evalue": "ignored",
          "output_type": "error",
          "traceback": [
            "\u001b[0;31m---------------------------------------------------------------------------\u001b[0m",
            "\u001b[0;31mTypeError\u001b[0m                                 Traceback (most recent call last)",
            "\u001b[0;32m<ipython-input-86-87b666c8f4cf>\u001b[0m in \u001b[0;36m<module>\u001b[0;34m()\u001b[0m\n\u001b[1;32m      2\u001b[0m        \u001b[0;34m'p_price'\u001b[0m\u001b[0;34m,\u001b[0m \u001b[0;34m'p_price_range'\u001b[0m\u001b[0;34m,\u001b[0m \u001b[0;34m't_sess_id'\u001b[0m\u001b[0;34m,\u001b[0m \u001b[0;34m't_buyer_age'\u001b[0m\u001b[0;34m,\u001b[0m\u001b[0;34m\u001b[0m\u001b[0;34m\u001b[0m\u001b[0m\n\u001b[1;32m      3\u001b[0m        \u001b[0;34m't_buyer_age_range'\u001b[0m\u001b[0;34m,\u001b[0m \u001b[0;34m't_date'\u001b[0m\u001b[0;34m,\u001b[0m \u001b[0;34m't_hour'\u001b[0m\u001b[0;34m,\u001b[0m \u001b[0;34m't_weekday'\u001b[0m\u001b[0;34m,\u001b[0m \u001b[0;34m't_month_part'\u001b[0m\u001b[0;34m,\u001b[0m\u001b[0;34m\u001b[0m\u001b[0;34m\u001b[0m\u001b[0m\n\u001b[0;32m----> 4\u001b[0;31m        't_month'])\n\u001b[0m",
            "\u001b[0;31mTypeError\u001b[0m: 'DataFrame' object is not callable"
          ]
        }
      ],
      "source": [
        "transactions = df(['c_id', 'c_sex', 'c_birth', 'c_age', 'c_age_range', 'p_id', 'p_cat',\n",
        "       'p_price', 'p_price_range', 't_sess_id', 't_buyer_age',\n",
        "       't_buyer_age_range', 't_date', 't_hour', 't_weekday', 't_month_part',\n",
        "       't_month'])"
      ]
    },
    {
      "cell_type": "markdown",
      "metadata": {
        "id": "V11_rBJDRKHt"
      },
      "source": [
        "#### Enregistrement des données"
      ]
    },
    {
      "cell_type": "code",
      "execution_count": null,
      "metadata": {
        "id": "QlvIHXfCRKH6"
      },
      "outputs": [],
      "source": [
        "produits_invendus.to_csv('/content/drive/My Drive/dataset/clean_dataset/produits_invendus.csv', index=False)\n",
        "clients_sans_achat.to_csv('/content/drive/My Drive/dataset/clean_dataset/clients_sans_achat.csv', index=False)\n",
        "transactions.to_csv('/content/drive/My Drive/dataset/clean_dataset/transactions.csv', index=False)"
      ]
    }
  ],
  "metadata": {
    "colab": {
      "collapsed_sections": [
        "W1IU9pu_RKFV",
        "RH_BW9tXRKFf",
        "EfkO3Mk2RKFt",
        "K-yzYWFKRKF0",
        "cWORrqCJRKF8",
        "4760uncJRKGP",
        "V11_rBJDRKHt"
      ],
      "provenance": [],
      "include_colab_link": true
    },
    "kernelspec": {
      "display_name": "Python 3",
      "language": "python",
      "name": "python3"
    },
    "language_info": {
      "codemirror_mode": {
        "name": "ipython",
        "version": 3
      },
      "file_extension": ".py",
      "mimetype": "text/x-python",
      "name": "python",
      "nbconvert_exporter": "python",
      "pygments_lexer": "ipython3",
      "version": "3.6.5"
    }
  },
  "nbformat": 4,
  "nbformat_minor": 0
}