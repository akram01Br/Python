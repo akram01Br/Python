{
  "nbformat": 4,
  "nbformat_minor": 0,
  "metadata": {
    "kernelspec": {
      "display_name": "Python 3",
      "language": "python",
      "name": "python3"
    },
    "language_info": {
      "codemirror_mode": {
        "name": "ipython",
        "version": 3
      },
      "file_extension": ".py",
      "mimetype": "text/x-python",
      "name": "python",
      "nbconvert_exporter": "python",
      "pygments_lexer": "ipython3",
      "version": "3.6.5"
    },
    "colab": {
      "provenance": [],
      "collapsed_sections": [
        "Qh_ye02GUN0v",
        "u-IfCusGUN0z",
        "dqR5Myq1UN03",
        "CPnEWIl9UN1L",
        "wUbAmkNxUN1b",
        "9UCTo43XUN1r",
        "hl00d8LeUN1y",
        "DrvceB8aUN11",
        "2arDSehiUN2F",
        "rgqHiQa1UN2I",
        "kda9JnR5UN2O",
        "wTOX-ls9UN2Y",
        "hEXiGfNCUN22",
        "yeDYg9IPUN2_",
        "EYzXOYFAUN3H",
        "_-sKgCjnUN3T",
        "DYrpNa1LUN3X",
        "VMqoYWc5UN3e",
        "sQAFbNbQUN3m",
        "cdG4MQKtUN3p",
        "oCEWflOpUN3y",
        "en_OuAoDUN38"
      ],
      "include_colab_link": true
    }
  },
  "cells": [
    {
      "cell_type": "markdown",
      "metadata": {
        "id": "view-in-github",
        "colab_type": "text"
      },
      "source": [
        "<a href=\"https://colab.research.google.com/github/akram01Br/Python/blob/main/analyse_de_donnees.ipynb\" target=\"_parent\"><img src=\"https://colab.research.google.com/assets/colab-badge.svg\" alt=\"Open In Colab\"/></a>"
      ]
    },
    {
      "cell_type": "markdown",
      "metadata": {
        "id": "7pCVXGZ3Uu6W"
      },
      "source": [
        "<html> <img style=\"float:center; margin: 0px 0px 0px 0px;\" src=\"https://docs.google.com/uc? export=download&id=15tHkXKQkHVX0bbW_M8dvWPyRoW3fN68C\" width=\"320\" align=\"left\"/> </html>\n",
        "\n",
        "<figure>\n",
        "<center>\n",
        "<img src='https://docs.google.com/uc?export=download&id=1BmLEthy7KCNsnVFviFKX77zLmFhc47XZ' align='right'width=\"220\"/>\n",
        "    \n",
        "<figcaption>\n",
        "\n",
        "</figcaption></center>\n",
        "</figure>\n",
        "<center> <H1> Analyse et Programmation avec Python </H1> </center>\n",
        "\n"
      ]
    },
    {
      "cell_type": "markdown",
      "metadata": {
        "id": "Oh16W1aOUNzU"
      },
      "source": [
        "## SOMMAIRE\n",
        "\n",
        "- Analyse de données\n",
        "    - Le chiffre d'affaire et le volume\n",
        "    - Les produits\n",
        "    - Les clients\n",
        "    - Le panier moyen\n",
        "   \n",
        "   \n",
        "- réponses supplémentaires\n",
        "    - Y a-t-il une corrélation entre le genre(h/f) des clients et les catégories de - - produits achetés\n",
        "    - Y a-t-il une corrélation entre l'âge des clients et :\n",
        "        - le montant total des achats\n",
        "        - la fréquence d’achat (ie. nombre d'achats par mois par exemple)\n",
        "        - la taille du panier moyen (en nombre d’articles)\n",
        "        - les catégories de produits achetés\n",
        "        \n",
        "        \n",
        "- Proximité des produits"
      ]
    },
    {
      "cell_type": "code",
      "metadata": {
        "id": "GvWFQI_yUNzO"
      },
      "source": [
        "import pandas as pd\n",
        "import numpy as np\n",
        "\n",
        "import matplotlib.pyplot as plt\n",
        "import seaborn as sns\n",
        "sns.set(color_codes=True)\n",
        "\n",
        "from datetime import datetime\n",
        "\n",
        "import scipy.stats as st\n",
        "import statsmodels.api as sm"
      ],
      "execution_count": null,
      "outputs": []
    },
    {
      "cell_type": "code",
      "metadata": {
        "id": "-EXXvCo1XC-7",
        "colab": {
          "base_uri": "https://localhost:8080/"
        },
        "outputId": "1c6e1b20-fcb9-443c-f172-0dfaa6eace87"
      },
      "source": [
        "from google.colab import drive\n",
        "drive.mount('/content/drive')"
      ],
      "execution_count": null,
      "outputs": [
        {
          "output_type": "stream",
          "name": "stdout",
          "text": [
            "Drive already mounted at /content/drive; to attempt to forcibly remount, call drive.mount(\"/content/drive\", force_remount=True).\n"
          ]
        }
      ]
    },
    {
      "cell_type": "markdown",
      "metadata": {
        "id": "rsCZAfgnUNzV"
      },
      "source": [
        "###### Ouverture des données"
      ]
    },
    {
      "cell_type": "code",
      "metadata": {
        "id": "nCnhGS-IUNzW"
      },
      "source": [
        "produits_invendus = pd.read_csv('/content/drive/My Drive/Colab Notebooks/dataset/clean_dataset/produits_invendus.csv')\n",
        "clients_sans_achat = pd.read_csv('/content/drive/My Drive/Colab Notebooks/dataset/clean_dataset/clients_sans_achat.csv')\n",
        "transactions = pd.read_csv('/content/drive/My Drive/Colab Notebooks/dataset/clean_dataset/transactions.csv', parse_dates=[12])"
      ],
      "execution_count": null,
      "outputs": []
    },
    {
      "cell_type": "code",
      "metadata": {
        "id": "_b3Tr2Y6p_rI",
        "colab": {
          "base_uri": "https://localhost:8080/",
          "height": 204
        },
        "outputId": "e7e5ef61-2f46-4f3f-e8ee-ddf4c063c048"
      },
      "source": [
        "transactions.head()"
      ],
      "execution_count": null,
      "outputs": [
        {
          "output_type": "execute_result",
          "data": {
            "text/html": [
              "<div>\n",
              "<style scoped>\n",
              "    .dataframe tbody tr th:only-of-type {\n",
              "        vertical-align: middle;\n",
              "    }\n",
              "\n",
              "    .dataframe tbody tr th {\n",
              "        vertical-align: top;\n",
              "    }\n",
              "\n",
              "    .dataframe thead th {\n",
              "        text-align: right;\n",
              "    }\n",
              "</style>\n",
              "<table border=\"1\" class=\"dataframe\">\n",
              "  <thead>\n",
              "    <tr style=\"text-align: right;\">\n",
              "      <th></th>\n",
              "      <th>c_id</th>\n",
              "      <th>c_sex</th>\n",
              "      <th>c_birth</th>\n",
              "      <th>c_age</th>\n",
              "      <th>c_age_range</th>\n",
              "      <th>p_id</th>\n",
              "      <th>p_cat</th>\n",
              "      <th>p_price</th>\n",
              "      <th>p_price_range</th>\n",
              "      <th>t_sess_id</th>\n",
              "      <th>t_buyer_age</th>\n",
              "      <th>t_buyer_age_range</th>\n",
              "      <th>t_date</th>\n",
              "      <th>t_hour</th>\n",
              "      <th>t_weekday</th>\n",
              "      <th>t_month_part</th>\n",
              "      <th>t_month</th>\n",
              "      <th>data_info</th>\n",
              "    </tr>\n",
              "  </thead>\n",
              "  <tbody>\n",
              "    <tr>\n",
              "      <th>0</th>\n",
              "      <td>c_4410</td>\n",
              "      <td>f</td>\n",
              "      <td>1967.0</td>\n",
              "      <td>55.0</td>\n",
              "      <td>51-70</td>\n",
              "      <td>1_385</td>\n",
              "      <td>1</td>\n",
              "      <td>25.99</td>\n",
              "      <td>expensive 20-79</td>\n",
              "      <td>s_9707</td>\n",
              "      <td>54.0</td>\n",
              "      <td>51-70</td>\n",
              "      <td>2021-03-22 01:40:22.782925</td>\n",
              "      <td>1.0</td>\n",
              "      <td>0.0</td>\n",
              "      <td>2</td>\n",
              "      <td>3.0</td>\n",
              "      <td>NaN</td>\n",
              "    </tr>\n",
              "    <tr>\n",
              "      <th>1</th>\n",
              "      <td>c_4410</td>\n",
              "      <td>f</td>\n",
              "      <td>1967.0</td>\n",
              "      <td>55.0</td>\n",
              "      <td>51-70</td>\n",
              "      <td>0_1110</td>\n",
              "      <td>0</td>\n",
              "      <td>4.71</td>\n",
              "      <td>cheap 4-9</td>\n",
              "      <td>s_114715</td>\n",
              "      <td>54.0</td>\n",
              "      <td>51-70</td>\n",
              "      <td>2021-11-04 16:28:30.169021</td>\n",
              "      <td>16.0</td>\n",
              "      <td>3.0</td>\n",
              "      <td>0</td>\n",
              "      <td>11.0</td>\n",
              "      <td>NaN</td>\n",
              "    </tr>\n",
              "    <tr>\n",
              "      <th>2</th>\n",
              "      <td>c_4410</td>\n",
              "      <td>f</td>\n",
              "      <td>1967.0</td>\n",
              "      <td>55.0</td>\n",
              "      <td>51-70</td>\n",
              "      <td>0_1111</td>\n",
              "      <td>0</td>\n",
              "      <td>19.99</td>\n",
              "      <td>medium 10-19</td>\n",
              "      <td>s_9707</td>\n",
              "      <td>54.0</td>\n",
              "      <td>51-70</td>\n",
              "      <td>2021-03-22 01:27:49.480137</td>\n",
              "      <td>1.0</td>\n",
              "      <td>0.0</td>\n",
              "      <td>2</td>\n",
              "      <td>3.0</td>\n",
              "      <td>NaN</td>\n",
              "    </tr>\n",
              "    <tr>\n",
              "      <th>3</th>\n",
              "      <td>c_4410</td>\n",
              "      <td>f</td>\n",
              "      <td>1967.0</td>\n",
              "      <td>55.0</td>\n",
              "      <td>51-70</td>\n",
              "      <td>1_461</td>\n",
              "      <td>1</td>\n",
              "      <td>12.99</td>\n",
              "      <td>medium 10-19</td>\n",
              "      <td>s_74236</td>\n",
              "      <td>54.0</td>\n",
              "      <td>51-70</td>\n",
              "      <td>2021-08-11 08:40:47.495793</td>\n",
              "      <td>8.0</td>\n",
              "      <td>2.0</td>\n",
              "      <td>1</td>\n",
              "      <td>8.0</td>\n",
              "      <td>NaN</td>\n",
              "    </tr>\n",
              "    <tr>\n",
              "      <th>4</th>\n",
              "      <td>c_4410</td>\n",
              "      <td>f</td>\n",
              "      <td>1967.0</td>\n",
              "      <td>55.0</td>\n",
              "      <td>51-70</td>\n",
              "      <td>1_536</td>\n",
              "      <td>1</td>\n",
              "      <td>11.21</td>\n",
              "      <td>medium 10-19</td>\n",
              "      <td>s_151740</td>\n",
              "      <td>55.0</td>\n",
              "      <td>51-70</td>\n",
              "      <td>2022-01-18 17:05:07.468131</td>\n",
              "      <td>17.0</td>\n",
              "      <td>1.0</td>\n",
              "      <td>2</td>\n",
              "      <td>1.0</td>\n",
              "      <td>NaN</td>\n",
              "    </tr>\n",
              "  </tbody>\n",
              "</table>\n",
              "</div>"
            ],
            "text/plain": [
              "     c_id c_sex  c_birth  c_age  ... t_weekday t_month_part  t_month  data_info\n",
              "0  c_4410     f   1967.0   55.0  ...       0.0            2      3.0        NaN\n",
              "1  c_4410     f   1967.0   55.0  ...       3.0            0     11.0        NaN\n",
              "2  c_4410     f   1967.0   55.0  ...       0.0            2      3.0        NaN\n",
              "3  c_4410     f   1967.0   55.0  ...       2.0            1      8.0        NaN\n",
              "4  c_4410     f   1967.0   55.0  ...       1.0            2      1.0        NaN\n",
              "\n",
              "[5 rows x 18 columns]"
            ]
          },
          "metadata": {},
          "execution_count": 12
        }
      ]
    },
    {
      "cell_type": "markdown",
      "metadata": {
        "id": "bnGTt10dUNza"
      },
      "source": [
        "# Analyse de données"
      ]
    },
    {
      "cell_type": "markdown",
      "metadata": {
        "id": "PGBOCdApUNzc"
      },
      "source": [
        "### Le chiffre d'affaires et le volume"
      ]
    },
    {
      "cell_type": "code",
      "metadata": {
        "id": "PG6KQNIASUDr",
        "colab": {
          "base_uri": "https://localhost:8080/"
        },
        "outputId": "e4bd8672-978b-4e70-abc5-62647d3d8465"
      },
      "source": [
        "transactions.p_price.sum()"
      ],
      "execution_count": null,
      "outputs": [
        {
          "output_type": "execute_result",
          "data": {
            "text/plain": [
              "5797674.41841556"
            ]
          },
          "metadata": {},
          "execution_count": 13
        }
      ]
    },
    {
      "cell_type": "code",
      "metadata": {
        "id": "hKFBBIJVIEZD",
        "colab": {
          "base_uri": "https://localhost:8080/"
        },
        "outputId": "7e6d37b9-6756-4522-827d-f7fd27bdbaf6"
      },
      "source": [
        "x=1\n",
        "print(\"afficher la valeur de la variable x: {}\".format(x))"
      ],
      "execution_count": null,
      "outputs": [
        {
          "output_type": "stream",
          "name": "stdout",
          "text": [
            "afficher la valeur de la variable x: 1\n"
          ]
        }
      ]
    },
    {
      "cell_type": "code",
      "metadata": {
        "scrolled": true,
        "id": "sshJuWCnUNzd",
        "colab": {
          "base_uri": "https://localhost:8080/"
        },
        "outputId": "96500a62-b51c-4d30-e3e2-8cbbce4fc961"
      },
      "source": [
        "# print(f\"Sur la période, Le CA est de {transactions.p_price.sum():.0e} dt\")\n",
        "print(f\"Sur la période, Le CA est de {transactions.p_price.sum(): } dt\")"
      ],
      "execution_count": null,
      "outputs": [
        {
          "output_type": "stream",
          "name": "stdout",
          "text": [
            "Sur la période, Le CA est de  5797674.41841556 dt\n"
          ]
        }
      ]
    },
    {
      "cell_type": "markdown",
      "metadata": {
        "id": "vNhsW5ZMUNzi"
      },
      "source": [
        "#### Evolution chronologique"
      ]
    },
    {
      "cell_type": "markdown",
      "metadata": {
        "id": "DEpAv-mwUNzk"
      },
      "source": [
        "##### CA et volume : vue globale"
      ]
    },
    {
      "cell_type": "code",
      "metadata": {
        "colab": {
          "base_uri": "https://localhost:8080/"
        },
        "id": "vZ7v3eN0jqG_",
        "outputId": "ebf08a5d-5328-4dff-83e1-6222efc67015"
      },
      "source": [
        "df = transactions[['t_date', 'p_price']]\n",
        "df.shape"
      ],
      "execution_count": null,
      "outputs": [
        {
          "output_type": "execute_result",
          "data": {
            "text/plain": [
              "(336816, 2)"
            ]
          },
          "metadata": {},
          "execution_count": 16
        }
      ]
    },
    {
      "cell_type": "code",
      "metadata": {
        "id": "WjubawLNohsu",
        "colab": {
          "base_uri": "https://localhost:8080/",
          "height": 419
        },
        "outputId": "96964d03-d1a2-45fb-e5f7-e855b67aaebd"
      },
      "source": [
        "# df = transactions[['t_date', 'p_price']]\n",
        "df = df.sort_values('t_date').reset_index()\n",
        "df"
      ],
      "execution_count": null,
      "outputs": [
        {
          "output_type": "execute_result",
          "data": {
            "text/html": [
              "<div>\n",
              "<style scoped>\n",
              "    .dataframe tbody tr th:only-of-type {\n",
              "        vertical-align: middle;\n",
              "    }\n",
              "\n",
              "    .dataframe tbody tr th {\n",
              "        vertical-align: top;\n",
              "    }\n",
              "\n",
              "    .dataframe thead th {\n",
              "        text-align: right;\n",
              "    }\n",
              "</style>\n",
              "<table border=\"1\" class=\"dataframe\">\n",
              "  <thead>\n",
              "    <tr style=\"text-align: right;\">\n",
              "      <th></th>\n",
              "      <th>index</th>\n",
              "      <th>t_date</th>\n",
              "      <th>p_price</th>\n",
              "    </tr>\n",
              "  </thead>\n",
              "  <tbody>\n",
              "    <tr>\n",
              "      <th>0</th>\n",
              "      <td>1474</td>\n",
              "      <td>2021-03-01 00:01:07.843138</td>\n",
              "      <td>11.99</td>\n",
              "    </tr>\n",
              "    <tr>\n",
              "      <th>1</th>\n",
              "      <td>136203</td>\n",
              "      <td>2021-03-01 00:02:26.047414</td>\n",
              "      <td>19.37</td>\n",
              "    </tr>\n",
              "    <tr>\n",
              "      <th>2</th>\n",
              "      <td>96946</td>\n",
              "      <td>2021-03-01 00:02:38.311413</td>\n",
              "      <td>4.50</td>\n",
              "    </tr>\n",
              "    <tr>\n",
              "      <th>3</th>\n",
              "      <td>189156</td>\n",
              "      <td>2021-03-01 00:04:54.559692</td>\n",
              "      <td>6.55</td>\n",
              "    </tr>\n",
              "    <tr>\n",
              "      <th>4</th>\n",
              "      <td>93913</td>\n",
              "      <td>2021-03-01 00:05:18.801198</td>\n",
              "      <td>16.49</td>\n",
              "    </tr>\n",
              "    <tr>\n",
              "      <th>...</th>\n",
              "      <td>...</td>\n",
              "      <td>...</td>\n",
              "      <td>...</td>\n",
              "    </tr>\n",
              "    <tr>\n",
              "      <th>336811</th>\n",
              "      <td>175205</td>\n",
              "      <td>2022-02-28 23:56:57.196281</td>\n",
              "      <td>28.27</td>\n",
              "    </tr>\n",
              "    <tr>\n",
              "      <th>336812</th>\n",
              "      <td>207910</td>\n",
              "      <td>2022-02-28 23:56:57.561424</td>\n",
              "      <td>13.11</td>\n",
              "    </tr>\n",
              "    <tr>\n",
              "      <th>336813</th>\n",
              "      <td>53616</td>\n",
              "      <td>2022-02-28 23:57:12.741573</td>\n",
              "      <td>8.61</td>\n",
              "    </tr>\n",
              "    <tr>\n",
              "      <th>336814</th>\n",
              "      <td>207932</td>\n",
              "      <td>2022-02-28 23:59:02.381670</td>\n",
              "      <td>15.99</td>\n",
              "    </tr>\n",
              "    <tr>\n",
              "      <th>336815</th>\n",
              "      <td>207913</td>\n",
              "      <td>2022-02-28 23:59:58.040472</td>\n",
              "      <td>6.99</td>\n",
              "    </tr>\n",
              "  </tbody>\n",
              "</table>\n",
              "<p>336816 rows × 3 columns</p>\n",
              "</div>"
            ],
            "text/plain": [
              "         index                     t_date  p_price\n",
              "0         1474 2021-03-01 00:01:07.843138    11.99\n",
              "1       136203 2021-03-01 00:02:26.047414    19.37\n",
              "2        96946 2021-03-01 00:02:38.311413     4.50\n",
              "3       189156 2021-03-01 00:04:54.559692     6.55\n",
              "4        93913 2021-03-01 00:05:18.801198    16.49\n",
              "...        ...                        ...      ...\n",
              "336811  175205 2022-02-28 23:56:57.196281    28.27\n",
              "336812  207910 2022-02-28 23:56:57.561424    13.11\n",
              "336813   53616 2022-02-28 23:57:12.741573     8.61\n",
              "336814  207932 2022-02-28 23:59:02.381670    15.99\n",
              "336815  207913 2022-02-28 23:59:58.040472     6.99\n",
              "\n",
              "[336816 rows x 3 columns]"
            ]
          },
          "metadata": {},
          "execution_count": 17
        }
      ]
    },
    {
      "cell_type": "code",
      "metadata": {
        "id": "Ksrr--jzqryX",
        "colab": {
          "base_uri": "https://localhost:8080/",
          "height": 669
        },
        "outputId": "604fce70-9b32-431e-fb41-d96a2b51b345"
      },
      "source": [
        "df['ca'] = np.cumsum(df.p_price)\n",
        "df['volume'] = pd.Series(range(len(df))) + 1\n",
        "df.head(20)"
      ],
      "execution_count": null,
      "outputs": [
        {
          "output_type": "execute_result",
          "data": {
            "text/html": [
              "<div>\n",
              "<style scoped>\n",
              "    .dataframe tbody tr th:only-of-type {\n",
              "        vertical-align: middle;\n",
              "    }\n",
              "\n",
              "    .dataframe tbody tr th {\n",
              "        vertical-align: top;\n",
              "    }\n",
              "\n",
              "    .dataframe thead th {\n",
              "        text-align: right;\n",
              "    }\n",
              "</style>\n",
              "<table border=\"1\" class=\"dataframe\">\n",
              "  <thead>\n",
              "    <tr style=\"text-align: right;\">\n",
              "      <th></th>\n",
              "      <th>index</th>\n",
              "      <th>t_date</th>\n",
              "      <th>p_price</th>\n",
              "      <th>ca</th>\n",
              "      <th>volume</th>\n",
              "    </tr>\n",
              "  </thead>\n",
              "  <tbody>\n",
              "    <tr>\n",
              "      <th>0</th>\n",
              "      <td>1474</td>\n",
              "      <td>2021-03-01 00:01:07.843138</td>\n",
              "      <td>11.990000</td>\n",
              "      <td>11.990000</td>\n",
              "      <td>1</td>\n",
              "    </tr>\n",
              "    <tr>\n",
              "      <th>1</th>\n",
              "      <td>136203</td>\n",
              "      <td>2021-03-01 00:02:26.047414</td>\n",
              "      <td>19.370000</td>\n",
              "      <td>31.360000</td>\n",
              "      <td>2</td>\n",
              "    </tr>\n",
              "    <tr>\n",
              "      <th>2</th>\n",
              "      <td>96946</td>\n",
              "      <td>2021-03-01 00:02:38.311413</td>\n",
              "      <td>4.500000</td>\n",
              "      <td>35.860000</td>\n",
              "      <td>3</td>\n",
              "    </tr>\n",
              "    <tr>\n",
              "      <th>3</th>\n",
              "      <td>189156</td>\n",
              "      <td>2021-03-01 00:04:54.559692</td>\n",
              "      <td>6.550000</td>\n",
              "      <td>42.410000</td>\n",
              "      <td>4</td>\n",
              "    </tr>\n",
              "    <tr>\n",
              "      <th>4</th>\n",
              "      <td>93913</td>\n",
              "      <td>2021-03-01 00:05:18.801198</td>\n",
              "      <td>16.490000</td>\n",
              "      <td>58.900000</td>\n",
              "      <td>5</td>\n",
              "    </tr>\n",
              "    <tr>\n",
              "      <th>5</th>\n",
              "      <td>328241</td>\n",
              "      <td>2021-03-01 00:05:44.999018</td>\n",
              "      <td>13.990000</td>\n",
              "      <td>72.890000</td>\n",
              "      <td>6</td>\n",
              "    </tr>\n",
              "    <tr>\n",
              "      <th>6</th>\n",
              "      <td>146158</td>\n",
              "      <td>2021-03-01 00:07:04.371179</td>\n",
              "      <td>5.860000</td>\n",
              "      <td>78.750000</td>\n",
              "      <td>7</td>\n",
              "    </tr>\n",
              "    <tr>\n",
              "      <th>7</th>\n",
              "      <td>328308</td>\n",
              "      <td>2021-03-01 00:07:48.507530</td>\n",
              "      <td>16.990000</td>\n",
              "      <td>95.740000</td>\n",
              "      <td>8</td>\n",
              "    </tr>\n",
              "    <tr>\n",
              "      <th>8</th>\n",
              "      <td>14365</td>\n",
              "      <td>2021-03-01 00:09:11.523122</td>\n",
              "      <td>23.990000</td>\n",
              "      <td>119.730000</td>\n",
              "      <td>9</td>\n",
              "    </tr>\n",
              "    <tr>\n",
              "      <th>9</th>\n",
              "      <td>96950</td>\n",
              "      <td>2021-03-01 00:09:29.301897</td>\n",
              "      <td>10.647072</td>\n",
              "      <td>130.377072</td>\n",
              "      <td>10</td>\n",
              "    </tr>\n",
              "    <tr>\n",
              "      <th>10</th>\n",
              "      <td>114817</td>\n",
              "      <td>2021-03-01 00:10:20.265265</td>\n",
              "      <td>24.470000</td>\n",
              "      <td>154.847072</td>\n",
              "      <td>11</td>\n",
              "    </tr>\n",
              "    <tr>\n",
              "      <th>11</th>\n",
              "      <td>85225</td>\n",
              "      <td>2021-03-01 00:10:33.163037</td>\n",
              "      <td>26.990000</td>\n",
              "      <td>181.837072</td>\n",
              "      <td>12</td>\n",
              "    </tr>\n",
              "    <tr>\n",
              "      <th>12</th>\n",
              "      <td>96883</td>\n",
              "      <td>2021-03-01 00:10:37.223732</td>\n",
              "      <td>5.460000</td>\n",
              "      <td>187.297072</td>\n",
              "      <td>13</td>\n",
              "    </tr>\n",
              "    <tr>\n",
              "      <th>13</th>\n",
              "      <td>312796</td>\n",
              "      <td>2021-03-01 00:11:07.595697</td>\n",
              "      <td>12.820000</td>\n",
              "      <td>200.117072</td>\n",
              "      <td>14</td>\n",
              "    </tr>\n",
              "    <tr>\n",
              "      <th>14</th>\n",
              "      <td>145567</td>\n",
              "      <td>2021-03-01 00:11:57.832228</td>\n",
              "      <td>7.990000</td>\n",
              "      <td>208.107072</td>\n",
              "      <td>15</td>\n",
              "    </tr>\n",
              "    <tr>\n",
              "      <th>15</th>\n",
              "      <td>325947</td>\n",
              "      <td>2021-03-01 00:12:38.133768</td>\n",
              "      <td>26.990000</td>\n",
              "      <td>235.097072</td>\n",
              "      <td>16</td>\n",
              "    </tr>\n",
              "    <tr>\n",
              "      <th>16</th>\n",
              "      <td>328246</td>\n",
              "      <td>2021-03-01 00:16:16.649539</td>\n",
              "      <td>11.990000</td>\n",
              "      <td>247.087072</td>\n",
              "      <td>17</td>\n",
              "    </tr>\n",
              "    <tr>\n",
              "      <th>17</th>\n",
              "      <td>325938</td>\n",
              "      <td>2021-03-01 00:16:49.525524</td>\n",
              "      <td>5.130000</td>\n",
              "      <td>252.217072</td>\n",
              "      <td>18</td>\n",
              "    </tr>\n",
              "    <tr>\n",
              "      <th>18</th>\n",
              "      <td>189172</td>\n",
              "      <td>2021-03-01 00:17:11.089942</td>\n",
              "      <td>14.200000</td>\n",
              "      <td>266.417072</td>\n",
              "      <td>19</td>\n",
              "    </tr>\n",
              "    <tr>\n",
              "      <th>19</th>\n",
              "      <td>129095</td>\n",
              "      <td>2021-03-01 00:17:14.155780</td>\n",
              "      <td>3.190000</td>\n",
              "      <td>269.607072</td>\n",
              "      <td>20</td>\n",
              "    </tr>\n",
              "  </tbody>\n",
              "</table>\n",
              "</div>"
            ],
            "text/plain": [
              "     index                     t_date    p_price          ca  volume\n",
              "0     1474 2021-03-01 00:01:07.843138  11.990000   11.990000       1\n",
              "1   136203 2021-03-01 00:02:26.047414  19.370000   31.360000       2\n",
              "2    96946 2021-03-01 00:02:38.311413   4.500000   35.860000       3\n",
              "3   189156 2021-03-01 00:04:54.559692   6.550000   42.410000       4\n",
              "4    93913 2021-03-01 00:05:18.801198  16.490000   58.900000       5\n",
              "5   328241 2021-03-01 00:05:44.999018  13.990000   72.890000       6\n",
              "6   146158 2021-03-01 00:07:04.371179   5.860000   78.750000       7\n",
              "7   328308 2021-03-01 00:07:48.507530  16.990000   95.740000       8\n",
              "8    14365 2021-03-01 00:09:11.523122  23.990000  119.730000       9\n",
              "9    96950 2021-03-01 00:09:29.301897  10.647072  130.377072      10\n",
              "10  114817 2021-03-01 00:10:20.265265  24.470000  154.847072      11\n",
              "11   85225 2021-03-01 00:10:33.163037  26.990000  181.837072      12\n",
              "12   96883 2021-03-01 00:10:37.223732   5.460000  187.297072      13\n",
              "13  312796 2021-03-01 00:11:07.595697  12.820000  200.117072      14\n",
              "14  145567 2021-03-01 00:11:57.832228   7.990000  208.107072      15\n",
              "15  325947 2021-03-01 00:12:38.133768  26.990000  235.097072      16\n",
              "16  328246 2021-03-01 00:16:16.649539  11.990000  247.087072      17\n",
              "17  325938 2021-03-01 00:16:49.525524   5.130000  252.217072      18\n",
              "18  189172 2021-03-01 00:17:11.089942  14.200000  266.417072      19\n",
              "19  129095 2021-03-01 00:17:14.155780   3.190000  269.607072      20"
            ]
          },
          "metadata": {},
          "execution_count": 18
        }
      ]
    },
    {
      "cell_type": "code",
      "metadata": {
        "scrolled": true,
        "id": "fI2--Ov5UNzl",
        "colab": {
          "base_uri": "https://localhost:8080/",
          "height": 229
        },
        "outputId": "716703c5-2b5f-4cac-e6e8-24052121a485"
      },
      "source": [
        "plt.figure(figsize=(15,3))\n",
        "\n",
        "plt.subplot(1,2,1)\n",
        "plt.plot(df['t_date'], df['ca'])\n",
        "plt.title('évolution du CA')\n",
        "\n",
        "plt.subplot(1,2,2)\n",
        "plt.plot(df['t_date'], df['volume'])\n",
        "plt.title('évolution du volume')\n",
        "plt.show()"
      ],
      "execution_count": null,
      "outputs": [
        {
          "output_type": "display_data",
          "data": {
            "image/png": "[encoded data removed]",
            "text/plain": [
              "<Figure size 1080x216 with 2 Axes>"
            ]
          },
          "metadata": {}
        }
      ]
    },
    {
      "cell_type": "code",
      "metadata": {
        "colab": {
          "base_uri": "https://localhost:8080/"
        },
        "id": "EZdRxuB_k7Ad",
        "outputId": "47324197-f5e2-475e-cc84-413af0435b03"
      },
      "source": [
        "test=105466\n",
        "print(f\"chaine formatée {test}\")"
      ],
      "execution_count": null,
      "outputs": [
        {
          "output_type": "stream",
          "name": "stdout",
          "text": [
            "chaine formatée 105466\n"
          ]
        }
      ]
    },
    {
      "cell_type": "code",
      "metadata": {
        "id": "j61AqtaxUNzr",
        "colab": {
          "base_uri": "https://localhost:8080/"
        },
        "outputId": "b3be8ad0-a3bf-4b1c-ffef-3adff4c90b36"
      },
      "source": [
        "dates = transactions.t_date.sort_values().values\n",
        "print(f'transactions de {dates[0]:} à {dates[-1]}')"
      ],
      "execution_count": null,
      "outputs": [
        {
          "output_type": "stream",
          "name": "stdout",
          "text": [
            "transactions de 2021-03-01T00:01:07.843138000 à 2022-02-28T23:59:58.040472000\n"
          ]
        }
      ]
    },
    {
      "cell_type": "markdown",
      "metadata": {
        "id": "WAZkuR3RUNzx"
      },
      "source": [
        "<div class=\"panel panel-primary\">\n",
        "    <div class=\"panel-heading\">\n",
        "        Aide à la décision\n",
        "    </div>\n",
        "    <div class=\"panel-body\">\n",
        "        Une évolution très constante. **Rien à signaler**. <br>\n",
        "        Il semble tout de même qu'il y ait une **stagnation** sur le mois d'octobre\n",
        "    </div>\n",
        "</div>\n"
      ]
    },
    {
      "cell_type": "markdown",
      "metadata": {
        "id": "cdHWtJswUNzz"
      },
      "source": [
        "##### CA et volume : vue précise"
      ]
    },
    {
      "cell_type": "code",
      "metadata": {
        "colab": {
          "base_uri": "https://localhost:8080/"
        },
        "id": "srCf4MkoNGW0",
        "outputId": "06972ef0-8c99-4c86-adbc-a70b1b970258"
      },
      "source": [
        "s= 'python'\n",
        "for  i,c in enumerate(s):\n",
        "    print(i,c)"
      ],
      "execution_count": null,
      "outputs": [
        {
          "output_type": "stream",
          "name": "stdout",
          "text": [
            "0 p\n",
            "1 y\n",
            "2 t\n",
            "3 h\n",
            "4 o\n",
            "5 n\n"
          ]
        }
      ]
    },
    {
      "cell_type": "code",
      "metadata": {
        "scrolled": false,
        "id": "l9l8et9ZUNzz",
        "colab": {
          "base_uri": "https://localhost:8080/",
          "height": 1000
        },
        "outputId": "d6baf1ba-ef71-4cc0-adf1-c794a36487b6"
      },
      "source": [
        "cat_names = np.sort(transactions.p_cat.unique())\n",
        "\n",
        "for time_unit in ['t_hour', 't_weekday', 't_month_part','t_month']:\n",
        "\n",
        "    # on calcule un df qui contient l'unité de temps, la cat, et le prix\n",
        "    df = transactions[[time_unit, 'p_cat', 'p_price']].groupby([time_unit, 'p_cat']).agg({'p_price':['sum', 'count']}).reset_index()\n",
        "    df.columns = [time_unit, 'p_cat', 'ca', 'volume']\n",
        "\n",
        "    # on determine les valeurs de temps en x\n",
        "    x = df[time_unit].sort_values().unique()\n",
        "\n",
        "    # pour chaque categories, on calcul les valeurs de ca et de volume des ventes\n",
        "    cat_vals = []\n",
        "    for cat in cat_names:\n",
        "        ca = df[df.p_cat == cat].sort_values(time_unit).ca.values\n",
        "        volume = df[df.p_cat == cat].sort_values(time_unit).volume.values\n",
        "        cat_vals.append({'cat_name': cat, 'ca': ca, 'volume': volume})\n",
        "\n",
        "    plt.figure(figsize=(16,5))\n",
        "    for k, element in enumerate(['ca', 'volume']):\n",
        "        plt.subplot(1,2,k+1)\n",
        "        # pour le ca, puis le volume, on genere le graphique en bar\n",
        "        colors = ['royalblue', 'limegreen', 'orangered']\n",
        "        for i, cat in enumerate(cat_names):\n",
        "            plt.bar(x, cat_vals[cat][element],\n",
        "                    color=colors[i],\n",
        "                    label=cat_vals[cat]['cat_name'],\n",
        "                    bottom = np.sum([cat_vals[j][element] for j in range(i)], axis=0))\n",
        "        plt.xlabel(time_unit)\n",
        "        plt.ylabel(element)\n",
        "        plt.legend()\n",
        "\n",
        "    plt.show()"
      ],
      "execution_count": null,
      "outputs": [
        {
          "output_type": "display_data",
          "data": {
            "image/png": "[encoded data removed]",
            "text/plain": [
              "<Figure size 1152x360 with 2 Axes>"
            ]
          },
          "metadata": {}
        },
        {
          "output_type": "display_data",
          "data": {
            "image/png": "[encoded data removed]",
            "text/plain": [
              "<Figure size 1152x360 with 2 Axes>"
            ]
          },
          "metadata": {}
        },
        {
          "output_type": "display_data",
          "data": {
            "image/png": "[encoded data removed]",
            "text/plain": [
              "<Figure size 1152x360 with 2 Axes>"
            ]
          },
          "metadata": {}
        },
        {
          "output_type": "display_data",
          "data": {
            "image/png": "[encoded data removed]",
            "text/plain": [
              "<Figure size 1152x360 with 2 Axes>"
            ]
          },
          "metadata": {}
        }
      ]
    },
    {
      "cell_type": "markdown",
      "metadata": {
        "id": "0nEYmV3JUNz4"
      },
      "source": [
        "# Aide à la décision\n",
        "\n",
        "    - Evolution heure par heure  \n",
        "    \n",
        "    Une évoltion **très constante**. Le comportement ne change pas en fonction de l'heure de la journée.\n",
        "    \n",
        "    -  Evolution semaine par semaine\n",
        "    \n",
        "    Même remarque pour les jours de la semaine.\n",
        "    \n",
        "    - Evolution en fonction du quart de mois\n",
        "    \n",
        "    Les ventes augementent progressivement jusq'au 3eme quart.\n",
        "    Le dernier quart, on constate une diminution des ventes.\n",
        "    \n",
        "    - Evolution mensuel  \n",
        "    \n",
        "    Le volume diminue légèrement en été, mais régaumente fortement en septembre.\n",
        "    en hiver (outre les ventes de cat. 1 étrangement basse en octobre), les ventes sont plus nombreuses.\n",
        "    \n",
        "    - Le CA est plus régulier que le volume : il y a des produits régulateurs.\n",
        "    "
      ]
    },
    {
      "cell_type": "markdown",
      "metadata": {
        "id": "NzwHXFBBUNz_"
      },
      "source": [
        "###### Saisonnalité et catégorie régulatrices"
      ]
    },
    {
      "cell_type": "code",
      "metadata": {
        "id": "vpmBhqrIUNz5"
      },
      "source": [
        "df = transactions.loc[:,['t_month', 'p_price', 'p_cat']]\n",
        "\n",
        "df = pd.pivot_table(df, index='t_month', columns=['p_cat'], aggfunc=['sum', 'count']).reset_index()\n",
        "df.columns = ['t_month', 'ca_0', 'ca_1', 'ca_2', 'vol0', 'vol1', 'vol2']"
      ],
      "execution_count": null,
      "outputs": []
    },
    {
      "cell_type": "code",
      "metadata": {
        "id": "WIRa_JcZUN0A"
      },
      "source": [
        "df = transactions[['p_cat', 'p_price', 't_month']]\n",
        "df = pd.pivot_table(df, index='t_month', columns=['p_cat'], aggfunc=['sum', 'count']).reset_index()\n",
        "df.columns = ['t_month', 'ca_0', 'ca_1', 'ca_2', 'vol0', 'vol1', 'vol2']"
      ],
      "execution_count": null,
      "outputs": []
    },
    {
      "cell_type": "code",
      "metadata": {
        "colab": {
          "base_uri": "https://localhost:8080/",
          "height": 421
        },
        "id": "BimTbhLjcEVa",
        "outputId": "e2d7450a-1a0e-4d3a-ac1f-80731dedd68e"
      },
      "source": [
        "df"
      ],
      "execution_count": null,
      "outputs": [
        {
          "output_type": "execute_result",
          "data": {
            "text/html": [
              "<div>\n",
              "<style scoped>\n",
              "    .dataframe tbody tr th:only-of-type {\n",
              "        vertical-align: middle;\n",
              "    }\n",
              "\n",
              "    .dataframe tbody tr th {\n",
              "        vertical-align: top;\n",
              "    }\n",
              "\n",
              "    .dataframe thead th {\n",
              "        text-align: right;\n",
              "    }\n",
              "</style>\n",
              "<table border=\"1\" class=\"dataframe\">\n",
              "  <thead>\n",
              "    <tr style=\"text-align: right;\">\n",
              "      <th></th>\n",
              "      <th>t_month</th>\n",
              "      <th>ca_0</th>\n",
              "      <th>ca_1</th>\n",
              "      <th>ca_2</th>\n",
              "      <th>vol0</th>\n",
              "      <th>vol1</th>\n",
              "      <th>vol2</th>\n",
              "    </tr>\n",
              "  </thead>\n",
              "  <tbody>\n",
              "    <tr>\n",
              "      <th>0</th>\n",
              "      <td>1.0</td>\n",
              "      <td>164215.905360</td>\n",
              "      <td>256267.92</td>\n",
              "      <td>102524.72</td>\n",
              "      <td>15386</td>\n",
              "      <td>12560</td>\n",
              "      <td>1370</td>\n",
              "    </tr>\n",
              "    <tr>\n",
              "      <th>1</th>\n",
              "      <td>2.0</td>\n",
              "      <td>183257.637792</td>\n",
              "      <td>213120.64</td>\n",
              "      <td>136479.72</td>\n",
              "      <td>17273</td>\n",
              "      <td>10459</td>\n",
              "      <td>1835</td>\n",
              "    </tr>\n",
              "    <tr>\n",
              "      <th>2</th>\n",
              "      <td>3.0</td>\n",
              "      <td>193662.203648</td>\n",
              "      <td>186974.17</td>\n",
              "      <td>98771.48</td>\n",
              "      <td>18119</td>\n",
              "      <td>9134</td>\n",
              "      <td>1315</td>\n",
              "    </tr>\n",
              "    <tr>\n",
              "      <th>3</th>\n",
              "      <td>4.0</td>\n",
              "      <td>205308.729008</td>\n",
              "      <td>156138.35</td>\n",
              "      <td>111682.70</td>\n",
              "      <td>19335</td>\n",
              "      <td>7579</td>\n",
              "      <td>1501</td>\n",
              "    </tr>\n",
              "    <tr>\n",
              "      <th>4</th>\n",
              "      <td>5.0</td>\n",
              "      <td>196200.136576</td>\n",
              "      <td>165893.40</td>\n",
              "      <td>127359.59</td>\n",
              "      <td>18485</td>\n",
              "      <td>8107</td>\n",
              "      <td>1653</td>\n",
              "    </tr>\n",
              "    <tr>\n",
              "      <th>5</th>\n",
              "      <td>6.0</td>\n",
              "      <td>167960.869504</td>\n",
              "      <td>189162.04</td>\n",
              "      <td>124209.56</td>\n",
              "      <td>15886</td>\n",
              "      <td>9264</td>\n",
              "      <td>1669</td>\n",
              "    </tr>\n",
              "    <tr>\n",
              "      <th>6</th>\n",
              "      <td>7.0</td>\n",
              "      <td>144754.508288</td>\n",
              "      <td>188523.27</td>\n",
              "      <td>147663.47</td>\n",
              "      <td>13569</td>\n",
              "      <td>9169</td>\n",
              "      <td>1978</td>\n",
              "    </tr>\n",
              "    <tr>\n",
              "      <th>7</th>\n",
              "      <td>8.0</td>\n",
              "      <td>167773.643648</td>\n",
              "      <td>162991.38</td>\n",
              "      <td>148635.99</td>\n",
              "      <td>15717</td>\n",
              "      <td>7954</td>\n",
              "      <td>1948</td>\n",
              "    </tr>\n",
              "    <tr>\n",
              "      <th>8</th>\n",
              "      <td>9.0</td>\n",
              "      <td>246391.974864</td>\n",
              "      <td>190613.78</td>\n",
              "      <td>65893.29</td>\n",
              "      <td>23124</td>\n",
              "      <td>9268</td>\n",
              "      <td>874</td>\n",
              "    </tr>\n",
              "    <tr>\n",
              "      <th>9</th>\n",
              "      <td>10.0</td>\n",
              "      <td>199292.469504</td>\n",
              "      <td>33762.32</td>\n",
              "      <td>86179.70</td>\n",
              "      <td>18758</td>\n",
              "      <td>1666</td>\n",
              "      <td>1160</td>\n",
              "    </tr>\n",
              "    <tr>\n",
              "      <th>10</th>\n",
              "      <td>11.0</td>\n",
              "      <td>155950.250720</td>\n",
              "      <td>252910.39</td>\n",
              "      <td>104136.00</td>\n",
              "      <td>14588</td>\n",
              "      <td>12316</td>\n",
              "      <td>1373</td>\n",
              "    </tr>\n",
              "    <tr>\n",
              "      <th>11</th>\n",
              "      <td>12.0</td>\n",
              "      <td>206050.969504</td>\n",
              "      <td>251026.75</td>\n",
              "      <td>65934.49</td>\n",
              "      <td>19289</td>\n",
              "      <td>12259</td>\n",
              "      <td>876</td>\n",
              "    </tr>\n",
              "  </tbody>\n",
              "</table>\n",
              "</div>"
            ],
            "text/plain": [
              "    t_month           ca_0       ca_1       ca_2   vol0   vol1  vol2\n",
              "0       1.0  164215.905360  256267.92  102524.72  15386  12560  1370\n",
              "1       2.0  183257.637792  213120.64  136479.72  17273  10459  1835\n",
              "2       3.0  193662.203648  186974.17   98771.48  18119   9134  1315\n",
              "3       4.0  205308.729008  156138.35  111682.70  19335   7579  1501\n",
              "4       5.0  196200.136576  165893.40  127359.59  18485   8107  1653\n",
              "5       6.0  167960.869504  189162.04  124209.56  15886   9264  1669\n",
              "6       7.0  144754.508288  188523.27  147663.47  13569   9169  1978\n",
              "7       8.0  167773.643648  162991.38  148635.99  15717   7954  1948\n",
              "8       9.0  246391.974864  190613.78   65893.29  23124   9268   874\n",
              "9      10.0  199292.469504   33762.32   86179.70  18758   1666  1160\n",
              "10     11.0  155950.250720  252910.39  104136.00  14588  12316  1373\n",
              "11     12.0  206050.969504  251026.75   65934.49  19289  12259   876"
            ]
          },
          "metadata": {},
          "execution_count": 26
        }
      ]
    },
    {
      "cell_type": "code",
      "metadata": {
        "id": "WMMDmPOdUN0E",
        "colab": {
          "base_uri": "https://localhost:8080/",
          "height": 414
        },
        "outputId": "ea7ff329-9d5d-451d-b985-72888201339e"
      },
      "source": [
        "df[['ca_0', 'ca_1', 'ca_2']].plot.bar(\n",
        "    figsize=(14,6),\n",
        "    width=0.7,\n",
        "    color=['royalblue', 'limegreen', 'orangered']\n",
        ")\n",
        "plt.legend(['catégorie 0', 'catégorie 1', 'catégorie 2'])\n",
        "plt.title('evolution mensuelle du CA par cat.')"
      ],
      "execution_count": null,
      "outputs": [
        {
          "output_type": "execute_result",
          "data": {
            "text/plain": [
              "Text(0.5, 1.0, 'evolution mensuelle du CA par cat.')"
            ]
          },
          "metadata": {},
          "execution_count": 27
        },
        {
          "output_type": "display_data",
          "data": {
            "image/png": "[encoded data removed]",
            "text/plain": [
              "<Figure size 1008x432 with 1 Axes>"
            ]
          },
          "metadata": {}
        }
      ]
    },
    {
      "cell_type": "code",
      "metadata": {
        "scrolled": true,
        "id": "RJy6j3NTUN0H",
        "colab": {
          "base_uri": "https://localhost:8080/",
          "height": 250
        },
        "outputId": "7ad14116-81a0-4bb2-a86f-a7c748ffb7cc"
      },
      "source": [
        "df[['vol0', 'vol1', 'vol2']].plot.bar(\n",
        "    figsize=(15,3),\n",
        "    width=0.7,\n",
        "    color=['royalblue', 'limegreen', 'orangered']\n",
        ")\n",
        "plt.title('evolution mensuelle du volume par cat.')"
      ],
      "execution_count": null,
      "outputs": [
        {
          "output_type": "execute_result",
          "data": {
            "text/plain": [
              "Text(0.5, 1.0, 'evolution mensuelle du volume par cat.')"
            ]
          },
          "metadata": {},
          "execution_count": 28
        },
        {
          "output_type": "display_data",
          "data": {
            "image/png": "[encoded data removed]",
            "text/plain": [
              "<Figure size 1080x216 with 1 Axes>"
            ]
          },
          "metadata": {}
        }
      ]
    },
    {
      "cell_type": "markdown",
      "metadata": {
        "id": "hRO7WxO6UN0L"
      },
      "source": [
        "<div class=\"panel panel-primary\">\n",
        "<div class=\"panel-heading\">\n",
        "    Aide à la décision\n",
        "</div>\n",
        "<div class=\"panel-body\">\n",
        "    on constate que, globalement, <br>\n",
        "     - la vente de prod. cat2. diminue <br>\n",
        "     - la vente de prod. de cat. 0 et 1 augmente et compense\n",
        "</div>\n",
        "</div>"
      ]
    },
    {
      "cell_type": "markdown",
      "metadata": {
        "id": "IEp74WpaUN0L"
      },
      "source": [
        "###### baisse sur 4eme quart de mois"
      ]
    },
    {
      "cell_type": "code",
      "metadata": {
        "colab": {
          "base_uri": "https://localhost:8080/",
          "height": 419
        },
        "id": "TooNy1lcmuS_",
        "outputId": "24c24cbc-1ac5-4c99-cd49-b609457bb89e"
      },
      "source": [
        "df = transactions[['t_month_part', 'p_price']]\n",
        "df"
      ],
      "execution_count": null,
      "outputs": [
        {
          "output_type": "execute_result",
          "data": {
            "text/html": [
              "<div>\n",
              "<style scoped>\n",
              "    .dataframe tbody tr th:only-of-type {\n",
              "        vertical-align: middle;\n",
              "    }\n",
              "\n",
              "    .dataframe tbody tr th {\n",
              "        vertical-align: top;\n",
              "    }\n",
              "\n",
              "    .dataframe thead th {\n",
              "        text-align: right;\n",
              "    }\n",
              "</style>\n",
              "<table border=\"1\" class=\"dataframe\">\n",
              "  <thead>\n",
              "    <tr style=\"text-align: right;\">\n",
              "      <th></th>\n",
              "      <th>t_month_part</th>\n",
              "      <th>p_price</th>\n",
              "    </tr>\n",
              "  </thead>\n",
              "  <tbody>\n",
              "    <tr>\n",
              "      <th>0</th>\n",
              "      <td>2</td>\n",
              "      <td>25.99</td>\n",
              "    </tr>\n",
              "    <tr>\n",
              "      <th>1</th>\n",
              "      <td>0</td>\n",
              "      <td>4.71</td>\n",
              "    </tr>\n",
              "    <tr>\n",
              "      <th>2</th>\n",
              "      <td>2</td>\n",
              "      <td>19.99</td>\n",
              "    </tr>\n",
              "    <tr>\n",
              "      <th>3</th>\n",
              "      <td>1</td>\n",
              "      <td>12.99</td>\n",
              "    </tr>\n",
              "    <tr>\n",
              "      <th>4</th>\n",
              "      <td>2</td>\n",
              "      <td>11.21</td>\n",
              "    </tr>\n",
              "    <tr>\n",
              "      <th>...</th>\n",
              "      <td>...</td>\n",
              "      <td>...</td>\n",
              "    </tr>\n",
              "    <tr>\n",
              "      <th>336811</th>\n",
              "      <td>2</td>\n",
              "      <td>13.77</td>\n",
              "    </tr>\n",
              "    <tr>\n",
              "      <th>336812</th>\n",
              "      <td>0</td>\n",
              "      <td>22.17</td>\n",
              "    </tr>\n",
              "    <tr>\n",
              "      <th>336813</th>\n",
              "      <td>3</td>\n",
              "      <td>9.31</td>\n",
              "    </tr>\n",
              "    <tr>\n",
              "      <th>336814</th>\n",
              "      <td>2</td>\n",
              "      <td>15.99</td>\n",
              "    </tr>\n",
              "    <tr>\n",
              "      <th>336815</th>\n",
              "      <td>1</td>\n",
              "      <td>54.90</td>\n",
              "    </tr>\n",
              "  </tbody>\n",
              "</table>\n",
              "<p>336816 rows × 2 columns</p>\n",
              "</div>"
            ],
            "text/plain": [
              "        t_month_part  p_price\n",
              "0                  2    25.99\n",
              "1                  0     4.71\n",
              "2                  2    19.99\n",
              "3                  1    12.99\n",
              "4                  2    11.21\n",
              "...              ...      ...\n",
              "336811             2    13.77\n",
              "336812             0    22.17\n",
              "336813             3     9.31\n",
              "336814             2    15.99\n",
              "336815             1    54.90\n",
              "\n",
              "[336816 rows x 2 columns]"
            ]
          },
          "metadata": {},
          "execution_count": 29
        }
      ]
    },
    {
      "cell_type": "code",
      "metadata": {
        "id": "2OtuNg2qUN0N"
      },
      "source": [
        "df = transactions[['t_month_part', 'p_price']].groupby('t_month_part').agg({'p_price': ['sum', 'count']}).reset_index()\n",
        "df.columns = ['t_month_part', 'ca', 'volume']"
      ],
      "execution_count": null,
      "outputs": []
    },
    {
      "cell_type": "code",
      "metadata": {
        "id": "Zr2cg1W3UN0Q"
      },
      "source": [
        "ca_2 = df.loc[df.t_month_part == 2, 'ca'].values[0]\n",
        "vol_2 = df.loc[df.t_month_part == 2, 'volume'].values[0]\n",
        "ca_0 = df.loc[df.t_month_part == 0, 'ca'].values[0]\n",
        "vol_0 = df.loc[df.t_month_part == 0, 'volume'].values[0]\n",
        "\n",
        "tx_evol_ca = (ca_2 - ca_0) / ca_0\n",
        "tx_evol_vol = (vol_2 - vol_0) / vol_0"
      ],
      "execution_count": null,
      "outputs": []
    },
    {
      "cell_type": "code",
      "metadata": {
        "id": "2WfujcDiUN0T",
        "colab": {
          "base_uri": "https://localhost:8080/"
        },
        "outputId": "ef0b9e59-eb97-426a-e446-714c5e549ece"
      },
      "source": [
        "print(f\"taux d'évolution entre le 1er et 3eme quart de mois : \")\n",
        "print(f\" - chiffre d'affaires : {tx_evol_ca*100:.0f}%\")\n",
        "print(f\" - volume : {tx_evol_vol*100:.0f}%\")"
      ],
      "execution_count": null,
      "outputs": [
        {
          "output_type": "stream",
          "name": "stdout",
          "text": [
            "taux d'évolution entre le 1er et 3eme quart de mois : \n",
            " - chiffre d'affaires : -41%\n",
            " - volume : -42%\n"
          ]
        }
      ]
    },
    {
      "cell_type": "code",
      "metadata": {
        "id": "7vAQBiVjUN0X",
        "colab": {
          "base_uri": "https://localhost:8080/",
          "height": 350
        },
        "outputId": "2b695821-0e72-4c83-b695-317473d8ef9b"
      },
      "source": [
        "ca_3 = df.loc[df.t_month_part == 3, 'ca'].values[0]\n",
        "vol_3 = df.loc[df.t_month_part == 3, 'volume'].values[0]\n",
        "ca_2 = df.loc[df.t_month_part == 2, 'ca'].values[0]\n",
        "vol_2 = df.loc[df.t_month_part == 2, 'volume'].values[0]\n",
        "\n",
        "tx_evol_ca = (ca_3 - ca_2) / ca_2\n",
        "tx_evol_vol = (vol_3 - vol_2) / vol_2"
      ],
      "execution_count": null,
      "outputs": [
        {
          "output_type": "error",
          "ename": "AttributeError",
          "evalue": "ignored",
          "traceback": [
            "\u001b[0;31m---------------------------------------------------------------------------\u001b[0m",
            "\u001b[0;31mAttributeError\u001b[0m                            Traceback (most recent call last)",
            "\u001b[0;32m<ipython-input-53-3f13582a1195>\u001b[0m in \u001b[0;36m<module>\u001b[0;34m()\u001b[0m\n\u001b[0;32m----> 1\u001b[0;31m \u001b[0mca_3\u001b[0m \u001b[0;34m=\u001b[0m \u001b[0mdf\u001b[0m\u001b[0;34m.\u001b[0m\u001b[0mloc\u001b[0m\u001b[0;34m[\u001b[0m\u001b[0mdf\u001b[0m\u001b[0;34m.\u001b[0m\u001b[0mt_month_part\u001b[0m \u001b[0;34m==\u001b[0m \u001b[0;36m3\u001b[0m\u001b[0;34m,\u001b[0m \u001b[0;34m'ca'\u001b[0m\u001b[0;34m]\u001b[0m\u001b[0;34m.\u001b[0m\u001b[0mvalues\u001b[0m\u001b[0;34m[\u001b[0m\u001b[0;36m0\u001b[0m\u001b[0;34m]\u001b[0m\u001b[0;34m\u001b[0m\u001b[0;34m\u001b[0m\u001b[0m\n\u001b[0m\u001b[1;32m      2\u001b[0m \u001b[0mvol_3\u001b[0m \u001b[0;34m=\u001b[0m \u001b[0mdf\u001b[0m\u001b[0;34m.\u001b[0m\u001b[0mloc\u001b[0m\u001b[0;34m[\u001b[0m\u001b[0mdf\u001b[0m\u001b[0;34m.\u001b[0m\u001b[0mt_month_part\u001b[0m \u001b[0;34m==\u001b[0m \u001b[0;36m3\u001b[0m\u001b[0;34m,\u001b[0m \u001b[0;34m'volume'\u001b[0m\u001b[0;34m]\u001b[0m\u001b[0;34m.\u001b[0m\u001b[0mvalues\u001b[0m\u001b[0;34m[\u001b[0m\u001b[0;36m0\u001b[0m\u001b[0;34m]\u001b[0m\u001b[0;34m\u001b[0m\u001b[0;34m\u001b[0m\u001b[0m\n\u001b[1;32m      3\u001b[0m \u001b[0mca_2\u001b[0m \u001b[0;34m=\u001b[0m \u001b[0mdf\u001b[0m\u001b[0;34m.\u001b[0m\u001b[0mloc\u001b[0m\u001b[0;34m[\u001b[0m\u001b[0mdf\u001b[0m\u001b[0;34m.\u001b[0m\u001b[0mt_month_part\u001b[0m \u001b[0;34m==\u001b[0m \u001b[0;36m2\u001b[0m\u001b[0;34m,\u001b[0m \u001b[0;34m'ca'\u001b[0m\u001b[0;34m]\u001b[0m\u001b[0;34m.\u001b[0m\u001b[0mvalues\u001b[0m\u001b[0;34m[\u001b[0m\u001b[0;36m0\u001b[0m\u001b[0;34m]\u001b[0m\u001b[0;34m\u001b[0m\u001b[0;34m\u001b[0m\u001b[0m\n\u001b[1;32m      4\u001b[0m \u001b[0mvol_2\u001b[0m \u001b[0;34m=\u001b[0m \u001b[0mdf\u001b[0m\u001b[0;34m.\u001b[0m\u001b[0mloc\u001b[0m\u001b[0;34m[\u001b[0m\u001b[0mdf\u001b[0m\u001b[0;34m.\u001b[0m\u001b[0mt_month_part\u001b[0m \u001b[0;34m==\u001b[0m \u001b[0;36m2\u001b[0m\u001b[0;34m,\u001b[0m \u001b[0;34m'volume'\u001b[0m\u001b[0;34m]\u001b[0m\u001b[0;34m.\u001b[0m\u001b[0mvalues\u001b[0m\u001b[0;34m[\u001b[0m\u001b[0;36m0\u001b[0m\u001b[0;34m]\u001b[0m\u001b[0;34m\u001b[0m\u001b[0;34m\u001b[0m\u001b[0m\n\u001b[1;32m      5\u001b[0m \u001b[0;34m\u001b[0m\u001b[0m\n",
            "\u001b[0;32m/usr/local/lib/python3.7/dist-packages/pandas/core/generic.py\u001b[0m in \u001b[0;36m__getattr__\u001b[0;34m(self, name)\u001b[0m\n\u001b[1;32m   5139\u001b[0m             \u001b[0;32mif\u001b[0m \u001b[0mself\u001b[0m\u001b[0;34m.\u001b[0m\u001b[0m_info_axis\u001b[0m\u001b[0;34m.\u001b[0m\u001b[0m_can_hold_identifiers_and_holds_name\u001b[0m\u001b[0;34m(\u001b[0m\u001b[0mname\u001b[0m\u001b[0;34m)\u001b[0m\u001b[0;34m:\u001b[0m\u001b[0;34m\u001b[0m\u001b[0;34m\u001b[0m\u001b[0m\n\u001b[1;32m   5140\u001b[0m                 \u001b[0;32mreturn\u001b[0m \u001b[0mself\u001b[0m\u001b[0;34m[\u001b[0m\u001b[0mname\u001b[0m\u001b[0;34m]\u001b[0m\u001b[0;34m\u001b[0m\u001b[0;34m\u001b[0m\u001b[0m\n\u001b[0;32m-> 5141\u001b[0;31m             \u001b[0;32mreturn\u001b[0m \u001b[0mobject\u001b[0m\u001b[0;34m.\u001b[0m\u001b[0m__getattribute__\u001b[0m\u001b[0;34m(\u001b[0m\u001b[0mself\u001b[0m\u001b[0;34m,\u001b[0m \u001b[0mname\u001b[0m\u001b[0;34m)\u001b[0m\u001b[0;34m\u001b[0m\u001b[0;34m\u001b[0m\u001b[0m\n\u001b[0m\u001b[1;32m   5142\u001b[0m \u001b[0;34m\u001b[0m\u001b[0m\n\u001b[1;32m   5143\u001b[0m     \u001b[0;32mdef\u001b[0m \u001b[0m__setattr__\u001b[0m\u001b[0;34m(\u001b[0m\u001b[0mself\u001b[0m\u001b[0;34m,\u001b[0m \u001b[0mname\u001b[0m\u001b[0;34m:\u001b[0m \u001b[0mstr\u001b[0m\u001b[0;34m,\u001b[0m \u001b[0mvalue\u001b[0m\u001b[0;34m)\u001b[0m \u001b[0;34m->\u001b[0m \u001b[0;32mNone\u001b[0m\u001b[0;34m:\u001b[0m\u001b[0;34m\u001b[0m\u001b[0;34m\u001b[0m\u001b[0m\n",
            "\u001b[0;31mAttributeError\u001b[0m: 'DataFrame' object has no attribute 't_month_part'"
          ]
        }
      ]
    },
    {
      "cell_type": "code",
      "metadata": {
        "id": "T6BCLaGFUN0a",
        "colab": {
          "base_uri": "https://localhost:8080/"
        },
        "outputId": "a063847f-0c9e-4d54-88db-dbb2545d51c2"
      },
      "source": [
        "print(f\"taux d'évolution entre le 3eme et 4eme quart de mois : \")\n",
        "print(f\" - chiffre d'affaires : {tx_evol_ca*100:.0f}%\")\n",
        "print(f\" - volume : {tx_evol_vol*100:.0f}%\")"
      ],
      "execution_count": null,
      "outputs": [
        {
          "output_type": "stream",
          "name": "stdout",
          "text": [
            "taux d'évolution entre le 3eme et 4eme quart de mois : \n",
            " - chiffre d'affaires : -41%\n",
            " - volume : -42%\n"
          ]
        }
      ]
    },
    {
      "cell_type": "markdown",
      "metadata": {
        "id": "Zg-7EaTLUN0d"
      },
      "source": [
        "###### CA et vol. : Etude du mois d'octobre"
      ]
    },
    {
      "cell_type": "code",
      "metadata": {
        "id": "Xc2J4jp9UN0e",
        "colab": {
          "base_uri": "https://localhost:8080/"
        },
        "outputId": "119c2bf3-c0ab-4873-f794-c1ed9cbd9c3e"
      },
      "source": [
        "ca_sep = transactions.loc[transactions.t_month==9, 'p_price'].sum()\n",
        "ca_oct = transactions.loc[transactions.t_month==10, 'p_price'].sum()\n",
        "\n",
        "taux_evol_oct = (ca_oct - ca_sep) / ca_sep\n",
        "taux_evol_oct\n",
        "\n",
        "print(f\"Taux d'évolution (ca) de sept. à oct.: {taux_evol_oct*100:.0f}%\")"
      ],
      "execution_count": null,
      "outputs": [
        {
          "output_type": "stream",
          "name": "stdout",
          "text": [
            "Taux d'évolution (ca) de sept. à oct.: -37%\n"
          ]
        }
      ]
    },
    {
      "cell_type": "code",
      "metadata": {
        "colab": {
          "base_uri": "https://localhost:8080/"
        },
        "id": "vrWmyyv-DXgY",
        "outputId": "06ed31f1-eebd-4eff-d4c3-a43a3874506b"
      },
      "source": [
        "taux_evol_oct"
      ],
      "execution_count": null,
      "outputs": [
        {
          "output_type": "execute_result",
          "data": {
            "text/plain": [
              "-0.365211581202478"
            ]
          },
          "metadata": {},
          "execution_count": 59
        }
      ]
    },
    {
      "cell_type": "markdown",
      "metadata": {
        "id": "kzfg4US8UN0i"
      },
      "source": [
        "- Vue chronologique"
      ]
    },
    {
      "cell_type": "code",
      "metadata": {
        "scrolled": false,
        "id": "JfNJAZUcUN0k",
        "colab": {
          "base_uri": "https://localhost:8080/",
          "height": 494
        },
        "outputId": "36d037cd-caf0-4076-d45f-06b9fc0222b7"
      },
      "source": [
        "# pour toute les transactions du mois d'octobre,\n",
        "# on aggrège, pour chaque jours (et par catégories), le CA et le volume\n",
        "df = transactions.loc[transactions.t_month == 10, ['t_date', 'p_price', 'p_cat']]\n",
        "df = df.groupby([df.t_date.dt.day, 'p_cat']).agg({'p_price':['sum', 'count']}).reset_index()\n",
        "df.columns = ['t_day', 'p_cat', 'ca', 'volume']\n",
        "\n",
        "# on pivote le df\n",
        "# pour chaques jours (lignes), 6 colonnes : ca et volume des 3 cat.\n",
        "df = pd.pivot_table(df, columns=['p_cat'], index=['t_day']).reset_index()\n",
        "df.columns = ['t_day', 'ca_0', 'ca_1', 'ca_2', 'vol_0', 'vol_1', 'vol_2']\n",
        "\n",
        "color=['royalblue', 'limegreen', 'orangered']\n",
        "for i, cat in enumerate([0,1,2]):\n",
        "    plt.figure(figsize=(44,2))\n",
        "#     plt.subplot(1,2,1)\n",
        "#     plt.bar(df['t_day'], df[f'ca_{cat}'], width=0.5)\n",
        "#     plt.xlabel('octobre - jours')\n",
        "#     plt.ylabel(f'CA - cat {cat}')\n",
        "    plt.subplot(1,2,2)\n",
        "    plt.bar(df['t_day'], df[f'vol_{cat}'], width=0.5, color=color[i])\n",
        "    plt.xlabel('octobre - jours')\n",
        "    plt.ylabel(f'cat {cat}')\n",
        "    plt.show()"
      ],
      "execution_count": null,
      "outputs": [
        {
          "output_type": "display_data",
          "data": {
            "image/png": "[encoded data removed]",
            "text/plain": [
              "<Figure size 3168x144 with 1 Axes>"
            ]
          },
          "metadata": {}
        },
        {
          "output_type": "display_data",
          "data": {
            "image/png": "[encoded data removed]",
            "text/plain": [
              "<Figure size 3168x144 with 1 Axes>"
            ]
          },
          "metadata": {}
        },
        {
          "output_type": "display_data",
          "data": {
            "image/png": "[encoded data removed]",
            "text/plain": [
              "<Figure size 3168x144 with 1 Axes>"
            ]
          },
          "metadata": {}
        }
      ]
    },
    {
      "cell_type": "markdown",
      "metadata": {
        "id": "uRSpv8gOUN0u"
      },
      "source": [
        "<div class=\"panel panel-primary\">\n",
        "<div class=\"panel-heading\">\n",
        "    Aide à la décision\n",
        "</div>\n",
        "<div class=\"panel-body\">\n",
        "    Vu a tendance annuel, il semble très étonnant qu'aucun produits de cat. 1 n'ai été vendus. <br>\n",
        "    \n",
        "    \n",
        "</div>\n",
        "</div>"
      ]
    },
    {
      "cell_type": "markdown",
      "metadata": {
        "id": "Qh_ye02GUN0v"
      },
      "source": [
        "### Les produits"
      ]
    },
    {
      "cell_type": "code",
      "metadata": {
        "colab": {
          "base_uri": "https://localhost:8080/",
          "height": 419
        },
        "id": "-rP1HWYeqtSH",
        "outputId": "8ec61cba-acc5-4b64-bf40-1f0defb17085"
      },
      "source": [
        "transactions"
      ],
      "execution_count": null,
      "outputs": [
        {
          "output_type": "execute_result",
          "data": {
            "text/html": [
              "<div>\n",
              "<style scoped>\n",
              "    .dataframe tbody tr th:only-of-type {\n",
              "        vertical-align: middle;\n",
              "    }\n",
              "\n",
              "    .dataframe tbody tr th {\n",
              "        vertical-align: top;\n",
              "    }\n",
              "\n",
              "    .dataframe thead th {\n",
              "        text-align: right;\n",
              "    }\n",
              "</style>\n",
              "<table border=\"1\" class=\"dataframe\">\n",
              "  <thead>\n",
              "    <tr style=\"text-align: right;\">\n",
              "      <th></th>\n",
              "      <th>c_id</th>\n",
              "      <th>c_sex</th>\n",
              "      <th>c_birth</th>\n",
              "      <th>c_age</th>\n",
              "      <th>c_age_range</th>\n",
              "      <th>p_id</th>\n",
              "      <th>p_cat</th>\n",
              "      <th>p_price</th>\n",
              "      <th>p_price_range</th>\n",
              "      <th>t_sess_id</th>\n",
              "      <th>t_buyer_age</th>\n",
              "      <th>t_buyer_age_range</th>\n",
              "      <th>t_date</th>\n",
              "      <th>t_hour</th>\n",
              "      <th>t_weekday</th>\n",
              "      <th>t_month_part</th>\n",
              "      <th>t_month</th>\n",
              "      <th>data_info</th>\n",
              "    </tr>\n",
              "  </thead>\n",
              "  <tbody>\n",
              "    <tr>\n",
              "      <th>0</th>\n",
              "      <td>c_4410</td>\n",
              "      <td>f</td>\n",
              "      <td>1967.0</td>\n",
              "      <td>55.0</td>\n",
              "      <td>51-70</td>\n",
              "      <td>1_385</td>\n",
              "      <td>1</td>\n",
              "      <td>25.99</td>\n",
              "      <td>expensive 20-79</td>\n",
              "      <td>s_9707</td>\n",
              "      <td>54.0</td>\n",
              "      <td>51-70</td>\n",
              "      <td>2021-03-22 01:40:22.782925</td>\n",
              "      <td>1.0</td>\n",
              "      <td>0.0</td>\n",
              "      <td>2</td>\n",
              "      <td>3.0</td>\n",
              "      <td>NaN</td>\n",
              "    </tr>\n",
              "    <tr>\n",
              "      <th>1</th>\n",
              "      <td>c_4410</td>\n",
              "      <td>f</td>\n",
              "      <td>1967.0</td>\n",
              "      <td>55.0</td>\n",
              "      <td>51-70</td>\n",
              "      <td>0_1110</td>\n",
              "      <td>0</td>\n",
              "      <td>4.71</td>\n",
              "      <td>cheap 4-9</td>\n",
              "      <td>s_114715</td>\n",
              "      <td>54.0</td>\n",
              "      <td>51-70</td>\n",
              "      <td>2021-11-04 16:28:30.169021</td>\n",
              "      <td>16.0</td>\n",
              "      <td>3.0</td>\n",
              "      <td>0</td>\n",
              "      <td>11.0</td>\n",
              "      <td>NaN</td>\n",
              "    </tr>\n",
              "    <tr>\n",
              "      <th>2</th>\n",
              "      <td>c_4410</td>\n",
              "      <td>f</td>\n",
              "      <td>1967.0</td>\n",
              "      <td>55.0</td>\n",
              "      <td>51-70</td>\n",
              "      <td>0_1111</td>\n",
              "      <td>0</td>\n",
              "      <td>19.99</td>\n",
              "      <td>medium 10-19</td>\n",
              "      <td>s_9707</td>\n",
              "      <td>54.0</td>\n",
              "      <td>51-70</td>\n",
              "      <td>2021-03-22 01:27:49.480137</td>\n",
              "      <td>1.0</td>\n",
              "      <td>0.0</td>\n",
              "      <td>2</td>\n",
              "      <td>3.0</td>\n",
              "      <td>NaN</td>\n",
              "    </tr>\n",
              "    <tr>\n",
              "      <th>3</th>\n",
              "      <td>c_4410</td>\n",
              "      <td>f</td>\n",
              "      <td>1967.0</td>\n",
              "      <td>55.0</td>\n",
              "      <td>51-70</td>\n",
              "      <td>1_461</td>\n",
              "      <td>1</td>\n",
              "      <td>12.99</td>\n",
              "      <td>medium 10-19</td>\n",
              "      <td>s_74236</td>\n",
              "      <td>54.0</td>\n",
              "      <td>51-70</td>\n",
              "      <td>2021-08-11 08:40:47.495793</td>\n",
              "      <td>8.0</td>\n",
              "      <td>2.0</td>\n",
              "      <td>1</td>\n",
              "      <td>8.0</td>\n",
              "      <td>NaN</td>\n",
              "    </tr>\n",
              "    <tr>\n",
              "      <th>4</th>\n",
              "      <td>c_4410</td>\n",
              "      <td>f</td>\n",
              "      <td>1967.0</td>\n",
              "      <td>55.0</td>\n",
              "      <td>51-70</td>\n",
              "      <td>1_536</td>\n",
              "      <td>1</td>\n",
              "      <td>11.21</td>\n",
              "      <td>medium 10-19</td>\n",
              "      <td>s_151740</td>\n",
              "      <td>55.0</td>\n",
              "      <td>51-70</td>\n",
              "      <td>2022-01-18 17:05:07.468131</td>\n",
              "      <td>17.0</td>\n",
              "      <td>1.0</td>\n",
              "      <td>2</td>\n",
              "      <td>1.0</td>\n",
              "      <td>NaN</td>\n",
              "    </tr>\n",
              "    <tr>\n",
              "      <th>...</th>\n",
              "      <td>...</td>\n",
              "      <td>...</td>\n",
              "      <td>...</td>\n",
              "      <td>...</td>\n",
              "      <td>...</td>\n",
              "      <td>...</td>\n",
              "      <td>...</td>\n",
              "      <td>...</td>\n",
              "      <td>...</td>\n",
              "      <td>...</td>\n",
              "      <td>...</td>\n",
              "      <td>...</td>\n",
              "      <td>...</td>\n",
              "      <td>...</td>\n",
              "      <td>...</td>\n",
              "      <td>...</td>\n",
              "      <td>...</td>\n",
              "      <td>...</td>\n",
              "    </tr>\n",
              "    <tr>\n",
              "      <th>336811</th>\n",
              "      <td>c_84</td>\n",
              "      <td>f</td>\n",
              "      <td>1982.0</td>\n",
              "      <td>40.0</td>\n",
              "      <td>31-50</td>\n",
              "      <td>0_1452</td>\n",
              "      <td>0</td>\n",
              "      <td>13.77</td>\n",
              "      <td>medium 10-19</td>\n",
              "      <td>s_92701</td>\n",
              "      <td>39.0</td>\n",
              "      <td>31-50</td>\n",
              "      <td>2021-09-20 10:11:35.510099</td>\n",
              "      <td>10.0</td>\n",
              "      <td>0.0</td>\n",
              "      <td>2</td>\n",
              "      <td>9.0</td>\n",
              "      <td>NaN</td>\n",
              "    </tr>\n",
              "    <tr>\n",
              "      <th>336812</th>\n",
              "      <td>c_84</td>\n",
              "      <td>f</td>\n",
              "      <td>1982.0</td>\n",
              "      <td>40.0</td>\n",
              "      <td>31-50</td>\n",
              "      <td>1_158</td>\n",
              "      <td>1</td>\n",
              "      <td>22.17</td>\n",
              "      <td>expensive 20-79</td>\n",
              "      <td>s_98493</td>\n",
              "      <td>39.0</td>\n",
              "      <td>31-50</td>\n",
              "      <td>2021-10-01 16:11:20.841361</td>\n",
              "      <td>16.0</td>\n",
              "      <td>4.0</td>\n",
              "      <td>0</td>\n",
              "      <td>10.0</td>\n",
              "      <td>NaN</td>\n",
              "    </tr>\n",
              "    <tr>\n",
              "      <th>336813</th>\n",
              "      <td>c_84</td>\n",
              "      <td>f</td>\n",
              "      <td>1982.0</td>\n",
              "      <td>40.0</td>\n",
              "      <td>31-50</td>\n",
              "      <td>0_1438</td>\n",
              "      <td>0</td>\n",
              "      <td>9.31</td>\n",
              "      <td>cheap 4-9</td>\n",
              "      <td>s_141701</td>\n",
              "      <td>39.0</td>\n",
              "      <td>31-50</td>\n",
              "      <td>2021-12-29 06:11:50.316631</td>\n",
              "      <td>6.0</td>\n",
              "      <td>2.0</td>\n",
              "      <td>3</td>\n",
              "      <td>12.0</td>\n",
              "      <td>NaN</td>\n",
              "    </tr>\n",
              "    <tr>\n",
              "      <th>336814</th>\n",
              "      <td>c_84</td>\n",
              "      <td>f</td>\n",
              "      <td>1982.0</td>\n",
              "      <td>40.0</td>\n",
              "      <td>31-50</td>\n",
              "      <td>1_459</td>\n",
              "      <td>1</td>\n",
              "      <td>15.99</td>\n",
              "      <td>medium 10-19</td>\n",
              "      <td>s_166337</td>\n",
              "      <td>40.0</td>\n",
              "      <td>31-50</td>\n",
              "      <td>2022-02-17 00:16:56.629536</td>\n",
              "      <td>0.0</td>\n",
              "      <td>3.0</td>\n",
              "      <td>2</td>\n",
              "      <td>2.0</td>\n",
              "      <td>NaN</td>\n",
              "    </tr>\n",
              "    <tr>\n",
              "      <th>336815</th>\n",
              "      <td>c_84</td>\n",
              "      <td>f</td>\n",
              "      <td>1982.0</td>\n",
              "      <td>40.0</td>\n",
              "      <td>31-50</td>\n",
              "      <td>1_110</td>\n",
              "      <td>1</td>\n",
              "      <td>54.90</td>\n",
              "      <td>expensive 20-79</td>\n",
              "      <td>s_89478</td>\n",
              "      <td>39.0</td>\n",
              "      <td>31-50</td>\n",
              "      <td>2021-09-13 21:39:46.845376</td>\n",
              "      <td>21.0</td>\n",
              "      <td>0.0</td>\n",
              "      <td>1</td>\n",
              "      <td>9.0</td>\n",
              "      <td>NaN</td>\n",
              "    </tr>\n",
              "  </tbody>\n",
              "</table>\n",
              "<p>336816 rows × 18 columns</p>\n",
              "</div>"
            ],
            "text/plain": [
              "          c_id c_sex  c_birth  ...  t_month_part t_month data_info\n",
              "0       c_4410     f   1967.0  ...             2     3.0       NaN\n",
              "1       c_4410     f   1967.0  ...             0    11.0       NaN\n",
              "2       c_4410     f   1967.0  ...             2     3.0       NaN\n",
              "3       c_4410     f   1967.0  ...             1     8.0       NaN\n",
              "4       c_4410     f   1967.0  ...             2     1.0       NaN\n",
              "...        ...   ...      ...  ...           ...     ...       ...\n",
              "336811    c_84     f   1982.0  ...             2     9.0       NaN\n",
              "336812    c_84     f   1982.0  ...             0    10.0       NaN\n",
              "336813    c_84     f   1982.0  ...             3    12.0       NaN\n",
              "336814    c_84     f   1982.0  ...             2     2.0       NaN\n",
              "336815    c_84     f   1982.0  ...             1     9.0       NaN\n",
              "\n",
              "[336816 rows x 18 columns]"
            ]
          },
          "metadata": {},
          "execution_count": 37
        }
      ]
    },
    {
      "cell_type": "code",
      "metadata": {
        "id": "6qrjd42nUN0w"
      },
      "source": [
        "produits_vendus = transactions.loc[:, 'p_id':'p_price_range'].drop_duplicates()"
      ],
      "execution_count": null,
      "outputs": []
    },
    {
      "cell_type": "markdown",
      "metadata": {
        "id": "u-IfCusGUN0z"
      },
      "source": [
        "#### les produits invendus"
      ]
    },
    {
      "cell_type": "code",
      "metadata": {
        "scrolled": true,
        "id": "kqW7PfZEUN00",
        "colab": {
          "base_uri": "https://localhost:8080/"
        },
        "outputId": "fc4f4df0-976c-4eb4-9036-2509c35f0a5a"
      },
      "source": [
        "print(f\"{produits_invendus.shape[0] / (produits_vendus.shape[0] + produits_invendus.shape[0]) * 100 :.2f}% des produits sont invendus.\")"
      ],
      "execution_count": null,
      "outputs": [
        {
          "output_type": "stream",
          "name": "stdout",
          "text": [
            "0.67% des produits sont invendus.\n"
          ]
        }
      ]
    },
    {
      "cell_type": "markdown",
      "metadata": {
        "id": "aSPGkCfmUN02"
      },
      "source": [
        "<div class=\"panel panel-primary\">\n",
        "<div class=\"panel-heading\">\n",
        "    Aide à la décision\n",
        "</div>\n",
        "<div class=\"panel-body\">\n",
        "    La proportion de produits invendus est très faible et est négligeable.\n",
        "</div>\n",
        "</div>"
      ]
    },
    {
      "cell_type": "markdown",
      "metadata": {
        "id": "dqR5Myq1UN03"
      },
      "source": [
        "#### les produits (vendus au moins une fois)"
      ]
    },
    {
      "cell_type": "code",
      "metadata": {
        "id": "gdGDZsY2UN04"
      },
      "source": [
        "cat_prices = {\n",
        "    cat: produits_vendus.loc[\n",
        "            (produits_vendus.p_cat==cat)\n",
        "          & (produits_vendus.p_price),\n",
        "        'p_price'\n",
        "        ]\n",
        "    for cat in [0,1,2]}"
      ],
      "execution_count": null,
      "outputs": []
    },
    {
      "cell_type": "code",
      "metadata": {
        "scrolled": true,
        "id": "D8AzUODdUN08",
        "colab": {
          "base_uri": "https://localhost:8080/",
          "height": 356
        },
        "outputId": "e8e0a0cd-dd9d-4bad-8260-51356dd70f25"
      },
      "source": [
        "plt.figure(figsize=(10,5))\n",
        "plt.hist(cat_prices[0], bins=10, alpha=0.7)\n",
        "plt.hist(cat_prices[1], bins=10, alpha=0.7)\n",
        "plt.hist(cat_prices[2], bins=15, alpha=0.7)\n",
        "plt.legend(['catégorie 0', 'catégorie 1', 'catégorie 2'])\n",
        "plt.xlabel('prix')\n",
        "plt.ylabel('quantité')\n",
        "plt.plot()"
      ],
      "execution_count": null,
      "outputs": [
        {
          "output_type": "execute_result",
          "data": {
            "text/plain": [
              "[]"
            ]
          },
          "metadata": {},
          "execution_count": 41
        },
        {
          "output_type": "display_data",
          "data": {
            "image/png": "[encoded data removed]",
            "text/plain": [
              "<Figure size 720x360 with 1 Axes>"
            ]
          },
          "metadata": {}
        }
      ]
    },
    {
      "cell_type": "code",
      "metadata": {
        "scrolled": true,
        "id": "C8Z6rpVcUN0_",
        "colab": {
          "base_uri": "https://localhost:8080/"
        },
        "outputId": "c9ed6552-d94c-4d6d-bc32-985d5d46aa73"
      },
      "source": [
        "cat_prices[2].describe()"
      ],
      "execution_count": null,
      "outputs": [
        {
          "output_type": "execute_result",
          "data": {
            "text/plain": [
              "count    236.000000\n",
              "mean     107.636017\n",
              "std       49.255576\n",
              "min       30.990000\n",
              "25%       70.690000\n",
              "50%      101.250000\n",
              "75%      134.945000\n",
              "max      300.000000\n",
              "Name: p_price, dtype: float64"
            ]
          },
          "metadata": {},
          "execution_count": 42
        }
      ]
    },
    {
      "cell_type": "code",
      "metadata": {
        "colab": {
          "base_uri": "https://localhost:8080/",
          "height": 173
        },
        "id": "niigCkiUA7oZ",
        "outputId": "50bcfbb7-944b-485a-b2ff-79044fbf684e"
      },
      "source": [
        "df = transactions[['p_cat', 'p_price']].groupby('p_cat').agg({'p_price': ['count', 'sum']}).reset_index()\n",
        "df"
      ],
      "execution_count": null,
      "outputs": [
        {
          "output_type": "execute_result",
          "data": {
            "text/html": [
              "<div>\n",
              "<style scoped>\n",
              "    .dataframe tbody tr th:only-of-type {\n",
              "        vertical-align: middle;\n",
              "    }\n",
              "\n",
              "    .dataframe tbody tr th {\n",
              "        vertical-align: top;\n",
              "    }\n",
              "\n",
              "    .dataframe thead tr th {\n",
              "        text-align: left;\n",
              "    }\n",
              "</style>\n",
              "<table border=\"1\" class=\"dataframe\">\n",
              "  <thead>\n",
              "    <tr>\n",
              "      <th></th>\n",
              "      <th>p_cat</th>\n",
              "      <th colspan=\"2\" halign=\"left\">p_price</th>\n",
              "    </tr>\n",
              "    <tr>\n",
              "      <th></th>\n",
              "      <th></th>\n",
              "      <th>count</th>\n",
              "      <th>sum</th>\n",
              "    </tr>\n",
              "  </thead>\n",
              "  <tbody>\n",
              "    <tr>\n",
              "      <th>0</th>\n",
              "      <td>0</td>\n",
              "      <td>209529</td>\n",
              "      <td>2.230819e+06</td>\n",
              "    </tr>\n",
              "    <tr>\n",
              "      <th>1</th>\n",
              "      <td>1</td>\n",
              "      <td>109735</td>\n",
              "      <td>2.247384e+06</td>\n",
              "    </tr>\n",
              "    <tr>\n",
              "      <th>2</th>\n",
              "      <td>2</td>\n",
              "      <td>17552</td>\n",
              "      <td>1.319471e+06</td>\n",
              "    </tr>\n",
              "  </tbody>\n",
              "</table>\n",
              "</div>"
            ],
            "text/plain": [
              "  p_cat p_price              \n",
              "          count           sum\n",
              "0     0  209529  2.230819e+06\n",
              "1     1  109735  2.247384e+06\n",
              "2     2   17552  1.319471e+06"
            ]
          },
          "metadata": {},
          "execution_count": 47
        }
      ]
    },
    {
      "cell_type": "code",
      "metadata": {
        "colab": {
          "base_uri": "https://localhost:8080/",
          "height": 142
        },
        "id": "7LZs0VC6BA_g",
        "outputId": "53c9e0d9-501a-4a7c-836b-a0d2edd10f68"
      },
      "source": [
        "df.columns = ['p_cat', 'volume', 'ca']\n",
        "df"
      ],
      "execution_count": null,
      "outputs": [
        {
          "output_type": "execute_result",
          "data": {
            "text/html": [
              "<div>\n",
              "<style scoped>\n",
              "    .dataframe tbody tr th:only-of-type {\n",
              "        vertical-align: middle;\n",
              "    }\n",
              "\n",
              "    .dataframe tbody tr th {\n",
              "        vertical-align: top;\n",
              "    }\n",
              "\n",
              "    .dataframe thead th {\n",
              "        text-align: right;\n",
              "    }\n",
              "</style>\n",
              "<table border=\"1\" class=\"dataframe\">\n",
              "  <thead>\n",
              "    <tr style=\"text-align: right;\">\n",
              "      <th></th>\n",
              "      <th>p_cat</th>\n",
              "      <th>volume</th>\n",
              "      <th>ca</th>\n",
              "    </tr>\n",
              "  </thead>\n",
              "  <tbody>\n",
              "    <tr>\n",
              "      <th>0</th>\n",
              "      <td>0</td>\n",
              "      <td>209529</td>\n",
              "      <td>2.230819e+06</td>\n",
              "    </tr>\n",
              "    <tr>\n",
              "      <th>1</th>\n",
              "      <td>1</td>\n",
              "      <td>109735</td>\n",
              "      <td>2.247384e+06</td>\n",
              "    </tr>\n",
              "    <tr>\n",
              "      <th>2</th>\n",
              "      <td>2</td>\n",
              "      <td>17552</td>\n",
              "      <td>1.319471e+06</td>\n",
              "    </tr>\n",
              "  </tbody>\n",
              "</table>\n",
              "</div>"
            ],
            "text/plain": [
              "   p_cat  volume            ca\n",
              "0      0  209529  2.230819e+06\n",
              "1      1  109735  2.247384e+06\n",
              "2      2   17552  1.319471e+06"
            ]
          },
          "metadata": {},
          "execution_count": 49
        }
      ]
    },
    {
      "cell_type": "code",
      "metadata": {
        "id": "ioLTxuffUN1F",
        "colab": {
          "base_uri": "https://localhost:8080/",
          "height": 142
        },
        "outputId": "730f4d06-1975-4bb3-e9ce-b92a343a8fa5"
      },
      "source": [
        "df = transactions[['p_cat', 'p_price']].groupby('p_cat').agg({'p_price': ['count', 'sum']}).reset_index()\n",
        "df\n",
        "df.columns = ['p_cat', 'volume', 'ca']\n",
        "df"
      ],
      "execution_count": null,
      "outputs": [
        {
          "output_type": "execute_result",
          "data": {
            "text/html": [
              "<div>\n",
              "<style scoped>\n",
              "    .dataframe tbody tr th:only-of-type {\n",
              "        vertical-align: middle;\n",
              "    }\n",
              "\n",
              "    .dataframe tbody tr th {\n",
              "        vertical-align: top;\n",
              "    }\n",
              "\n",
              "    .dataframe thead th {\n",
              "        text-align: right;\n",
              "    }\n",
              "</style>\n",
              "<table border=\"1\" class=\"dataframe\">\n",
              "  <thead>\n",
              "    <tr style=\"text-align: right;\">\n",
              "      <th></th>\n",
              "      <th>p_cat</th>\n",
              "      <th>volume</th>\n",
              "      <th>ca</th>\n",
              "    </tr>\n",
              "  </thead>\n",
              "  <tbody>\n",
              "    <tr>\n",
              "      <th>0</th>\n",
              "      <td>0</td>\n",
              "      <td>209529</td>\n",
              "      <td>2.230819e+06</td>\n",
              "    </tr>\n",
              "    <tr>\n",
              "      <th>1</th>\n",
              "      <td>1</td>\n",
              "      <td>109735</td>\n",
              "      <td>2.247384e+06</td>\n",
              "    </tr>\n",
              "    <tr>\n",
              "      <th>2</th>\n",
              "      <td>2</td>\n",
              "      <td>17552</td>\n",
              "      <td>1.319471e+06</td>\n",
              "    </tr>\n",
              "  </tbody>\n",
              "</table>\n",
              "</div>"
            ],
            "text/plain": [
              "   p_cat  volume            ca\n",
              "0      0  209529  2.230819e+06\n",
              "1      1  109735  2.247384e+06\n",
              "2      2   17552  1.319471e+06"
            ]
          },
          "metadata": {},
          "execution_count": 45
        }
      ]
    },
    {
      "cell_type": "code",
      "metadata": {
        "scrolled": true,
        "id": "Y-18kiK1UN1I",
        "colab": {
          "base_uri": "https://localhost:8080/",
          "height": 486
        },
        "outputId": "0313250c-73e4-47bd-920f-98e5de063f16"
      },
      "source": [
        "plt.subplot(1,2,1)\n",
        "plt.pie(df.volume, autopct='%1.0f%%', labels=freqs.index.values)\n",
        "plt.axis('equal')\n",
        "plt.title('Volume des ventes par catégories')\n",
        "plt.plot()\n",
        "\n",
        "plt.subplot(1,2,2)\n",
        "plt.pie(df.ca, autopct='%1.0f%%', labels=freqs.index.values)\n",
        "plt.axis('equal')\n",
        "plt.title('CA par catégorie')\n",
        "plt.plot()"
      ],
      "execution_count": null,
      "outputs": [
        {
          "output_type": "error",
          "ename": "NameError",
          "evalue": "ignored",
          "traceback": [
            "\u001b[0;31m---------------------------------------------------------------------------\u001b[0m",
            "\u001b[0;31mNameError\u001b[0m                                 Traceback (most recent call last)",
            "\u001b[0;32m<ipython-input-44-ea7beda44bb8>\u001b[0m in \u001b[0;36m<module>\u001b[0;34m()\u001b[0m\n\u001b[1;32m      1\u001b[0m \u001b[0mplt\u001b[0m\u001b[0;34m.\u001b[0m\u001b[0msubplot\u001b[0m\u001b[0;34m(\u001b[0m\u001b[0;36m1\u001b[0m\u001b[0;34m,\u001b[0m\u001b[0;36m2\u001b[0m\u001b[0;34m,\u001b[0m\u001b[0;36m1\u001b[0m\u001b[0;34m)\u001b[0m\u001b[0;34m\u001b[0m\u001b[0;34m\u001b[0m\u001b[0m\n\u001b[0;32m----> 2\u001b[0;31m \u001b[0mplt\u001b[0m\u001b[0;34m.\u001b[0m\u001b[0mpie\u001b[0m\u001b[0;34m(\u001b[0m\u001b[0mdf\u001b[0m\u001b[0;34m.\u001b[0m\u001b[0mvolume\u001b[0m\u001b[0;34m,\u001b[0m \u001b[0mautopct\u001b[0m\u001b[0;34m=\u001b[0m\u001b[0;34m'%1.0f%%'\u001b[0m\u001b[0;34m,\u001b[0m \u001b[0mlabels\u001b[0m\u001b[0;34m=\u001b[0m\u001b[0mfreqs\u001b[0m\u001b[0;34m.\u001b[0m\u001b[0mindex\u001b[0m\u001b[0;34m.\u001b[0m\u001b[0mvalues\u001b[0m\u001b[0;34m)\u001b[0m\u001b[0;34m\u001b[0m\u001b[0;34m\u001b[0m\u001b[0m\n\u001b[0m\u001b[1;32m      3\u001b[0m \u001b[0mplt\u001b[0m\u001b[0;34m.\u001b[0m\u001b[0maxis\u001b[0m\u001b[0;34m(\u001b[0m\u001b[0;34m'equal'\u001b[0m\u001b[0;34m)\u001b[0m\u001b[0;34m\u001b[0m\u001b[0;34m\u001b[0m\u001b[0m\n\u001b[1;32m      4\u001b[0m \u001b[0mplt\u001b[0m\u001b[0;34m.\u001b[0m\u001b[0mtitle\u001b[0m\u001b[0;34m(\u001b[0m\u001b[0;34m'Volume des ventes par catégories'\u001b[0m\u001b[0;34m)\u001b[0m\u001b[0;34m\u001b[0m\u001b[0;34m\u001b[0m\u001b[0m\n\u001b[1;32m      5\u001b[0m \u001b[0mplt\u001b[0m\u001b[0;34m.\u001b[0m\u001b[0mplot\u001b[0m\u001b[0;34m(\u001b[0m\u001b[0;34m)\u001b[0m\u001b[0;34m\u001b[0m\u001b[0;34m\u001b[0m\u001b[0m\n",
            "\u001b[0;31mNameError\u001b[0m: name 'freqs' is not defined"
          ]
        },
        {
          "output_type": "display_data",
          "data": {
            "image/png": "[encoded data removed]",
            "text/plain": [
              "<Figure size 432x288 with 1 Axes>"
            ]
          },
          "metadata": {}
        }
      ]
    },
    {
      "cell_type": "markdown",
      "metadata": {
        "id": "dQjYik7iUN1L"
      },
      "source": [
        "<div class=\"panel panel-primary\">\n",
        "<div class=\"panel-heading\">\n",
        "    Aide à la décision\n",
        "</div>\n",
        "<div class=\"panel-body\">\n",
        "    Toute les catégories sont importantes. <br>\n",
        "    **La catégorie 2 n'est pas a négliger**, même si elle représente 5% du volume des ventes, elle contribue au CA de 23%\n",
        "</div>\n",
        "</div>"
      ]
    },
    {
      "cell_type": "markdown",
      "metadata": {
        "id": "CPnEWIl9UN1L"
      },
      "source": [
        "#### Produits : Concentration des ventes"
      ]
    },
    {
      "cell_type": "code",
      "metadata": {
        "id": "-MN6VkBrUN1M"
      },
      "source": [
        "a = transactions[['p_id', 'p_price']].groupby('p_id').agg({\n",
        "    'p_price': ['count', 'sum']\n",
        "}).reset_index()\n",
        "a.columns = ['p_id', 't_number', 'ca']"
      ],
      "execution_count": null,
      "outputs": []
    },
    {
      "cell_type": "code",
      "metadata": {
        "id": "Tqz6UcFatUfE"
      },
      "source": [
        "a"
      ],
      "execution_count": null,
      "outputs": []
    },
    {
      "cell_type": "markdown",
      "metadata": {
        "id": "Ok5rXRxCUN1P"
      },
      "source": [
        "##### Les produits les plus vendus"
      ]
    },
    {
      "cell_type": "code",
      "metadata": {
        "scrolled": true,
        "id": "4EViP1XCUN1Q"
      },
      "source": [
        "t_number = a['t_number'].values\n",
        "lorenz = np.cumsum(np.sort(t_number)) / t_number.sum()\n",
        "lorenz = np.append([0], lorenz)\n",
        "\n",
        "plt.plot(np.linspace(0,1,len(lorenz)), lorenz, drawstyle='steps-post')\n",
        "plt.plot(np.linspace(0,1,len(lorenz)), np.linspace(0,1,len(lorenz)), dashes=[2,4])\n",
        "plt.xlabel('part cumulée des produits')\n",
        "plt.ylabel('part cumulée du volume des ventes')\n",
        "plt.title('Volume des ventes')\n",
        "aire_ss_courbe = lorenz[:-1].sum() / len(lorenz)\n",
        "S = 0.5 - aire_ss_courbe\n",
        "gini = 2*S\n",
        "print(f'indice de gini: {gini:.2f}')"
      ],
      "execution_count": null,
      "outputs": []
    },
    {
      "cell_type": "code",
      "metadata": {
        "id": "_ZbXvPxQUN1T"
      },
      "source": [
        "p_plus_vendus = a[['p_id', 't_number']].sort_values('t_number', ascending=False)[:round(len(a)*0.2)]\n",
        "prct_prod =  p_plus_vendus.p_id.count() / a.p_id.count() * 100\n",
        "prct_ventes = p_plus_vendus.t_number.sum() / a.t_number.sum() * 100\n",
        "\n",
        "print(f'{prct_ventes:.0f}% des ventes sont faites sur {prct_prod:.0f}% des produits ({len(p_plus_vendus)} prod). ')"
      ],
      "execution_count": null,
      "outputs": []
    },
    {
      "cell_type": "code",
      "metadata": {
        "scrolled": true,
        "id": "KjuQS9WmUN1X"
      },
      "source": [
        "p_plus_vendus.head(2)"
      ],
      "execution_count": null,
      "outputs": []
    },
    {
      "cell_type": "markdown",
      "metadata": {
        "id": "0-auieF2UN1Z"
      },
      "source": [
        "<div class=\"panel panel-primary\">\n",
        "<div class=\"panel-heading\">\n",
        "    Aide à la décision\n",
        "</div>\n",
        "<div class=\"panel-body\">\n",
        "    *Loi des 80-20* <br>\n",
        "    Il faut veiller au **stock** de ces produits. <br>\n",
        "    Une rupture de l'un deux pourrait être très préjudiciable.\n",
        "</div>\n",
        "</div>"
      ]
    },
    {
      "cell_type": "markdown",
      "metadata": {
        "id": "wUbAmkNxUN1b"
      },
      "source": [
        "#### les produits les plus rémunérateurs : disparités"
      ]
    },
    {
      "cell_type": "code",
      "metadata": {
        "scrolled": true,
        "id": "ASsNe_zqUN1b"
      },
      "source": [
        "t_number = a['ca'].values\n",
        "lorenz = np.cumsum(np.sort(t_number)) / t_number.sum()\n",
        "lorenz = np.append([0], lorenz)\n",
        "plt.plot(np.linspace(0,1,len(lorenz)), lorenz, drawstyle='steps-post')\n",
        "plt.plot(np.linspace(0,1,len(lorenz)), np.linspace(0,1,len(lorenz)), dashes=[2,4])\n",
        "plt.ylabel('part cumulée du CA')\n",
        "plt.xlabel('part cumulée des produits')\n",
        "plt.title(\"Chiffre d'affaires\")\n",
        "aire_ss_courbe = lorenz[:-1].sum() / len(lorenz)\n",
        "S = 0.5 - aire_ss_courbe\n",
        "gini = 2*S\n",
        "print(f'indice de gini: {gini:.2f}')"
      ],
      "execution_count": null,
      "outputs": []
    },
    {
      "cell_type": "code",
      "metadata": {
        "scrolled": false,
        "id": "VJ7odZeyUN1f"
      },
      "source": [
        "p_plus_rtbles = a[['p_id', 'ca']].sort_values('ca', ascending=False)[:round(len(a)*0.2)]\n",
        "nb_prod = len(p_plus_rtbles)\n",
        "prct_prod =  p_plus_rtbles.p_id.count() / a.p_id.count() * 100\n",
        "prct_ca = p_plus_rtbles.ca.sum() / a.ca.sum() * 100\n",
        "\n",
        "\n",
        "print(f'les {prct_prod:.0f}% produits (soit {nb_prod} produits) les plus rentables rapportent {prct_ca:.0f}% du CA.')"
      ],
      "execution_count": null,
      "outputs": []
    },
    {
      "cell_type": "code",
      "metadata": {
        "scrolled": true,
        "id": "kGndA-8BUN1h"
      },
      "source": [
        "p_plus_rtbles.head(2)"
      ],
      "execution_count": null,
      "outputs": []
    },
    {
      "cell_type": "markdown",
      "metadata": {
        "id": "Ok91HrhCUN1k"
      },
      "source": [
        "<div class=\"panel panel-primary\">\n",
        "<div class=\"panel-heading\">\n",
        "    Aide à la décision\n",
        "</div>\n",
        "<div class=\"panel-body\">\n",
        "    *loi des 80-20*. <br>\n",
        "    Il faut concenter les **actions marketing** sur ces produits.\n",
        "</div>\n",
        "</div>"
      ]
    },
    {
      "cell_type": "markdown",
      "metadata": {
        "id": "GEvEbCToUN1l"
      },
      "source": [
        "##### Quels sont les produits les plus rémunérateurs ?"
      ]
    },
    {
      "cell_type": "code",
      "metadata": {
        "scrolled": true,
        "id": "a3YcDyyIUN1m"
      },
      "source": [
        "df = produits_vendus[produits_vendus.p_id.isin(p_plus_rtbles.p_id.values)]\n",
        "prod_plus_rtbles = pd.merge(df, a[['p_id', 't_number']], on='p_id')\n",
        "\n",
        "prod_plus_rtbles.p_cat.value_counts(normalize=True).plot(kind='pie',  autopct=lambda x:f'{x:.0f}%')\n",
        "plt.axis('equal')\n",
        "plt.title('catégorie des produits les plus rentables')\n",
        "plt.show()"
      ],
      "execution_count": null,
      "outputs": []
    },
    {
      "cell_type": "markdown",
      "metadata": {
        "id": "9UCTo43XUN1r"
      },
      "source": [
        "### Les clients"
      ]
    },
    {
      "cell_type": "code",
      "metadata": {
        "id": "LjhbvBBcUN1s"
      },
      "source": [
        "clients_avc_achat = transactions.loc[:,'c_id':'c_age_range'].drop_duplicates()"
      ],
      "execution_count": null,
      "outputs": []
    },
    {
      "cell_type": "markdown",
      "metadata": {
        "id": "hl00d8LeUN1y"
      },
      "source": [
        "#### les clients sans achats"
      ]
    },
    {
      "cell_type": "code",
      "metadata": {
        "id": "R0Vxs-AiUN1y"
      },
      "source": [
        "print(f\"Cela représente {clients_sans_achat.shape[0] / (clients_sans_achat.shape[0] + clients_avc_achat.shape[0]) * 100 :.2f}% des clients.\")"
      ],
      "execution_count": null,
      "outputs": []
    },
    {
      "cell_type": "markdown",
      "metadata": {
        "id": "DrvceB8aUN11"
      },
      "source": [
        "#### les clients avec achats"
      ]
    },
    {
      "cell_type": "markdown",
      "metadata": {
        "id": "6NBvLPJ6UN13"
      },
      "source": [
        "##### Genre(h/f)"
      ]
    },
    {
      "cell_type": "code",
      "metadata": {
        "id": "16CMUKAVUN13"
      },
      "source": [
        "plt.pie(clients_avc_achat.c_sex.value_counts(), autopct=lambda x:f'{x:.0f}%',labels=['femmes', 'hommes'],\n",
        "        textprops={'fontsize': 20})\n",
        "\n",
        "plt.axis('equal')\n",
        "plt.figure(figsize=(50,50))\n",
        "plt.show()"
      ],
      "execution_count": null,
      "outputs": []
    },
    {
      "cell_type": "markdown",
      "metadata": {
        "id": "MM63QZ0NUN16"
      },
      "source": [
        "<div class=\"panel panel-primary\">\n",
        "<div class=\"panel-heading\">\n",
        "    Aide à la décision\n",
        "</div>\n",
        "<div class=\"panel-body\">\n",
        "    On constate une **forte parité** parmis la clientèle. <br>\n",
        "    la communication *globale* de la marque ne doit pas renvoyer une image **genrée**.\n",
        "</div>\n",
        "</div>"
      ]
    },
    {
      "cell_type": "markdown",
      "metadata": {
        "id": "EY5nYHzJUN18"
      },
      "source": [
        "##### Age"
      ]
    },
    {
      "cell_type": "code",
      "metadata": {
        "scrolled": false,
        "id": "1SSrP6o3UN18"
      },
      "source": [
        "ages_ss_18 = clients_avc_achat.loc[clients_avc_achat.c_age != 18, 'c_age']\n",
        "\n",
        "plt.hist(ages_ss_18, density=True, bins=40, alpha=0.9)\n",
        "plt.title('age des clients')\n",
        "plt.xlabel('age')\n",
        "plt.xlabel('fréquence')\n",
        "plt.show()"
      ],
      "execution_count": null,
      "outputs": []
    },
    {
      "cell_type": "code",
      "metadata": {
        "id": "w8zdx7isUN2A"
      },
      "source": [
        "ages_ss_18.describe()"
      ],
      "execution_count": null,
      "outputs": []
    },
    {
      "cell_type": "markdown",
      "metadata": {
        "id": "4BmjtyJsUN2E"
      },
      "source": [
        "<div class=\"panel panel-primary\">\n",
        "<div class=\"panel-heading\">\n",
        "    Aide à la décision\n",
        "</div>\n",
        "<div class=\"panel-body\">\n",
        "    Un pic anormal pour les gens de 18 ans. <br>\n",
        "        - un formulaire d'inscription a revoir ? <br>\n",
        "        - des mineurs qui s'inscrivent sur le site.\n",
        "</div>\n",
        "</div>"
      ]
    },
    {
      "cell_type": "markdown",
      "metadata": {
        "id": "2arDSehiUN2F"
      },
      "source": [
        "#### réparation des catégories d'ages"
      ]
    },
    {
      "cell_type": "code",
      "metadata": {
        "id": "xL1kA9TfUN2F"
      },
      "source": [
        "df = transactions[['t_buyer_age_range', 'p_price']].groupby('t_buyer_age_range').sum().reset_index()\n",
        "plt.pie(df.p_price, autopct='%1.0f%%', labels=df.t_buyer_age_range)\n",
        "plt.axis('equal')\n",
        "plt.title('Contribution au CA')"
      ],
      "execution_count": null,
      "outputs": []
    },
    {
      "cell_type": "markdown",
      "metadata": {
        "id": "rgqHiQa1UN2I"
      },
      "source": [
        "#### Fidélité des clients"
      ]
    },
    {
      "cell_type": "code",
      "metadata": {
        "id": "CedmLXExUN2I"
      },
      "source": [
        "df = transactions[['c_id', 'p_cat']].copy()\n",
        "df['count'] = 1\n",
        "\n",
        "df = pd.pivot_table(df, columns='p_cat', index='c_id', aggfunc='count').reset_index()\n",
        "df.columns = ['c_id', 'cat0', 'cat1', 'cat2']\n",
        "\n",
        "df = df.fillna(0)\n",
        "df['cat_fidele'] = df.loc[:,'cat0':'cat2'].max(axis=1) / df.loc[:,'cat0':'cat2'].sum(axis=1)\n",
        "df.sample()"
      ],
      "execution_count": null,
      "outputs": []
    },
    {
      "cell_type": "code",
      "metadata": {
        "id": "tHSj3q2PUN2L"
      },
      "source": [
        "fidele_cat = df.cat_fidele.mean()\n",
        "print(f'en moyenne, {fidele_cat*100:.0f}% des produits acheté par un client proviennent de la même catégorie.')"
      ],
      "execution_count": null,
      "outputs": []
    },
    {
      "cell_type": "markdown",
      "metadata": {
        "id": "3sZ78sFyUN2O"
      },
      "source": [
        "<div class=\"panel panel-primary\">\n",
        "<div class=\"panel-heading\">\n",
        "    Aide à la décision\n",
        "</div>\n",
        "<div class=\"panel-body\">\n",
        "    Les clients sont fidèles à une catégorie. <br>\n",
        "    - Sur la page prod., on pourrait suggérer des produits d'une même catégorie <br>\n",
        "    - Cibler une communication **par catégorie**\n",
        "</div>\n",
        "</div>"
      ]
    },
    {
      "cell_type": "markdown",
      "metadata": {
        "id": "kda9JnR5UN2O"
      },
      "source": [
        "#### Les clients *spéciaux*"
      ]
    },
    {
      "cell_type": "code",
      "metadata": {
        "id": "hUwGDML_UN2Q"
      },
      "source": [
        "df = transactions.groupby('c_id').agg({\n",
        "    'c_age':'mean',\n",
        "    'c_sex':lambda x: x.mode(),\n",
        "    't_sess_id':'count',\n",
        "    'p_price':['sum', 'count'],\n",
        "    'p_id': ['nunique']\n",
        "    })\n",
        "df = df.reset_index()\n",
        "df.columns = ['c_id', 'c_age', 'c_sex', 'nb_sess', 'ca', 'nb_t', 'nb_prod_diff']"
      ],
      "execution_count": null,
      "outputs": []
    },
    {
      "cell_type": "code",
      "metadata": {
        "scrolled": true,
        "id": "4FNi3SKPUN2S"
      },
      "source": [
        "# on stocke leurs id\n",
        "c_id_ab = df.loc[df.ca > 3000, 'c_id']\n",
        "transactions.loc[transactions.c_id.isin(c_id_ab), 'data_info'] = 'c_special'"
      ],
      "execution_count": null,
      "outputs": []
    },
    {
      "cell_type": "code",
      "metadata": {
        "id": "fIPpintAUN2U"
      },
      "source": [
        "df[df.c_id.isin(c_id_ab)]"
      ],
      "execution_count": null,
      "outputs": []
    },
    {
      "cell_type": "code",
      "metadata": {
        "scrolled": true,
        "id": "w5W3vy4iUN2W"
      },
      "source": [
        "clients_ab_ca = transactions.loc[transactions.data_info == 'c_special', 'p_price'].sum()\n",
        "print(f'les {len(c_id_ab)} clients abbérants représentent {df[df.c_id.isin(c_id_ab)].ca.sum() / transactions.p_price.sum()*100:.0f}% du CA.')"
      ],
      "execution_count": null,
      "outputs": []
    },
    {
      "cell_type": "markdown",
      "metadata": {
        "id": "v_L1M41oUN2Y"
      },
      "source": [
        "<div class=\"panel panel-primary\">\n",
        "<div class=\"panel-heading\">\n",
        "    Aide à la décision\n",
        "</div>\n",
        "<div class=\"panel-body\">\n",
        "    Ces 4 clients ont un comportement totalement différent. <br>\n",
        "    Ce sont probablement des **libraires/bibliothèques** qui achètent en gros <br>\n",
        "    <br>\n",
        "    Ils contribuent à **7% du CA**. --> ils pourraient bénéficier **d'actions marketings et d'un accompagnement personnalisé**.\n",
        "</div>\n",
        "</div>"
      ]
    },
    {
      "cell_type": "markdown",
      "metadata": {
        "id": "wTOX-ls9UN2Y"
      },
      "source": [
        "### Le panier moyen"
      ]
    },
    {
      "cell_type": "code",
      "metadata": {
        "id": "ZlJR0bMmUN2Z"
      },
      "source": [
        "df = transactions[transactions.data_info != 'prod_imputation']\\\n",
        ".groupby('t_sess_id').agg({'p_price':['sum', 'count']}).reset_index()\n",
        "\n",
        "df.columns = ['t_sess_id', 'ca', 'nb_prod']"
      ],
      "execution_count": null,
      "outputs": []
    },
    {
      "cell_type": "code",
      "metadata": {
        "id": "kwWSO7GZUN2c"
      },
      "source": [
        "print(f'le panier moyen est de {df.ca.mean():.2f}€ (ecart-type de {df.ca.std():.2f}€)')"
      ],
      "execution_count": null,
      "outputs": []
    },
    {
      "cell_type": "code",
      "metadata": {
        "scrolled": true,
        "id": "Ir2N8i94UN2d"
      },
      "source": [
        "print(f'le panier article contient {df.nb_prod.mean():.1f} produits (ecart-type de {df.nb_prod.std():.2f})')"
      ],
      "execution_count": null,
      "outputs": []
    },
    {
      "cell_type": "markdown",
      "metadata": {
        "id": "zOIasCl2UN2h"
      },
      "source": [
        "<div class=\"panel panel-primary\">\n",
        "<div class=\"panel-heading\">\n",
        "    Aide à la décision\n",
        "</div>\n",
        "<div class=\"panel-body\">\n",
        "    Le clients achètent entre 1 et 3 produits à chaque session. <br>\n",
        "    Les clients sont **enclins à acheter plusieurs livres** en même temps. <br>\n",
        "    On pourrait leur **suggérer un (des) livres supplémentaires** qui sont **proches** de ceux du panier\n",
        "</div>\n",
        "</div>"
      ]
    },
    {
      "cell_type": "markdown",
      "metadata": {
        "id": "UVY0zsA_UN2j"
      },
      "source": [
        "# réponses supplémentaires"
      ]
    },
    {
      "cell_type": "code",
      "metadata": {
        "id": "z8_iAhG4UN2k"
      },
      "source": [
        "# on enleve les valeurs abérantes ?\n",
        "t_ss_c_ab = transactions[~\n",
        "    transactions.data_info.isin(\n",
        "        [\n",
        "            'c_special', # les clients dont le ca est largement superieur\n",
        "            # 'age_irrelevant', # les clients qui ont 18 ans\n",
        "            'prod_imputation' # le produit dont on a imputé le prix\n",
        "        ]\n",
        "    )]\n",
        "\n",
        "age_ranges = t_ss_c_ab.c_age_range.unique()"
      ],
      "execution_count": null,
      "outputs": []
    },
    {
      "cell_type": "markdown",
      "metadata": {
        "id": "_ZruF-MRUN2m"
      },
      "source": [
        "## Y a-t-il une corrélation entre le sexe des clients et les catégories de produits achetés ?"
      ]
    },
    {
      "cell_type": "markdown",
      "metadata": {
        "id": "Kc31y7u9UN2n"
      },
      "source": [
        "On suppose que les deux variables sont indépendantes.\n",
        "\n",
        "$H_0$ : *les deux variables sont indépendantes* <br>\n",
        "$H_1$ : *les deux variables ne sont pas idépendantes*"
      ]
    },
    {
      "cell_type": "code",
      "metadata": {
        "id": "PtQxEv-JUN2n"
      },
      "source": [
        "# Je fais un tableau de contingence avec crosstab\n",
        "tab_cont = pd.crosstab(t_ss_c_ab.p_cat, t_ss_c_ab.c_sex)"
      ],
      "execution_count": null,
      "outputs": []
    },
    {
      "cell_type": "code",
      "metadata": {
        "id": "jKbwC9CZUN2q"
      },
      "source": [
        "tab_cont"
      ],
      "execution_count": null,
      "outputs": []
    },
    {
      "cell_type": "code",
      "metadata": {
        "scrolled": true,
        "id": "BzYZJCPTUN2t"
      },
      "source": [
        "#on calcule le khi-2\n",
        "chi2, p, dof, expected = st.chi2_contingency(tab_cont.values)"
      ],
      "execution_count": null,
      "outputs": []
    },
    {
      "cell_type": "code",
      "metadata": {
        "scrolled": true,
        "id": "az33tViiUN2u"
      },
      "source": [
        "print(f'Le khi-2 est de {chi2:.2f} et la p-val est de {p:.4f}')"
      ],
      "execution_count": null,
      "outputs": []
    },
    {
      "cell_type": "code",
      "metadata": {
        "id": "78lGwJSfUN2x"
      },
      "source": [
        "len_i = tab_cont.shape[0]\n",
        "len_j = tab_cont.shape[1]\n",
        "# on calcule les Xij avec notre obs. et la dist.th\n",
        "xij = np.zeros((len_i, len_j))\n",
        "for i in range(len_i):\n",
        "    for j in range(len_j):\n",
        "        xij[i,j] = (tab_cont.values[i,j]-expected[i,j])**2 / expected[i,j]"
      ],
      "execution_count": null,
      "outputs": []
    },
    {
      "cell_type": "code",
      "metadata": {
        "id": "JQSAxgkhUN2z"
      },
      "source": [
        "# on normalise les Xij par le chi2\n",
        "sns.heatmap(xij / chi2, #np.zeros(tab_cont.shape)\n",
        "            annot=tab_cont,\n",
        "            fmt='d',\n",
        "            yticklabels=[f'cat. {x}' for x in tab_cont.index],\n",
        "            xticklabels=['femmes', 'hommes'])\n",
        "plt.plot()\n",
        "\n",
        "print(f\"Xi_n = {xij.sum()}\")"
      ],
      "execution_count": null,
      "outputs": []
    },
    {
      "cell_type": "markdown",
      "metadata": {
        "id": "vGhIEDtxUN22"
      },
      "source": [
        "## Y a-t-il une corrélation entre l'âge des clients et :"
      ]
    },
    {
      "cell_type": "markdown",
      "metadata": {
        "id": "hEXiGfNCUN22"
      },
      "source": [
        "### le montant total des achats"
      ]
    },
    {
      "cell_type": "code",
      "metadata": {
        "id": "k4cBmbBWUN23"
      },
      "source": [
        "# on aggrège le prix dépensé total par utilisateurs\n",
        "df = t_ss_c_ab[['c_id', 'c_age', 'p_price', 'c_age_range']]\n",
        "\n",
        "df = df.groupby('c_id').agg({\n",
        "    'c_age': lambda x:x.mode(),\n",
        "    'c_age_range': lambda x:x.mode(),\n",
        "    'p_price':'sum'}\n",
        ").reset_index()\n",
        "df.columns = ['c_id', 'c_age', 'c_age_range', 'amount']\n",
        "\n",
        "df.sample()"
      ],
      "execution_count": null,
      "outputs": []
    },
    {
      "cell_type": "markdown",
      "metadata": {
        "id": "yeDYg9IPUN2_"
      },
      "source": [
        "#### avec l'age sous forme quantitative"
      ]
    },
    {
      "cell_type": "code",
      "metadata": {
        "id": "bUCpF99_UN3A"
      },
      "source": [
        "df2 = df.groupby('c_age').agg({'amount': 'mean'}).reset_index()"
      ],
      "execution_count": null,
      "outputs": []
    },
    {
      "cell_type": "markdown",
      "metadata": {
        "id": "zvxvhH3HUN3C"
      },
      "source": [
        "##### régression linéaire"
      ]
    },
    {
      "cell_type": "code",
      "metadata": {
        "id": "x1QwMjyhUN3C"
      },
      "source": [
        "# entrées / sorties\n",
        "X = df2.c_age.values\n",
        "y = df2.amount.values"
      ],
      "execution_count": null,
      "outputs": []
    },
    {
      "cell_type": "code",
      "metadata": {
        "id": "3uXVTCP8UN3D"
      },
      "source": [
        "# Création du modèle\n",
        "X_sm =  sm.add_constant(X)\n",
        "model = sm.OLS(y, X_sm).fit()\n",
        "\n",
        "# calcul de R2 et de la p-valeur\n",
        "rsquare = model.rsquared\n",
        "pval = model.pvalues[0]"
      ],
      "execution_count": null,
      "outputs": []
    },
    {
      "cell_type": "code",
      "metadata": {
        "scrolled": true,
        "id": "_1vzTLMDUN3F"
      },
      "source": [
        "plt.figure(figsize=(5,5))\n",
        "plt.plot(X, y, '.')\n",
        "plt.plot(X, model.predict(X_sm), 'y--')\n",
        "plt.xlabel('age')\n",
        "plt.ylabel('dépense moyenne sur l\\'année')\n",
        "print(f\"R-carré={rsquare:.2f} & p-valeur={pval:.2f}\")"
      ],
      "execution_count": null,
      "outputs": []
    },
    {
      "cell_type": "markdown",
      "metadata": {
        "id": "EYzXOYFAUN3H"
      },
      "source": [
        "#### avec l'age sous forme qualitative"
      ]
    },
    {
      "cell_type": "code",
      "metadata": {
        "id": "SMyPTnweUN3H"
      },
      "source": [
        "age_ranges_amount = {age_range: df.loc[df.c_age_range==age_range, 'amount'] for age_range in age_ranges}"
      ],
      "execution_count": null,
      "outputs": []
    },
    {
      "cell_type": "code",
      "metadata": {
        "scrolled": true,
        "id": "Wlp4C9IWUN3J"
      },
      "source": [
        "plt.figure(figsize=(5,5))\n",
        "plt.boxplot([\n",
        "    age_ranges_amount['30-'],\n",
        "    age_ranges_amount['31-50'],\n",
        "    age_ranges_amount['51-70'],\n",
        "    age_ranges_amount['71+']\n",
        "], vert=False, showmeans=True, showfliers=False)\n",
        "\n",
        "plt.xlabel(\"montant d'achats totale annuel (moyenne)\")\n",
        "plt.yticks([1,2,3,4], ['30-', '31-50', '51-70', '71+'])\n",
        "plt.show()"
      ],
      "execution_count": null,
      "outputs": []
    },
    {
      "cell_type": "code",
      "metadata": {
        "id": "PUmn-9YtUN3M"
      },
      "source": [
        "f, p = st.f_oneway(\n",
        "    age_ranges_amount['30-'],\n",
        "    age_ranges_amount['31-50'],\n",
        "    age_ranges_amount['51-70'],\n",
        "    age_ranges_amount['71+']\n",
        ")"
      ],
      "execution_count": null,
      "outputs": []
    },
    {
      "cell_type": "code",
      "metadata": {
        "scrolled": false,
        "id": "W7q5c2x7UN3P"
      },
      "source": [
        "print(f'la f-valeur vaut {f:.2f} et la p-valeur vaut {p:.2e}.')"
      ],
      "execution_count": null,
      "outputs": []
    },
    {
      "cell_type": "code",
      "metadata": {
        "id": "3AL9GXDbUN3R"
      },
      "source": [
        "def eta2(df, quant, qual):\n",
        "    # on créé un array qui contient les valeurs de chaques classes séparé dans des sous array\n",
        "    class_valeurs = []\n",
        "    for c in  df[quant].unique():\n",
        "        class_valeurs.append(df.loc[df[quant]==c, qual].values)\n",
        "\n",
        "    # on calcule eta2\n",
        "    y =  np.concatenate(class_valeurs)\n",
        "    moyenne_y = y.mean()\n",
        "\n",
        "    class_info = []\n",
        "    for y_i in class_valeurs:\n",
        "        class_info.append({\n",
        "            'n_i': len(y_i),\n",
        "            'moyenne_i': y_i.mean()\n",
        "        })\n",
        "\n",
        "    SCE = sum([ c['n_i'] * (c['moyenne_i'] - moyenne_y)**2 for c in class_info])\n",
        "    SCT = sum([(y_ij - moyenne_y)**2 for y_ij in y])\n",
        "\n",
        "    return SCE / SCT"
      ],
      "execution_count": null,
      "outputs": []
    },
    {
      "cell_type": "code",
      "metadata": {
        "id": "rHpQiiEwUN3S"
      },
      "source": [
        "eta2(df, 'c_age_range', 'amount')"
      ],
      "execution_count": null,
      "outputs": []
    },
    {
      "cell_type": "markdown",
      "metadata": {
        "id": "_-sKgCjnUN3T"
      },
      "source": [
        "### la fréquence d’achat (ie. nombre d'achats par mois par exemple)"
      ]
    },
    {
      "cell_type": "code",
      "metadata": {
        "id": "KhZosZWqUN3U"
      },
      "source": [
        "df = t_ss_c_ab[['c_id', 'c_age', 'c_age_range', 't_month', 'p_id']]\n",
        "\n",
        "# on met les ages de coté\n",
        "c_ages = df[['c_id', 'c_age', 'c_age_range']].drop_duplicates()\n",
        "\n",
        "# on va aggréger les achats...\n",
        "nb_achats = df[['c_id', 't_month', 'p_id']]\n",
        "# on compte le nb d'achats par mois\n",
        "nb_achats = nb_achats.groupby(['c_id', 't_month']).agg({'p_id': 'count'}).reset_index()\n",
        "nb_achats.columns = ['c_id', 't_month', 'total_achat']\n",
        "# on fait la moyenne du nombre d'achat mensuel\n",
        "nb_achats = nb_achats.groupby('c_id').agg({'total_achat': 'mean'}).reset_index()\n",
        "nb_achats.columns = ['c_id', 'nb_achat_mois_moy']\n",
        "\n",
        "# on fusionne les deux\n",
        "df2 = pd.merge(c_ages, nb_achats, on='c_id')\n",
        "\n",
        "df2.sample()"
      ],
      "execution_count": null,
      "outputs": []
    },
    {
      "cell_type": "markdown",
      "metadata": {
        "id": "DYrpNa1LUN3X"
      },
      "source": [
        "#### avec l'age sous forme quantitative"
      ]
    },
    {
      "cell_type": "code",
      "metadata": {
        "id": "N1rF3dRlUN3X"
      },
      "source": [
        "df3 = df2.groupby('c_age').agg({'nb_achat_mois_moy': 'mean'}).reset_index()"
      ],
      "execution_count": null,
      "outputs": []
    },
    {
      "cell_type": "markdown",
      "metadata": {
        "id": "BwjFFYrlUN3Y"
      },
      "source": [
        "##### régression linéaire"
      ]
    },
    {
      "cell_type": "code",
      "metadata": {
        "id": "QbPIA_oEUN3Z"
      },
      "source": [
        "# entrées / sorties\n",
        "X = df3.c_age.values\n",
        "y = df3.nb_achat_mois_moy.values"
      ],
      "execution_count": null,
      "outputs": []
    },
    {
      "cell_type": "code",
      "metadata": {
        "id": "uzSin6PDUN3a"
      },
      "source": [
        "# Création du modèle\n",
        "X_sm =  sm.add_constant(X)\n",
        "model = sm.OLS(y, X_sm).fit()\n",
        "\n",
        "# calcul de R2 et de la p-valeur\n",
        "rsquare = model.rsquared\n",
        "pval = model.pvalues[0]"
      ],
      "execution_count": null,
      "outputs": []
    },
    {
      "cell_type": "code",
      "metadata": {
        "id": "rZy9p4ayUN3c"
      },
      "source": [
        "plt.figure(figsize=(5,5))\n",
        "plt.plot(X, y, '.')\n",
        "plt.plot(X, model.predict(X_sm), 'y--')\n",
        "plt.xlabel('age')\n",
        "plt.ylabel(\"Nombre d'achats par mois (moyenne)\")\n",
        "plt.plot()\n",
        "\n",
        "print(f\"R-carré={rsquare:.2f} & p-valeur={pval:.2f}\")"
      ],
      "execution_count": null,
      "outputs": []
    },
    {
      "cell_type": "markdown",
      "metadata": {
        "id": "VMqoYWc5UN3e"
      },
      "source": [
        "#### avec l'age sous forme qualitative"
      ]
    },
    {
      "cell_type": "code",
      "metadata": {
        "id": "PD8MbFwOUN3e"
      },
      "source": [
        "age_ranges_nb_achat_mois = {age_range: df2.loc[df2.c_age_range==age_range, 'nb_achat_mois_moy'] for age_range in age_ranges}"
      ],
      "execution_count": null,
      "outputs": []
    },
    {
      "cell_type": "code",
      "metadata": {
        "id": "-tsPdxaKUN3g"
      },
      "source": [
        "plt.figure(figsize=(5,5))\n",
        "plt.boxplot([\n",
        "    age_ranges_nb_achat_mois['30-'],\n",
        "    age_ranges_nb_achat_mois['31-50'],\n",
        "    age_ranges_nb_achat_mois['51-70'],\n",
        "    age_ranges_nb_achat_mois['71+']\n",
        "], vert=False, showmeans=True, showfliers=False)\n",
        "\n",
        "plt.xlabel(\"nombre d'achats par mois (moyenne)\")\n",
        "plt.yticks([1,2,3,4], ['30-', '31-50', '51-70', '71+'])\n",
        "plt.figure(figsize=(5,5))\n",
        "plt.show()"
      ],
      "execution_count": null,
      "outputs": []
    },
    {
      "cell_type": "code",
      "metadata": {
        "id": "riEgCx9IUN3h"
      },
      "source": [
        "f, p = st.f_oneway(\n",
        "    age_ranges_nb_achat_mois['30-'],\n",
        "    age_ranges_nb_achat_mois['51-70'],\n",
        "    age_ranges_nb_achat_mois['71+']\n",
        ")\n",
        "\n",
        "print(f'la f-valeur vaut {f:.2f} et la p-valeur vaut {p}.')"
      ],
      "execution_count": null,
      "outputs": []
    },
    {
      "cell_type": "code",
      "metadata": {
        "id": "HJcmm06xUN3j"
      },
      "source": [
        "eta2(df2, 'c_age_range', 'nb_achat_mois_moy')"
      ],
      "execution_count": null,
      "outputs": []
    },
    {
      "cell_type": "markdown",
      "metadata": {
        "id": "sQAFbNbQUN3m"
      },
      "source": [
        "### la taille du panier moyen (en nombre d’articles)"
      ]
    },
    {
      "cell_type": "code",
      "metadata": {
        "id": "Vq5RXdyaUN3n"
      },
      "source": [
        "df = t_ss_c_ab[['c_id', 'c_age', 'c_age_range', 't_sess_id', 'p_id']]\n",
        "\n",
        "c_ages = df[['c_id', 'c_age', 'c_age_range']].drop_duplicates()\n",
        "\n",
        "panier_moy = df[['c_id', 't_sess_id', 'p_id']]\n",
        "# on compte le nb d'articles acheté par mois\n",
        "panier_moy = panier_moy.groupby(['c_id', 't_sess_id']).count().reset_index()\n",
        "panier_moy.columns = ['c_id', 't_sess_id', 'nb_prods']\n",
        "# on fait la moyenne mensuel\n",
        "panier_moy = panier_moy.groupby('c_id').agg({'nb_prods': 'mean'}).reset_index()\n",
        "panier_moy.columns = ['c_id', 'panier_moy']\n",
        "\n",
        "df2 = pd.merge(c_ages, panier_moy, on='c_id')\n",
        "df2.sample()"
      ],
      "execution_count": null,
      "outputs": []
    },
    {
      "cell_type": "markdown",
      "metadata": {
        "id": "cdG4MQKtUN3p"
      },
      "source": [
        "#### avec l'age sous forme quantitative"
      ]
    },
    {
      "cell_type": "code",
      "metadata": {
        "id": "3OSH7RLnUN3p"
      },
      "source": [
        "df3 = df2.groupby('c_age').agg({'panier_moy': 'mean'}).reset_index()"
      ],
      "execution_count": null,
      "outputs": []
    },
    {
      "cell_type": "markdown",
      "metadata": {
        "id": "b3vy1nFFUN3s"
      },
      "source": [
        "##### régression linéaire"
      ]
    },
    {
      "cell_type": "code",
      "metadata": {
        "id": "azAfLsscUN3s"
      },
      "source": [
        "# entrées / sorties\n",
        "X = df3.c_age.values\n",
        "y = df3.panier_moy.values"
      ],
      "execution_count": null,
      "outputs": []
    },
    {
      "cell_type": "code",
      "metadata": {
        "id": "F7zkXgKdUN3u"
      },
      "source": [
        "# Création du modèle\n",
        "X_sm =  sm.add_constant(X)\n",
        "model = sm.OLS(y, X_sm).fit()\n",
        "\n",
        "# calcul de R2 et de la p-valeur\n",
        "rsquare = model.rsquared\n",
        "pval = model.pvalues[0]"
      ],
      "execution_count": null,
      "outputs": []
    },
    {
      "cell_type": "code",
      "metadata": {
        "id": "7Y2quu35UN3w"
      },
      "source": [
        "plt.figure(figsize=(5,5))\n",
        "plt.plot(X, y, '.')\n",
        "plt.plot(X, model.predict(X_sm), 'y--')\n",
        "plt.xlabel('age')\n",
        "plt.ylabel(\"panier moyen\")\n",
        "plt.plot()\n",
        "\n",
        "print(f\"R-carré={rsquare:.2f} & p-valeur={pval:.2f}\")"
      ],
      "execution_count": null,
      "outputs": []
    },
    {
      "cell_type": "markdown",
      "metadata": {
        "id": "oCEWflOpUN3y"
      },
      "source": [
        "#### avec l'age sous forme qualitative"
      ]
    },
    {
      "cell_type": "code",
      "metadata": {
        "id": "wj4LHo6QUN3z"
      },
      "source": [
        "age_ranges_panier_moy = {age_range: df2.loc[df2.c_age_range==age_range, 'panier_moy'] for age_range in age_ranges}"
      ],
      "execution_count": null,
      "outputs": []
    },
    {
      "cell_type": "code",
      "metadata": {
        "scrolled": true,
        "id": "KOMcmpiGUN31"
      },
      "source": [
        "plt.figure(figsize=(5,5))\n",
        "plt.boxplot([\n",
        "    age_ranges_panier_moy['30-'],\n",
        "    age_ranges_panier_moy['31-50'],\n",
        "    age_ranges_panier_moy['51-70'],\n",
        "    age_ranges_panier_moy['71+']\n",
        "], vert=False, showmeans=True, showfliers=False)\n",
        "\n",
        "plt.xlabel(\"panier (en nombre d'articles)\")\n",
        "plt.yticks([1,2,3,4], ['30-', '31-50', '51-70', '71+'])\n",
        "plt.show()"
      ],
      "execution_count": null,
      "outputs": []
    },
    {
      "cell_type": "code",
      "metadata": {
        "id": "4Jd7ZvuiUN34"
      },
      "source": [
        "f, p = st.f_oneway(\n",
        "    age_ranges_amount['30-'],\n",
        "    age_ranges_amount['31-50'],\n",
        "    age_ranges_amount['51-70'],\n",
        "    age_ranges_amount['71+']\n",
        ")\n",
        "print(f'la f-valeur vaut {f:.2f} et la p-valeur vaut {p:.2e}.')"
      ],
      "execution_count": null,
      "outputs": []
    },
    {
      "cell_type": "code",
      "metadata": {
        "scrolled": true,
        "id": "tzlP5rNpUN36"
      },
      "source": [
        "eta2(df2, 'c_age_range', 'panier_moy')"
      ],
      "execution_count": null,
      "outputs": []
    },
    {
      "cell_type": "markdown",
      "metadata": {
        "id": "en_OuAoDUN38"
      },
      "source": [
        "### les catégories de produits achetés"
      ]
    },
    {
      "cell_type": "code",
      "metadata": {
        "id": "isaa6l6qUN39"
      },
      "source": [
        "df = t_ss_c_ab"
      ],
      "execution_count": null,
      "outputs": []
    },
    {
      "cell_type": "code",
      "metadata": {
        "id": "vzkkb_muUN3-"
      },
      "source": [
        "cats = t_ss_c_ab.p_cat.unique()\n",
        "cats"
      ],
      "execution_count": null,
      "outputs": []
    },
    {
      "cell_type": "code",
      "metadata": {
        "id": "oitCb3cuUN4A"
      },
      "source": [
        "cat_ages = {cat: t_ss_c_ab.loc[t_ss_c_ab['p_cat']==cat, 't_buyer_age'] for cat in cats}"
      ],
      "execution_count": null,
      "outputs": []
    },
    {
      "cell_type": "code",
      "metadata": {
        "scrolled": true,
        "id": "NfNokomWUN4B"
      },
      "source": [
        "plt.boxplot([\n",
        "    cat_ages[0],\n",
        "    cat_ages[1],\n",
        "    cat_ages[2]\n",
        "],\n",
        "    labels=['cat. 0', 'cat. 1', 'cat. 2'],\n",
        "    vert=False, showmeans=True, showfliers=False\n",
        ")\n",
        "plt.xlabel('age')\n",
        "plt.show()"
      ],
      "execution_count": null,
      "outputs": []
    },
    {
      "cell_type": "code",
      "metadata": {
        "id": "xw6bYVc_UN4F"
      },
      "source": [
        "f, p = st.f_oneway(cat_ages[0], cat_ages[1], cat_ages[2])\n",
        "\n",
        "print(f'la f-valeur vaut {f:.2f} et la p-valeur vaut {p}.')"
      ],
      "execution_count": null,
      "outputs": []
    },
    {
      "cell_type": "code",
      "metadata": {
        "id": "BGShqV6vUN4H"
      },
      "source": [
        "eta2(df, 'c_age_range', 'p_cat')"
      ],
      "execution_count": null,
      "outputs": []
    },
    {
      "cell_type": "markdown",
      "metadata": {
        "id": "dVd8QZg5UN4I"
      },
      "source": [
        "-------"
      ]
    },
    {
      "cell_type": "code",
      "metadata": {
        "id": "dJ7Y8YVmUN4J"
      },
      "source": [
        "# Je fais un tableau de contingence avec crosstab\n",
        "tab_cont = pd.crosstab(t_ss_c_ab.p_cat, t_ss_c_ab.c_age_range)"
      ],
      "execution_count": null,
      "outputs": []
    },
    {
      "cell_type": "code",
      "metadata": {
        "scrolled": true,
        "id": "btUG_ELzUN4K"
      },
      "source": [
        "#on calcule le khi-2\n",
        "chi2, p, dof, expected = st.chi2_contingency(tab_cont.values)"
      ],
      "execution_count": null,
      "outputs": []
    },
    {
      "cell_type": "code",
      "metadata": {
        "scrolled": true,
        "id": "ZkuXAl6hUN4N"
      },
      "source": [
        "print(f'Le khi-2 est de {chi2:.2f} et la p-val est de {p}')"
      ],
      "execution_count": null,
      "outputs": []
    },
    {
      "cell_type": "markdown",
      "metadata": {
        "id": "t3pYw6j0UN4O"
      },
      "source": [
        "--------\n",
        "\n",
        "#  Proximité des produits"
      ]
    },
    {
      "cell_type": "code",
      "metadata": {
        "id": "EEanSBUfUN4O"
      },
      "source": [
        "from IPython.display import clear_output\n",
        "import time"
      ],
      "execution_count": null,
      "outputs": []
    },
    {
      "cell_type": "code",
      "metadata": {
        "id": "ZD0gBCFeUN4Q"
      },
      "source": [
        "# on ne prend que les transactions concernant les produits de cat. 2\n",
        "# sinon il y a trop de calculs\n",
        "df = transactions.loc[transactions.p_cat==2, ['c_id', 'p_id']].drop_duplicates()\n",
        "\n",
        "p_ids = df.p_id.unique()\n",
        "n = len(p_ids)"
      ],
      "execution_count": null,
      "outputs": []
    },
    {
      "cell_type": "code",
      "metadata": {
        "scrolled": true,
        "id": "FV6b064fUN4R"
      },
      "source": [
        "s = time.time()\n",
        "# on créé un index des clients pour chaque produits\n",
        "index_prod = {}\n",
        "for i, p_id in enumerate(p_ids):\n",
        "    index_prod[p_id] = df.loc[df.p_id == p_id, 'c_id'].unique()\n",
        "\n",
        "    clear_output(' ')\n",
        "    print(f\"{time.time() - s:.2f}s - {(i+1) / n * 100:.2f}%\")"
      ],
      "execution_count": null,
      "outputs": []
    },
    {
      "cell_type": "code",
      "metadata": {
        "id": "fZtlP6dtUN4T"
      },
      "source": [
        "def p2_scht_p1(pid1, pid2):\n",
        "    return len(np.intersect1d(index_prod[pid1],index_prod[pid2])) / len(index_prod[pid1])"
      ],
      "execution_count": null,
      "outputs": []
    },
    {
      "cell_type": "code",
      "metadata": {
        "scrolled": true,
        "id": "KxlsYrDzUN4V"
      },
      "source": [
        "# paramètres\n",
        "proba_min_seuil = 0.2 # on ne stocke pas les dépendances dont la prob est inf a..\n",
        "nb_clients_min = 10 # on ne considère que les produits qui ont au moins n clients\n",
        "\n",
        "# on calcule pour chaque combinaison de deux produits, la probabilité\n",
        "s = time.time()\n",
        "# on va stocker dans un df les résultats de nos calculs\n",
        "result = pd.DataFrame(columns=['pid_1', 'pid_2', 'pid_2 sachant pid_1'])\n",
        "index_c = 0\n",
        "for i, pid1 in enumerate(p_ids):\n",
        "    for pid2 in p_ids:\n",
        "        if (pid1 != pid2) and len(index_prod[pid1]) >= nb_clients_min and len(index_prod[pid2]) >= nb_clients_min:\n",
        "            # mesure\n",
        "            p =  p2_scht_p1(pid1, pid2)\n",
        "            # ajout de la mesure\n",
        "            if p > proba_min_seuil:\n",
        "                result.loc[index_c] = [pid1,pid2, p]\n",
        "                index_c += 1\n",
        "    # affichage du temps\n",
        "    clear_output(' ')\n",
        "    print(f\"{time.time() - s:.2f}s - {(i+1) / n * 100:.2f}%\")"
      ],
      "execution_count": null,
      "outputs": []
    },
    {
      "cell_type": "code",
      "metadata": {
        "id": "PA8-8z6bUN4Y"
      },
      "source": [
        "result.sort_values('pid_2 sachant pid_1', ascending=False).head(5)"
      ],
      "execution_count": null,
      "outputs": []
    }
  ]
}