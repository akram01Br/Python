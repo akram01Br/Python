{
  "cells": [
    {
      "cell_type": "markdown",
      "metadata": {
        "id": "view-in-github",
        "colab_type": "text"
      },
      "source": [
        "<a href=\"https://colab.research.google.com/github/akram01Br/Python/blob/main/MasteringPythonZeroToHero_part1.ipynb\" target=\"_parent\"><img src=\"https://colab.research.google.com/assets/colab-badge.svg\" alt=\"Open In Colab\"/></a>"
      ]
    },
    {
      "cell_type": "markdown",
      "metadata": {
        "id": "lAteXdKQvnh7"
      },
      "source": [
        "# This is Python Tutorial"
      ]
    },
    {
      "cell_type": "markdown",
      "metadata": {
        "id": "y97NOBNEvnh-"
      },
      "source": [
        "This is our first program in python: It is just started here"
      ]
    },
    {
      "cell_type": "code",
      "execution_count": null,
      "metadata": {
        "id": "82l_zwZCvnh_",
        "outputId": "21cc2945-f9ef-4216-a46a-a65a03cf7816"
      },
      "outputs": [
        {
          "name": "stdout",
          "output_type": "stream",
          "text": [
            "Hellow World\n"
          ]
        }
      ],
      "source": [
        "print(\"Hellow World\")"
      ]
    },
    {
      "cell_type": "markdown",
      "metadata": {
        "id": "UA6-6kIPvniA"
      },
      "source": [
        "$a=b+c$"
      ]
    },
    {
      "cell_type": "markdown",
      "metadata": {
        "id": "MIAQYirbvniA"
      },
      "source": [
        "# Variables"
      ]
    },
    {
      "cell_type": "code",
      "execution_count": null,
      "metadata": {
        "id": "7NsZq2hfvniB"
      },
      "outputs": [],
      "source": [
        "x = 3"
      ]
    },
    {
      "cell_type": "code",
      "execution_count": null,
      "metadata": {
        "id": "2NMG3XAsvniC",
        "outputId": "971861fd-0146-4a95-b9c1-d562b21c47fd"
      },
      "outputs": [
        {
          "name": "stdout",
          "output_type": "stream",
          "text": [
            "Variable   Type    Data/Info\n",
            "----------------------------\n",
            "x          int     3\n"
          ]
        }
      ],
      "source": [
        "%whos"
      ]
    },
    {
      "cell_type": "code",
      "execution_count": null,
      "metadata": {
        "id": "7CRCqcNGvniC",
        "outputId": "29434967-59fd-41c7-81bb-55a7d90e6233"
      },
      "outputs": [
        {
          "name": "stdout",
          "output_type": "stream",
          "text": [
            "<class 'int'>\n"
          ]
        }
      ],
      "source": [
        "print(type(x))"
      ]
    },
    {
      "cell_type": "code",
      "execution_count": null,
      "metadata": {
        "id": "YiGCIRnQvniD"
      },
      "outputs": [],
      "source": [
        "x = 5.7"
      ]
    },
    {
      "cell_type": "code",
      "execution_count": null,
      "metadata": {
        "id": "wUdBHLyYvniF",
        "outputId": "b1016478-1a72-4cea-fdb4-7d9e067c311d"
      },
      "outputs": [
        {
          "name": "stdout",
          "output_type": "stream",
          "text": [
            "Variable   Type     Data/Info\n",
            "-----------------------------\n",
            "x          float    5.7\n"
          ]
        }
      ],
      "source": [
        "%whos"
      ]
    },
    {
      "cell_type": "code",
      "execution_count": null,
      "metadata": {
        "id": "tC1yVYX1vniG",
        "outputId": "f226e67c-6bfd-4057-825c-0cb111ce1472"
      },
      "outputs": [
        {
          "name": "stdout",
          "output_type": "stream",
          "text": [
            "<class 'float'>\n"
          ]
        }
      ],
      "source": [
        "print(type(x))"
      ]
    },
    {
      "cell_type": "code",
      "execution_count": null,
      "metadata": {
        "id": "BGqTlwPrvniG"
      },
      "outputs": [],
      "source": [
        "abcd = 556.32"
      ]
    },
    {
      "cell_type": "code",
      "execution_count": null,
      "metadata": {
        "id": "K4pcDFpIvniH",
        "outputId": "5341814a-8d13-4699-b395-b5fb3e3a3bda"
      },
      "outputs": [
        {
          "name": "stdout",
          "output_type": "stream",
          "text": [
            "Variable   Type     Data/Info\n",
            "-----------------------------\n",
            "abcd       float    556.32\n",
            "x          float    5.7\n"
          ]
        }
      ],
      "source": [
        "%whos"
      ]
    },
    {
      "cell_type": "code",
      "execution_count": null,
      "metadata": {
        "id": "AZhHiihevniH"
      },
      "outputs": [],
      "source": [
        "a,b,c,d,f = 3,5,6.0,7.2,-3"
      ]
    },
    {
      "cell_type": "code",
      "execution_count": null,
      "metadata": {
        "id": "a3YDHzRuvniH",
        "outputId": "b2d77520-3ed9-4929-f0a0-b53c4dbdf40c"
      },
      "outputs": [
        {
          "name": "stdout",
          "output_type": "stream",
          "text": [
            "Variable   Type     Data/Info\n",
            "-----------------------------\n",
            "a          int      3\n",
            "abcd       float    556.32\n",
            "b          int      5\n",
            "c          float    6.0\n",
            "d          float    7.2\n",
            "f          int      -3\n",
            "x          float    5.7\n"
          ]
        }
      ],
      "source": [
        "%whos"
      ]
    },
    {
      "cell_type": "code",
      "execution_count": null,
      "metadata": {
        "id": "P0uFqvDVvniI"
      },
      "outputs": [],
      "source": [
        "del abcd"
      ]
    },
    {
      "cell_type": "code",
      "execution_count": null,
      "metadata": {
        "id": "9aI_ZUg3vniI",
        "outputId": "fa2d640d-0e3d-4581-bbee-bb2376ee56d2"
      },
      "outputs": [
        {
          "name": "stdout",
          "output_type": "stream",
          "text": [
            "Variable   Type     Data/Info\n",
            "-----------------------------\n",
            "a          int      3\n",
            "b          int      5\n",
            "c          float    6.0\n",
            "d          float    7.2\n",
            "f          int      -3\n",
            "x          float    5.7\n"
          ]
        }
      ],
      "source": [
        "%whos"
      ]
    },
    {
      "cell_type": "code",
      "execution_count": null,
      "metadata": {
        "id": "JjB9WvgAvniI",
        "outputId": "79e06521-5400-4987-b529-5dec4a798607"
      },
      "outputs": [
        {
          "ename": "NameError",
          "evalue": "name 'abcd' is not defined",
          "output_type": "error",
          "traceback": [
            "\u001b[1;31m---------------------------------------------------------------------------\u001b[0m",
            "\u001b[1;31mNameError\u001b[0m                                 Traceback (most recent call last)",
            "\u001b[1;32m<ipython-input-13-ce1394b9d4d9>\u001b[0m in \u001b[0;36m<module>\u001b[1;34m\u001b[0m\n\u001b[1;32m----> 1\u001b[1;33m \u001b[0mprint\u001b[0m\u001b[1;33m(\u001b[0m\u001b[0mabcd\u001b[0m\u001b[1;33m)\u001b[0m\u001b[1;33m\u001b[0m\u001b[1;33m\u001b[0m\u001b[0m\n\u001b[0m",
            "\u001b[1;31mNameError\u001b[0m: name 'abcd' is not defined"
          ]
        }
      ],
      "source": [
        "print(abcd)"
      ]
    },
    {
      "cell_type": "code",
      "execution_count": null,
      "metadata": {
        "id": "5d4ZNZHhvniJ"
      },
      "outputs": [],
      "source": [
        "c = 2+4j"
      ]
    },
    {
      "cell_type": "code",
      "execution_count": null,
      "metadata": {
        "id": "bE6vYH3jvniJ",
        "outputId": "1c5d0f1b-891a-4bdb-8704-c0ce53c04387"
      },
      "outputs": [
        {
          "name": "stdout",
          "output_type": "stream",
          "text": [
            "<class 'complex'>\n"
          ]
        }
      ],
      "source": [
        "print(type(c))"
      ]
    },
    {
      "cell_type": "code",
      "execution_count": null,
      "metadata": {
        "id": "MpBI2NqpvniK"
      },
      "outputs": [],
      "source": [
        "s = \"hellow how are you\""
      ]
    },
    {
      "cell_type": "code",
      "execution_count": null,
      "metadata": {
        "id": "4SiiCpg3vniK",
        "outputId": "050dad46-0de6-412d-d542-7afc66719d5f"
      },
      "outputs": [
        {
          "name": "stdout",
          "output_type": "stream",
          "text": [
            "<class 'str'>\n"
          ]
        }
      ],
      "source": [
        "print(type(s))"
      ]
    },
    {
      "cell_type": "markdown",
      "metadata": {
        "id": "xS1yQ0ZTvniK"
      },
      "source": [
        "# Operators"
      ]
    },
    {
      "cell_type": "code",
      "execution_count": null,
      "metadata": {
        "id": "wBIv0d4kvniK",
        "outputId": "7c2200b7-5611-4a4d-c446-751957646ee6"
      },
      "outputs": [
        {
          "name": "stdout",
          "output_type": "stream",
          "text": [
            "Variable   Type       Data/Info\n",
            "-------------------------------\n",
            "a          int        3\n",
            "b          int        5\n",
            "c          complex    (2+4j)\n",
            "d          float      7.2\n",
            "f          int        -3\n",
            "s          str        hellow how are you\n",
            "x          float      5.7\n"
          ]
        }
      ],
      "source": [
        "%whos"
      ]
    },
    {
      "cell_type": "code",
      "execution_count": null,
      "metadata": {
        "id": "ixFzzxdDvniK"
      },
      "outputs": [],
      "source": [
        "sumOfaAndb = a+b"
      ]
    },
    {
      "cell_type": "code",
      "execution_count": null,
      "metadata": {
        "id": "n0K0H2yzvniL",
        "outputId": "b782504a-6bd1-4149-9e74-0e533e725914"
      },
      "outputs": [
        {
          "name": "stdout",
          "output_type": "stream",
          "text": [
            "8\n"
          ]
        }
      ],
      "source": [
        "print(sumOfaAndb)"
      ]
    },
    {
      "cell_type": "code",
      "execution_count": null,
      "metadata": {
        "id": "05V4UqgKvniL",
        "outputId": "d2f23628-1209-4f8f-c9ae-9eb2a6097f9e"
      },
      "outputs": [
        {
          "data": {
            "text/plain": [
              "int"
            ]
          },
          "execution_count": 21,
          "metadata": {},
          "output_type": "execute_result"
        }
      ],
      "source": [
        "type(sumOfaAndb)"
      ]
    },
    {
      "cell_type": "code",
      "execution_count": null,
      "metadata": {
        "id": "igAxv5C1vniL",
        "outputId": "3880b97e-720f-4893-98e3-98a0aa4400a4"
      },
      "outputs": [
        {
          "data": {
            "text/plain": [
              "float"
            ]
          },
          "execution_count": 22,
          "metadata": {},
          "output_type": "execute_result"
        }
      ],
      "source": [
        "type(a+d)"
      ]
    },
    {
      "cell_type": "code",
      "execution_count": null,
      "metadata": {
        "id": "Hq33bL-GvniL"
      },
      "outputs": [],
      "source": [
        "v = ((a+d)**3)/4"
      ]
    },
    {
      "cell_type": "code",
      "execution_count": null,
      "metadata": {
        "id": "w6xKwUbFvniL",
        "outputId": "1df3b2b2-f4e7-46cf-f4be-07d59857fe3f"
      },
      "outputs": [
        {
          "name": "stdout",
          "output_type": "stream",
          "text": [
            "265.30199999999996\n"
          ]
        }
      ],
      "source": [
        "print(v)"
      ]
    },
    {
      "cell_type": "code",
      "execution_count": null,
      "metadata": {
        "id": "mLc2yuDmvniM",
        "outputId": "aab907f0-5433-4006-8fc5-7401403b54b8"
      },
      "outputs": [
        {
          "name": "stdout",
          "output_type": "stream",
          "text": [
            "hellowworld\n"
          ]
        }
      ],
      "source": [
        "s1 = \"hellow\"\n",
        "s2 = \"world\"\n",
        "s = s1+s2\n",
        "print(s)"
      ]
    },
    {
      "cell_type": "code",
      "execution_count": null,
      "metadata": {
        "id": "FLJkqJRFvniM",
        "outputId": "7590b828-de5d-4a78-d4eb-db4ed21471ad"
      },
      "outputs": [
        {
          "data": {
            "text/plain": [
              "3"
            ]
          },
          "execution_count": 26,
          "metadata": {},
          "output_type": "execute_result"
        }
      ],
      "source": [
        "10//3"
      ]
    },
    {
      "cell_type": "code",
      "execution_count": null,
      "metadata": {
        "id": "E71ngtvMvniN",
        "outputId": "3f4efb46-a050-4c02-e71c-953b70860159"
      },
      "outputs": [
        {
          "data": {
            "text/plain": [
              "3.3333333333333335"
            ]
          },
          "execution_count": 27,
          "metadata": {},
          "output_type": "execute_result"
        }
      ],
      "source": [
        "10/3"
      ]
    },
    {
      "cell_type": "code",
      "execution_count": null,
      "metadata": {
        "id": "VDe6oDXBvniN",
        "outputId": "8675ef56-60d6-400d-d029-7eeac08bd92d"
      },
      "outputs": [
        {
          "data": {
            "text/plain": [
              "3.3333333333333335"
            ]
          },
          "execution_count": 28,
          "metadata": {},
          "output_type": "execute_result"
        }
      ],
      "source": [
        "_"
      ]
    },
    {
      "cell_type": "code",
      "execution_count": null,
      "metadata": {
        "id": "i4-ROf13vniN",
        "outputId": "6f53b193-a24b-4132-d54a-2a7f295fc28a"
      },
      "outputs": [
        {
          "ename": "SyntaxError",
          "evalue": "invalid syntax (<ipython-input-29-b52acbda3310>, line 1)",
          "output_type": "error",
          "traceback": [
            "\u001b[1;36m  File \u001b[1;32m\"<ipython-input-29-b52acbda3310>\"\u001b[1;36m, line \u001b[1;32m1\u001b[0m\n\u001b[1;33m    3x = 5\u001b[0m\n\u001b[1;37m     ^\u001b[0m\n\u001b[1;31mSyntaxError\u001b[0m\u001b[1;31m:\u001b[0m invalid syntax\n"
          ]
        }
      ],
      "source": [
        "3x = 5"
      ]
    },
    {
      "cell_type": "code",
      "execution_count": null,
      "metadata": {
        "id": "ry1sLJyDvniN",
        "outputId": "54d71baa-32db-4cce-cdd8-653073a8a933"
      },
      "outputs": [
        {
          "ename": "SyntaxError",
          "evalue": "invalid syntax (<ipython-input-30-e67763287a1a>, line 1)",
          "output_type": "error",
          "traceback": [
            "\u001b[1;36m  File \u001b[1;32m\"<ipython-input-30-e67763287a1a>\"\u001b[1;36m, line \u001b[1;32m1\u001b[0m\n\u001b[1;33m    @y=4\u001b[0m\n\u001b[1;37m      ^\u001b[0m\n\u001b[1;31mSyntaxError\u001b[0m\u001b[1;31m:\u001b[0m invalid syntax\n"
          ]
        }
      ],
      "source": [
        "@y=4"
      ]
    },
    {
      "cell_type": "code",
      "execution_count": null,
      "metadata": {
        "id": "ym7xsaL_vniO",
        "outputId": "25216810-ebad-45b7-dc3b-3d9786d42902"
      },
      "outputs": [
        {
          "ename": "SyntaxError",
          "evalue": "starred assignment target must be in a list or tuple (<ipython-input-31-3588004ff47c>, line 4)",
          "output_type": "error",
          "traceback": [
            "\u001b[1;36m  File \u001b[1;32m\"<ipython-input-31-3588004ff47c>\"\u001b[1;36m, line \u001b[1;32m4\u001b[0m\n\u001b[1;31mSyntaxError\u001b[0m\u001b[1;31m:\u001b[0m starred assignment target must be in a list or tuple\n"
          ]
        }
      ],
      "source": [
        "*t=4"
      ]
    },
    {
      "cell_type": "code",
      "execution_count": null,
      "metadata": {
        "id": "K1FbX-U6vniO"
      },
      "outputs": [],
      "source": [
        "_e = 6"
      ]
    },
    {
      "cell_type": "code",
      "execution_count": null,
      "metadata": {
        "id": "WkwZFL5BvniO"
      },
      "outputs": [],
      "source": [
        "startingTimeOfTheCourse = 2.0"
      ]
    },
    {
      "cell_type": "code",
      "execution_count": null,
      "metadata": {
        "id": "fka9aUugvniQ",
        "outputId": "c5b6db0a-237f-4ea9-c530-ef93e41a12fc"
      },
      "outputs": [
        {
          "name": "stdout",
          "output_type": "stream",
          "text": [
            "Variable                  Type       Data/Info\n",
            "----------------------------------------------\n",
            "a                         int        3\n",
            "b                         int        5\n",
            "c                         complex    (2+4j)\n",
            "d                         float      7.2\n",
            "f                         int        -3\n",
            "s                         str        hellowworld\n",
            "s1                        str        hellow\n",
            "s2                        str        world\n",
            "startingTimeOfTheCourse   float      2.0\n",
            "sumOfaAndb                int        8\n",
            "v                         float      265.30199999999996\n",
            "x                         float      5.7\n"
          ]
        }
      ],
      "source": [
        "%whos"
      ]
    },
    {
      "cell_type": "markdown",
      "metadata": {
        "id": "ga6LcwcEvniQ"
      },
      "source": [
        "# Bool"
      ]
    },
    {
      "cell_type": "code",
      "execution_count": null,
      "metadata": {
        "id": "iKytQxNMvniQ"
      },
      "outputs": [],
      "source": [
        "a = True\n",
        "b = True\n",
        "c = False"
      ]
    },
    {
      "cell_type": "code",
      "execution_count": null,
      "metadata": {
        "id": "njS_yKwnvniR",
        "outputId": "4972fd6e-dbe7-42f0-bdd3-ccef5a12832c"
      },
      "outputs": [
        {
          "name": "stdout",
          "output_type": "stream",
          "text": [
            "Variable                  Type     Data/Info\n",
            "--------------------------------------------\n",
            "a                         bool     True\n",
            "b                         bool     True\n",
            "c                         bool     False\n",
            "d                         float    7.2\n",
            "f                         int      -3\n",
            "s                         str      hellowworld\n",
            "s1                        str      hellow\n",
            "s2                        str      world\n",
            "startingTimeOfTheCourse   float    2.0\n",
            "sumOfaAndb                int      8\n",
            "v                         float    265.30199999999996\n",
            "x                         float    5.7\n"
          ]
        }
      ],
      "source": [
        "%whos"
      ]
    },
    {
      "cell_type": "code",
      "execution_count": null,
      "metadata": {
        "id": "cOTmcBFBvniR",
        "outputId": "be07b4c6-9584-48e9-a7d8-0187a035e1cb"
      },
      "outputs": [
        {
          "name": "stdout",
          "output_type": "stream",
          "text": [
            "True\n",
            "False\n",
            "False\n"
          ]
        }
      ],
      "source": [
        "print(a and b)\n",
        "print(a and c)\n",
        "print(c and a)"
      ]
    },
    {
      "cell_type": "code",
      "execution_count": null,
      "metadata": {
        "id": "j1gOOBNkvniR",
        "outputId": "7ac579b5-eccb-45a6-c851-87ebe1dc6c01"
      },
      "outputs": [
        {
          "name": "stdout",
          "output_type": "stream",
          "text": [
            "True\n"
          ]
        }
      ],
      "source": [
        "d = a or c\n",
        "print(d)"
      ]
    },
    {
      "cell_type": "code",
      "execution_count": null,
      "metadata": {
        "id": "GdnDhZAGvniS",
        "outputId": "ff46dfba-4d30-46b2-ac01-092a1c4a1f83"
      },
      "outputs": [
        {
          "data": {
            "text/plain": [
              "False"
            ]
          },
          "execution_count": 39,
          "metadata": {},
          "output_type": "execute_result"
        }
      ],
      "source": [
        "not(a)"
      ]
    },
    {
      "cell_type": "code",
      "execution_count": null,
      "metadata": {
        "id": "V8zw8rp-vniS",
        "outputId": "78073d33-30a1-4485-ef43-6a924b5a5745"
      },
      "outputs": [
        {
          "data": {
            "text/plain": [
              "False"
            ]
          },
          "execution_count": 40,
          "metadata": {},
          "output_type": "execute_result"
        }
      ],
      "source": [
        "not(b)"
      ]
    },
    {
      "cell_type": "code",
      "execution_count": null,
      "metadata": {
        "id": "QSmxeenwvniS",
        "outputId": "d2749a44-9894-4760-b16c-5c754d95795a"
      },
      "outputs": [
        {
          "data": {
            "text/plain": [
              "True"
            ]
          },
          "execution_count": 41,
          "metadata": {},
          "output_type": "execute_result"
        }
      ],
      "source": [
        "not(c)"
      ]
    },
    {
      "cell_type": "code",
      "execution_count": null,
      "metadata": {
        "id": "IBu7lafpvniS"
      },
      "outputs": [],
      "source": [
        "t = not(d)"
      ]
    },
    {
      "cell_type": "code",
      "execution_count": null,
      "metadata": {
        "id": "FQZkvxNbvniS",
        "outputId": "26788392-e0b5-44a5-ac9d-fce8ee7cda88"
      },
      "outputs": [
        {
          "data": {
            "text/plain": [
              "bool"
            ]
          },
          "execution_count": 43,
          "metadata": {},
          "output_type": "execute_result"
        }
      ],
      "source": [
        "type(t)"
      ]
    },
    {
      "cell_type": "code",
      "execution_count": null,
      "metadata": {
        "id": "rGn4iMu9vniT",
        "outputId": "68171855-fe90-4115-f0a3-c7d25987b40c"
      },
      "outputs": [
        {
          "name": "stdout",
          "output_type": "stream",
          "text": [
            "False\n"
          ]
        }
      ],
      "source": [
        "print(t)"
      ]
    },
    {
      "cell_type": "code",
      "execution_count": null,
      "metadata": {
        "id": "8jFLg_A-vniT",
        "outputId": "699ad4d0-2ef3-4c95-f7f8-c9cde46b7a3f"
      },
      "outputs": [
        {
          "data": {
            "text/plain": [
              "False"
            ]
          },
          "execution_count": 45,
          "metadata": {},
          "output_type": "execute_result"
        }
      ],
      "source": [
        "not((a and b) or (c or d))"
      ]
    },
    {
      "cell_type": "markdown",
      "metadata": {
        "id": "XBLIbScmvniT"
      },
      "source": [
        "# Comparisons"
      ]
    },
    {
      "cell_type": "code",
      "execution_count": null,
      "metadata": {
        "id": "WG8ONOztvniT",
        "outputId": "ed755365-1115-4b71-c70d-e57a80ab53df"
      },
      "outputs": [
        {
          "name": "stdout",
          "output_type": "stream",
          "text": [
            "True\n"
          ]
        }
      ],
      "source": [
        "print(2<3)"
      ]
    },
    {
      "cell_type": "code",
      "execution_count": null,
      "metadata": {
        "id": "wSA9yg_nvniU",
        "outputId": "63750aad-5a1c-417d-d7d0-c1dbe3028882"
      },
      "outputs": [
        {
          "name": "stdout",
          "output_type": "stream",
          "text": [
            "<class 'bool'>\n",
            "True\n"
          ]
        }
      ],
      "source": [
        "c = 2<3\n",
        "print(type(c))\n",
        "print(c)"
      ]
    },
    {
      "cell_type": "code",
      "execution_count": null,
      "metadata": {
        "id": "GV11thbpvniU"
      },
      "outputs": [],
      "source": [
        "d = 3==4"
      ]
    },
    {
      "cell_type": "code",
      "execution_count": null,
      "metadata": {
        "id": "ybaN8rgIvniU",
        "outputId": "915c2c0c-d3be-423a-e56e-db40eaf9ff33"
      },
      "outputs": [
        {
          "name": "stdout",
          "output_type": "stream",
          "text": [
            "False\n"
          ]
        }
      ],
      "source": [
        "print(d)"
      ]
    },
    {
      "cell_type": "code",
      "execution_count": null,
      "metadata": {
        "id": "nGxBW2tCvniU",
        "outputId": "c5df5863-8a55-4bee-870e-c196486c2de8"
      },
      "outputs": [
        {
          "data": {
            "text/plain": [
              "True"
            ]
          },
          "execution_count": 50,
          "metadata": {},
          "output_type": "execute_result"
        }
      ],
      "source": [
        "3==3.0"
      ]
    },
    {
      "cell_type": "code",
      "execution_count": null,
      "metadata": {
        "id": "ZHI6DFY6vniV"
      },
      "outputs": [],
      "source": [
        "x = 4\n",
        "y = 9\n",
        "z = 8.3\n",
        "r = -3"
      ]
    },
    {
      "cell_type": "code",
      "execution_count": null,
      "metadata": {
        "id": "RwFGarKLvniV",
        "outputId": "ed196c46-b936-4842-e677-a37605d14874"
      },
      "outputs": [
        {
          "data": {
            "text/plain": [
              "True"
            ]
          },
          "execution_count": 52,
          "metadata": {},
          "output_type": "execute_result"
        }
      ],
      "source": [
        "(x<y) and (z<y) or (r==x)"
      ]
    },
    {
      "cell_type": "code",
      "execution_count": null,
      "metadata": {
        "id": "Qp6f01_CvniV",
        "outputId": "ed20b55b-6c16-4a32-b009-9b17dbf69441"
      },
      "outputs": [
        {
          "data": {
            "text/plain": [
              "False"
            ]
          },
          "execution_count": 53,
          "metadata": {},
          "output_type": "execute_result"
        }
      ],
      "source": [
        "(r==x) and (x<y) or (z>y)"
      ]
    },
    {
      "cell_type": "code",
      "execution_count": null,
      "metadata": {
        "id": "eU_WoQxkvniV",
        "outputId": "40a0a21c-036e-4f82-dd34-1e67c4beece8"
      },
      "outputs": [
        {
          "data": {
            "text/plain": [
              "False"
            ]
          },
          "execution_count": 57,
          "metadata": {},
          "output_type": "execute_result"
        }
      ],
      "source": [
        "(True or False) and False"
      ]
    },
    {
      "cell_type": "code",
      "execution_count": null,
      "metadata": {
        "id": "SSS1tk5xvniV",
        "outputId": "2d73315c-2cbd-400f-8328-950c196fe2b4"
      },
      "outputs": [
        {
          "name": "stdout",
          "output_type": "stream",
          "text": [
            "False\n"
          ]
        }
      ],
      "source": [
        "print((not(2!=3) and True) or (False and True))"
      ]
    },
    {
      "cell_type": "code",
      "execution_count": null,
      "metadata": {
        "id": "s8O2A541vniW",
        "outputId": "fa37437d-9eb2-4dcf-f5da-6bd6d97413a9"
      },
      "outputs": [
        {
          "name": "stdout",
          "output_type": "stream",
          "text": [
            "5\n"
          ]
        }
      ],
      "source": [
        "print(round(4.556))"
      ]
    },
    {
      "cell_type": "code",
      "execution_count": null,
      "metadata": {
        "id": "5Qlnu_Q0vniW",
        "outputId": "3b781584-81d4-4ad0-cb09-2d76e9f6d0bd"
      },
      "outputs": [
        {
          "name": "stdout",
          "output_type": "stream",
          "text": [
            "4\n"
          ]
        }
      ],
      "source": [
        "print(round(4.345))"
      ]
    },
    {
      "cell_type": "code",
      "execution_count": null,
      "metadata": {
        "id": "BPDJopOHvniW",
        "outputId": "a48c9079-3907-47aa-868b-2143ce02b2ce"
      },
      "outputs": [
        {
          "name": "stdout",
          "output_type": "stream",
          "text": [
            "4.556\n"
          ]
        }
      ],
      "source": [
        "print(round(4.556389,3))"
      ]
    },
    {
      "cell_type": "code",
      "execution_count": null,
      "metadata": {
        "id": "Zg-z2ISbvniW"
      },
      "outputs": [],
      "source": [
        "B = divmod(27,5)"
      ]
    },
    {
      "cell_type": "code",
      "execution_count": null,
      "metadata": {
        "id": "_eFzfP1evniW",
        "outputId": "26c4db88-5939-4898-b412-a429baac2151"
      },
      "outputs": [
        {
          "data": {
            "text/plain": [
              "tuple"
            ]
          },
          "execution_count": 67,
          "metadata": {},
          "output_type": "execute_result"
        }
      ],
      "source": [
        "type(B)"
      ]
    },
    {
      "cell_type": "code",
      "execution_count": null,
      "metadata": {
        "id": "TkEzcp9wvniW",
        "outputId": "000098fb-185c-4eef-ed0a-0447158d9fe2"
      },
      "outputs": [
        {
          "name": "stdout",
          "output_type": "stream",
          "text": [
            "(5, 2)\n"
          ]
        }
      ],
      "source": [
        "print(B)"
      ]
    },
    {
      "cell_type": "code",
      "execution_count": null,
      "metadata": {
        "id": "rNe4Y7RVvniX",
        "outputId": "66a98adf-0309-4615-cc14-0ddf7e1d4065"
      },
      "outputs": [
        {
          "data": {
            "text/plain": [
              "5"
            ]
          },
          "execution_count": 69,
          "metadata": {},
          "output_type": "execute_result"
        }
      ],
      "source": [
        "B[0]"
      ]
    },
    {
      "cell_type": "code",
      "execution_count": null,
      "metadata": {
        "id": "NQO4OixlvniX",
        "outputId": "794ff7ae-2f2e-4af7-a84a-53de8ddced7f"
      },
      "outputs": [
        {
          "data": {
            "text/plain": [
              "2"
            ]
          },
          "execution_count": 70,
          "metadata": {},
          "output_type": "execute_result"
        }
      ],
      "source": [
        "B[1]"
      ]
    },
    {
      "cell_type": "code",
      "execution_count": null,
      "metadata": {
        "id": "OCkVteGSvniX",
        "outputId": "ae77aa81-aaf6-42fb-b19f-8248c6284978"
      },
      "outputs": [
        {
          "data": {
            "text/plain": [
              "(2, 2)"
            ]
          },
          "execution_count": 71,
          "metadata": {},
          "output_type": "execute_result"
        }
      ],
      "source": [
        "divmod(22,10)"
      ]
    },
    {
      "cell_type": "code",
      "execution_count": null,
      "metadata": {
        "id": "GOVEWsqsvniX"
      },
      "outputs": [],
      "source": [
        "G = divmod(34,9)"
      ]
    },
    {
      "cell_type": "code",
      "execution_count": null,
      "metadata": {
        "id": "-FfdmzYOvniY",
        "outputId": "98e3c651-03a8-4c4d-bcbe-2252f7d3c3b3"
      },
      "outputs": [
        {
          "data": {
            "text/plain": [
              "tuple"
            ]
          },
          "execution_count": 74,
          "metadata": {},
          "output_type": "execute_result"
        }
      ],
      "source": [
        "type(G)"
      ]
    },
    {
      "cell_type": "code",
      "execution_count": null,
      "metadata": {
        "id": "Uy09x6SlvniY",
        "outputId": "c4f349f6-b7c8-4b55-c0ae-20f5df87605d"
      },
      "outputs": [
        {
          "name": "stdout",
          "output_type": "stream",
          "text": [
            "(3, 7)\n"
          ]
        }
      ],
      "source": [
        "print(G)"
      ]
    },
    {
      "cell_type": "code",
      "execution_count": null,
      "metadata": {
        "id": "LI6WAG1AvniY",
        "outputId": "fd916b1f-8c47-4771-fefc-dfec0a30d772"
      },
      "outputs": [
        {
          "data": {
            "text/plain": [
              "3"
            ]
          },
          "execution_count": 76,
          "metadata": {},
          "output_type": "execute_result"
        }
      ],
      "source": [
        "G[0]"
      ]
    },
    {
      "cell_type": "code",
      "execution_count": null,
      "metadata": {
        "id": "jwsHc-t-vniZ",
        "outputId": "a83a1d5e-2575-46e2-ae90-294b591a89ba"
      },
      "outputs": [
        {
          "data": {
            "text/plain": [
              "7"
            ]
          },
          "execution_count": 77,
          "metadata": {},
          "output_type": "execute_result"
        }
      ],
      "source": [
        "G[1]"
      ]
    },
    {
      "cell_type": "code",
      "execution_count": null,
      "metadata": {
        "id": "AQtkBEfOvniZ",
        "outputId": "3f9cfc7e-ebef-4045-d7cc-d59810b8705b"
      },
      "outputs": [
        {
          "data": {
            "text/plain": [
              "3"
            ]
          },
          "execution_count": 78,
          "metadata": {},
          "output_type": "execute_result"
        }
      ],
      "source": [
        "34//9"
      ]
    },
    {
      "cell_type": "code",
      "execution_count": null,
      "metadata": {
        "id": "p8Xip6tVvniZ",
        "outputId": "c4d369ac-bde6-4814-bbe6-e14544cfedee"
      },
      "outputs": [
        {
          "data": {
            "text/plain": [
              "7"
            ]
          },
          "execution_count": 79,
          "metadata": {},
          "output_type": "execute_result"
        }
      ],
      "source": [
        "34%9"
      ]
    },
    {
      "cell_type": "code",
      "execution_count": null,
      "metadata": {
        "id": "C1X4ZdLevniZ",
        "outputId": "f03639d0-892d-4f3f-d3a2-2e48cbf0c98f"
      },
      "outputs": [
        {
          "data": {
            "text/plain": [
              "True"
            ]
          },
          "execution_count": 80,
          "metadata": {},
          "output_type": "execute_result"
        }
      ],
      "source": [
        "isinstance(3,int)"
      ]
    },
    {
      "cell_type": "code",
      "execution_count": null,
      "metadata": {
        "id": "vx-n3ocYvnia",
        "outputId": "17ad0be2-41c0-4eb0-ee81-ad020bdc59dc"
      },
      "outputs": [
        {
          "data": {
            "text/plain": [
              "True"
            ]
          },
          "execution_count": 83,
          "metadata": {},
          "output_type": "execute_result"
        }
      ],
      "source": [
        "isinstance(3.4,(float,int))"
      ]
    },
    {
      "cell_type": "code",
      "execution_count": null,
      "metadata": {
        "id": "_s8p_Jzxvnia",
        "outputId": "8efc3406-01f0-468d-ab24-6d2a82108196"
      },
      "outputs": [
        {
          "data": {
            "text/plain": [
              "True"
            ]
          },
          "execution_count": 86,
          "metadata": {},
          "output_type": "execute_result"
        }
      ],
      "source": [
        "isinstance(2+3j,(int,float,str,complex))"
      ]
    },
    {
      "cell_type": "code",
      "execution_count": null,
      "metadata": {
        "id": "i5_8okfrvnia",
        "outputId": "f617390f-e86a-4e32-e0ba-94c23e2f5b96"
      },
      "outputs": [
        {
          "data": {
            "text/plain": [
              "16"
            ]
          },
          "execution_count": 87,
          "metadata": {},
          "output_type": "execute_result"
        }
      ],
      "source": [
        "pow(2,4)"
      ]
    },
    {
      "cell_type": "code",
      "execution_count": null,
      "metadata": {
        "id": "A7xpyhXbvnia",
        "outputId": "6eb07fb3-8cd2-4abb-b465-0d2fed51128b"
      },
      "outputs": [
        {
          "data": {
            "text/plain": [
              "16"
            ]
          },
          "execution_count": 88,
          "metadata": {},
          "output_type": "execute_result"
        }
      ],
      "source": [
        "2**4"
      ]
    },
    {
      "cell_type": "code",
      "execution_count": null,
      "metadata": {
        "id": "km0LiLRtvnia",
        "outputId": "6afde03b-17cd-49bf-86d7-33cbd5a3f91f"
      },
      "outputs": [
        {
          "data": {
            "text/plain": [
              "2"
            ]
          },
          "execution_count": 89,
          "metadata": {},
          "output_type": "execute_result"
        }
      ],
      "source": [
        "pow(2,4,7)"
      ]
    },
    {
      "cell_type": "code",
      "execution_count": null,
      "metadata": {
        "id": "Gz5bUJZdvnib",
        "outputId": "232c3052-714c-45e6-f750-f436f8054b8d"
      },
      "outputs": [
        {
          "name": "stdout",
          "output_type": "stream",
          "text": [
            "Enter a number :56\n"
          ]
        }
      ],
      "source": [
        "x = input(\"Enter a number :\")"
      ]
    },
    {
      "cell_type": "code",
      "execution_count": null,
      "metadata": {
        "id": "1GemsBBZvnib",
        "outputId": "c08f8ad3-0d5a-4aab-8a82-c708cfbaffa2"
      },
      "outputs": [
        {
          "data": {
            "text/plain": [
              "str"
            ]
          },
          "execution_count": 91,
          "metadata": {},
          "output_type": "execute_result"
        }
      ],
      "source": [
        "type(x)"
      ]
    },
    {
      "cell_type": "code",
      "execution_count": null,
      "metadata": {
        "id": "udnRuxA6vnib"
      },
      "outputs": [],
      "source": [
        "x = int(x)"
      ]
    },
    {
      "cell_type": "code",
      "execution_count": null,
      "metadata": {
        "id": "jO32oFS4vnib",
        "outputId": "cf9521c0-6591-4d55-9c6f-d4afd2d83afe"
      },
      "outputs": [
        {
          "data": {
            "text/plain": [
              "int"
            ]
          },
          "execution_count": 93,
          "metadata": {},
          "output_type": "execute_result"
        }
      ],
      "source": [
        "type(x)"
      ]
    },
    {
      "cell_type": "code",
      "execution_count": null,
      "metadata": {
        "id": "M6oP12IHvnib",
        "outputId": "f16c043b-075d-4735-b41b-3afe20c9fca4"
      },
      "outputs": [
        {
          "name": "stdout",
          "output_type": "stream",
          "text": [
            "22\n"
          ]
        }
      ],
      "source": [
        "print(x-34)"
      ]
    },
    {
      "cell_type": "code",
      "execution_count": null,
      "metadata": {
        "id": "xqMVRWwgvnic",
        "outputId": "51aed674-7915-4c64-a896-da5f0c855247"
      },
      "outputs": [
        {
          "name": "stdout",
          "output_type": "stream",
          "text": [
            "Enter a real number :12.5\n"
          ]
        }
      ],
      "source": [
        "a = float(input(\"Enter a real number :\"))"
      ]
    },
    {
      "cell_type": "code",
      "execution_count": null,
      "metadata": {
        "id": "CJB48gz6vnic",
        "outputId": "bcd6c06e-fa8f-406b-ec7a-4c94ee305883"
      },
      "outputs": [
        {
          "data": {
            "text/plain": [
              "float"
            ]
          },
          "execution_count": 96,
          "metadata": {},
          "output_type": "execute_result"
        }
      ],
      "source": [
        "type(a)"
      ]
    },
    {
      "cell_type": "code",
      "execution_count": null,
      "metadata": {
        "id": "mzpq4J1kvnic",
        "outputId": "b12e2417-c1dd-4773-b2df-ecd3dc56fe2f"
      },
      "outputs": [
        {
          "name": "stdout",
          "output_type": "stream",
          "text": [
            "Enter a real number : abc\n"
          ]
        },
        {
          "ename": "ValueError",
          "evalue": "could not convert string to float: 'abc'",
          "output_type": "error",
          "traceback": [
            "\u001b[1;31m---------------------------------------------------------------------------\u001b[0m",
            "\u001b[1;31mValueError\u001b[0m                                Traceback (most recent call last)",
            "\u001b[1;32m<ipython-input-97-5ddd2644c78a>\u001b[0m in \u001b[0;36m<module>\u001b[1;34m\u001b[0m\n\u001b[1;32m----> 1\u001b[1;33m \u001b[0mb\u001b[0m \u001b[1;33m=\u001b[0m \u001b[0mfloat\u001b[0m\u001b[1;33m(\u001b[0m\u001b[0minput\u001b[0m\u001b[1;33m(\u001b[0m\u001b[1;34m\"Enter a real number : \"\u001b[0m\u001b[1;33m)\u001b[0m\u001b[1;33m)\u001b[0m\u001b[1;33m\u001b[0m\u001b[1;33m\u001b[0m\u001b[0m\n\u001b[0m",
            "\u001b[1;31mValueError\u001b[0m: could not convert string to float: 'abc'"
          ]
        }
      ],
      "source": [
        "b = float(input(\"Enter a real number : \"))"
      ]
    },
    {
      "cell_type": "code",
      "execution_count": null,
      "metadata": {
        "id": "Xnn-nvX2vnic",
        "outputId": "01a1b318-fcc6-4e5b-e9ac-9528b7d161f1"
      },
      "outputs": [
        {
          "name": "stdout",
          "output_type": "stream",
          "text": [
            "Help on built-in function pow in module builtins:\n",
            "\n",
            "pow(x, y, z=None, /)\n",
            "    Equivalent to x**y (with two arguments) or x**y % z (with three arguments)\n",
            "    \n",
            "    Some types, such as ints, are able to use a more efficient algorithm when\n",
            "    invoked using the three argument form.\n",
            "\n"
          ]
        }
      ],
      "source": [
        "help(pow)"
      ]
    },
    {
      "cell_type": "code",
      "execution_count": null,
      "metadata": {
        "id": "40o8lUz-vnid",
        "outputId": "d02ebf7f-cf61-4ae7-a8a9-d75db8a0631d"
      },
      "outputs": [
        {
          "name": "stdout",
          "output_type": "stream",
          "text": [
            "Help on method raw_input in module ipykernel.kernelbase:\n",
            "\n",
            "raw_input(prompt='') method of ipykernel.ipkernel.IPythonKernel instance\n",
            "    Forward raw_input to frontends\n",
            "    \n",
            "    Raises\n",
            "    ------\n",
            "    StdinNotImplentedError if active frontend doesn't support stdin.\n",
            "\n"
          ]
        }
      ],
      "source": [
        "help(input)"
      ]
    },
    {
      "cell_type": "code",
      "execution_count": null,
      "metadata": {
        "id": "wCX_gFr6vnid",
        "outputId": "4fd78fa1-ca88-451c-a141-2ba446a36017"
      },
      "outputs": [
        {
          "name": "stdout",
          "output_type": "stream",
          "text": [
            "10\n",
            "45\n",
            "I am outside the if condition\n"
          ]
        }
      ],
      "source": [
        "a = int(input())\n",
        "b = int(input())\n",
        "if a>b:\n",
        "    print(a)\n",
        "    print(\"I am still inside if condition\")\n",
        "print(\"I am outside the if condition\")"
      ]
    },
    {
      "cell_type": "code",
      "execution_count": null,
      "metadata": {
        "id": "mKpoPzulvnid",
        "outputId": "9bd9db48-c858-48e2-ab7f-7b1429584aed"
      },
      "outputs": [
        {
          "name": "stdout",
          "output_type": "stream",
          "text": [
            "22\n",
            "4\n",
            "22\n"
          ]
        }
      ],
      "source": [
        "a = int(input())\n",
        "b = int(input())\n",
        "if a>b:\n",
        "    print(a)\n",
        "if b>a:\n",
        "    print(b)"
      ]
    },
    {
      "cell_type": "code",
      "execution_count": null,
      "metadata": {
        "id": "f-7bqxL8vnie",
        "outputId": "6f1dfd38-85a0-4d61-9108-e51ac0bbd61f"
      },
      "outputs": [
        {
          "name": "stdout",
          "output_type": "stream",
          "text": [
            "10\n",
            "10\n",
            "10\n",
            "else part\n"
          ]
        }
      ],
      "source": [
        "a = int(input())\n",
        "b = int(input())\n",
        "if a>b:\n",
        "    print(a)\n",
        "    print(\"if part\")\n",
        "else:\n",
        "    print(b)\n",
        "    print(\"else part\")"
      ]
    },
    {
      "cell_type": "code",
      "execution_count": null,
      "metadata": {
        "id": "ivVur-lwvnie",
        "outputId": "dfcc2e51-bca0-4caa-ed8c-9110f8ed4349"
      },
      "outputs": [
        {
          "name": "stdout",
          "output_type": "stream",
          "text": [
            "Equal\n",
            "Not in if\n"
          ]
        }
      ],
      "source": [
        "a = 10\n",
        "b = 10\n",
        "if a==b:\n",
        "    print(\"Equal\")\n",
        "elif a>b:\n",
        "    print(\"A\")\n",
        "else:\n",
        "    print(\"B\")\n",
        "print(\"Not in if\")"
      ]
    },
    {
      "cell_type": "code",
      "execution_count": null,
      "metadata": {
        "id": "j8XTHBvyvnie",
        "outputId": "5511fc54-c0ca-4252-ff27-83c8350fdcce"
      },
      "outputs": [
        {
          "name": "stdout",
          "output_type": "stream",
          "text": [
            "Enter Marks :64\n",
            "Below Average\n"
          ]
        }
      ],
      "source": [
        "a = int(input(\"Enter Marks :\"))\n",
        "if a >= 85:\n",
        "    print(\"A Grade\")\n",
        "elif (a < 85) and (a >= 80):\n",
        "    print(\"A- Grade\")\n",
        "elif a < 80 and a >= 75:\n",
        "    print(\"B Grade\")\n",
        "elif a < 75 and a >= 70:\n",
        "    print(\"B- Grade\")\n",
        "else:\n",
        "    print(\"Below Average\")"
      ]
    },
    {
      "cell_type": "code",
      "execution_count": null,
      "metadata": {
        "id": "bhXpHugnvnie",
        "outputId": "32ca444b-11f8-4d46-ef16-eafd15dfc593"
      },
      "outputs": [
        {
          "name": "stdout",
          "output_type": "stream",
          "text": [
            ">10\n"
          ]
        }
      ],
      "source": [
        "a = 13\n",
        "if a>10:\n",
        "    print(\">10\")\n",
        "elif not(a>10):\n",
        "    print(\"Else part\")"
      ]
    },
    {
      "cell_type": "code",
      "execution_count": null,
      "metadata": {
        "id": "n2cr6jVkvnif",
        "outputId": "1ba469a2-9bdd-4f03-8a3e-78a6e0072f25"
      },
      "outputs": [
        {
          "name": "stdout",
          "output_type": "stream",
          "text": [
            "25\n",
            ">10\n",
            "Inside the top if\n",
            ">20\n",
            "Inside the nested if\n",
            "<=30\n",
            "inside the else part of nested if of nested if\n",
            "Outside all ifs\n"
          ]
        }
      ],
      "source": [
        "a = int(input())\n",
        "if a>10:\n",
        "    print(\">10\")\n",
        "    print(\"Inside the top if\")\n",
        "    if a>20:\n",
        "        print(\">20\")\n",
        "        print(\"Inside the nested if\")\n",
        "        if a>30:\n",
        "            print(\">30\")\n",
        "            print(\"inside the nested if of nested if\")\n",
        "        else:\n",
        "            print(\"<=30\")\n",
        "            print(\"inside the else part of nested if of nested if\")\n",
        "    else:\n",
        "        print(\"<=20\")\n",
        "        print(\"Inside the else part of nested if\")\n",
        "print(\"Outside all ifs\")"
      ]
    },
    {
      "cell_type": "code",
      "execution_count": null,
      "metadata": {
        "id": "cQ2aQKVnvnif",
        "outputId": "f25c496c-39a8-48c2-be0e-08801f5fc131"
      },
      "outputs": [
        {
          "name": "stdout",
          "output_type": "stream",
          "text": [
            "Enter a real number :-87.3\n",
            "Odd\n"
          ]
        }
      ],
      "source": [
        "# single line comment\n",
        "\"\"\"\n",
        "User will enter a floating point number let say 238.915. Your task\n",
        "is to find out the integer portion before the point (in this case 238)\n",
        "and then check if that integer portion is an even number or not?\n",
        "\"\"\"\n",
        "x = float(input(\"Enter a real number :\"))\n",
        "y = round(x)\n",
        "if x>0:\n",
        "    if y>x:\n",
        "        intPortion = y-1 # 29.6\n",
        "    else:\n",
        "        intPortion = y\n",
        "else:\n",
        "    if y<x:\n",
        "        intPortion = y+1\n",
        "    else:\n",
        "        intPortion = y\n",
        "\n",
        "if intPortion%2 == 0:\n",
        "    print(\"Even\")\n",
        "else:\n",
        "    print(\"Odd\")"
      ]
    },
    {
      "cell_type": "code",
      "execution_count": null,
      "metadata": {
        "id": "dp_qbMY3vnif",
        "outputId": "273159b5-e423-4439-955a-8064af580ca7"
      },
      "outputs": [
        {
          "data": {
            "text/plain": [
              "-9"
            ]
          },
          "execution_count": 125,
          "metadata": {},
          "output_type": "execute_result"
        }
      ],
      "source": [
        "round(-9.3)"
      ]
    },
    {
      "cell_type": "code",
      "execution_count": null,
      "metadata": {
        "id": "wQocEvMzvnig",
        "outputId": "cff3d337-0d7a-47c1-91c7-2b4d693131c5"
      },
      "outputs": [
        {
          "data": {
            "text/plain": [
              "-10"
            ]
          },
          "execution_count": 126,
          "metadata": {},
          "output_type": "execute_result"
        }
      ],
      "source": [
        "round(-9.6)"
      ]
    },
    {
      "cell_type": "code",
      "execution_count": null,
      "metadata": {
        "id": "s6uwKIl0vnig",
        "outputId": "eb567d55-a0d0-4305-e3ff-f6dd5ede6ac4"
      },
      "outputs": [
        {
          "name": "stdout",
          "output_type": "stream",
          "text": [
            "5\n",
            "1\n",
            "This is iteration number : 1\n",
            "4\n",
            "This is iteration number : 2\n",
            "9\n",
            "This is iteration number : 3\n",
            "16\n",
            "This is iteration number : 4\n",
            "Loop done\n"
          ]
        }
      ],
      "source": [
        "n = int(input())\n",
        "i = 1\n",
        "while i < n:\n",
        "    print(i**2)\n",
        "    print(\"This is iteration number :\", i)\n",
        "    i+=1 # i = i+1\n",
        "print(\"Loop done\")\n",
        ""
      ]
    },
    {
      "cell_type": "code",
      "execution_count": null,
      "metadata": {
        "id": "VqwYuLQqvnig",
        "outputId": "0e0fccda-cd65-4a8f-e85d-560815d8afe7"
      },
      "outputs": [
        {
          "name": "stdout",
          "output_type": "stream",
          "text": [
            "inside Else\n",
            "inside Else\n",
            "inside Else\n",
            "inside Else\n",
            "inside Else\n",
            "inside Else\n",
            "inside Else\n",
            "inside Else\n",
            "Inside if\n",
            "done\n"
          ]
        }
      ],
      "source": [
        "n = 10\n",
        "i = 1\n",
        "while True:\n",
        "    if i%9 == 0:\n",
        "        print(\"Inside if\")\n",
        "        break\n",
        "    else:\n",
        "        print(\"inside Else\")\n",
        "        i = i+1 # i+=1\n",
        "print(\"done\")"
      ]
    },
    {
      "cell_type": "code",
      "execution_count": null,
      "metadata": {
        "id": "A4RtBHRivnig",
        "outputId": "a67c47e6-a7b9-4a36-d292-687eeb0a4c96"
      },
      "outputs": [
        {
          "name": "stdout",
          "output_type": "stream",
          "text": [
            "inside if\n",
            "inside if\n",
            "inside if\n",
            "inside if\n",
            "inside if\n",
            "inside if\n",
            "inside if\n",
            "inside if\n",
            "something\n",
            "somethingelse\n",
            "done\n"
          ]
        }
      ],
      "source": [
        "n = 10\n",
        "i = 1\n",
        "while True:\n",
        "    if i%9 != 0:\n",
        "        print(\"inside if\")\n",
        "        i +=1\n",
        "        continue\n",
        "    print(\"something\")\n",
        "    print(\"somethingelse\")\n",
        "    break\n",
        "\n",
        "print(\"done\")"
      ]
    },
    {
      "cell_type": "code",
      "execution_count": null,
      "metadata": {
        "id": "KpOkxxO4vnig",
        "outputId": "be9ffd84-e855-4e0d-c562-8d4f535a4158"
      },
      "outputs": [
        {
          "name": "stdout",
          "output_type": "stream",
          "text": [
            "1\n",
            "4\n",
            "7\n",
            "10\n",
            "13\n",
            "16\n",
            "19\n",
            "[1, 16, 49, 100, 169, 256, 361]\n"
          ]
        }
      ],
      "source": [
        "L = []\n",
        "for i in range(1,20,3):\n",
        "    print(i)\n",
        "    L.append(i**2)\n",
        "print(L)"
      ]
    },
    {
      "cell_type": "code",
      "execution_count": null,
      "metadata": {
        "id": "2q2bkjayvnih",
        "outputId": "ceb1b6b7-a48b-4258-a12d-23bdd47d3111"
      },
      "outputs": [
        {
          "name": "stdout",
          "output_type": "stream",
          "text": [
            "apple\n",
            "4.9\n",
            "Out side the loop\n"
          ]
        }
      ],
      "source": [
        "S = {\"apple\",4.9,\"cherry\"}\n",
        "i = 1\n",
        "for x in S:\n",
        "    print(x)\n",
        "    i+=1\n",
        "    if i==3:\n",
        "        break\n",
        "    else:\n",
        "        pass\n",
        "else:\n",
        "    print(\"Loop terminates with success\")\n",
        "print(\"Out side the loop\")"
      ]
    },
    {
      "cell_type": "code",
      "execution_count": null,
      "metadata": {
        "id": "IP4vW3t5vnih",
        "outputId": "c49c1753-5b4f-4cfa-e804-274b103b24d9"
      },
      "outputs": [
        {
          "name": "stdout",
          "output_type": "stream",
          "text": [
            "A 10\n",
            "B -19\n",
            "C abc\n"
          ]
        }
      ],
      "source": [
        "D = {\"A\":10,\"B\":-19,\"C\":\"abc\"}\n",
        "for x in D:\n",
        "    print(x,D[x])"
      ]
    },
    {
      "cell_type": "code",
      "execution_count": null,
      "metadata": {
        "id": "ElpaPdJjvnih",
        "outputId": "ea92ea39-f1a2-4e44-8c5b-2365be98d023"
      },
      "outputs": [
        {
          "name": "stdout",
          "output_type": "stream",
          "text": [
            "[-5, 1, 2, 2, 3, 4, 7, 9]\n"
          ]
        }
      ],
      "source": [
        "\"\"\" Given a list of numbers i.e. [1,2,4,-5,7,9,3,2], make another list\n",
        "that contains all the items in sorted order from min to max. i.e. your\n",
        "result will be another list like [-5,1,2,2,3,7,9]\n",
        "\"\"\"\n",
        "L = [1,2,4,-5,7,9,3,2]\n",
        "for j in range(len(L)):\n",
        "    m = L[j]\n",
        "    idx = j\n",
        "    c = j\n",
        "    for i in range(j,len(L)):\n",
        "        if L[i]<m:\n",
        "            m = L[i]\n",
        "            idx = c\n",
        "        c+=1\n",
        "    tmp = L[j]\n",
        "    L[j] = m\n",
        "    L[idx] = tmp\n",
        "print(L)"
      ]
    },
    {
      "cell_type": "code",
      "execution_count": null,
      "metadata": {
        "id": "1OxG1q_jvnih",
        "outputId": "0d796c93-f1b6-472e-8cd6-565b1568e777"
      },
      "outputs": [
        {
          "data": {
            "text/plain": [
              "[-5, 2, 4, 1, 7, 9, 3, 2]"
            ]
          },
          "execution_count": 147,
          "metadata": {},
          "output_type": "execute_result"
        }
      ],
      "source": [
        "L"
      ]
    },
    {
      "cell_type": "code",
      "execution_count": null,
      "metadata": {
        "id": "YE2OpQBYvnih"
      },
      "outputs": [],
      "source": [
        "def printSuccess():\n",
        "    print(\"I am done\")\n",
        "    print(\"send me another task\")"
      ]
    },
    {
      "cell_type": "code",
      "execution_count": null,
      "metadata": {
        "id": "px2ROrlgvnih",
        "outputId": "b7280c4e-ef72-4a97-8941-0c5885e5031d"
      },
      "outputs": [
        {
          "name": "stdout",
          "output_type": "stream",
          "text": [
            "I am done\n",
            "send me another task\n"
          ]
        }
      ],
      "source": [
        "printSuccess()"
      ]
    },
    {
      "cell_type": "code",
      "execution_count": null,
      "metadata": {
        "id": "xSwuNffnvnii",
        "outputId": "f672c81c-7c06-46f6-f810-f397b0697ecb"
      },
      "outputs": [
        {
          "data": {
            "text/plain": [
              "11"
            ]
          },
          "execution_count": 3,
          "metadata": {},
          "output_type": "execute_result"
        }
      ],
      "source": [
        "3+8"
      ]
    },
    {
      "cell_type": "code",
      "execution_count": null,
      "metadata": {
        "id": "0fBMe7vLvnii",
        "outputId": "5e1727bc-7899-4b83-aef3-c9f76f9365a1"
      },
      "outputs": [
        {
          "name": "stdout",
          "output_type": "stream",
          "text": [
            "I am done\n",
            "send me another task\n"
          ]
        }
      ],
      "source": [
        "printSuccess()"
      ]
    },
    {
      "cell_type": "code",
      "execution_count": null,
      "metadata": {
        "id": "t5wpbPIQvnii"
      },
      "outputs": [],
      "source": [
        "def printSuccess2():\n",
        "    \"\"\" This function is doing nothing except printing a message.\n",
        "    That message is \"hellow\"\n",
        "    \"\"\"\n",
        "    print(\"hellow\")"
      ]
    },
    {
      "cell_type": "code",
      "execution_count": null,
      "metadata": {
        "id": "Be3u2NMWvnii",
        "outputId": "701c04de-6abb-4e95-82b7-3015703268a5"
      },
      "outputs": [
        {
          "name": "stdout",
          "output_type": "stream",
          "text": [
            "Help on function printSuccess2 in module __main__:\n",
            "\n",
            "printSuccess2()\n",
            "    This function is doing nothing except printing a message.\n",
            "    That message is \"hellow\"\n",
            "\n"
          ]
        }
      ],
      "source": [
        "help(printSuccess2)"
      ]
    },
    {
      "cell_type": "code",
      "execution_count": null,
      "metadata": {
        "id": "LsDz4qV9vnii",
        "outputId": "e70047e3-cacf-46c5-a732-026896649a21"
      },
      "outputs": [
        {
          "name": "stdout",
          "output_type": "stream",
          "text": [
            "hellow\n"
          ]
        }
      ],
      "source": [
        "printSuccess2()"
      ]
    },
    {
      "cell_type": "code",
      "execution_count": null,
      "metadata": {
        "id": "bqBL3Vmkvnij"
      },
      "outputs": [],
      "source": [
        "def printMsg(msg):\n",
        "    \"\"\" The function prints the message supplied by the user\n",
        "    or prints that msg is not in the form of string\"\"\"\n",
        "\n",
        "    if isinstance(msg,str):\n",
        "        print(msg)\n",
        "    else:\n",
        "        print(\"Your input argument is not a string\")\n",
        "        print(\"Here is the type of what you have supplied :\",type(msg))"
      ]
    },
    {
      "cell_type": "code",
      "execution_count": null,
      "metadata": {
        "id": "YOs0Ez69vnij",
        "outputId": "faf5b744-2982-4568-94da-91f94e9ca669"
      },
      "outputs": [
        {
          "name": "stdout",
          "output_type": "stream",
          "text": [
            "Help on function printMsg in module __main__:\n",
            "\n",
            "printMsg(msg)\n",
            "    The function prints the message supplied by the user\n",
            "    or prints that msg is not in the form of string\n",
            "\n"
          ]
        }
      ],
      "source": [
        "help(printMsg)"
      ]
    },
    {
      "cell_type": "code",
      "execution_count": null,
      "metadata": {
        "id": "ZW1wzsIcvnij"
      },
      "outputs": [],
      "source": [
        "printMsg?"
      ]
    },
    {
      "cell_type": "code",
      "execution_count": null,
      "metadata": {
        "id": "crWDSlt5vnij",
        "outputId": "aa9bccd3-497e-45ad-e3e1-6c714ee3a926"
      },
      "outputs": [
        {
          "name": "stdout",
          "output_type": "stream",
          "text": [
            "This is the message\n"
          ]
        }
      ],
      "source": [
        "printMsg(\"This is the message\")"
      ]
    },
    {
      "cell_type": "code",
      "execution_count": null,
      "metadata": {
        "id": "FjeYDgcqvnik",
        "outputId": "8ae81595-34bf-445b-838f-8fa123303b59"
      },
      "outputs": [
        {
          "name": "stdout",
          "output_type": "stream",
          "text": [
            "Your input argument is not a string\n",
            "Here is the type of what you have supplied : <class 'int'>\n"
          ]
        }
      ],
      "source": [
        "printMsg(23)"
      ]
    },
    {
      "cell_type": "code",
      "execution_count": null,
      "metadata": {
        "id": "x3EmCkdIvnik",
        "outputId": "4f0a2b34-8aca-4fa5-dae6-a7a67411b206"
      },
      "outputs": [
        {
          "name": "stdout",
          "output_type": "stream",
          "text": [
            "hellow there\n"
          ]
        }
      ],
      "source": [
        "y = \"hellow there\"\n",
        "printMsg(y)"
      ]
    },
    {
      "cell_type": "code",
      "execution_count": null,
      "metadata": {
        "id": "Iw6sP543vnik"
      },
      "outputs": [],
      "source": [
        "def mypow(a,b):\n",
        "    \"\"\" this function computes power just like builtin pow function\"\"\"\n",
        "    c = a**b\n",
        "    print(c)"
      ]
    },
    {
      "cell_type": "code",
      "execution_count": null,
      "metadata": {
        "id": "5w0Ix9hvvnik"
      },
      "outputs": [],
      "source": [
        "mypow?"
      ]
    },
    {
      "cell_type": "code",
      "execution_count": null,
      "metadata": {
        "id": "5MAAW3Sjvnil",
        "outputId": "35dfe7ba-ebfa-471e-f1fd-32fb878f4867"
      },
      "outputs": [
        {
          "name": "stdout",
          "output_type": "stream",
          "text": [
            "81\n"
          ]
        }
      ],
      "source": [
        "mypow(3,4)"
      ]
    },
    {
      "cell_type": "code",
      "execution_count": null,
      "metadata": {
        "id": "5WFDxMAnvnil"
      },
      "outputs": [],
      "source": [
        "def checkArgs(a,b,c):\n",
        "    if isinstance(a,(int,float)) and isinstance(b,(int,float)) and isinstance(c,(int,float)):\n",
        "        print((a+b+c)**2)\n",
        "    else:\n",
        "        print(\"Error: the input arguements are not of the expected types\")"
      ]
    },
    {
      "cell_type": "code",
      "execution_count": null,
      "metadata": {
        "id": "224dpEi0vnil",
        "outputId": "ad8ca07c-b5a9-49b7-86e0-653fcc06e7f3"
      },
      "outputs": [
        {
          "name": "stdout",
          "output_type": "stream",
          "text": [
            "144\n"
          ]
        }
      ],
      "source": [
        "checkArgs(3,4,5)"
      ]
    },
    {
      "cell_type": "code",
      "execution_count": null,
      "metadata": {
        "id": "rCspp6-1vnil",
        "outputId": "679c58be-d218-470c-fa57-9a819987b483"
      },
      "outputs": [
        {
          "name": "stdout",
          "output_type": "stream",
          "text": [
            "Error: the input arguements are not of the expected types\n"
          ]
        }
      ],
      "source": [
        "checkArgs(3,4,\"g\")"
      ]
    },
    {
      "cell_type": "code",
      "execution_count": null,
      "metadata": {
        "id": "3vG-dgV0vnim",
        "outputId": "443b3269-8643-4e7b-e0a6-af69c6d8c902"
      },
      "outputs": [
        {
          "ename": "TypeError",
          "evalue": "checkArgs() missing 1 required positional argument: 'c'",
          "output_type": "error",
          "traceback": [
            "\u001b[1;31m---------------------------------------------------------------------------\u001b[0m",
            "\u001b[1;31mTypeError\u001b[0m                                 Traceback (most recent call last)",
            "\u001b[1;32m<ipython-input-25-f6f193ef9e63>\u001b[0m in \u001b[0;36m<module>\u001b[1;34m\u001b[0m\n\u001b[1;32m----> 1\u001b[1;33m \u001b[0mcheckArgs\u001b[0m\u001b[1;33m(\u001b[0m\u001b[1;36m3\u001b[0m\u001b[1;33m,\u001b[0m\u001b[1;36m4\u001b[0m\u001b[1;33m)\u001b[0m\u001b[1;33m\u001b[0m\u001b[1;33m\u001b[0m\u001b[0m\n\u001b[0m",
            "\u001b[1;31mTypeError\u001b[0m: checkArgs() missing 1 required positional argument: 'c'"
          ]
        }
      ],
      "source": [
        "checkArgs(3,4)"
      ]
    },
    {
      "cell_type": "code",
      "execution_count": null,
      "metadata": {
        "id": "qMdGdF5kvnim",
        "outputId": "b868f34d-166e-4db3-819f-70136841dadb"
      },
      "outputs": [
        {
          "ename": "TypeError",
          "evalue": "checkArgs() takes 3 positional arguments but 4 were given",
          "output_type": "error",
          "traceback": [
            "\u001b[1;31m---------------------------------------------------------------------------\u001b[0m",
            "\u001b[1;31mTypeError\u001b[0m                                 Traceback (most recent call last)",
            "\u001b[1;32m<ipython-input-26-182e860594b3>\u001b[0m in \u001b[0;36m<module>\u001b[1;34m\u001b[0m\n\u001b[1;32m----> 1\u001b[1;33m \u001b[0mcheckArgs\u001b[0m\u001b[1;33m(\u001b[0m\u001b[1;36m2\u001b[0m\u001b[1;33m,\u001b[0m\u001b[1;36m3\u001b[0m\u001b[1;33m,\u001b[0m\u001b[1;36m4\u001b[0m\u001b[1;33m,\u001b[0m\u001b[1;36m5\u001b[0m\u001b[1;33m)\u001b[0m\u001b[1;33m\u001b[0m\u001b[1;33m\u001b[0m\u001b[0m\n\u001b[0m",
            "\u001b[1;31mTypeError\u001b[0m: checkArgs() takes 3 positional arguments but 4 were given"
          ]
        }
      ],
      "source": [
        "checkArgs(2,3,4,5)"
      ]
    },
    {
      "cell_type": "code",
      "execution_count": null,
      "metadata": {
        "id": "OJsqjMmNvnim"
      },
      "outputs": [],
      "source": [
        "def f(a,b,c):\n",
        "    print(\"A is :\",a)\n",
        "    print(\"B is :\",b)\n",
        "    print(\"C is :\",c)"
      ]
    },
    {
      "cell_type": "code",
      "execution_count": null,
      "metadata": {
        "id": "m9qORBeKvnim",
        "outputId": "a83319d7-4144-42db-9af6-817209fd11e7"
      },
      "outputs": [
        {
          "name": "stdout",
          "output_type": "stream",
          "text": [
            "A is : 3\n",
            "B is : game\n",
            "C is : 2\n"
          ]
        }
      ],
      "source": [
        "#f(2,3,\"game\")\n",
        "f(3,\"game\",2)"
      ]
    },
    {
      "cell_type": "code",
      "execution_count": null,
      "metadata": {
        "id": "rCQuHtLOvnim",
        "outputId": "876725e6-16e3-4b13-a3ae-05e53750b666"
      },
      "outputs": [
        {
          "name": "stdout",
          "output_type": "stream",
          "text": [
            "A is : 2\n",
            "B is : 3\n",
            "C is : game\n"
          ]
        }
      ],
      "source": [
        "#f(a = 2,b=3,c=\"game\")\n",
        "f(c=\"game\",a=2,b=3)"
      ]
    },
    {
      "cell_type": "code",
      "execution_count": null,
      "metadata": {
        "id": "ya1v76Lgvnin"
      },
      "outputs": [],
      "source": [
        "def myadd(a,b):\n",
        "    sumValue = a+b\n",
        "    return sumValue"
      ]
    },
    {
      "cell_type": "code",
      "execution_count": null,
      "metadata": {
        "id": "t1ofO6Qtvnin",
        "outputId": "d5d9e0bd-1d61-4ab1-f168-82bcbe208306"
      },
      "outputs": [
        {
          "name": "stdout",
          "output_type": "stream",
          "text": [
            "5\n"
          ]
        }
      ],
      "source": [
        "d = myadd(2,3)\n",
        "print(d)"
      ]
    },
    {
      "cell_type": "code",
      "execution_count": null,
      "metadata": {
        "id": "QcU-QJF9vnin"
      },
      "outputs": [],
      "source": [
        "variableOutSideTheFunction = 3"
      ]
    },
    {
      "cell_type": "code",
      "execution_count": null,
      "metadata": {
        "id": "f8OwRUQ5vnin"
      },
      "outputs": [],
      "source": [
        "def g():\n",
        "    variableOutSideTheFunction = 5\n",
        "    #print(variableOutSideTheFunction)"
      ]
    },
    {
      "cell_type": "code",
      "execution_count": null,
      "metadata": {
        "id": "fSq6FGAMvnin",
        "outputId": "a9e8c271-99bf-4334-a04f-3d3622d1e3bb"
      },
      "outputs": [
        {
          "name": "stdout",
          "output_type": "stream",
          "text": [
            "<class 'NoneType'>\n"
          ]
        }
      ],
      "source": [
        "print(type(g()))"
      ]
    },
    {
      "cell_type": "code",
      "execution_count": null,
      "metadata": {
        "id": "IXvgmOcjvnio",
        "outputId": "acabba5f-2624-49a4-fec8-56b15f56523f"
      },
      "outputs": [
        {
          "name": "stdout",
          "output_type": "stream",
          "text": [
            "3\n"
          ]
        }
      ],
      "source": [
        "print(variableOutSideTheFunction)"
      ]
    },
    {
      "cell_type": "code",
      "execution_count": null,
      "metadata": {
        "id": "EEQ7J8Wcvnio"
      },
      "outputs": [],
      "source": [
        "def h():\n",
        "    print(\"A\")\n",
        "    a = 3\n",
        "    b = 5\n",
        "    c = a+b\n",
        "    print(\"something\")\n",
        "    return c\n",
        "    print(\"B\")\n",
        "    print(\"C\")"
      ]
    },
    {
      "cell_type": "code",
      "execution_count": null,
      "metadata": {
        "id": "Bf-ZqUp8vnio",
        "outputId": "496892ed-f8ce-47d0-dc52-433f34675208"
      },
      "outputs": [
        {
          "name": "stdout",
          "output_type": "stream",
          "text": [
            "A\n",
            "something\n",
            "<class 'int'>\n"
          ]
        }
      ],
      "source": [
        "print(type(h()))"
      ]
    },
    {
      "cell_type": "code",
      "execution_count": null,
      "metadata": {
        "id": "EEHUT6Kjvnio"
      },
      "outputs": [],
      "source": [
        "def r():\n",
        "    a = 5\n",
        "    b = 7\n",
        "    d = \"something\"\n",
        "    return a,b,d"
      ]
    },
    {
      "cell_type": "code",
      "execution_count": null,
      "metadata": {
        "id": "hcnRvVGxvnip",
        "outputId": "3bf681ad-21e4-4735-92e6-ca4753151bde"
      },
      "outputs": [
        {
          "name": "stdout",
          "output_type": "stream",
          "text": [
            "5 7 something\n"
          ]
        }
      ],
      "source": [
        "x,y,z = r()\n",
        "print(x,y,z)"
      ]
    },
    {
      "cell_type": "code",
      "execution_count": null,
      "metadata": {
        "id": "lTFIY6NRvnip"
      },
      "outputs": [],
      "source": [
        "def myAddUniversal(*args):\n",
        "    s = 0\n",
        "    for i in range(len(args)):\n",
        "        s += args[i] # s = s+args[i]\n",
        "    return s"
      ]
    },
    {
      "cell_type": "code",
      "execution_count": null,
      "metadata": {
        "id": "MFrdkymfvnip",
        "outputId": "56cfbe55-8628-462c-9738-9e71539799af"
      },
      "outputs": [
        {
          "name": "stdout",
          "output_type": "stream",
          "text": [
            "93.6\n"
          ]
        }
      ],
      "source": [
        "print(myAddUniversal(2,4,5,4.6,78))"
      ]
    },
    {
      "cell_type": "code",
      "execution_count": null,
      "metadata": {
        "id": "bupjKk35vnip"
      },
      "outputs": [],
      "source": [
        "def printAllVariableNamesAndValues(**args):\n",
        "    for x in args:\n",
        "        print(\"Variable Name is :\",x,\" And Value is :\",args[x])"
      ]
    },
    {
      "cell_type": "code",
      "execution_count": null,
      "metadata": {
        "id": "jj5spuZJvnip",
        "outputId": "bb11a917-0db4-41cd-d3de-91e609c07a06"
      },
      "outputs": [
        {
          "name": "stdout",
          "output_type": "stream",
          "text": [
            "Variable Name is : a  And Value is : 3\n",
            "Variable Name is : b  And Value is : B\n",
            "Variable Name is : c  And Value is : CCC\n",
            "Variable Name is : y  And Value is : 6.7\n"
          ]
        }
      ],
      "source": [
        "printAllVariableNamesAndValues(a = 3,b=\"B\",c=\"CCC\",y=6.7)"
      ]
    },
    {
      "cell_type": "code",
      "execution_count": null,
      "metadata": {
        "id": "DcvkTYoIvniq"
      },
      "outputs": [],
      "source": [
        "def gg(s=4):\n",
        "    print(s)"
      ]
    },
    {
      "cell_type": "code",
      "execution_count": null,
      "metadata": {
        "id": "m68we2F8vniq",
        "outputId": "41f54137-2753-47f2-eff2-e8e5586ef75d"
      },
      "outputs": [
        {
          "name": "stdout",
          "output_type": "stream",
          "text": [
            "4\n"
          ]
        }
      ],
      "source": [
        "gg()"
      ]
    },
    {
      "cell_type": "code",
      "execution_count": null,
      "metadata": {
        "id": "ydWJXS1Svniq",
        "outputId": "a171eb82-f206-4c67-8d6e-4fb3696467a1"
      },
      "outputs": [
        {
          "name": "stdout",
          "output_type": "stream",
          "text": [
            "56\n"
          ]
        }
      ],
      "source": [
        "gg(56)"
      ]
    },
    {
      "cell_type": "code",
      "execution_count": null,
      "metadata": {
        "id": "O49D04UQvniq",
        "outputId": "77b9cbf2-7a1c-4468-dba0-d133906da760"
      },
      "outputs": [
        {
          "name": "stdout",
          "output_type": "stream",
          "text": [
            "[-9, 2, 3]\n"
          ]
        }
      ],
      "source": [
        "L = [1,2,3]\n",
        "L2 = L\n",
        "L2[0] = -9\n",
        "print(L)"
      ]
    },
    {
      "cell_type": "code",
      "execution_count": null,
      "metadata": {
        "id": "qQKfuaj1vnir"
      },
      "outputs": [],
      "source": [
        "def ff(L=[1,2]):\n",
        "    for i in L:\n",
        "        print(i)"
      ]
    },
    {
      "cell_type": "code",
      "execution_count": null,
      "metadata": {
        "id": "4Ua0D6-rvnir",
        "outputId": "cc205039-a7b0-4865-db20-3183d32608a4"
      },
      "outputs": [
        {
          "name": "stdout",
          "output_type": "stream",
          "text": [
            "1\n",
            "2\n"
          ]
        }
      ],
      "source": [
        "L2 = [12,3,4]\n",
        "ff()"
      ]
    },
    {
      "cell_type": "code",
      "execution_count": null,
      "metadata": {
        "id": "B4maleT5vnir",
        "outputId": "be4b99a5-a405-4905-d7cc-916254bc1a08"
      },
      "outputs": [
        {
          "name": "stdout",
          "output_type": "stream",
          "text": [
            "12\n",
            "3\n",
            "4\n"
          ]
        }
      ],
      "source": [
        "ff(L2)"
      ]
    },
    {
      "cell_type": "code",
      "execution_count": null,
      "metadata": {
        "id": "UPoBEgAhvnir",
        "outputId": "f823a9f7-6f4a-46ec-91c0-8b76687b7b78"
      },
      "outputs": [
        {
          "name": "stdout",
          "output_type": "stream",
          "text": [
            "1\n",
            "2\n"
          ]
        }
      ],
      "source": [
        "ff()"
      ]
    },
    {
      "cell_type": "code",
      "execution_count": null,
      "metadata": {
        "id": "_G0B-qehvnir"
      },
      "outputs": [],
      "source": [
        "import sys\n",
        "sys.path.append('C:/ABC/')"
      ]
    },
    {
      "cell_type": "code",
      "execution_count": null,
      "metadata": {
        "id": "n-OOo6-lvnis"
      },
      "outputs": [],
      "source": [
        "import my_universal_functions as myfs\n",
        "#from my_universal_functions import addAllNumerics"
      ]
    },
    {
      "cell_type": "code",
      "execution_count": null,
      "metadata": {
        "id": "N7zw_H-Fvnis",
        "outputId": "fcc38907-6af1-411d-bd0f-72a3a0b0dd78"
      },
      "outputs": [
        {
          "name": "stdout",
          "output_type": "stream",
          "text": [
            "27\n"
          ]
        }
      ],
      "source": [
        "d = addAllNumerics(2,3,4,5,6,7)\n",
        "print(d)"
      ]
    },
    {
      "cell_type": "code",
      "execution_count": null,
      "metadata": {
        "id": "unrPghYPvnis"
      },
      "outputs": [],
      "source": [
        "c = myfs.addAllNumerics(2,3,4,6)"
      ]
    },
    {
      "cell_type": "code",
      "execution_count": null,
      "metadata": {
        "id": "j1M5gaIGvnis",
        "outputId": "42ae315f-1602-4051-f41b-e1740d9ad020"
      },
      "outputs": [
        {
          "name": "stdout",
          "output_type": "stream",
          "text": [
            "15\n"
          ]
        }
      ],
      "source": [
        "print(c)"
      ]
    },
    {
      "cell_type": "code",
      "execution_count": null,
      "metadata": {
        "id": "GTJTDCXqvnis",
        "outputId": "54406d3e-d995-4e8a-98e4-cc6703aa6d63"
      },
      "outputs": [
        {
          "data": {
            "text/plain": [
              "'Python Course'"
            ]
          },
          "execution_count": 78,
          "metadata": {},
          "output_type": "execute_result"
        }
      ],
      "source": [
        "myfs.myName"
      ]
    },
    {
      "cell_type": "code",
      "execution_count": null,
      "metadata": {
        "id": "uoJrQEMKvnis",
        "outputId": "5901a04f-bd5c-4c28-df93-d950a1b3d08e"
      },
      "outputs": [
        {
          "data": {
            "text/plain": [
              "' Given a list of numbers i.e. [1,2,4,-5,7,9,3,2], make another list\\nthat contains all the items in sorted order from min to max. i.e. your \\nresult will be another list like [-5,1,2,2,3,7,9]\\n'"
            ]
          },
          "execution_count": 79,
          "metadata": {},
          "output_type": "execute_result"
        }
      ],
      "source": [
        "\"\"\" Given a list of numbers i.e. [1,2,4,-5,7,9,3,2], make another list\n",
        "that contains all the items in sorted order from min to max. i.e. your\n",
        "result will be another list like [-5,1,2,2,3,7,9]\n",
        "\"\"\""
      ]
    },
    {
      "cell_type": "code",
      "execution_count": null,
      "metadata": {
        "id": "5tQ6s00mvnit"
      },
      "outputs": [],
      "source": [
        "def findMin(L,startIndx):\n",
        "    m = L[startIndx]\n",
        "    idx = startIndx\n",
        "    for i in range(startIndx,len(L)):\n",
        "        x = L[i]\n",
        "        if x<m:\n",
        "            m = x\n",
        "            idx = i\n",
        "        else:\n",
        "            pass\n",
        "    return m,idx"
      ]
    },
    {
      "cell_type": "code",
      "execution_count": null,
      "metadata": {
        "id": "ECSEEEThvnit"
      },
      "outputs": [],
      "source": [
        "a,b = findMin([2,3,4,0,9])"
      ]
    },
    {
      "cell_type": "code",
      "execution_count": null,
      "metadata": {
        "id": "95x7rUgGvnit",
        "outputId": "e6039189-982e-4dc4-9327-777cba78ed83"
      },
      "outputs": [
        {
          "name": "stdout",
          "output_type": "stream",
          "text": [
            "0 3\n"
          ]
        }
      ],
      "source": [
        "print(a,b)"
      ]
    },
    {
      "cell_type": "code",
      "execution_count": null,
      "metadata": {
        "id": "PHjSXb4_vnit"
      },
      "outputs": [],
      "source": [
        "def swapValues(L,idx1,idx2):\n",
        "    tmp = L[idx1]\n",
        "    L[idx1] = L[idx2]\n",
        "    L[idx2] = tmp\n",
        "    return L"
      ]
    },
    {
      "cell_type": "code",
      "execution_count": null,
      "metadata": {
        "id": "drKoiaGBvnit",
        "outputId": "7a7431aa-adcf-4a97-ac72-674c7fa2c9e2"
      },
      "outputs": [
        {
          "name": "stdout",
          "output_type": "stream",
          "text": [
            "[2, 7, 6, 3]\n"
          ]
        }
      ],
      "source": [
        "L = [2,3,6,7]\n",
        "L2 = swapValues(L,1,3)\n",
        "print(L2)"
      ]
    },
    {
      "cell_type": "code",
      "execution_count": null,
      "metadata": {
        "id": "sRgMXuzVvniu"
      },
      "outputs": [],
      "source": [
        "from my_universal_functions import checkIfNotNumeric\n",
        "def sortList(L):\n",
        "    if not(checkIfNotNumeric2(L)):\n",
        "        print(\"Error: List does not contain numeric values\")\n",
        "        return\n",
        "    else:\n",
        "        c = 0\n",
        "        for x in L:\n",
        "            m,idx = findMin(L,c)\n",
        "            L = swapValues(L,c,idx)\n",
        "            c+=1\n",
        "    return L"
      ]
    },
    {
      "cell_type": "code",
      "execution_count": null,
      "metadata": {
        "id": "xTf1Adtovniu",
        "outputId": "b67cac74-a659-4de1-e9f0-3a31ecff3016"
      },
      "outputs": [
        {
          "name": "stdout",
          "output_type": "stream",
          "text": [
            "[-8, 1, 2, 3, 5, 17]\n"
          ]
        }
      ],
      "source": [
        "L2 = sortList([2,1,5,3,-8,17])\n",
        "print(L2)"
      ]
    },
    {
      "cell_type": "code",
      "execution_count": null,
      "metadata": {
        "id": "77lW_V4avniv"
      },
      "outputs": [],
      "source": [
        "checkIfNotNumeric??"
      ]
    },
    {
      "cell_type": "code",
      "execution_count": null,
      "metadata": {
        "id": "0nAiIOj8vniv",
        "outputId": "aaebde47-1774-4285-a6c0-4adaff1090bd"
      },
      "outputs": [
        {
          "name": "stdout",
          "output_type": "stream",
          "text": [
            "True\n"
          ]
        }
      ],
      "source": [
        "print(checkIfNotNumeric2([2,1,5,3,8,17]))"
      ]
    },
    {
      "cell_type": "code",
      "execution_count": null,
      "metadata": {
        "id": "YTcnKpF6vniv"
      },
      "outputs": [],
      "source": [
        "def checkIfNotNumeric2(L):\n",
        "    for x in L:\n",
        "        if not(isinstance(x,(int,float))):\n",
        "            return False\n",
        "    return True"
      ]
    },
    {
      "cell_type": "code",
      "execution_count": null,
      "metadata": {
        "id": "szxrwEBgvniw"
      },
      "outputs": [],
      "source": [
        "s = \"Python is a good language\"\n",
        "t = 'Its good for data science'"
      ]
    },
    {
      "cell_type": "code",
      "execution_count": null,
      "metadata": {
        "id": "duE0kY_mvniw",
        "outputId": "69dfd61d-fff0-4f90-b15e-2ece9f85338a"
      },
      "outputs": [
        {
          "data": {
            "text/plain": [
              "str"
            ]
          },
          "execution_count": 109,
          "metadata": {},
          "output_type": "execute_result"
        }
      ],
      "source": [
        "type(s)"
      ]
    },
    {
      "cell_type": "code",
      "execution_count": null,
      "metadata": {
        "id": "WbTfte_yvniw",
        "outputId": "b38398b0-c8c4-4434-c706-2a508e3bd9a1"
      },
      "outputs": [
        {
          "name": "stdout",
          "output_type": "stream",
          "text": [
            "Python is a good language\n"
          ]
        }
      ],
      "source": [
        "print(s)"
      ]
    },
    {
      "cell_type": "code",
      "execution_count": null,
      "metadata": {
        "id": "xW4t5vg_vniw",
        "outputId": "584b02fa-291d-4c7e-ec36-19c86f348758"
      },
      "outputs": [
        {
          "name": "stdout",
          "output_type": "stream",
          "text": [
            "hellow 12 hellow2 who are you 5.9\n"
          ]
        }
      ],
      "source": [
        "print(\"hellow\",12,\"hellow2\",'who are you',5.9)"
      ]
    },
    {
      "cell_type": "code",
      "execution_count": null,
      "metadata": {
        "id": "Dvma9YEdvniw",
        "outputId": "b0e8b3c3-0854-419e-f02b-c18674863877"
      },
      "outputs": [
        {
          "name": "stdout",
          "output_type": "stream",
          "text": [
            "Python is a good language Its good for data science\n"
          ]
        }
      ],
      "source": [
        "v = s+\" \"+t\n",
        "print(v)"
      ]
    },
    {
      "cell_type": "code",
      "execution_count": null,
      "metadata": {
        "id": "X4J1v-1lvnix",
        "outputId": "da4bf6cd-346f-4406-ae31-b3936c61ad1e"
      },
      "outputs": [
        {
          "name": "stdout",
          "output_type": "stream",
          "text": [
            "The price of this book is: 12\n",
            "The price of this book is: 12\n"
          ]
        }
      ],
      "source": [
        "price = 12\n",
        "s = \"The price of this book\"\n",
        "v = s + ' is: ' + str(price)\n",
        "print(v)\n",
        "print(s,\"is:\",price)"
      ]
    },
    {
      "cell_type": "code",
      "execution_count": null,
      "metadata": {
        "id": "uchon2jZvnix",
        "outputId": "b4b1b9d1-c377-4711-8a26-74f066b4ced3"
      },
      "outputs": [
        {
          "name": "stdout",
          "output_type": "stream",
          "text": [
            "this is line 1\n",
            "this is line 2\n",
            "this is last line and this line is 3\n"
          ]
        }
      ],
      "source": [
        "a = \"\"\"this is line 1\n",
        "this is line 2\n",
        "this is last line and this line is 3\"\"\"\n",
        "print(a)"
      ]
    },
    {
      "cell_type": "code",
      "execution_count": null,
      "metadata": {
        "id": "aXkaeAU-vnix",
        "outputId": "f3b106ff-9f12-4dd5-c551-74a85dd69421"
      },
      "outputs": [
        {
          "name": "stdout",
          "output_type": "stream",
          "text": [
            " The following options are available:\n",
            "            -a       : does nothing\n",
            "            -b       : also does nothing\n",
            "\n"
          ]
        }
      ],
      "source": [
        "print(\"\"\" The following options are available:\n",
        "            -a       : does nothing\n",
        "            -b       : also does nothing\n",
        "\"\"\")"
      ]
    },
    {
      "cell_type": "code",
      "execution_count": null,
      "metadata": {
        "id": "h1UMcHSRvnix",
        "outputId": "05864f1f-d245-4a85-af9d-9f719e4c0266"
      },
      "outputs": [
        {
          "name": "stdout",
          "output_type": "stream",
          "text": [
            "r\n"
          ]
        }
      ],
      "source": [
        "s = \"How are you and who are you\"\n",
        "print(s[5])"
      ]
    },
    {
      "cell_type": "code",
      "execution_count": null,
      "metadata": {
        "id": "INfPBsmIvnix",
        "outputId": "630475e9-f2fd-4ca0-ae5f-052f783b127c"
      },
      "outputs": [
        {
          "data": {
            "text/plain": [
              "str"
            ]
          },
          "execution_count": 122,
          "metadata": {},
          "output_type": "execute_result"
        }
      ],
      "source": [
        "type(s[5])"
      ]
    },
    {
      "cell_type": "code",
      "execution_count": null,
      "metadata": {
        "id": "mM0ZsbsUvniy",
        "outputId": "80d03895-bc58-4639-cb78-0f4d872991a1"
      },
      "outputs": [
        {
          "data": {
            "text/plain": [
              "'How are yo'"
            ]
          },
          "execution_count": 125,
          "metadata": {},
          "output_type": "execute_result"
        }
      ],
      "source": [
        "s[0:10]"
      ]
    },
    {
      "cell_type": "code",
      "execution_count": null,
      "metadata": {
        "id": "uH_0qIMsvniy",
        "outputId": "6755c92e-6b1d-407b-db58-4088158f7174"
      },
      "outputs": [
        {
          "data": {
            "text/plain": [
              "'u'"
            ]
          },
          "execution_count": 126,
          "metadata": {},
          "output_type": "execute_result"
        }
      ],
      "source": [
        "s[-1]"
      ]
    },
    {
      "cell_type": "code",
      "execution_count": null,
      "metadata": {
        "id": "bH1iwcr6vniy",
        "outputId": "838d49e0-b994-4a7d-a6c4-1396c24a2169"
      },
      "outputs": [
        {
          "data": {
            "text/plain": [
              "'y'"
            ]
          },
          "execution_count": 127,
          "metadata": {},
          "output_type": "execute_result"
        }
      ],
      "source": [
        "s[-3]"
      ]
    },
    {
      "cell_type": "code",
      "execution_count": null,
      "metadata": {
        "id": "Fvym__0yvniy",
        "outputId": "d3947087-86f4-4631-d893-fc4dd1864e8e"
      },
      "outputs": [
        {
          "data": {
            "text/plain": [
              "' who are '"
            ]
          },
          "execution_count": 129,
          "metadata": {},
          "output_type": "execute_result"
        }
      ],
      "source": [
        "s[-12:-3]"
      ]
    },
    {
      "cell_type": "code",
      "execution_count": null,
      "metadata": {
        "id": "Gnb1ZAX_vniy",
        "outputId": "04a272b9-e049-4589-bbb0-7514b0b8c187"
      },
      "outputs": [
        {
          "ename": "TypeError",
          "evalue": "'str' object does not support item assignment",
          "output_type": "error",
          "traceback": [
            "\u001b[1;31m---------------------------------------------------------------------------\u001b[0m",
            "\u001b[1;31mTypeError\u001b[0m                                 Traceback (most recent call last)",
            "\u001b[1;32m<ipython-input-130-6ca1c1f7962b>\u001b[0m in \u001b[0;36m<module>\u001b[1;34m\u001b[0m\n\u001b[1;32m----> 1\u001b[1;33m \u001b[0ms\u001b[0m\u001b[1;33m[\u001b[0m\u001b[1;36m1\u001b[0m\u001b[1;33m]\u001b[0m \u001b[1;33m=\u001b[0m \u001b[1;34m\"e\"\u001b[0m\u001b[1;33m\u001b[0m\u001b[1;33m\u001b[0m\u001b[0m\n\u001b[0m",
            "\u001b[1;31mTypeError\u001b[0m: 'str' object does not support item assignment"
          ]
        }
      ],
      "source": [
        "s[1] = \"e\""
      ]
    },
    {
      "cell_type": "code",
      "execution_count": null,
      "metadata": {
        "id": "hd7ORJV0vniy",
        "outputId": "90cec5f3-02ff-4656-c638-dbc576d9ca42"
      },
      "outputs": [
        {
          "data": {
            "text/plain": [
              "'Hwaeyu'"
            ]
          },
          "execution_count": 131,
          "metadata": {},
          "output_type": "execute_result"
        }
      ],
      "source": [
        "s[0:12:2]"
      ]
    },
    {
      "cell_type": "code",
      "execution_count": null,
      "metadata": {
        "id": "gwgTXmlvvniz",
        "outputId": "097eb2c8-28de-47d1-a442-3a2b6b46904d"
      },
      "outputs": [
        {
          "data": {
            "text/plain": [
              "'How are you and who are you'"
            ]
          },
          "execution_count": 132,
          "metadata": {},
          "output_type": "execute_result"
        }
      ],
      "source": [
        "s"
      ]
    },
    {
      "cell_type": "code",
      "execution_count": null,
      "metadata": {
        "id": "NWRa9r52vniz",
        "outputId": "293186b7-7752-4088-a369-2abe9cdfd221"
      },
      "outputs": [
        {
          "data": {
            "text/plain": [
              "'How are you '"
            ]
          },
          "execution_count": 133,
          "metadata": {},
          "output_type": "execute_result"
        }
      ],
      "source": [
        "#s[start:end:step]\n",
        "s[:12]"
      ]
    },
    {
      "cell_type": "code",
      "execution_count": null,
      "metadata": {
        "id": "e0eDO7Movniz",
        "outputId": "de3224e9-0ab1-44b8-aec5-0bef4805ed2f"
      },
      "outputs": [
        {
          "data": {
            "text/plain": [
              "' are you and who are you'"
            ]
          },
          "execution_count": 134,
          "metadata": {},
          "output_type": "execute_result"
        }
      ],
      "source": [
        "s[3:]"
      ]
    },
    {
      "cell_type": "code",
      "execution_count": null,
      "metadata": {
        "id": "eQswee6Qvniz",
        "outputId": "24b21c02-b4c9-4e85-d467-7b7d78973756"
      },
      "outputs": [
        {
          "data": {
            "text/plain": [
              "'ow are you '"
            ]
          },
          "execution_count": 135,
          "metadata": {},
          "output_type": "execute_result"
        }
      ],
      "source": [
        "s[1:12]"
      ]
    },
    {
      "cell_type": "code",
      "execution_count": null,
      "metadata": {
        "id": "Hba4bej7vniz",
        "outputId": "3dfddf52-3cda-487b-dd80-ed5fbd354748"
      },
      "outputs": [
        {
          "data": {
            "text/plain": [
              "'uoy era ohw dna uoy era woH'"
            ]
          },
          "execution_count": 136,
          "metadata": {},
          "output_type": "execute_result"
        }
      ],
      "source": [
        "s[::-1]"
      ]
    },
    {
      "cell_type": "code",
      "execution_count": null,
      "metadata": {
        "id": "euiBsXdNvni0",
        "outputId": "87b168c8-e01b-4ad4-c3b8-ac9a8cce829d"
      },
      "outputs": [
        {
          "name": "stdout",
          "output_type": "stream",
          "text": [
            "abc def     hgq asdfaf\n"
          ]
        }
      ],
      "source": [
        "a = \"    abc def     hgq asdfaf     \"\n",
        "b = a.strip()\n",
        "print(b)"
      ]
    },
    {
      "cell_type": "code",
      "execution_count": null,
      "metadata": {
        "id": "CTbTVt3Xvni0",
        "outputId": "eb1a9289-d73c-44bb-9239-48a7ac7f9746"
      },
      "outputs": [
        {
          "name": "stdout",
          "output_type": "stream",
          "text": [
            "abc defg ;; sadfa qf\n"
          ]
        }
      ],
      "source": [
        "a = \"ABC deFg ;; sadfa QF\"\n",
        "b = a.lower()\n",
        "print(b)"
      ]
    },
    {
      "cell_type": "code",
      "execution_count": null,
      "metadata": {
        "id": "BhGAEfxsvni1",
        "outputId": "8c80b95b-c9ac-4e9d-b8e8-8db62de8b110"
      },
      "outputs": [
        {
          "name": "stdout",
          "output_type": "stream",
          "text": [
            "ABC DEFG ;; SADFA QF\n"
          ]
        }
      ],
      "source": [
        "c = a.upper()\n",
        "print(c)"
      ]
    },
    {
      "cell_type": "code",
      "execution_count": null,
      "metadata": {
        "id": "JEy4RdVhvni2",
        "outputId": "927a6c92-6a94-486a-ee16-929257c319ec"
      },
      "outputs": [
        {
          "name": "stdout",
          "output_type": "stream",
          "text": [
            "ABC deFg ** sadfa QF\n"
          ]
        }
      ],
      "source": [
        "d = a.replace(\";\",\"*\")\n",
        "print(d)"
      ]
    },
    {
      "cell_type": "code",
      "execution_count": null,
      "metadata": {
        "id": "VTY0D2RTvni2",
        "outputId": "31f7f46b-dd72-48fa-ddbd-da4da5c708b5"
      },
      "outputs": [
        {
          "name": "stdout",
          "output_type": "stream",
          "text": [
            "ABC deFg **&&^^%%**&&^^%% sadfa QF\n"
          ]
        }
      ],
      "source": [
        "d = a.replace(\";\",\"**&&^^%%\")\n",
        "print(d)"
      ]
    },
    {
      "cell_type": "code",
      "execution_count": null,
      "metadata": {
        "id": "Exb7_AILvni2",
        "outputId": "42ec1891-b3f2-4704-9698-cc8406e4c522"
      },
      "outputs": [
        {
          "name": "stdout",
          "output_type": "stream",
          "text": [
            "ABC deFg two semi colons sadfa QF\n"
          ]
        }
      ],
      "source": [
        "d = a.replace(\";;\",\"two semi colons\")\n",
        "print(d)"
      ]
    },
    {
      "cell_type": "code",
      "execution_count": null,
      "metadata": {
        "id": "umWUfuE9vni2",
        "outputId": "225f2932-8051-431f-8907-02fdcc155a26"
      },
      "outputs": [
        {
          "name": "stdout",
          "output_type": "stream",
          "text": [
            "['abc', 'def', 'hgydfa', 'yy23']\n"
          ]
        }
      ],
      "source": [
        "a = \"abc;def;hgydfa;yy23\"\n",
        "L = a.split(\";\")\n",
        "print(L)"
      ]
    },
    {
      "cell_type": "code",
      "execution_count": null,
      "metadata": {
        "id": "M73Hkz-Gvni3",
        "outputId": "7ef52f20-830e-4a4c-ef2e-1ec298d80aea"
      },
      "outputs": [
        {
          "data": {
            "text/plain": [
              "'def'"
            ]
          },
          "execution_count": 144,
          "metadata": {},
          "output_type": "execute_result"
        }
      ],
      "source": [
        "L[1]"
      ]
    },
    {
      "cell_type": "code",
      "execution_count": null,
      "metadata": {
        "id": "PxWssfl0vni3",
        "outputId": "e743d13a-27c8-404f-94ac-f230e218dfa5"
      },
      "outputs": [
        {
          "name": "stdout",
          "output_type": "stream",
          "text": [
            "Abc;def;hgydfa;yy23\n"
          ]
        }
      ],
      "source": [
        "print(a.capitalize())"
      ]
    },
    {
      "cell_type": "code",
      "execution_count": null,
      "metadata": {
        "id": "rccbnlO3vni3",
        "outputId": "c56b764f-2d21-4115-9b3f-33213bf414eb"
      },
      "outputs": [
        {
          "data": {
            "text/plain": [
              "'Abdafadfggq'"
            ]
          },
          "execution_count": 149,
          "metadata": {},
          "output_type": "execute_result"
        }
      ],
      "source": [
        "\"abdAfadfGGQ\".capitalize()"
      ]
    },
    {
      "cell_type": "code",
      "execution_count": null,
      "metadata": {
        "id": "5rAPXbrevni3",
        "outputId": "9a061b4f-c2dc-4a56-e25c-4b8f04ea7a76"
      },
      "outputs": [
        {
          "name": "stdout",
          "output_type": "stream",
          "text": [
            "Help on built-in function count:\n",
            "\n",
            "count(...) method of builtins.str instance\n",
            "    S.count(sub[, start[, end]]) -> int\n",
            "    \n",
            "    Return the number of non-overlapping occurrences of substring sub in\n",
            "    string S[start:end].  Optional arguments start and end are\n",
            "    interpreted as in slice notation.\n",
            "\n"
          ]
        }
      ],
      "source": [
        "help(a.count)"
      ]
    },
    {
      "cell_type": "code",
      "execution_count": null,
      "metadata": {
        "id": "LltLC4Apvni4",
        "outputId": "78ff0d28-71d8-4485-dc35-08d09bb6a861"
      },
      "outputs": [
        {
          "data": {
            "text/plain": [
              "True"
            ]
          },
          "execution_count": 153,
          "metadata": {},
          "output_type": "execute_result"
        }
      ],
      "source": [
        "\"abc\" in \"asdfafdjabcl;jfdopasdfoajfd;la\""
      ]
    },
    {
      "cell_type": "code",
      "execution_count": null,
      "metadata": {
        "id": "MT6hxJKevni4",
        "outputId": "17d68eca-b942-47c3-bf34-b54247bbf0e8"
      },
      "outputs": [
        {
          "data": {
            "text/plain": [
              "True"
            ]
          },
          "execution_count": 154,
          "metadata": {},
          "output_type": "execute_result"
        }
      ],
      "source": [
        "\"abc\" == \"abc\""
      ]
    },
    {
      "cell_type": "code",
      "execution_count": null,
      "metadata": {
        "id": "AH4WQt8Uvni4",
        "outputId": "bb3f12cf-7d55-4861-d065-813f5bc4ed51"
      },
      "outputs": [
        {
          "data": {
            "text/plain": [
              "True"
            ]
          },
          "execution_count": 156,
          "metadata": {},
          "output_type": "execute_result"
        }
      ],
      "source": [
        "\"abcdefghi\"<\"def\""
      ]
    },
    {
      "cell_type": "code",
      "execution_count": null,
      "metadata": {
        "id": "T_4u9NHNvni4",
        "outputId": "629c94e1-9763-47cb-bf83-883afd99afc6"
      },
      "outputs": [
        {
          "data": {
            "text/plain": [
              "True"
            ]
          },
          "execution_count": 157,
          "metadata": {},
          "output_type": "execute_result"
        }
      ],
      "source": [
        "\"$%\"<\"*&\""
      ]
    },
    {
      "cell_type": "code",
      "execution_count": null,
      "metadata": {
        "id": "W5pns1vQvni4",
        "outputId": "d4b04897-c058-44ad-e812-708771dc1ee6"
      },
      "outputs": [
        {
          "ename": "SyntaxError",
          "evalue": "invalid syntax (<ipython-input-158-439afcb22d48>, line 1)",
          "output_type": "error",
          "traceback": [
            "\u001b[1;36m  File \u001b[1;32m\"<ipython-input-158-439afcb22d48>\"\u001b[1;36m, line \u001b[1;32m1\u001b[0m\n\u001b[1;33m    print(\"we are learning \"string\" here\")\u001b[0m\n\u001b[1;37m                                 ^\u001b[0m\n\u001b[1;31mSyntaxError\u001b[0m\u001b[1;31m:\u001b[0m invalid syntax\n"
          ]
        }
      ],
      "source": [
        "print(\"we are learning \"string\" here\")"
      ]
    },
    {
      "cell_type": "code",
      "execution_count": null,
      "metadata": {
        "id": "2ERNUqu3vni4",
        "outputId": "84df5f3a-b561-4bfb-ce63-f683b695db91"
      },
      "outputs": [
        {
          "name": "stdout",
          "output_type": "stream",
          "text": [
            "we are learning \"string\" here\n"
          ]
        }
      ],
      "source": [
        "print(\"we are learning \\\"string\\\" here\")"
      ]
    },
    {
      "cell_type": "code",
      "execution_count": null,
      "metadata": {
        "id": "Ty9W5dN-vni5",
        "outputId": "1765a07c-ef65-4dfa-bb1a-ee1de67aaa27"
      },
      "outputs": [
        {
          "name": "stdout",
          "output_type": "stream",
          "text": [
            "we are learing \"string\" here\n"
          ]
        }
      ],
      "source": [
        "print('we are learing \"string\" here')"
      ]
    },
    {
      "cell_type": "code",
      "execution_count": null,
      "metadata": {
        "id": "SFbEE7tWvni5",
        "outputId": "db00f2b1-b56c-4f59-e683-10692eb9b8a6"
      },
      "outputs": [
        {
          "name": "stdout",
          "output_type": "stream",
          "text": [
            "we are \t now on another line\n"
          ]
        }
      ],
      "source": [
        "print(\"we are \\t now on another line\")"
      ]
    },
    {
      "cell_type": "code",
      "execution_count": null,
      "metadata": {
        "id": "PxYy4ObCvni5",
        "outputId": "f2baf140-502b-48ea-aa8a-00a52e679167"
      },
      "outputs": [
        {
          "name": "stdout",
          "output_type": "stream",
          "text": [
            "c:\n",
            "ame\\drive\n"
          ]
        }
      ],
      "source": [
        "print(\"c:\\name\\drive\")"
      ]
    },
    {
      "cell_type": "code",
      "execution_count": null,
      "metadata": {
        "id": "VeOd6r_1vni5",
        "outputId": "df8cf065-5826-4751-a6a2-be38743c9bb9"
      },
      "outputs": [
        {
          "name": "stdout",
          "output_type": "stream",
          "text": [
            "c:\\name\\drive\n"
          ]
        }
      ],
      "source": [
        "print(r\"c:\\name\\drive\")"
      ]
    },
    {
      "cell_type": "code",
      "execution_count": null,
      "metadata": {
        "id": "0w9_mBqnvni5"
      },
      "outputs": [],
      "source": []
    }
  ],
  "metadata": {
    "kernelspec": {
      "display_name": "Python 3",
      "language": "python",
      "name": "python3"
    },
    "language_info": {
      "codemirror_mode": {
        "name": "ipython",
        "version": 3
      },
      "file_extension": ".py",
      "mimetype": "text/x-python",
      "name": "python",
      "nbconvert_exporter": "python",
      "pygments_lexer": "ipython3",
      "version": "3.7.3"
    },
    "colab": {
      "provenance": [],
      "include_colab_link": true
    }
  },
  "nbformat": 4,
  "nbformat_minor": 0
}